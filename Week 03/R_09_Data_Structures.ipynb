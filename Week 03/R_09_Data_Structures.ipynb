{
 "cells": [
  {
   "cell_type": "markdown",
   "metadata": {},
   "source": [
    "\n",
    "<div>        \n",
    "    <img src=\"..\\Week 01\\img\\R_logo.svg\" width=\"100\"/>  \n",
    "</div>\n",
    "\n",
    "<div style=\"line-height:600%;\">\n",
    "    <font color=#1363E1 face=\"Sriracha\" size=8>\n",
    "            <div align=center>LOOP</div>\n",
    "    </font>    \n",
    "</div>\n",
    "\n",
    "<div>        \n",
    "    <img src=\"..\\Week 02\\img\\loop.jpg\" width=\"400\"/>  \n",
    "</div>"
   ]
  },
  {
   "cell_type": "markdown",
   "metadata": {},
   "source": [
    "<div style=\"line-height:200%;\">\n",
    "    <font color=black face=\"Candara\" size=4>\n",
    "                <div align=left>\n",
    "There may be a situation when you need to <mark>execute a block of code</mark> <b>several number of times</b>. In general, statements are executed sequentially. The first statement in a function is executed first, followed by the second, and so on.\n",
    "\n",
    "Programming languages provide various control structures that allow for more complicated execution paths.\n",
    "\n",
    "A loop statement allows us to execute a statement or group of statements multiple times and the following is the general form of a loop statement in most of the programming languages:\n",
    "                </div>\n",
    "    </font>\n",
    "</div>\n",
    "\n",
    "\n",
    "\n"
   ]
  },
  {
   "cell_type": "markdown",
   "metadata": {},
   "source": [
    "<div>        \n",
    "    <img src=\"..\\Week 02\\img\\loop_architecture.jpg\" width=\"250\"/>  \n",
    "</div>"
   ]
  },
  {
   "cell_type": "markdown",
   "metadata": {},
   "source": [
    "<div style=\"line-height:200%;\">\n",
    "    <font color=black face=\"Candara\" size=4>\n",
    "                <div align=left>\n",
    "                    R programming language provides the following kinds of loop to handle looping requirements:\n",
    "                </div>\n",
    "    </font>\n",
    "</div>\n",
    "\n",
    "\n"
   ]
  },
  {
   "cell_type": "markdown",
   "metadata": {},
   "source": [
    "<div>        \n",
    "    <img src=\"..\\Week 02\\img\\r_loops.png\" width=\"600\"/>  \n",
    "</div>"
   ]
  },
  {
   "cell_type": "markdown",
   "metadata": {},
   "source": [
    "<div style=\"line-height:200%;\">\n",
    "    <font color=#076F9A face=\"Candara\" size=4>\n",
    "                <div align=left>\n",
    "                    <b>Loop Control Statements</b>\n",
    "                </div>\n",
    "    </font>\n",
    "    <font color=black face=\"Candara\" size=4>\n",
    "                <div align=left>\n",
    "                    Loop control statements change execution from its normal sequence. When execution leaves a scope, all automatic objects that were created in that scope are destroyed.\n",
    "\n",
    "R supports the following control statements:\n",
    "                </div>\n",
    "    </font>\n",
    "</div>\n",
    "\n",
    "\n",
    "\n",
    "\n",
    "\n"
   ]
  },
  {
   "cell_type": "markdown",
   "metadata": {},
   "source": [
    "<div>        \n",
    "    <img src=\"..\\Week 02\\img\\loop_con_st.png\" width=\"600\"/>  \n",
    "</div>"
   ]
  },
  {
   "cell_type": "markdown",
   "metadata": {},
   "source": [
    "<div style=\"line-height:300%;\">\n",
    "    <font color=#9A0909 face=\"Sriracha\" size=6>\n",
    "                <div align=left>While Loop</div>\n",
    "    </font>\n",
    "</div>"
   ]
  },
  {
   "cell_type": "markdown",
   "metadata": {},
   "source": [
    "<div style=\"line-height:200%;\">\n",
    "    <font color=black face=\"Candara\" size=4>\n",
    "                <div align=left>\n",
    "                    The <mark>While Loop</mark> executes the same code again and again until a stop condition is met.\n",
    "                </div>\n",
    "    </font>\n",
    "    <font color=#076F9A face=\"Candara\" size=4>\n",
    "                <div align=left>\n",
    "                    <br>\n",
    "                    <b>Syntax:</b>\n",
    "                </div>\n",
    "    </font>\n",
    "    <font color=black face=\"Candara\" size=4>\n",
    "                <div align=left>\n",
    "                    The basic syntax for creating a while loop in R is:\n",
    "                </div>\n",
    "    </font>\n",
    "</div>"
   ]
  },
  {
   "cell_type": "markdown",
   "metadata": {
    "slideshow": {
     "slide_type": "skip"
    }
   },
   "source": [
    "while (conditions) {\n",
    "    statements\n",
    "}"
   ]
  },
  {
   "cell_type": "markdown",
   "metadata": {},
   "source": [
    "<div style=\"line-height:200%;\">\n",
    "    <font color=#076F9A face=\"Candara\" size=4>\n",
    "                <div align=left>\n",
    "                    <b>Flow Diagram:</b>\n",
    "                </div>\n",
    "    </font>\n",
    "    <div>        \n",
    "    <img src=\"..\\Week 02\\img\\swift_while_loop.jpg\" width=\"200\"/>  \n",
    "</div>\n",
    "</div>"
   ]
  },
  {
   "cell_type": "markdown",
   "metadata": {},
   "source": [
    "<div style=\"line-height:200%;\">\n",
    "    <font color=black face=\"Candara\" size=4>\n",
    "                <div align=left>\n",
    "                    Here key point of the <mark>While Loop</mark> is that the loop might not ever run. When the condition is tested and the result is <b>FALSE</b>, the loop body will be skipped and the first statement after the while loop will be executed.\n",
    "                </div>\n",
    "    </font>\n",
    "</div>"
   ]
  },
  {
   "cell_type": "markdown",
   "metadata": {},
   "source": [
    "<div style=\"line-height:200%;\">\n",
    "    <font color=#076F9A face=\"Candara\" size=4>\n",
    "                <div align=left>\n",
    "                    <b>Example:</b>\n",
    "                </div>\n",
    "    </font>\n",
    "</div>"
   ]
  },
  {
   "cell_type": "code",
   "execution_count": 12,
   "metadata": {},
   "outputs": [
    {
     "name": "stdout",
     "output_type": "stream",
     "text": [
      "Start \n",
      "1 \n",
      "2 \n",
      "3 \n",
      "4 \n",
      "5 \n",
      "Finish \n"
     ]
    }
   ],
   "source": [
    "# While Loop Example 01:\n",
    "\n",
    "cat(\"Start\", \"\\n\")\n",
    "\n",
    "i <- 1\n",
    "\n",
    "while (i < 6) {\n",
    "    cat(i, \"\\n\")\n",
    "    i = i + 1\n",
    "}\n",
    "\n",
    "cat(\"Finish\", \"\\n\")"
   ]
  },
  {
   "cell_type": "code",
   "execution_count": 1,
   "metadata": {},
   "outputs": [
    {
     "name": "stdout",
     "output_type": "stream",
     "text": [
      "Number of Dice: 1 \n",
      "Number of Dice: 5 \n",
      "Number of Dice: 1 \n",
      "Number of Dice: 5 \n",
      "Number of Dice: 4 \n",
      "Number of Dice: 3 \n",
      "Number of Dice: 4 \n",
      "Number of Dice: 3 \n",
      "Number of Dice: 6 \n",
      "You Win! \n"
     ]
    }
   ],
   "source": [
    "# While Loop Example 02:\n",
    "\n",
    "num <- 0\n",
    "\n",
    "while(num != 6) {\n",
    "    num <- sample(1:6, 1)\n",
    "    cat(\"Number of Dice:\", num, \"\\n\")\n",
    "}\n",
    "\n",
    "cat(\"You Win!\", \"\\n\")"
   ]
  },
  {
   "cell_type": "markdown",
   "metadata": {},
   "source": [
    "<div style=\"line-height:300%;\">\n",
    "    <font color=#9A0909 face=\"Sriracha\" size=6>\n",
    "                <div align=left>For Loop</div>\n",
    "    </font>\n",
    "</div>"
   ]
  },
  {
   "cell_type": "markdown",
   "metadata": {},
   "source": [
    "<div style=\"line-height:200%;\">\n",
    "    <font color=black face=\"Candara\" size=4>\n",
    "                <div align=left>\n",
    "                    A <mark>For Loop</mark> is a repetition control structure that allows you to efficiently write a loop that needs to execute a <b>specific number of times</b>.\n",
    "                </div>\n",
    "    </font>\n",
    "    <font color=#076F9A face=\"Candara\" size=4>\n",
    "                <div align=left>\n",
    "                    <br>\n",
    "                    <b>Syntax:</b>\n",
    "                </div>\n",
    "    </font>\n",
    "    <font color=black face=\"Candara\" size=4>\n",
    "                <div align=left>\n",
    "                    The basic syntax for creating a <ins>for loop</ins> statement in R is:\n",
    "                </div>\n",
    "    </font>\n",
    "</div>"
   ]
  },
  {
   "cell_type": "markdown",
   "metadata": {},
   "source": [
    "for (value in vector) {\n",
    "    statements\n",
    "}"
   ]
  },
  {
   "cell_type": "markdown",
   "metadata": {},
   "source": [
    "<div style=\"line-height:200%;\">\n",
    "    <font color=#076F9A face=\"Candara\" size=4>\n",
    "                <div align=left>\n",
    "                    <b>Flow Diagram:</b>\n",
    "                </div>\n",
    "    </font>\n",
    "    <div>        \n",
    "    <img src=\"..\\Week 02\\img\\r_for_loop.jpg\" width=\"200\"/>  \n",
    "</div>\n",
    "</div>"
   ]
  },
  {
   "cell_type": "markdown",
   "metadata": {},
   "source": [
    "<div style=\"line-height:200%;\">\n",
    "    <font color=black face=\"Candara\" size=4>\n",
    "                <div align=left>\n",
    "                    R’s for loops are particularly flexible in that they are not limited to integers, or even numbers in the input. We can pass character vectors, logical vectors, lists or expressions.\n",
    "                </div>\n",
    "    </font>\n",
    "</div>"
   ]
  },
  {
   "cell_type": "markdown",
   "metadata": {},
   "source": [
    "<div style=\"line-height:200%;\">\n",
    "    <font color=#076F9A face=\"Candara\" size=4>\n",
    "                <div align=left>\n",
    "                    <b>Example:</b>\n",
    "                </div>\n",
    "    </font>\n",
    "</div>"
   ]
  },
  {
   "cell_type": "code",
   "execution_count": 3,
   "metadata": {},
   "outputs": [
    {
     "name": "stdout",
     "output_type": "stream",
     "text": [
      "Countries are: India \n",
      "Countries are: UK \n",
      "Countries are: Japan \n",
      "Countries are: USA \n",
      "Countries are: Australia \n",
      "Countries are: China \n",
      "----This is Coming from Outside the For Loop---- \n"
     ]
    }
   ],
   "source": [
    "# For Loop Example 01:\n",
    "\n",
    "countries <- c('India', 'UK', 'Japan', 'USA', 'Australia', 'China')\n",
    "\n",
    "for (str in countries) {\n",
    "  cat(\"Countries are:\", str, \"\\n\")\n",
    "}\n",
    "\n",
    "cat(\"----This is Coming from Outside the For Loop----\", \"\\n\")"
   ]
  },
  {
   "cell_type": "code",
   "execution_count": 2,
   "metadata": {},
   "outputs": [
    {
     "name": "stdout",
     "output_type": "stream",
     "text": [
      "A \n",
      "B \n",
      "C \n",
      "D \n",
      "E \n",
      "F \n",
      "G \n",
      "H \n",
      "I \n",
      "J \n",
      "K \n",
      "L \n",
      "M \n",
      "N \n",
      "O \n",
      "P \n",
      "Q \n",
      "R \n",
      "S \n",
      "T \n",
      "U \n",
      "V \n",
      "W \n",
      "X \n",
      "Y \n",
      "Z \n"
     ]
    }
   ],
   "source": [
    "# For Loop Example 02:\n",
    "\n",
    "v <- LETTERS\n",
    "\n",
    "for ( i in v) {\n",
    "    cat(i, \"\\n\")\n",
    "}"
   ]
  },
  {
   "cell_type": "code",
   "execution_count": 5,
   "metadata": {},
   "outputs": [
    {
     "name": "stdout",
     "output_type": "stream",
     "text": [
      "2 \n",
      "8 \n",
      "6 \n",
      "# 3"
     ]
    }
   ],
   "source": [
    "# For Loop Example 03:\n",
    "\n",
    "x <- c(2, 5, 3, 9, 8, 11, 6)\n",
    "\n",
    "count <- 0\n",
    "\n",
    "for (val in x) {\n",
    "    if(val %% 2 == 0) {\n",
    "        cat(val, \"\\n\")\n",
    "        count = count + 1        \n",
    "    }  \n",
    "}\n",
    "\n",
    "cat(\"#\", count)"
   ]
  },
  {
   "cell_type": "markdown",
   "metadata": {},
   "source": [
    "\n",
    "<div style=\"line-height:300%;\">\n",
    "    <font color=#9A0909 face=\"Sriracha\" size=6>\n",
    "                <div align=left>Break Statement</div>\n",
    "    </font>\n",
    "</div>"
   ]
  },
  {
   "cell_type": "markdown",
   "metadata": {},
   "source": [
    "<div style=\"line-height:200%;\">\n",
    "    <font color=black face=\"Candara\" size=4>\n",
    "                <div align=left>\n",
    "                    The break statement in R programming language has the following two usages:<br>\n",
    "1. When the break statement is encountered inside a loop, the loop is immediately terminated and program control resumes at the next statement following the loop.<br>\n",
    "2. It can be used to terminate a case in the switch statement (covered in the next chapter).\n",
    "                </div>\n",
    "    </font>\n",
    "    <font color=#076F9A face=\"Candara\" size=4>\n",
    "                <div align=left>\n",
    "                    <br>\n",
    "                    <b>Syntax:</b>\n",
    "                </div>\n",
    "    </font>\n",
    "    <font color=black face=\"Candara\" size=4>\n",
    "                <div align=left>\n",
    "                    The basic syntax for creating a break statement in R is:\n",
    "                </div>\n",
    "    </font>\n",
    "</div>"
   ]
  },
  {
   "cell_type": "markdown",
   "metadata": {},
   "source": [
    "if (test_expression) {\n",
    "    break\n",
    "}"
   ]
  },
  {
   "cell_type": "markdown",
   "metadata": {},
   "source": [
    "<div style=\"line-height:200%;\">\n",
    "    <font color=#076F9A face=\"Candara\" size=4>\n",
    "                <div align=left>\n",
    "                    <b>Flow Diagram:</b>\n",
    "                </div>\n",
    "    </font>\n",
    "    <div>        \n",
    "    <img src=\"..\\Week 02\\img\\r-break-flowchart.jpg\" width=\"250\"/>  \n",
    "</div>\n",
    "</div>"
   ]
  },
  {
   "cell_type": "markdown",
   "metadata": {},
   "source": [
    "<div style=\"line-height:200%;\">\n",
    "    <font color=#076F9A face=\"Candara\" size=4>\n",
    "                <div align=left>\n",
    "                    <b>Example:</b>\n",
    "                </div>\n",
    "    </font>\n",
    "</div>"
   ]
  },
  {
   "cell_type": "code",
   "execution_count": 6,
   "metadata": {
    "scrolled": true
   },
   "outputs": [
    {
     "name": "stdout",
     "output_type": "stream",
     "text": [
      "Num are :  1 \n",
      "Num are :  2 \n",
      "Num are :  3 \n",
      "Num are :  4 \n",
      "Num are :  5 \n",
      "Num are :  6 \n",
      "Coming out from for loop Where num = 7 \n"
     ]
    }
   ],
   "source": [
    "# Break Statement Example 01:\n",
    "\n",
    "x <- c(1, 2, 3, 4, 5, 6, 7, 8, 9, 10)\n",
    "\n",
    "for (num in x) {\n",
    "    if (num == 7) {\n",
    "        cat(\"Coming out from for loop Where num =\", num, \"\\n\")\n",
    "        break\n",
    "    }\n",
    "    cat(\"Num are : \", num, \"\\n\")\n",
    "}"
   ]
  },
  {
   "cell_type": "markdown",
   "metadata": {},
   "source": [
    "\n",
    "<div style=\"line-height:300%;\">\n",
    "    <font color=#9A0909 face=\"Sriracha\" size=6>\n",
    "                <div align=left>Next Statement</div>\n",
    "    </font>\n",
    "</div>"
   ]
  },
  {
   "cell_type": "markdown",
   "metadata": {},
   "source": [
    "<div style=\"line-height:200%;\">\n",
    "    <font color=black face=\"Candara\" size=4>\n",
    "                <div align=left>\n",
    "                    The next statement in R programming language is useful when we want to skip the current iteration of a loop without terminating it. On encountering next, the R parser skips further evaluation and starts next iteration of the loop.\n",
    "                </div>\n",
    "    </font>\n",
    "    <font color=#076F9A face=\"Candara\" size=4>\n",
    "                <div align=left>\n",
    "                    <br>\n",
    "                    <b>Syntax:</b>\n",
    "                </div>\n",
    "    </font>\n",
    "    <font color=black face=\"Candara\" size=4>\n",
    "                <div align=left>\n",
    "                    The basic syntax for creating a next statement in R is:\n",
    "                </div>\n",
    "    </font>\n",
    "</div>"
   ]
  },
  {
   "cell_type": "markdown",
   "metadata": {},
   "source": [
    "if (test_expression) {\n",
    "    next\n",
    "}"
   ]
  },
  {
   "cell_type": "markdown",
   "metadata": {},
   "source": [
    "<div style=\"line-height:200%;\">\n",
    "    <font color=#076F9A face=\"Candara\" size=4>\n",
    "                <div align=left>\n",
    "                    <b>Flow Diagram:</b>\n",
    "                </div>\n",
    "    </font>\n",
    "    <div>        \n",
    "    <img src=\"..\\Week 02\\img\\r-next-flowchart.png\" width=\"250\"/>  \n",
    "</div>\n",
    "</div>"
   ]
  },
  {
   "cell_type": "markdown",
   "metadata": {},
   "source": [
    "<div style=\"line-height:200%;\">\n",
    "    <font color=#076F9A face=\"Candara\" size=4>\n",
    "                <div align=left>\n",
    "                    <b>Example:</b>\n",
    "                </div>\n",
    "    </font>\n",
    "</div>"
   ]
  },
  {
   "cell_type": "code",
   "execution_count": 7,
   "metadata": {},
   "outputs": [
    {
     "name": "stdout",
     "output_type": "stream",
     "text": [
      "Num are :  1 \n",
      "Num are :  2 \n",
      "Num are :  3 \n",
      "Num are :  4 \n",
      "Num are :  5 \n",
      "Num are :  6 \n",
      "Coming out from for loop Where num = 7 \n",
      "Num are :  8 \n",
      "Num are :  9 \n",
      "Num are :  10 \n"
     ]
    }
   ],
   "source": [
    "# Next Statement Example 01:\n",
    "\n",
    "x <- c(1, 2, 3, 4, 5, 6, 7, 8, 9, 10)\n",
    "\n",
    "for (num in x) {\n",
    "    if (num == 7) {\n",
    "        cat(\"Coming out from for loop Where num =\", num, \"\\n\")\n",
    "        next\n",
    "    }\n",
    "    cat(\"Num are : \", num, \"\\n\")\n",
    "}"
   ]
  },
  {
   "cell_type": "code",
   "execution_count": 10,
   "metadata": {},
   "outputs": [
    {
     "name": "stdout",
     "output_type": "stream",
     "text": [
      "ODD Number =  1 (Skipped by Next Statement) \n",
      "EVEN Number = 2 \n",
      "ODD Number =  3 (Skipped by Next Statement) \n",
      "EVEN Number = 4 \n",
      "ODD Number =  5 (Skipped by Next Statement) \n",
      "EVEN Number = 6 \n",
      "ODD Number =  7 (Skipped by Next Statement) \n",
      "EVEN Number = 8 \n",
      "ODD Number =  9 (Skipped by Next Statement) \n",
      "EVEN Number = 10 \n",
      "ODD Number =  11 (Skipped by Next Statement) \n",
      "EVEN Number = 12 \n",
      "ODD Number =  13 (Skipped by Next Statement) \n",
      "EVEN Number = 14 \n",
      "ODD Number =  15 (Skipped by Next Statement) \n",
      "EVEN Number = 16 \n",
      "Number of EVEN: 8 \n"
     ]
    }
   ],
   "source": [
    "# Next Statement Example 02:\n",
    "\n",
    "number <- 1:16\n",
    "\n",
    "count <- 0\n",
    "\n",
    "for (val in number) {\n",
    "    if (val %% 2 != 0) {\n",
    "        cat(\"ODD Number = \", val, \"(Skipped by Next Statement)\", \"\\n\")\n",
    "        next\n",
    "    }\n",
    "    cat(\"EVEN Number =\", val, \"\\n\")\n",
    "    count <- count + 1\n",
    "}\n",
    "\n",
    "cat(\"Number of EVEN:\", count, \"\\n\")"
   ]
  },
  {
   "cell_type": "markdown",
   "metadata": {},
   "source": [
    "\n",
    "<div style=\"line-height:300%;\">\n",
    "    <font color=#9A0909 face=\"Sriracha\" size=6>\n",
    "                <div align=left>Repeat Loop</div>\n",
    "    </font>\n",
    "</div>"
   ]
  },
  {
   "cell_type": "markdown",
   "metadata": {},
   "source": [
    "<div style=\"line-height:200%;\">\n",
    "    <font color=black face=\"Candara\" size=4>\n",
    "                <div align=left>\n",
    "                    The <mark>Repeat Loop</mark> executes the same code again and again until a stop condition is met.\n",
    "                    \n",
    "There is <b>no condition check</b> in repeat loop to exit the loop.\n",
    "\n",
    "We must ourselves put a condition explicitly inside the body of the loop and use the <mark>Break Statement</mark> to exit the loop. Failing to do so will result into an infinite loop.\n",
    "                </div>\n",
    "    </font>\n",
    "    <font color=#076F9A face=\"Candara\" size=4>\n",
    "                <div align=left>\n",
    "                    <br>\n",
    "                    <b>Syntax:</b>\n",
    "                </div>\n",
    "    </font>\n",
    "    <font color=black face=\"Candara\" size=4>\n",
    "                <div align=left>\n",
    "                    The basic syntax for creating a repeat loop in R is:\n",
    "                </div>\n",
    "    </font>\n",
    "</div>"
   ]
  },
  {
   "cell_type": "markdown",
   "metadata": {},
   "source": [
    "repeat {\n",
    "    statement\n",
    "    if(condition) {\n",
    "        break\n",
    "    }\n",
    "}"
   ]
  },
  {
   "cell_type": "markdown",
   "metadata": {},
   "source": [
    "<div style=\"line-height:200%;\">\n",
    "    <font color=#076F9A face=\"Candara\" size=4>\n",
    "                <div align=left>\n",
    "                    <b>Flow Diagram:</b>\n",
    "                </div>\n",
    "    </font>\n",
    "    <div>        \n",
    "    <img src=\"..\\Week 02\\img\\r-repeat-loop.jpg\" width=\"250\"/>  \n",
    "</div>\n",
    "</div>"
   ]
  },
  {
   "cell_type": "markdown",
   "metadata": {},
   "source": [
    "<div style=\"line-height:200%;\">\n",
    "    <font color=#076F9A face=\"Candara\" size=4>\n",
    "                <div align=left>\n",
    "                    <b>Example:</b>\n",
    "                </div>\n",
    "    </font>\n",
    "</div>"
   ]
  },
  {
   "cell_type": "code",
   "execution_count": 3,
   "metadata": {},
   "outputs": [
    {
     "name": "stdout",
     "output_type": "stream",
     "text": [
      "Number of Dice: 3 \n",
      "You Loss! \n",
      "Number of Dice: 1 \n",
      "You Loss! \n",
      "Number of Dice: 3 \n",
      "You Loss! \n",
      "Number of Dice: 5 \n",
      "You Loss! \n",
      "Number of Dice: 3 \n",
      "You Loss! \n",
      "Number of Dice: 6 \n",
      "You Win! \n"
     ]
    }
   ],
   "source": [
    "# Repeat Loop Example 01:\n",
    "\n",
    "repeat {\n",
    "    num <- sample(1:6, 1)\n",
    "    \n",
    "    cat(\"Number of Dice:\", num, \"\\n\")\n",
    "    \n",
    "    if(num == 6) {\n",
    "        cat(\"You Win!\", \"\\n\")\n",
    "        break\n",
    "    } else {\n",
    "        cat(\"You Loss!\", \"\\n\")        \n",
    "    }\n",
    "}"
   ]
  },
  {
   "cell_type": "code",
   "execution_count": 7,
   "metadata": {},
   "outputs": [
    {
     "name": "stdout",
     "output_type": "stream",
     "text": [
      "Please Enter Any Integer Value Below 10: 1\n",
      "The Total Sum of Numbers From the Repeat Loop is: 55"
     ]
    }
   ],
   "source": [
    "# Repeat Loop Example 02:\n",
    "\n",
    "total <- 0\n",
    "\n",
    "number <- as.integer(readline(prompt=\"Please Enter Any Integer Value Below 10: \"))\n",
    "\n",
    "repeat  {\n",
    "  total = total + number\n",
    "  number = number + 1\n",
    "  if (number > 10)  {\n",
    "    break\n",
    "  }\n",
    "}\n",
    "\n",
    "cat(\"The Total Sum of Numbers From the Repeat Loop is:\", total)"
   ]
  }
 ],
 "metadata": {
  "celltoolbar": "Slideshow",
  "kernelspec": {
   "display_name": "R",
   "language": "R",
   "name": "ir"
  },
  "language_info": {
   "codemirror_mode": "r",
   "file_extension": ".r",
   "mimetype": "text/x-r-source",
   "name": "R",
   "pygments_lexer": "r",
   "version": "3.6.1"
  }
 },
 "nbformat": 4,
 "nbformat_minor": 2
}
