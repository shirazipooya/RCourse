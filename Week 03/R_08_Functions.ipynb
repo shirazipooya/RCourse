{
 "cells": [
  {
   "cell_type": "markdown",
   "metadata": {},
   "source": [
    "\n",
    "<div>        \n",
    "    <img src=\"..\\Week 01\\img\\R_logo.svg\" width=\"100\"/>  \n",
    "</div>\n",
    "\n",
    "<div style=\"line-height:600%;\">\n",
    "    <font color=#1363E1 face=\"Sriracha\" size=8>\n",
    "            <div align=center>FUNCTIONS</div>\n",
    "    </font>    \n",
    "</div>\n"
   ]
  },
  {
   "cell_type": "markdown",
   "metadata": {},
   "source": [
    "<div style=\"line-height:200%;\">\n",
    "    <font color=black face=\"Candara\" size=4>\n",
    "                <div align=left>\n",
    "                    A <mark>function</mark> is a <b>Set of Statements</b> organized together to perform a <ins>Specific Task</ins>. R has a large number of <mark>in-built functions</mark> and the user can create their own functions.\n",
    "\n",
    "In R, a function is an <mark>object</mark> so the R interpreter is able to pass control to the function, along with <mark>Arguments</mark> that may be necessary for the function to accomplish the actions.\n",
    "\n",
    "The function in turn performs its task and <mark>Returns</mark> control to the interpreter as well as any result which may be stored in other <mark>Objects<mark>.\n",
    "                </div>\n",
    "    </font>\n",
    "</div>\n",
    "\n",
    "\n",
    "\n"
   ]
  },
  {
   "cell_type": "markdown",
   "metadata": {},
   "source": [
    "<div style=\"line-height:300%;\">\n",
    "    <font color=#9A0909 face=\"Sriracha\" size=6>\n",
    "                <div align=left>Function Definition</div>\n",
    "    </font>\n",
    "</div>"
   ]
  },
  {
   "cell_type": "markdown",
   "metadata": {},
   "source": [
    "<div style=\"line-height:200%;\">\n",
    "    <font color=black face=\"Candara\" size=4>\n",
    "                <div align=left>\n",
    "                    An R function is created by using the keyword <mark>function</mark>. The basic syntax of an R function definition is as follows:\n",
    "                </div>\n",
    "    </font>\n",
    "</div>"
   ]
  },
  {
   "cell_type": "raw",
   "metadata": {
    "slideshow": {
     "slide_type": "skip"
    }
   },
   "source": [
    "function_name <- function(arg_1, arg_2, ...) {\n",
    "    Function body \n",
    "}"
   ]
  },
  {
   "cell_type": "markdown",
   "metadata": {},
   "source": [
    "<div style=\"line-height:300%;\">\n",
    "    <font color=#9A0909 face=\"Sriracha\" size=6>\n",
    "                <div align=left>Function Components</div>\n",
    "    </font>\n",
    "</div>"
   ]
  },
  {
   "cell_type": "markdown",
   "metadata": {},
   "source": [
    "\n",
    "<div style=\"line-height:200%;\">\n",
    "    <font color=black face=\"Candara\" size=4>\n",
    "                <div align=left>\n",
    "                    The different parts of a function are:                    \n",
    "                    <ul>\n",
    "                        <li><b>Function Name:</b>This is the actual name of the function. It is stored in R environment as an object with this name.</li>\n",
    "                        <li><b>Arguments:</b>An argument is a placeholder. When a function is invoked, you pass a value to the argument. Arguments are optional; that is, a function may contain no arguments. Also arguments can have default values.</li>\n",
    "                        <li><b>Function Body:</b>The function body contains a collection of statements that defines what the function does.</li>\n",
    "                        <li><b>Return Value:</b>The return value of a function is the last expression in the function body to be evaluated.</li>\n",
    "                    </ul>\n",
    "                </div>\n",
    "    </font>\n",
    "</div>"
   ]
  },
  {
   "cell_type": "markdown",
   "metadata": {},
   "source": [
    "<div style=\"line-height:200%;\">\n",
    "    <font color=black face=\"Candara\" size=4>\n",
    "                <div align=left>\n",
    "                    R has many <mark>in-built functions</mark> which can be directly called in the program without defining them first. We can also create and use our own functions referred as user defined functions.\n",
    "                </div>\n",
    "    </font>\n",
    "</div>\n",
    "\n",
    "\n"
   ]
  },
  {
   "cell_type": "markdown",
   "metadata": {},
   "source": [
    "<div style=\"line-height:300%;\">\n",
    "    <font color=#9A0909 face=\"Sriracha\" size=6>\n",
    "                <div align=left>Built-in Function</div>\n",
    "    </font>\n",
    "</div>"
   ]
  },
  {
   "cell_type": "markdown",
   "metadata": {},
   "source": [
    "<div style=\"line-height:200%;\">\n",
    "    <font color=black face=\"Candara\" size=4>\n",
    "                <div align=left>\n",
    "                    Simple examples of <mark>in-built functions</mark> are <b>seq()</b>, <b>mean()</b>, <b>max()</b>, <b>sum(x)</b> and <b>paste(...)</b> etc. They are directly called by user written programs.\n",
    "                </div>\n",
    "    </font>\n",
    "</div>"
   ]
  },
  {
   "cell_type": "markdown",
   "metadata": {},
   "source": [
    "<div style=\"line-height:200%;\">\n",
    "    <font color=#076F9A face=\"Candara\" size=4>\n",
    "                <div align=left>\n",
    "                    <b>Example:</b>\n",
    "                </div>\n",
    "    </font>\n",
    "</div>"
   ]
  },
  {
   "cell_type": "code",
   "execution_count": 3,
   "metadata": {},
   "outputs": [
    {
     "name": "stdout",
     "output_type": "stream",
     "text": [
      " [1] 32 33 34 35 36 37 38 39 40 41 42 43 44\n",
      "[1] 38\n",
      "[1] 494\n"
     ]
    }
   ],
   "source": [
    "# Create a sequence of numbers from 32 to 44.\n",
    "print(seq(from = 32, to = 44, by = 1))\n",
    "\n",
    "# Find mean of numbers from 32 to 44.\n",
    "print(mean(x = 32:44))\n",
    "\n",
    "# Find sum of numbers from 32 to 44.\n",
    "print(sum(32:44))"
   ]
  },
  {
   "cell_type": "markdown",
   "metadata": {},
   "source": [
    "<div style=\"line-height:300%;\">\n",
    "    <font color=#9A0909 face=\"Sriracha\" size=6>\n",
    "                <div align=left>User-defined Function</div>\n",
    "    </font>\n",
    "</div>"
   ]
  },
  {
   "cell_type": "markdown",
   "metadata": {},
   "source": [
    "<div style=\"line-height:200%;\">\n",
    "    <font color=black face=\"Candara\" size=4>\n",
    "                <div align=left>\n",
    "                    We can create <mark>user-defined functions</mark> in R. They are specific to what a user wants and once created they can be used like the <mark>built-in functions</mark>. Below is an example of how a function is created and used:\n",
    "                </div>\n",
    "</div>"
   ]
  },
  {
   "cell_type": "markdown",
   "metadata": {},
   "source": [
    "<div style=\"line-height:200%;\">\n",
    "    <font color=#076F9A face=\"Candara\" size=4>\n",
    "                <div align=left>\n",
    "                    <b>Example:</b>\n",
    "                </div>\n",
    "    </font>\n",
    "</div>"
   ]
  },
  {
   "cell_type": "code",
   "execution_count": 7,
   "metadata": {},
   "outputs": [],
   "source": [
    "hello <- function() {\n",
    "    cat(\"Hello World!\")\n",
    "}"
   ]
  },
  {
   "cell_type": "code",
   "execution_count": 8,
   "metadata": {},
   "outputs": [
    {
     "name": "stdout",
     "output_type": "stream",
     "text": [
      "Hello World!"
     ]
    }
   ],
   "source": [
    "hello()"
   ]
  },
  {
   "cell_type": "code",
   "execution_count": 3,
   "metadata": {},
   "outputs": [],
   "source": [
    "# Create a function to print squares of numbers.\n",
    "\n",
    "pow_2 <- function(xxx) {\n",
    "    xxx * xxx\n",
    "}"
   ]
  },
  {
   "cell_type": "code",
   "execution_count": 4,
   "metadata": {},
   "outputs": [
    {
     "data": {
      "text/html": [
       "169"
      ],
      "text/latex": [
       "169"
      ],
      "text/markdown": [
       "169"
      ],
      "text/plain": [
       "[1] 169"
      ]
     },
     "metadata": {},
     "output_type": "display_data"
    }
   ],
   "source": [
    "pow_2(xxx = 13)"
   ]
  },
  {
   "cell_type": "code",
   "execution_count": 15,
   "metadata": {},
   "outputs": [],
   "source": [
    "# Create a function to print x raised to the power n.\n",
    "\n",
    "pow_n <- function(x, n) {\n",
    "    return(x ^ (2 * n))\n",
    "    x ^ n\n",
    "}"
   ]
  },
  {
   "cell_type": "code",
   "execution_count": 16,
   "metadata": {},
   "outputs": [
    {
     "data": {
      "text/html": [
       "256"
      ],
      "text/latex": [
       "256"
      ],
      "text/markdown": [
       "256"
      ],
      "text/plain": [
       "[1] 256"
      ]
     },
     "metadata": {},
     "output_type": "display_data"
    }
   ],
   "source": [
    "pow_n(x = 2, n = 4)"
   ]
  },
  {
   "cell_type": "markdown",
   "metadata": {},
   "source": [
    "<div style=\"line-height:300%;\">\n",
    "    <font color=#9A0909 face=\"Sriracha\" size=6>\n",
    "                <div align=left>Calling a Function</div>\n",
    "    </font>\n",
    "</div>"
   ]
  },
  {
   "cell_type": "code",
   "execution_count": 31,
   "metadata": {},
   "outputs": [
    {
     "data": {
      "text/html": [
       "36"
      ],
      "text/latex": [
       "36"
      ],
      "text/markdown": [
       "36"
      ],
      "text/plain": [
       "[1] 36"
      ]
     },
     "metadata": {},
     "output_type": "display_data"
    }
   ],
   "source": [
    "# Call the function pow_2 supplying 6 as an argument.\n",
    "pow_2(6)"
   ]
  },
  {
   "cell_type": "code",
   "execution_count": 32,
   "metadata": {},
   "outputs": [
    {
     "data": {
      "text/html": [
       "216"
      ],
      "text/latex": [
       "216"
      ],
      "text/markdown": [
       "216"
      ],
      "text/plain": [
       "[1] 216"
      ]
     },
     "metadata": {},
     "output_type": "display_data"
    }
   ],
   "source": [
    "# Call the function pow_n supplying 6 and 3 as an argument.\n",
    "pow_n(6, 3)"
   ]
  },
  {
   "cell_type": "markdown",
   "metadata": {},
   "source": [
    "\n",
    "<div style=\"line-height:300%;\">\n",
    "    <font color=#9A0909 face=\"Sriracha\" size=6>\n",
    "                <div align=left>Calling a Function without an Argument</div>\n",
    "    </font>\n",
    "</div>"
   ]
  },
  {
   "cell_type": "markdown",
   "metadata": {},
   "source": [
    "<div style=\"line-height:200%;\">\n",
    "    <font color=#076F9A face=\"Candara\" size=4>\n",
    "                <div align=left>\n",
    "                    <b>Example:</b>\n",
    "                </div>\n",
    "    </font>\n",
    "</div>"
   ]
  },
  {
   "cell_type": "code",
   "execution_count": 9,
   "metadata": {
    "scrolled": true
   },
   "outputs": [
    {
     "name": "stdout",
     "output_type": "stream",
     "text": [
      "Hello \n",
      "Hello, World! \n"
     ]
    }
   ],
   "source": [
    "# Create a function without an argument.\n",
    "\n",
    "hello_world <- function() {\n",
    "    cat(\"Hello\", \"\\n\")\n",
    "    cat(\"Hello, World!\", \"\\n\")\n",
    "}\n",
    "\n",
    "\n",
    "# Call the function without supplying an argument.\n",
    "hello_world()"
   ]
  },
  {
   "cell_type": "markdown",
   "metadata": {},
   "source": [
    "<div>        \n",
    "    <img src=\"..\\Week 03\\img\\greetings.png\" width=\"150\"/>  \n",
    "</div>"
   ]
  },
  {
   "cell_type": "code",
   "execution_count": 20,
   "metadata": {},
   "outputs": [
    {
     "data": {
      "text/plain": [
       "[1] \"2019-12-21 16:02:53 +0330\""
      ]
     },
     "metadata": {},
     "output_type": "display_data"
    },
    {
     "data": {
      "text/html": [
       "'16'"
      ],
      "text/latex": [
       "'16'"
      ],
      "text/markdown": [
       "'16'"
      ],
      "text/plain": [
       "[1] \"16\""
      ]
     },
     "metadata": {},
     "output_type": "display_data"
    },
    {
     "data": {
      "text/html": [
       "16"
      ],
      "text/latex": [
       "16"
      ],
      "text/markdown": [
       "16"
      ],
      "text/plain": [
       "[1] 16"
      ]
     },
     "metadata": {},
     "output_type": "display_data"
    }
   ],
   "source": [
    "Sys.time()\n",
    "\n",
    "?format\n",
    "\n",
    "format(x = Sys.time(), \"%H\")\n",
    "\n",
    "as.integer(format(Sys.time(), \"%H\"))"
   ]
  },
  {
   "cell_type": "code",
   "execution_count": 22,
   "metadata": {
    "scrolled": true
   },
   "outputs": [
    {
     "name": "stdout",
     "output_type": "stream",
     "text": [
      "Good Evening! \n"
     ]
    }
   ],
   "source": [
    "# Create a function without an argument.\n",
    "\n",
    "greetings <- function() {\n",
    "    \n",
    "    h = as.integer(format(Sys.time(), \"%H\"))\n",
    "    \n",
    "    if (h >= 5 & h < 12) {\n",
    "        cat(\"Good Morning!\", \"\\n\")\n",
    "    } else if (h >= 12 & h < 17) {\n",
    "        cat(\"Good Afternoon!\", \"\\n\")        \n",
    "    } else {\n",
    "        cat(\"Good Evening!\", \"\\n\")\n",
    "    }\n",
    "}\n",
    "\n",
    "\n",
    "# Call the function without supplying an argument.\n",
    "greetings()"
   ]
  },
  {
   "cell_type": "markdown",
   "metadata": {},
   "source": [
    "\n",
    "<div style=\"line-height:300%;\">\n",
    "    <font color=#9A0909 face=\"Sriracha\" size=5>\n",
    "                <div align=left>Calling a Function with Argument Values (by position and by name)</div>\n",
    "    </font>\n",
    "</div>"
   ]
  },
  {
   "cell_type": "markdown",
   "metadata": {},
   "source": [
    "<div style=\"line-height:200%;\">\n",
    "    <font color=black face=\"Candara\" size=4>\n",
    "                <div align=left>\n",
    "                    The arguments to a function call can be supplied in the same <mark>Sequence</mark> as defined in the function or they can be supplied in a different sequence but assigned to the <mark>Names of the Arguments</mark>.\n",
    "                </div>\n",
    "    </font>\n",
    "</div>"
   ]
  },
  {
   "cell_type": "markdown",
   "metadata": {},
   "source": [
    "<div style=\"line-height:200%;\">\n",
    "    <font color=#076F9A face=\"Candara\" size=4>\n",
    "                <div align=left>\n",
    "                    <b>Example:</b>\n",
    "                </div>\n",
    "    </font>\n",
    "</div>"
   ]
  },
  {
   "cell_type": "code",
   "execution_count": 23,
   "metadata": {},
   "outputs": [
    {
     "name": "stdout",
     "output_type": "stream",
     "text": [
      "[1] 58\n",
      "[1] 58\n"
     ]
    }
   ],
   "source": [
    "# Create a function with arguments.\n",
    "\n",
    "my_equation <- function(a, b, c) {\n",
    "    result <- a * b + c\n",
    "    print(result)\n",
    "}\n",
    "\n",
    "# Call the function by position of arguments.\n",
    "my_equation(11, 5, 3)\n",
    "\n",
    "# Call the function by names of the arguments.\n",
    "my_equation(a = 11, b = 5, c = 3)"
   ]
  },
  {
   "cell_type": "code",
   "execution_count": 24,
   "metadata": {
    "scrolled": true
   },
   "outputs": [
    {
     "name": "stdout",
     "output_type": "stream",
     "text": [
      "[1] 26\n",
      "[1] 58\n"
     ]
    }
   ],
   "source": [
    "# Create a function with arguments.\n",
    "\n",
    "my_equation <- function(a, b, c) {\n",
    "    result <- a * b + c\n",
    "    print(result)\n",
    "}\n",
    "\n",
    "# Call the function by position of arguments.\n",
    "my_equation(5, 3, 11)\n",
    "\n",
    "# Call the function by names of the arguments.\n",
    "my_equation(b = 5, c = 3, a = 11)"
   ]
  },
  {
   "cell_type": "markdown",
   "metadata": {},
   "source": [
    "<div style=\"line-height:200%;\">\n",
    "    <font color=black face=\"Candara\" size=4>\n",
    "                <div align=left>\n",
    "                    Furthermore, we can use named and unnamed arguments in a single call.\n",
    "\n",
    "In such case, all the named arguments are matched first and then the remaining unnamed arguments are matched in a positional order.\n",
    "                </div>\n",
    "    </font>\n",
    "</div>"
   ]
  },
  {
   "cell_type": "code",
   "execution_count": 25,
   "metadata": {},
   "outputs": [
    {
     "name": "stdout",
     "output_type": "stream",
     "text": [
      "[1] 58\n",
      "[1] 58\n",
      "[1] 58\n"
     ]
    }
   ],
   "source": [
    "\n",
    "# Create a function with arguments.\n",
    "\n",
    "my_equation <- function(a, b, c) {\n",
    "    result <- a * b + c\n",
    "    print(result)\n",
    "}\n",
    "\n",
    "# Call the function by position and names of arguments.\n",
    "my_equation(a = 11, 5, 3)\n",
    "\n",
    "my_equation(11, b = 5, c = 3)\n",
    "\n",
    "my_equation(b = 5, 11, 3)"
   ]
  },
  {
   "cell_type": "markdown",
   "metadata": {},
   "source": [
    "\n",
    "<div style=\"line-height:300%;\">\n",
    "    <font color=#9A0909 face=\"Sriracha\" size=6>\n",
    "                <div align=left>Calling a Function with Default Argument</div>\n",
    "    </font>\n",
    "</div>"
   ]
  },
  {
   "cell_type": "markdown",
   "metadata": {},
   "source": [
    "<div style=\"line-height:200%;\">\n",
    "    <font color=black face=\"Candara\" size=4>\n",
    "                <div align=left>\n",
    "                    We can define the value of the arguments in the function definition and call the function without supplying any argument to get the default result. But we can also call such functions by supplying new values of the argument and get non default result.\n",
    "                </div>\n",
    "    </font>\n",
    "</div>"
   ]
  },
  {
   "cell_type": "markdown",
   "metadata": {},
   "source": [
    "<div style=\"line-height:200%;\">\n",
    "    <font color=#076F9A face=\"Candara\" size=4>\n",
    "                <div align=left>\n",
    "                    <b>Example:</b>\n",
    "                </div>\n",
    "    </font>\n",
    "</div>"
   ]
  },
  {
   "cell_type": "code",
   "execution_count": 26,
   "metadata": {},
   "outputs": [
    {
     "name": "stdout",
     "output_type": "stream",
     "text": [
      "[1] 36\n",
      "[1] 36\n"
     ]
    }
   ],
   "source": [
    "# Create a function to print x raised to the power n.\n",
    "\n",
    "pow_n <- function(x, n) {\n",
    "    result <- x ^ n\n",
    "    print(result)\n",
    "}\n",
    "\n",
    "# Call the function with giving new values of the argument.\n",
    "pow_n(6, 2)\n",
    "pow_n(x = 6, n = 2)"
   ]
  },
  {
   "cell_type": "code",
   "execution_count": 38,
   "metadata": {},
   "outputs": [
    {
     "ename": "ERROR",
     "evalue": "Error in pow_n(6): argument \"n\" is missing, with no default\n",
     "output_type": "error",
     "traceback": [
      "Error in pow_n(6): argument \"n\" is missing, with no default\nTraceback:\n",
      "1. pow_n(6)"
     ]
    }
   ],
   "source": [
    "# Create a function to print x raised to the power n.\n",
    "\n",
    "pow_n <- function(x, n) {\n",
    "    result <- x ^ n\n",
    "    print(result)\n",
    "}\n",
    "\n",
    "# Call the function with giving new values of the argument.\n",
    "pow_n(6)\n",
    "pow_n(x = 6)"
   ]
  },
  {
   "cell_type": "code",
   "execution_count": 27,
   "metadata": {},
   "outputs": [
    {
     "name": "stdout",
     "output_type": "stream",
     "text": [
      "[1] 36\n",
      "[1] 36\n"
     ]
    }
   ],
   "source": [
    "# Create a function to print x raised to the power n.\n",
    "\n",
    "pow_n <- function(x, n = 2) {\n",
    "    result <- x ^ n\n",
    "    print(result)\n",
    "}\n",
    "\n",
    "# Call the function with giving new values of the argument.\n",
    "pow_n(6)\n",
    "pow_n(x = 6)"
   ]
  },
  {
   "cell_type": "code",
   "execution_count": 28,
   "metadata": {},
   "outputs": [
    {
     "name": "stdout",
     "output_type": "stream",
     "text": [
      "[1] 7776\n",
      "[1] 7776\n"
     ]
    }
   ],
   "source": [
    "# Create a function to print x raised to the power n.\n",
    "\n",
    "pow_n <- function(x, n = 2) {\n",
    "    result <- x ^ n\n",
    "    print(result)\n",
    "}\n",
    "\n",
    "# Call the function with giving new values of the argument.\n",
    "pow_n(6, 5)\n",
    "pow_n(x = 6, n = 5)"
   ]
  },
  {
   "cell_type": "markdown",
   "metadata": {},
   "source": [
    "\n",
    "<div style=\"line-height:300%;\">\n",
    "    <font color=#9A0909 face=\"Sriracha\" size=6>\n",
    "                <div align=left>Lazy Evaluation of Function</div>\n",
    "    </font>\n",
    "</div>"
   ]
  },
  {
   "cell_type": "markdown",
   "metadata": {},
   "source": [
    "<div style=\"line-height:200%;\">\n",
    "    <font color=black face=\"Candara\" size=4>\n",
    "                <div align=left>\n",
    "                    Arguments to functions are evaluated lazily, which means so they are evaluated only when needed by the function body.\n",
    "                </div>\n",
    "    </font>\n",
    "</div>"
   ]
  },
  {
   "cell_type": "markdown",
   "metadata": {},
   "source": [
    "<div style=\"line-height:200%;\">\n",
    "    <font color=#076F9A face=\"Candara\" size=4>\n",
    "                <div align=left>\n",
    "                    <b>Example:</b>\n",
    "                </div>\n",
    "    </font>\n",
    "</div>"
   ]
  },
  {
   "cell_type": "code",
   "execution_count": 31,
   "metadata": {},
   "outputs": [
    {
     "name": "stdout",
     "output_type": "stream",
     "text": [
      "[1] 81\n"
     ]
    }
   ],
   "source": [
    "# Create a function to print x raised to the power n.\n",
    "\n",
    "pow_n <- function(a, b, c) {\n",
    "    result <- b * b\n",
    "    print(result)\n",
    "}\n",
    "\n",
    "# Call the function with giving new values of the argument.\n",
    "# pow_n(9)\n",
    "pow_n(b = 9)"
   ]
  },
  {
   "cell_type": "code",
   "execution_count": 32,
   "metadata": {},
   "outputs": [
    {
     "name": "stdout",
     "output_type": "stream",
     "text": [
      "[1] 81\n",
      "[1] 81\n"
     ]
    }
   ],
   "source": [
    "# Create a function to print x raised to the power n.\n",
    "\n",
    "pow_n <- function(x, n) {\n",
    "    result <- x * x\n",
    "    print(result)\n",
    "}\n",
    "\n",
    "# Call the function with giving new values of the argument.\n",
    "pow_n(9, 3)\n",
    "pow_n(x = 9, n = 3)"
   ]
  },
  {
   "cell_type": "code",
   "execution_count": 33,
   "metadata": {
    "scrolled": false
   },
   "outputs": [
    {
     "ename": "ERROR",
     "evalue": "Error in print(n): argument \"n\" is missing, with no default\n",
     "output_type": "error",
     "traceback": [
      "Error in print(n): argument \"n\" is missing, with no default\nTraceback:\n",
      "1. pow_n(9)",
      "2. print(n)   # at line 5 of file <text>"
     ]
    }
   ],
   "source": [
    "# Create a function to print x raised to the power n.\n",
    "\n",
    "pow_n <- function(x, n) {\n",
    "    result <- x * x\n",
    "    print(n)\n",
    "    print(result)\n",
    "}\n",
    "\n",
    "# Call the function with giving new values of the argument.\n",
    "pow_n(9)\n",
    "pow_n(x = 9)"
   ]
  },
  {
   "cell_type": "markdown",
   "metadata": {},
   "source": [
    "\n",
    "<div style=\"line-height:300%;\">\n",
    "    <font color=#9A0909 face=\"Sriracha\" size=6>\n",
    "                <div align=left>R Return Value from Function</div>\n",
    "    </font>\n",
    "</div>"
   ]
  },
  {
   "cell_type": "markdown",
   "metadata": {},
   "source": [
    "<div style=\"line-height:200%;\">\n",
    "    <font color=black face=\"Candara\" size=4>\n",
    "                <div align=left>\n",
    "                    Many a times, we will require our functions to do some processing and return back the result. This is accomplished with the <mark>return()</mark> function in R.\n",
    "                </div>\n",
    "    </font>\n",
    "    <font color=#076F9A face=\"Candara\" size=4>\n",
    "                <div align=left>\n",
    "                    <br>\n",
    "                    <b>Syntax of return():</b>\n",
    "                </div>\n",
    "    </font>\n",
    "</div>"
   ]
  },
  {
   "cell_type": "raw",
   "metadata": {
    "slideshow": {
     "slide_type": "skip"
    }
   },
   "source": [
    "return(expression)"
   ]
  },
  {
   "cell_type": "markdown",
   "metadata": {},
   "source": [
    "<div style=\"line-height:200%;\">\n",
    "    <font color=black face=\"Candara\" size=4>\n",
    "                <div align=left>\n",
    "                    The value returned from a function can be any valid object.\n",
    "                </div>\n",
    "\n",
    "</div>"
   ]
  },
  {
   "cell_type": "markdown",
   "metadata": {},
   "source": [
    "<div style=\"line-height:200%;\">\n",
    "    <font color=#076F9A face=\"Candara\" size=4>\n",
    "                <div align=left>\n",
    "                    <b>Example:</b>\n",
    "                </div>\n",
    "    </font>\n",
    "</div>"
   ]
  },
  {
   "cell_type": "markdown",
   "metadata": {},
   "source": [
    "<div style=\"line-height:200%;\">\n",
    "    <font color=black face=\"Candara\" size=4>\n",
    "                <div align=left>\n",
    "                    Let us look at an example which will return whether a given number is positive, negative or zero.\n",
    "                </div>\n",
    "\n",
    "</div>"
   ]
  },
  {
   "cell_type": "code",
   "execution_count": 34,
   "metadata": {},
   "outputs": [],
   "source": [
    "sgn <- function(x) {\n",
    "    \n",
    "    if (x > 0) {\n",
    "        result <- 1\n",
    "    } else if (x < 0) {\n",
    "        result <- -1\n",
    "    } else {\n",
    "        result <- 0\n",
    "    }\n",
    "    \n",
    "    return(result)\n",
    "}"
   ]
  },
  {
   "cell_type": "markdown",
   "metadata": {},
   "source": [
    "<div style=\"line-height:200%;\">\n",
    "    <font color=black face=\"Candara\" size=4>\n",
    "                <div align=left>\n",
    "                    Here, are some sample runs.\n",
    "                </div>\n",
    "\n",
    "</div>"
   ]
  },
  {
   "cell_type": "code",
   "execution_count": 35,
   "metadata": {
    "scrolled": true
   },
   "outputs": [
    {
     "data": {
      "text/html": [
       "1"
      ],
      "text/latex": [
       "1"
      ],
      "text/markdown": [
       "1"
      ],
      "text/plain": [
       "[1] 1"
      ]
     },
     "metadata": {},
     "output_type": "display_data"
    },
    {
     "data": {
      "text/html": [
       "-1"
      ],
      "text/latex": [
       "-1"
      ],
      "text/markdown": [
       "-1"
      ],
      "text/plain": [
       "[1] -1"
      ]
     },
     "metadata": {},
     "output_type": "display_data"
    },
    {
     "data": {
      "text/html": [
       "0"
      ],
      "text/latex": [
       "0"
      ],
      "text/markdown": [
       "0"
      ],
      "text/plain": [
       "[1] 0"
      ]
     },
     "metadata": {},
     "output_type": "display_data"
    }
   ],
   "source": [
    "sgn(1)\n",
    "\n",
    "sgn(-10)\n",
    "\n",
    "sgn(0)"
   ]
  },
  {
   "cell_type": "markdown",
   "metadata": {},
   "source": [
    "\n",
    "<div style=\"line-height:300%;\">\n",
    "    <font color=#9A0909 face=\"Sriracha\" size=6>\n",
    "                <div align=left>Functions without return()</div>\n",
    "    </font>\n",
    "</div>"
   ]
  },
  {
   "cell_type": "markdown",
   "metadata": {},
   "source": [
    "<div style=\"line-height:200%;\">\n",
    "    <font color=black face=\"Candara\" size=4>\n",
    "                <div align=left>\n",
    "                    If there are no explicit returns from a function, the value of the last evaluated expression is returned automatically in R. For example, the following is equivalent to the above function.\n",
    "                </div>\n",
    "    </font>\n",
    "</div>"
   ]
  },
  {
   "cell_type": "markdown",
   "metadata": {},
   "source": [
    "<div style=\"line-height:200%;\">\n",
    "    <font color=#076F9A face=\"Candara\" size=4>\n",
    "                <div align=left>\n",
    "                    <b>Example:</b>\n",
    "                </div>\n",
    "    </font>\n",
    "</div>"
   ]
  },
  {
   "cell_type": "code",
   "execution_count": 36,
   "metadata": {},
   "outputs": [
    {
     "data": {
      "text/html": [
       "1"
      ],
      "text/latex": [
       "1"
      ],
      "text/markdown": [
       "1"
      ],
      "text/plain": [
       "[1] 1"
      ]
     },
     "metadata": {},
     "output_type": "display_data"
    }
   ],
   "source": [
    "sgn <- function(x) {\n",
    "    \n",
    "    if (x > 0) {\n",
    "        result <- 1\n",
    "    } else if (x < 0) {\n",
    "        result <- -1\n",
    "    } else {\n",
    "        result <- 0\n",
    "    }\n",
    "    \n",
    "    result\n",
    "}\n",
    "\n",
    "sgn(100)"
   ]
  },
  {
   "cell_type": "markdown",
   "metadata": {},
   "source": [
    "<div style=\"line-height:200%;\">\n",
    "    <font color=black face=\"Candara\" size=4>\n",
    "                <div align=left>\n",
    "                    We generally use explicit <mark>return()</mark> functions to return a value immediately from a function.\n",
    "\n",
    "If it is not the last statement of the function, it will prematurely end the function bringing the control to the place from which it was called.\n",
    "                </div>\n",
    "    </font>\n",
    "</div>"
   ]
  },
  {
   "cell_type": "code",
   "execution_count": 64,
   "metadata": {},
   "outputs": [
    {
     "data": {
      "text/html": [
       "1"
      ],
      "text/latex": [
       "1"
      ],
      "text/markdown": [
       "1"
      ],
      "text/plain": [
       "[1] 1"
      ]
     },
     "metadata": {},
     "output_type": "display_data"
    }
   ],
   "source": [
    "sgn <- function(x) {\n",
    "    \n",
    "    if (x > 0) {\n",
    "        return(1)\n",
    "    } else if (x < 0) {\n",
    "        return(-1)\n",
    "    } else {\n",
    "        return(0)\n",
    "    }\n",
    "    \n",
    "}\n",
    "\n",
    "sgn(12)"
   ]
  },
  {
   "cell_type": "markdown",
   "metadata": {},
   "source": [
    "<div style=\"line-height:200%;\">\n",
    "    <font color=black face=\"Candara\" size=4>\n",
    "                <div align=left>\n",
    "                    In the above example, if <mark>x > 0</mark>, the function immediately returns <mark>1</mark> without evaluating rest of the body.\n",
    "                </div>\n",
    "    </font>\n",
    "</div>"
   ]
  },
  {
   "cell_type": "markdown",
   "metadata": {},
   "source": [
    "\n",
    "<div style=\"line-height:300%;\">\n",
    "    <font color=#9A0909 face=\"Sriracha\" size=6>\n",
    "                <div align=left>Multiple Returns</div>\n",
    "    </font>\n",
    "</div>"
   ]
  },
  {
   "cell_type": "markdown",
   "metadata": {},
   "source": [
    "<div style=\"line-height:200%;\">\n",
    "    <font color=black face=\"Candara\" size=4>\n",
    "                <div align=left>\n",
    "                    The <mark>return()</mark> function can <mark>return only a single object</mark>. If we want to return multiple values in R, we can use a <mark>list (or other objects)</mark> and return it.\n",
    "                </div>\n",
    "    </font>\n",
    "</div>"
   ]
  },
  {
   "cell_type": "code",
   "execution_count": 37,
   "metadata": {},
   "outputs": [
    {
     "ename": "ERROR",
     "evalue": "Error in return(eq_1, eq_2): multi-argument returns are not permitted\n",
     "output_type": "error",
     "traceback": [
      "Error in return(eq_1, eq_2): multi-argument returns are not permitted\nTraceback:\n",
      "1. myFunction(a = 3, b = 2, x = 2)"
     ]
    }
   ],
   "source": [
    "myFunction <- function(a, b, x) {\n",
    "    # y = ax + b\n",
    "    eq_1 = a * x + b\n",
    "    \n",
    "    # y = ax^2 + bx\n",
    "    eq_2 = a * (x ^ 2) + b\n",
    "    \n",
    "    return(eq_1, eq_2)\n",
    "}\n",
    "\n",
    "myFunction(a = 3, b = 2, x = 2)"
   ]
  },
  {
   "cell_type": "code",
   "execution_count": 38,
   "metadata": {},
   "outputs": [
    {
     "data": {
      "text/html": [
       "8"
      ],
      "text/latex": [
       "8"
      ],
      "text/markdown": [
       "8"
      ],
      "text/plain": [
       "[1] 8"
      ]
     },
     "metadata": {},
     "output_type": "display_data"
    }
   ],
   "source": [
    "myFunction <- function(a, b, x) {\n",
    "    # y = ax + b\n",
    "    eq_1 = a * x + b\n",
    "    \n",
    "    # y = ax^2 + bx\n",
    "    eq_2 = a * (x ^ 2) + b\n",
    "    \n",
    "    return(eq_1)\n",
    "    \n",
    "    return(eq_2)\n",
    "}\n",
    "\n",
    "myFunction(a = 3, b = 2, x = 2)"
   ]
  },
  {
   "cell_type": "code",
   "execution_count": 39,
   "metadata": {},
   "outputs": [
    {
     "name": "stdout",
     "output_type": "stream",
     "text": [
      "[1] \"list\"\n",
      "----------- \n",
      "$eq_1\n",
      "[1] 8\n",
      "\n",
      "$eq_2\n",
      "[1] 14\n",
      "\n"
     ]
    }
   ],
   "source": [
    "myFunction <- function(a, b, x) {\n",
    "    # y = ax + b\n",
    "    eq_1 = a * x + b\n",
    "    \n",
    "    # y = ax^2 + bx\n",
    "    eq_2 = a * (x ^ 2) + b\n",
    "    \n",
    "    my_list <- list(\"eq_1\" = eq_1, \n",
    "                    \"eq_2\" = eq_2)\n",
    "    \n",
    "    return(my_list)\n",
    "}\n",
    "\n",
    "z <- myFunction(a = 3, b = 2, x = 2)\n",
    "\n",
    "print(typeof(z))\n",
    "cat(\"-----------\", \"\\n\")\n",
    "print(z)"
   ]
  },
  {
   "cell_type": "code",
   "execution_count": 40,
   "metadata": {
    "scrolled": true
   },
   "outputs": [
    {
     "data": {
      "text/html": [
       "<strong>$eq_1</strong> = 8"
      ],
      "text/latex": [
       "\\textbf{\\$eq\\_1} = 8"
      ],
      "text/markdown": [
       "**$eq_1** = 8"
      ],
      "text/plain": [
       "$eq_1\n",
       "[1] 8\n"
      ]
     },
     "metadata": {},
     "output_type": "display_data"
    },
    {
     "data": {
      "text/html": [
       "'list'"
      ],
      "text/latex": [
       "'list'"
      ],
      "text/markdown": [
       "'list'"
      ],
      "text/plain": [
       "[1] \"list\""
      ]
     },
     "metadata": {},
     "output_type": "display_data"
    },
    {
     "name": "stdout",
     "output_type": "stream",
     "text": [
      "----------- \n"
     ]
    },
    {
     "data": {
      "text/html": [
       "<strong>$eq_1</strong> = 8"
      ],
      "text/latex": [
       "\\textbf{\\$eq\\_1} = 8"
      ],
      "text/markdown": [
       "**$eq_1** = 8"
      ],
      "text/plain": [
       "$eq_1\n",
       "[1] 8\n"
      ]
     },
     "metadata": {},
     "output_type": "display_data"
    },
    {
     "data": {
      "text/html": [
       "'list'"
      ],
      "text/latex": [
       "'list'"
      ],
      "text/markdown": [
       "'list'"
      ],
      "text/plain": [
       "[1] \"list\""
      ]
     },
     "metadata": {},
     "output_type": "display_data"
    },
    {
     "name": "stdout",
     "output_type": "stream",
     "text": [
      "----------- \n"
     ]
    },
    {
     "data": {
      "text/html": [
       "8"
      ],
      "text/latex": [
       "8"
      ],
      "text/markdown": [
       "8"
      ],
      "text/plain": [
       "[1] 8"
      ]
     },
     "metadata": {},
     "output_type": "display_data"
    },
    {
     "data": {
      "text/html": [
       "'double'"
      ],
      "text/latex": [
       "'double'"
      ],
      "text/markdown": [
       "'double'"
      ],
      "text/plain": [
       "[1] \"double\""
      ]
     },
     "metadata": {},
     "output_type": "display_data"
    },
    {
     "name": "stdout",
     "output_type": "stream",
     "text": [
      "----------- \n"
     ]
    },
    {
     "data": {
      "text/html": [
       "8"
      ],
      "text/latex": [
       "8"
      ],
      "text/markdown": [
       "8"
      ],
      "text/plain": [
       "[1] 8"
      ]
     },
     "metadata": {},
     "output_type": "display_data"
    },
    {
     "data": {
      "text/html": [
       "'double'"
      ],
      "text/latex": [
       "'double'"
      ],
      "text/markdown": [
       "'double'"
      ],
      "text/plain": [
       "[1] \"double\""
      ]
     },
     "metadata": {},
     "output_type": "display_data"
    }
   ],
   "source": [
    "z[1]\n",
    "typeof(z[1])\n",
    "\n",
    "cat(\"-----------\", \"\\n\")\n",
    "\n",
    "z[\"eq_1\"]\n",
    "typeof(z[\"eq_1\"])\n",
    "\n",
    "cat(\"-----------\", \"\\n\")\n",
    "\n",
    "z$eq_1\n",
    "typeof(z$eq_1)\n",
    "\n",
    "cat(\"-----------\", \"\\n\")\n",
    "\n",
    "z[[\"eq_1\"]]\n",
    "typeof(z[[\"eq_1\"]])"
   ]
  },
  {
   "cell_type": "markdown",
   "metadata": {},
   "source": [
    "\n",
    "<div style=\"line-height:300%;\">\n",
    "    <font color=#9A0909 face=\"Sriracha\" size=6>\n",
    "                <div align=left>R Environment and Scope</div>\n",
    "    </font>\n",
    "</div>"
   ]
  },
  {
   "cell_type": "markdown",
   "metadata": {},
   "source": [
    "<div style=\"line-height:200%;\">\n",
    "    <font color=black face=\"Candara\" size=4>\n",
    "                <div align=left>\n",
    "                    In order to write <mark>functions</mark> in a proper way and avoid unusual errors, we need to know the concept of <b>environment</b> and <b>scope</b> in R.\n",
    "                </div>\n",
    "    </font>\n",
    "</div>"
   ]
  },
  {
   "cell_type": "markdown",
   "metadata": {},
   "source": [
    "\n",
    "<div style=\"line-height:300%;\">\n",
    "    <font color=#9A0909 face=\"Sriracha\" size=5>\n",
    "                <div align=left>1. R Programming Environment</div>\n",
    "    </font>\n",
    "</div>"
   ]
  },
  {
   "cell_type": "markdown",
   "metadata": {},
   "source": [
    "<div style=\"line-height:200%;\">\n",
    "    <font color=black face=\"Candara\" size=4>\n",
    "                <div align=left>\n",
    "                    <mark>Environment</mark> can be thought of as a <mark>collection of objects (functions, variables etc.)</mark>. An environment is created when we first fire up the R interpreter. <mark>Any variable we define, is now in this environment</mark>.\n",
    "\n",
    "The top level environment available to us at the R command prompt is the <mark>global environment called <b>R_GlobalEnv</b></mark>. <ins>Global Environment</ins> can be referred to as <mark>.GlobalEnv</mark> in R codes as well.\n",
    "\n",
    "We can use the <mark>ls()</mark> function to show what <mark>variables and functions</mark> are defined in the current environment. Moreover, we can use the <mark>environment()</mark> function to get the current environment.\n",
    "                </div>\n",
    "    </font>\n",
    "</div>"
   ]
  },
  {
   "cell_type": "code",
   "execution_count": 97,
   "metadata": {},
   "outputs": [],
   "source": [
    "rm(list = ls())\n",
    "\n",
    "a <- 1\n",
    "\n",
    "b <- 2\n",
    "\n",
    "myFun <- function(x) {\n",
    "    y <- x + 1\n",
    "    x <- 0\n",
    "}"
   ]
  },
  {
   "cell_type": "code",
   "execution_count": 98,
   "metadata": {},
   "outputs": [
    {
     "data": {
      "text/html": [
       "<ol class=list-inline>\n",
       "\t<li>'a'</li>\n",
       "\t<li>'b'</li>\n",
       "\t<li>'myFun'</li>\n",
       "</ol>\n"
      ],
      "text/latex": [
       "\\begin{enumerate*}\n",
       "\\item 'a'\n",
       "\\item 'b'\n",
       "\\item 'myFun'\n",
       "\\end{enumerate*}\n"
      ],
      "text/markdown": [
       "1. 'a'\n",
       "2. 'b'\n",
       "3. 'myFun'\n",
       "\n",
       "\n"
      ],
      "text/plain": [
       "[1] \"a\"     \"b\"     \"myFun\""
      ]
     },
     "metadata": {},
     "output_type": "display_data"
    }
   ],
   "source": [
    "ls()"
   ]
  },
  {
   "cell_type": "code",
   "execution_count": 99,
   "metadata": {},
   "outputs": [
    {
     "data": {
      "text/plain": [
       "<environment: R_GlobalEnv>"
      ]
     },
     "metadata": {},
     "output_type": "display_data"
    }
   ],
   "source": [
    "environment()"
   ]
  },
  {
   "cell_type": "code",
   "execution_count": 100,
   "metadata": {
    "scrolled": true
   },
   "outputs": [
    {
     "data": {
      "text/plain": [
       "<environment: R_GlobalEnv>"
      ]
     },
     "metadata": {},
     "output_type": "display_data"
    }
   ],
   "source": [
    ".GlobalEnv"
   ]
  },
  {
   "cell_type": "markdown",
   "metadata": {},
   "source": [
    "<div style=\"line-height:200%;\">\n",
    "    <font color=black face=\"Candara\" size=4>\n",
    "                <div align=left>\n",
    "                    In the above example, we can see that <b>a</b>, <b>b</b> and <b>myFun</b> are in the <b>R_GlobalEnv</b> environment.\n",
    "                </div>\n",
    "    </font>\n",
    "</div>"
   ]
  },
  {
   "cell_type": "markdown",
   "metadata": {},
   "source": [
    "<div style=\"line-height:200%;\">\n",
    "    <font color=black face=\"Candara\" size=4>\n",
    "                <div align=left>\n",
    "                    Notice that <mark>x</mark> (in the argument of the function) is not in this <b>global environment</b>. When we define a function, a new environment is created.\n",
    "\n",
    "In the above example, the function <mark>myFun</mark> creates a new environment inside the <b>global environment</b>.\n",
    "\n",
    "Actually an environment has a frame, which has all the objects defined, and a pointer to the enclosing (parent) environment.\n",
    "\n",
    "Hence, <mark>x</mark> is in the frame of the new environment created by the function <mark>myFun</mark>. This environment will also have a pointer to <mark>R_GlobalEnv</mark>.\n",
    "                </div>\n",
    "    </font>\n",
    "</div>"
   ]
  },
  {
   "cell_type": "markdown",
   "metadata": {},
   "source": [
    "\n",
    "<div style=\"line-height:300%;\">\n",
    "    <font color=#9A0909 face=\"Sriracha\" size=5>\n",
    "                <div align=left>Example: Cascading of Environments</div>\n",
    "    </font>\n",
    "</div>"
   ]
  },
  {
   "cell_type": "code",
   "execution_count": 107,
   "metadata": {},
   "outputs": [],
   "source": [
    "f <- function(f_x) {\n",
    "    \n",
    "    g <- function(g_x) {\n",
    "        cat(\"Inside g:----------\", \"\\n\")\n",
    "        print(environment())\n",
    "        print(ls())\n",
    "    }\n",
    "    \n",
    "    g(5)\n",
    "    \n",
    "    cat(\"Inside f:----------\", \"\\n\")\n",
    "    print(environment())\n",
    "    print(ls())\n",
    "}"
   ]
  },
  {
   "cell_type": "markdown",
   "metadata": {},
   "source": [
    "<div style=\"line-height:200%;\">\n",
    "    <font color=black face=\"Candara\" size=4>\n",
    "                <div align=left>\n",
    "                    Now when we run it from the command prompt, we get.\n",
    "                </div>\n",
    "    </font>\n",
    "</div>"
   ]
  },
  {
   "cell_type": "code",
   "execution_count": 108,
   "metadata": {
    "scrolled": false
   },
   "outputs": [
    {
     "name": "stdout",
     "output_type": "stream",
     "text": [
      "Inside g:---------- \n",
      "<environment: 0x0000000005a109d0>\n",
      "[1] \"g_x\"\n",
      "Inside f:---------- \n",
      "<environment: 0x0000000005a10b90>\n",
      "[1] \"f_x\" \"g\"  \n"
     ]
    }
   ],
   "source": [
    "f(6)"
   ]
  },
  {
   "cell_type": "markdown",
   "metadata": {},
   "source": [
    "<div style=\"line-height:200%;\">\n",
    "    <font color=black face=\"Candara\" size=4>\n",
    "                <div align=left>\n",
    "                    Here, we defined function <b>g</b> inside <b>f</b> and it is clear that they both have different environments with different objects within their respective frames.\n",
    "                </div>\n",
    "    </font>\n",
    "</div>"
   ]
  },
  {
   "cell_type": "markdown",
   "metadata": {},
   "source": [
    "\n",
    "<div style=\"line-height:300%;\">\n",
    "    <font color=#9A0909 face=\"Sriracha\" size=6>\n",
    "                <div align=left>R Programming Scope</div>\n",
    "    </font>\n",
    "</div>"
   ]
  },
  {
   "cell_type": "markdown",
   "metadata": {},
   "source": [
    "<div style=\"line-height:200%;\">\n",
    "    <font color=black face=\"Candara\" size=4>\n",
    "                <div align=left>\n",
    "                    Let us consider the following example.\n",
    "                </div>\n",
    "    </font>\n",
    "</div>"
   ]
  },
  {
   "cell_type": "code",
   "execution_count": 110,
   "metadata": {},
   "outputs": [],
   "source": [
    "outer_func <- function() {\n",
    "    \n",
    "    b <- 20\n",
    "    \n",
    "    inner_func <- function() {\n",
    "        c <- 30\n",
    "    }\n",
    "    \n",
    "}\n",
    "\n",
    "a <- 10"
   ]
  },
  {
   "cell_type": "markdown",
   "metadata": {},
   "source": [
    "\n",
    "<div style=\"line-height:300%;\">\n",
    "    <font color=#9A0909 face=\"Sriracha\" size=5>\n",
    "                <div align=left>Global Variables</div>\n",
    "    </font>\n",
    "</div>"
   ]
  },
  {
   "cell_type": "markdown",
   "metadata": {},
   "source": [
    "<div style=\"line-height:200%;\">\n",
    "    <font color=black face=\"Candara\" size=4>\n",
    "                <div align=left>\n",
    "                    Global variables are those variables which exists throughout the execution of a program. It can be changed and accessed from any part of the program.\n",
    "\n",
    "However, global variables also depend upon the perspective of a function.\n",
    "\n",
    "For example, in the above example, from the perspective of <mark>inner_func()</mark>, both <mark>a</mark> and <mark>b</mark> are <ins>global variables</ins>.\n",
    "\n",
    "However, from the perspective of <mark>outer_func()</mark>, <mark>b</mark> is a <ins>local variable</ins> and only <mark>a</mark> is <ins>global variable</ins>. The variable <mark>c</mark> is completely invisible to <mark>outer_func()</mark>.\n",
    "                </div>\n",
    "    </font>\n",
    "</div>"
   ]
  },
  {
   "cell_type": "markdown",
   "metadata": {},
   "source": [
    "\n",
    "<div style=\"line-height:300%;\">\n",
    "    <font color=#9A0909 face=\"Sriracha\" size=5>\n",
    "                <div align=left>Local Variables</div>\n",
    "    </font>\n",
    "</div>"
   ]
  },
  {
   "cell_type": "markdown",
   "metadata": {},
   "source": [
    "<div style=\"line-height:200%;\">\n",
    "    <font color=black face=\"Candara\" size=4>\n",
    "                <div align=left>\n",
    "                    On the other hand, <ins>Local Variables</ins> are those variables which exist only within a certain part of a program like a function, and is released when the function call ends.\n",
    "\n",
    "In the above program the variable <mark>c</mark> is called a <ins>Local Variables</ins>.\n",
    "\n",
    "If we assign a value to a variable with the function <ins>inner_func()</ins>, the change will only be local and cannot be accessed outside the function.\n",
    "\n",
    "This is also the same even if names of both global variable and local variables matches.\n",
    "\n",
    "For example, if we have a function as below.\n",
    "                </div>\n",
    "    </font>\n",
    "</div>"
   ]
  },
  {
   "cell_type": "code",
   "execution_count": 44,
   "metadata": {},
   "outputs": [
    {
     "ename": "ERROR",
     "evalue": "Error in name(y = 10): argument \"x\" is missing, with no default\n",
     "output_type": "error",
     "traceback": [
      "Error in name(y = 10): argument \"x\" is missing, with no default\nTraceback:\n",
      "1. name(y = 10)"
     ]
    }
   ],
   "source": [
    "\n",
    "name <- function(x , y) {\n",
    "    x + y\n",
    "}\n",
    "\n",
    "x = 10\n",
    "\n",
    "z = name(y = 10)\n",
    "\n",
    "print(z)"
   ]
  },
  {
   "cell_type": "code",
   "execution_count": 47,
   "metadata": {},
   "outputs": [
    {
     "name": "stdout",
     "output_type": "stream",
     "text": [
      "inside inner_func: 10 \n",
      "inside outer_func: 10 \n",
      "inside global: 10 \n"
     ]
    }
   ],
   "source": [
    "outer_func <- function() {\n",
    "    \n",
    "#     a <- 20\n",
    "    \n",
    "    inner_func <- function() {\n",
    "        \n",
    "#         a <- 30\n",
    "        \n",
    "        cat(\"inside inner_func:\", a, \"\\n\")\n",
    "    }\n",
    "    \n",
    "    inner_func()\n",
    "    \n",
    "    cat(\"inside outer_func:\", a, \"\\n\")\n",
    "}\n",
    "\n",
    "a <- 10\n",
    "\n",
    "outer_func()\n",
    "\n",
    "cat(\"inside global:\", a, \"\\n\")"
   ]
  },
  {
   "cell_type": "code",
   "execution_count": 120,
   "metadata": {
    "scrolled": true
   },
   "outputs": [
    {
     "name": "stdout",
     "output_type": "stream",
     "text": [
      "a inside inner_func: 30 \n",
      "a inside outer_func: 20 \n",
      "inside global: 10 \n"
     ]
    }
   ],
   "source": []
  },
  {
   "cell_type": "markdown",
   "metadata": {},
   "source": [
    "<div style=\"line-height:200%;\">\n",
    "    <font color=black face=\"Candara\" size=4>\n",
    "                <div align=left>\n",
    "                    We see that the variable <b>a</b> is created <b>locally</b> within the <mark>environment frame of both the functions</mark> and is different to that of the <mark>global environment frame</mark>.\n",
    "                </div>\n",
    "    </font>\n",
    "</div>"
   ]
  },
  {
   "cell_type": "markdown",
   "metadata": {},
   "source": [
    "\n",
    "<div style=\"line-height:300%;\">\n",
    "    <font color=#9A0909 face=\"Sriracha\" size=5>\n",
    "                <div align=left>Accessing Global Variables</div>\n",
    "    </font>\n",
    "</div>"
   ]
  },
  {
   "cell_type": "markdown",
   "metadata": {},
   "source": [
    "<div style=\"line-height:200%;\">\n",
    "    <font color=black face=\"Candara\" size=4>\n",
    "                <div align=left>\n",
    "                    <mark>Global Variables</mark> can be read but when we try to assign to it, a new <mark>Local Variable</mark> is created instead.\n",
    "\n",
    "To make <mark>Assignments to Global Variables</mark>, <ins>superassignment operator</ins>, <mark><<-</mark>, is used.\n",
    "\n",
    "When using this operator <mark>within a function</mark>, it searches for the variable in the <mark>Parent Environment Frame</mark>, if not found it keeps on searching the next level until it reaches the <mark>Global Environment</mark>.\n",
    "\n",
    "<ins>If the variable is still not found, it is created and assigned at the global level</ins>.\n",
    "                </div>\n",
    "    </font>\n",
    "</div>"
   ]
  },
  {
   "cell_type": "code",
   "execution_count": 52,
   "metadata": {},
   "outputs": [],
   "source": [
    "rm(list = ls())\n",
    "\n",
    "outer_func <- function() {\n",
    "    \n",
    "#     a <- 20\n",
    "    \n",
    "    inner_func <- function() {\n",
    "        a <<- 30\n",
    "        print(a)\n",
    "    }\n",
    "    \n",
    "    inner_func()\n",
    "    print(a)\n",
    "}"
   ]
  },
  {
   "cell_type": "code",
   "execution_count": 53,
   "metadata": {
    "scrolled": true
   },
   "outputs": [
    {
     "name": "stdout",
     "output_type": "stream",
     "text": [
      "[1] 30\n",
      "[1] 30\n",
      "[1] 30\n"
     ]
    }
   ],
   "source": [
    "# a <- 30\n",
    "\n",
    "outer_func()\n",
    "\n",
    "print(a)"
   ]
  },
  {
   "cell_type": "code",
   "execution_count": 143,
   "metadata": {},
   "outputs": [],
   "source": [
    "rm(list = ls())\n",
    "\n",
    "outer_func <- function() {\n",
    "    \n",
    "    inner_func <- function() {\n",
    "        a <<- 30\n",
    "        print(a)\n",
    "    }\n",
    "    \n",
    "    inner_func()\n",
    "    print(a)\n",
    "}"
   ]
  },
  {
   "cell_type": "code",
   "execution_count": 145,
   "metadata": {
    "scrolled": true
   },
   "outputs": [
    {
     "name": "stdout",
     "output_type": "stream",
     "text": [
      "[1] 30\n",
      "[1] 30\n",
      "[1] 30\n"
     ]
    }
   ],
   "source": [
    "a <- 10\n",
    "\n",
    "outer_func()\n",
    "\n",
    "print(a)"
   ]
  },
  {
   "cell_type": "markdown",
   "metadata": {},
   "source": [
    "<div style=\"line-height:200%;\">\n",
    "    <font color=black face=\"Candara\" size=4>\n",
    "                <div align=left>\n",
    "                    When the statement <mark>a = 3</mark> is encountered within <mark>inner_func()</mark>, it looks for the variable a in <mark>outer_func()</mark> environment.\n",
    "                    When the search fails, it searches in <mark>R_GlobalEnv</mark>.\n",
    "                    Since, a is not defined in this <mark>global environment</mark> as well, it is created and assigned there which is now referenced and printed from within <mark>inner_func()</mark> as well as <mark>outer_func()</mark>.\n",
    "                </div>\n",
    "    </font>\n",
    "</div>"
   ]
  },
  {
   "cell_type": "markdown",
   "metadata": {},
   "source": [
    "\n",
    "<div style=\"line-height:300%;\">\n",
    "    <font color=#9A0909 face=\"Sriracha\" size=6>\n",
    "                <div align=left>R Recursive Function</div>\n",
    "    </font>\n",
    "</div>"
   ]
  },
  {
   "cell_type": "markdown",
   "metadata": {},
   "source": [
    "<div style=\"line-height:200%;\">\n",
    "    <font color=black face=\"Candara\" size=4>\n",
    "                <div align=left>\n",
    "                    A <mark>function</mark> that calls itself is called a <mark>recursive function</mark> and this technique is known as recursion.\n",
    "\n",
    "This special programming technique can be used to solve problems by breaking them into smaller and simpler sub-problems.\n",
    "\n",
    "An example can help clarify this concept.\n",
    "\n",
    "Let us take the example of finding the factorial of a number. Factorial of a positive integer number is defined as the product of all the integers from 1 to that number. For example, the factorial of 5 (<b>denoted as 5!</b>) will be:\n",
    "                </div>\n",
    "    </font>\n",
    "</div>"
   ]
  },
  {
   "cell_type": "raw",
   "metadata": {},
   "source": [
    "5! = 1 * 2 * 3 * 4 * 5 = 120"
   ]
  },
  {
   "cell_type": "markdown",
   "metadata": {},
   "source": [
    "<div style=\"line-height:200%;\">\n",
    "    <font color=black face=\"Candara\" size=4>\n",
    "                <div align=left>\n",
    "                    This problem of finding factorial of 5 can be broken down into a sub-problem of multiplying the factorial of 4 with 5.\n",
    "                </div>\n",
    "    </font>\n",
    "</div>"
   ]
  },
  {
   "cell_type": "raw",
   "metadata": {},
   "source": [
    "5! = 5 * 4!"
   ]
  },
  {
   "cell_type": "markdown",
   "metadata": {},
   "source": [
    "<div style=\"line-height:200%;\">\n",
    "    <font color=black face=\"Candara\" size=4>\n",
    "                <div align=left>\n",
    "                    Or more generally,\n",
    "                </div>\n",
    "    </font>\n",
    "</div>"
   ]
  },
  {
   "cell_type": "raw",
   "metadata": {},
   "source": [
    "n! = n * (n-1)!"
   ]
  },
  {
   "cell_type": "markdown",
   "metadata": {},
   "source": [
    "<div style=\"line-height:200%;\">\n",
    "    <font color=black face=\"Candara\" size=4>\n",
    "                <div align=left>\n",
    "                    Now we can continue this until we reach <mark>0!</mark> which is <mark>1</mark>.\n",
    "\n",
    "The implementation of this is provided below.\n",
    "                </div>\n",
    "    </font>\n",
    "</div>"
   ]
  },
  {
   "cell_type": "code",
   "execution_count": 3,
   "metadata": {},
   "outputs": [
    {
     "name": "stdout",
     "output_type": "stream",
     "text": [
      "1 \n",
      "2 \n"
     ]
    }
   ],
   "source": [
    "x <- 1\n",
    "cat(x, \"\\n\")\n",
    "\n",
    "x <- x + 1\n",
    "cat(x, \"\\n\")"
   ]
  },
  {
   "cell_type": "code",
   "execution_count": 54,
   "metadata": {},
   "outputs": [
    {
     "name": "stdout",
     "output_type": "stream",
     "text": [
      "Enter a Number: 5\n",
      "The factorial of 5 is 120 \n"
     ]
    }
   ],
   "source": [
    "# Find the factorial of a number:\n",
    "\n",
    "# take input from the user\n",
    "num = as.integer(x = readline(prompt = \"Enter a Number: \"))\n",
    "factorial = 1\n",
    "\n",
    "# Find the factorial\n",
    "for(i in 1:num) {\n",
    "    factorial = factorial * i\n",
    "}\n",
    "\n",
    "cat(\"The factorial of\", num , \"is\", factorial, \"\\n\")"
   ]
  },
  {
   "cell_type": "code",
   "execution_count": 56,
   "metadata": {},
   "outputs": [
    {
     "name": "stdout",
     "output_type": "stream",
     "text": [
      "Enter a Number: 5\n",
      "The factorial of 5 is 120 \n"
     ]
    }
   ],
   "source": [
    "# Find the factorial of a number:\n",
    "\n",
    "# take input from the user\n",
    "num = as.integer(x = readline(prompt = \"Enter a Number: \"))\n",
    "factorial = 1\n",
    "\n",
    "# check is the number is negative, positive or zero\n",
    "if(num < 0) {\n",
    "    print(\"Sorry, factorial does not exist for negative numbers\")\n",
    "} else if(num == 0) {\n",
    "    print(\"The factorial of 0 is 1\")\n",
    "} else {\n",
    "    for(i in 1:num) {\n",
    "        factorial = factorial * i\n",
    "    }\n",
    "cat(\"The factorial of\", num , \"is\", factorial, \"\\n\")\n",
    "}"
   ]
  },
  {
   "cell_type": "code",
   "execution_count": 57,
   "metadata": {},
   "outputs": [],
   "source": [
    "# Recursive function to find factorial:\n",
    "\n",
    "rec_fac <- function(x) {\n",
    "    if(x == 0) {\n",
    "        return(1)\n",
    "    } else {\n",
    "        return(x * rec_fac(x - 1))\n",
    "    }\n",
    "}"
   ]
  },
  {
   "cell_type": "code",
   "execution_count": 58,
   "metadata": {
    "scrolled": true
   },
   "outputs": [
    {
     "data": {
      "text/html": [
       "24"
      ],
      "text/latex": [
       "24"
      ],
      "text/markdown": [
       "24"
      ],
      "text/plain": [
       "[1] 24"
      ]
     },
     "metadata": {},
     "output_type": "display_data"
    }
   ],
   "source": [
    "rec_fac(4)"
   ]
  },
  {
   "cell_type": "markdown",
   "metadata": {},
   "source": [
    "<div style=\"line-height:200%;\">\n",
    "    <font color=black face=\"Candara\" size=4>\n",
    "                <div align=left>\n",
    "                    Here, we have a function which will call itself. Something like <mark>rec_fac(x)</mark> will turn into <mark>x * >rec_fac(x)</mark> until <mark>x</mark> becomes equal to <mark>0</mark>.\n",
    "\n",
    "When <mark>x</mark> becomes <mark>0</mark>, we return <mark>1</mark> since the factorial of <mark>0</mark> is <mark>1</mark>. <b>This is the terminating condition and is very important.</b>\n",
    "\n",
    "Without this the recursion will not end and continue indefinitely (in theory).\n",
    "\n",
    "The use of recursion, often, makes code shorter and looks clean.\n",
    "\n",
    "However, it is sometimes hard to follow through the code logic. It might be hard to think of a problem in a recursive way.\n",
    "\n",
    "Recursive functions are also memory intensive, since it can result into a lot of nested function calls. This must be kept in mind when using it for solving big problems.\n",
    "                </div>\n",
    "    </font>\n",
    "</div>"
   ]
  },
  {
   "cell_type": "markdown",
   "metadata": {},
   "source": [
    "\n",
    "<div style=\"line-height:300%;\">\n",
    "    <font color=#9A0909 face=\"Sriracha\" size=5>\n",
    "                <div align=left>Example: Print Fibonacci Sequence</div>\n",
    "    </font>\n",
    "</div>"
   ]
  },
  {
   "cell_type": "raw",
   "metadata": {},
   "source": [
    "The Fibonacci Sequence: 0, 1, 1, 2, 3, 5, 8, 13, 21"
   ]
  },
  {
   "cell_type": "code",
   "execution_count": 10,
   "metadata": {},
   "outputs": [
    {
     "name": "stdout",
     "output_type": "stream",
     "text": [
      "How many terms? 20\n",
      "Fibonacci sequence: \n",
      "0 \n",
      "1 \n",
      "1 \n",
      "2 \n",
      "3 \n",
      "5 \n",
      "8 \n",
      "13 \n",
      "21 \n",
      "34 \n",
      "55 \n",
      "89 \n",
      "144 \n",
      "233 \n",
      "377 \n",
      "610 \n",
      "987 \n",
      "1597 \n",
      "2584 \n",
      "4181 \n"
     ]
    }
   ],
   "source": [
    "# take input from the user\n",
    "nterms = as.integer(x = readline(prompt = \"How many terms? \"))\n",
    "\n",
    "# first two terms\n",
    "n1 = 0\n",
    "n2 = 1\n",
    "count = 2\n",
    "\n",
    "# check if the number of terms is valid\n",
    "if(nterms <= 0) {\n",
    "    cat(\"Plese enter a positive integer\", \"\\n\")\n",
    "} else {\n",
    "    if(nterms == 1) {\n",
    "        cat(\"Fibonacci sequence:\", \"\\n\")\n",
    "        cat(n1, \"\\n\")\n",
    "    } else {\n",
    "        cat(\"Fibonacci sequence:\", \"\\n\")\n",
    "        cat(n1, \"\\n\")\n",
    "        cat(n2, \"\\n\")\n",
    "        while(count < nterms) {\n",
    "            nth = n1 + n2\n",
    "            cat(nth, \"\\n\")\n",
    "            # update values\n",
    "            n1 = n2\n",
    "            n2 = nth\n",
    "            count = count + 1\n",
    "        }\n",
    "    }\n",
    "}"
   ]
  },
  {
   "cell_type": "code",
   "execution_count": 59,
   "metadata": {
    "scrolled": true
   },
   "outputs": [
    {
     "name": "stdout",
     "output_type": "stream",
     "text": [
      "How many terms? 7\n",
      "Fibonacci sequence: \n",
      "0 \n",
      "1 \n",
      "1 \n",
      "2 \n",
      "3 \n",
      "5 \n",
      "8 \n"
     ]
    }
   ],
   "source": [
    "# Program to display the Fibonacci sequence up to n-th term using recursive functions\n",
    "\n",
    "rec_fibo <- function(n) {\n",
    "    if(n <= 1) {\n",
    "        return(n)\n",
    "    } else {\n",
    "        return(rec_fibo(n-1) + rec_fibo(n-2))\n",
    "    }\n",
    "}\n",
    "\n",
    "\n",
    "# take input from the user\n",
    "nterms = as.integer(x = readline(prompt=\"How many terms? \"))\n",
    "\n",
    "# Display the Fibonacci sequence\n",
    "cat(\"Fibonacci sequence:\", \"\\n\")\n",
    "\n",
    "for(i in 0:(nterms-1)) {\n",
    "    cat(rec_fibo(i), \"\\n\")\n",
    "}"
   ]
  },
  {
   "cell_type": "markdown",
   "metadata": {},
   "source": [
    "\n",
    "<div style=\"line-height:300%;\">\n",
    "    <font color=#9A0909 face=\"Sriracha\" size=5>\n",
    "                <div align=left>Example: Binary to Decimal</div>\n",
    "    </font>\n",
    "</div>"
   ]
  },
  {
   "cell_type": "code",
   "execution_count": 12,
   "metadata": {},
   "outputs": [],
   "source": [
    "# Program to convert decimal number into binary number using recursive function\n",
    "convert_to_binary <- function(n) {\n",
    "    if(n > 1) {\n",
    "        convert_to_binary(as.integer(n/2))\n",
    "    }\n",
    "    cat(n %% 2)\n",
    "}"
   ]
  },
  {
   "cell_type": "code",
   "execution_count": 18,
   "metadata": {
    "scrolled": true
   },
   "outputs": [
    {
     "name": "stdout",
     "output_type": "stream",
     "text": [
      "1111101"
     ]
    }
   ],
   "source": [
    "convert_to_binary(125)"
   ]
  },
  {
   "cell_type": "markdown",
   "metadata": {},
   "source": [
    "\n",
    "<div style=\"line-height:300%;\">\n",
    "    <font color=#9A0909 face=\"Sriracha\" size=6>\n",
    "                <div align=left>R Infix Operator</div>\n",
    "    </font>\n",
    "</div>"
   ]
  },
  {
   "cell_type": "markdown",
   "metadata": {},
   "source": [
    "<div style=\"line-height:200%;\">\n",
    "    <font color=black face=\"Candara\" size=4>\n",
    "                <div align=left>\n",
    "                    Most of the operators that we use in R are binary operators (having two operands). Hence, they are <mark>infix operators</mark>, used between the operands. Actually, these operators do a function call in the background.\n",
    "\n",
    "For example, the expression <mark>a+b</mark> is actually calling the function <mark>`+`()</mark> with the arguments <mark>a <mark>and <mark>b</mark>, as <mark>`+`(a, b)</mark>.\n",
    "\n",
    "Note: the back tick <mark>(`)</mark>, this is important as the function name contains special symbols.\n",
    "\n",
    "Following are some example expressions along with the actual functions that get called in the background.\n",
    "                </div>\n",
    "    </font>\n",
    "</div>"
   ]
  },
  {
   "cell_type": "code",
   "execution_count": 19,
   "metadata": {},
   "outputs": [
    {
     "name": "stdout",
     "output_type": "stream",
     "text": [
      "[1] 8\n",
      "[1] 8\n"
     ]
    }
   ],
   "source": [
    "print(5 + 3)\n",
    "\n",
    "print(`+`(5, 3))\n"
   ]
  },
  {
   "cell_type": "code",
   "execution_count": 21,
   "metadata": {
    "scrolled": true
   },
   "outputs": [
    {
     "name": "stdout",
     "output_type": "stream",
     "text": [
      "[1] 14\n",
      "[1] 14\n"
     ]
    }
   ],
   "source": [
    "# 5 * 3 - 1\n",
    "\n",
    "print((5 * 3) - 1)\n",
    "\n",
    "print(`-`(`*`(5, 3), 1))"
   ]
  },
  {
   "cell_type": "markdown",
   "metadata": {},
   "source": [
    "<div style=\"line-height:200%;\">\n",
    "    <font color=black face=\"Candara\" size=4>\n",
    "                <div align=left>\n",
    "                    It is possible to create user-defined infix operators in R. This is done by naming a function that starts and ends with <mark>%</mark>.\n",
    "                </div>\n",
    "    </font>\n",
    "</div>"
   ]
  },
  {
   "cell_type": "markdown",
   "metadata": {},
   "source": [
    "\n",
    "<div style=\"line-height:300%;\">\n",
    "    <font color=#9A0909 face=\"Sriracha\" size=5>\n",
    "                <div align=left>Example: ser defined infix operator</div>\n",
    "    </font>\n",
    "</div>"
   ]
  },
  {
   "cell_type": "code",
   "execution_count": 22,
   "metadata": {},
   "outputs": [],
   "source": [
    "`%divisible%` <- function(x,y) {\n",
    "    if (x%%y == 0) {\n",
    "        return(TRUE)\n",
    "    } else {\n",
    "        return(FALSE)\n",
    "    }\n",
    "}"
   ]
  },
  {
   "cell_type": "code",
   "execution_count": 23,
   "metadata": {},
   "outputs": [
    {
     "data": {
      "text/html": [
       "FALSE"
      ],
      "text/latex": [
       "FALSE"
      ],
      "text/markdown": [
       "FALSE"
      ],
      "text/plain": [
       "[1] FALSE"
      ]
     },
     "metadata": {},
     "output_type": "display_data"
    }
   ],
   "source": [
    "10 %divisible% 3"
   ]
  },
  {
   "cell_type": "code",
   "execution_count": 24,
   "metadata": {
    "scrolled": true
   },
   "outputs": [
    {
     "data": {
      "text/html": [
       "TRUE"
      ],
      "text/latex": [
       "TRUE"
      ],
      "text/markdown": [
       "TRUE"
      ],
      "text/plain": [
       "[1] TRUE"
      ]
     },
     "metadata": {},
     "output_type": "display_data"
    }
   ],
   "source": [
    "10 %divisible% 2"
   ]
  },
  {
   "cell_type": "markdown",
   "metadata": {},
   "source": [
    "\n",
    "<div style=\"line-height:300%;\">\n",
    "    <font color=#9A0909 face=\"Sriracha\" size=5>\n",
    "                <div align=left>Predefined infix operators in R</div>\n",
    "    </font>\n",
    "</div>"
   ]
  },
  {
   "cell_type": "markdown",
   "metadata": {},
   "source": [
    "<div>        \n",
    "    <img src=\"..\\Week 03\\img\\infix_2.png\" width=\"800\"/>  \n",
    "</div>"
   ]
  },
  {
   "cell_type": "code",
   "execution_count": null,
   "metadata": {},
   "outputs": [],
   "source": []
  }
 ],
 "metadata": {
  "kernelspec": {
   "display_name": "R",
   "language": "R",
   "name": "ir"
  },
  "language_info": {
   "codemirror_mode": "r",
   "file_extension": ".r",
   "mimetype": "text/x-r-source",
   "name": "R",
   "pygments_lexer": "r",
   "version": "3.6.1"
  }
 },
 "nbformat": 4,
 "nbformat_minor": 2
}
