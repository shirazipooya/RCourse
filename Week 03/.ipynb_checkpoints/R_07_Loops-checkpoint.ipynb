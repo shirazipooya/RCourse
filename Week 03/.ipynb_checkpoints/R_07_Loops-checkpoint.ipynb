{
 "cells": [
  {
   "cell_type": "markdown",
   "metadata": {},
   "source": [
    "\n",
    "<div>        \n",
    "    <img src=\"..\\Week 01\\img\\R_logo.svg\" width=\"100\"/>  \n",
    "</div>\n",
    "\n",
    "<div style=\"line-height:600%;\">\n",
    "    <font color=#1363E1 face=\"Sriracha\" size=8>\n",
    "            <div align=center>LOOP</div>\n",
    "    </font>    \n",
    "</div>\n",
    "\n",
    "<div>        \n",
    "    <img src=\"..\\Week 02\\img\\loop.jpg\" width=\"400\"/>  \n",
    "</div>"
   ]
  },
  {
   "cell_type": "markdown",
   "metadata": {},
   "source": [
    "<div style=\"line-height:200%;\">\n",
    "    <font color=black face=\"Candara\" size=4>\n",
    "                <div align=left>\n",
    "There may be a situation when you need to <mark>execute a block of code</mark> <b>several number of times</b>. In general, statements are executed sequentially. The first statement in a function is executed first, followed by the second, and so on.\n",
    "\n",
    "Programming languages provide various control structures that allow for more complicated execution paths.\n",
    "\n",
    "A loop statement allows us to execute a statement or group of statements multiple times and the following is the general form of a loop statement in most of the programming languages:\n",
    "                </div>\n",
    "    </font>\n",
    "</div>\n",
    "\n",
    "\n",
    "\n"
   ]
  },
  {
   "cell_type": "markdown",
   "metadata": {},
   "source": [
    "<div>        \n",
    "    <img src=\"..\\Week 02\\img\\loop_architecture.jpg\" width=\"250\"/>  \n",
    "</div>"
   ]
  },
  {
   "cell_type": "markdown",
   "metadata": {},
   "source": [
    "<div style=\"line-height:200%;\">\n",
    "    <font color=black face=\"Candara\" size=4>\n",
    "                <div align=left>\n",
    "                    R programming language provides the following kinds of loop to handle looping requirements:\n",
    "                </div>\n",
    "    </font>\n",
    "</div>\n",
    "\n",
    "\n"
   ]
  },
  {
   "cell_type": "markdown",
   "metadata": {},
   "source": [
    "<div>        \n",
    "    <img src=\"..\\Week 02\\img\\r_loops.png\" width=\"600\"/>  \n",
    "</div>"
   ]
  },
  {
   "cell_type": "markdown",
   "metadata": {},
   "source": [
    "<div style=\"line-height:200%;\">\n",
    "    <font color=#076F9A face=\"Candara\" size=4>\n",
    "                <div align=left>\n",
    "                    <b>Loop Control Statements</b>\n",
    "                </div>\n",
    "    </font>\n",
    "    <font color=black face=\"Candara\" size=4>\n",
    "                <div align=left>\n",
    "                    Loop control statements change execution from its normal sequence. When execution leaves a scope, all automatic objects that were created in that scope are destroyed.\n",
    "\n",
    "R supports the following control statements:\n",
    "                </div>\n",
    "    </font>\n",
    "</div>\n",
    "\n",
    "\n",
    "\n",
    "\n",
    "\n"
   ]
  },
  {
   "cell_type": "markdown",
   "metadata": {},
   "source": [
    "<div>        \n",
    "    <img src=\"..\\Week 02\\img\\loop_con_st.png\" width=\"600\"/>  \n",
    "</div>"
   ]
  },
  {
   "cell_type": "markdown",
   "metadata": {},
   "source": [
    "<div style=\"line-height:300%;\">\n",
    "    <font color=#9A0909 face=\"Sriracha\" size=6>\n",
    "                <div align=left>While Loop</div>\n",
    "    </font>\n",
    "</div>"
   ]
  },
  {
   "cell_type": "markdown",
   "metadata": {},
   "source": [
    "<div style=\"line-height:200%;\">\n",
    "    <font color=black face=\"Candara\" size=4>\n",
    "                <div align=left>\n",
    "                    The <mark>While Loop</mark> executes the same code again and again until a stop condition is met.\n",
    "                </div>\n",
    "    </font>\n",
    "    <font color=#076F9A face=\"Candara\" size=4>\n",
    "                <div align=left>\n",
    "                    <br>\n",
    "                    <b>Syntax:</b>\n",
    "                </div>\n",
    "    </font>\n",
    "    <font color=black face=\"Candara\" size=4>\n",
    "                <div align=left>\n",
    "                    The basic syntax for creating a while loop in R is:\n",
    "                </div>\n",
    "    </font>\n",
    "</div>"
   ]
  },
  {
   "cell_type": "markdown",
   "metadata": {
    "slideshow": {
     "slide_type": "skip"
    }
   },
   "source": [
    "while (conditions) {\n",
    "    statements\n",
    "}"
   ]
  },
  {
   "cell_type": "markdown",
   "metadata": {},
   "source": [
    "<div style=\"line-height:200%;\">\n",
    "    <font color=#076F9A face=\"Candara\" size=4>\n",
    "                <div align=left>\n",
    "                    <b>Flow Diagram:</b>\n",
    "                </div>\n",
    "    </font>\n",
    "    <div>        \n",
    "    <img src=\"..\\Week 02\\img\\swift_while_loop.jpg\" width=\"200\"/>  \n",
    "</div>\n",
    "</div>"
   ]
  },
  {
   "cell_type": "markdown",
   "metadata": {},
   "source": [
    "<div style=\"line-height:200%;\">\n",
    "    <font color=black face=\"Candara\" size=4>\n",
    "                <div align=left>\n",
    "                    Here key point of the <mark>While Loop</mark> is that the loop might not ever run. When the condition is tested and the result is <b>FALSE</b>, the loop body will be skipped and the first statement after the while loop will be executed.\n",
    "                </div>\n",
    "    </font>\n",
    "</div>"
   ]
  },
  {
   "cell_type": "markdown",
   "metadata": {},
   "source": [
    "<div style=\"line-height:200%;\">\n",
    "    <font color=#076F9A face=\"Candara\" size=4>\n",
    "                <div align=left>\n",
    "                    <b>Example:</b>\n",
    "                </div>\n",
    "    </font>\n",
    "</div>"
   ]
  },
  {
   "cell_type": "code",
   "execution_count": null,
   "metadata": {},
   "outputs": [],
   "source": [
    "x <- 1\n",
    "print(x)\n",
    "\n",
    "x  <- x + 1\n",
    "print(x)"
   ]
  },
  {
   "cell_type": "code",
   "execution_count": null,
   "metadata": {},
   "outputs": [],
   "source": [
    "# While Loop Example 01:\n",
    "\n",
    "cat(\"Start\", \"\\n\")\n",
    "\n",
    "i <- 1\n",
    "\n",
    "while (i < 6) {\n",
    "    cat(i, \"\\n\")\n",
    "    i = i + 1\n",
    "}\n",
    "\n",
    "cat(\"Finish\", \"\\n\")"
   ]
  },
  {
   "cell_type": "code",
   "execution_count": 10,
   "metadata": {
    "scrolled": true
   },
   "outputs": [
    {
     "name": "stdout",
     "output_type": "stream",
     "text": [
      "Number of Dice: 5 \n",
      "Number of Dice: 4 \n",
      "Number of Dice: 2 \n",
      "Number of Dice: 6 \n",
      "You Win! \n"
     ]
    }
   ],
   "source": [
    "# While Loop Example 02:\n",
    "\n",
    "num <- 0\n",
    "\n",
    "while(num != 6) {\n",
    "    num <- sample(x = 1:6, size = 1, replace = FALSE)\n",
    "    cat(\"Number of Dice:\", num, \"\\n\")    \n",
    "}\n",
    "\n",
    "cat(\"You Win!\", \"\\n\")"
   ]
  },
  {
   "cell_type": "code",
   "execution_count": 28,
   "metadata": {},
   "outputs": [
    {
     "name": "stdout",
     "output_type": "stream",
     "text": [
      "Please Enter Number: 5\n",
      "Please Enter Number: 10\n",
      "[1] \"Error\"\n",
      "OK \n"
     ]
    }
   ],
   "source": [
    "number <- as.integer(readline(prompt = \"Please Enter Number: \"))\n",
    "\n",
    "while ((number %% 2 != 0) | (number %% 5 != 0)) {\n",
    "    print(\"Error\")\n",
    "    number <- as.integer(readline(prompt = \"Please Enter Number: \"))     \n",
    "}\n",
    "\n",
    "cat(\"OK\", \"\\n\")"
   ]
  },
  {
   "cell_type": "markdown",
   "metadata": {},
   "source": [
    "<div style=\"line-height:300%;\">\n",
    "    <font color=#9A0909 face=\"Sriracha\" size=6>\n",
    "                <div align=left>For Loop</div>\n",
    "    </font>\n",
    "</div>"
   ]
  },
  {
   "cell_type": "markdown",
   "metadata": {},
   "source": [
    "<div style=\"line-height:200%;\">\n",
    "    <font color=black face=\"Candara\" size=4>\n",
    "                <div align=left>\n",
    "                    A <mark>For Loop</mark> is a repetition control structure that allows you to efficiently write a loop that needs to execute a <b>specific number of times</b>.\n",
    "                </div>\n",
    "    </font>\n",
    "    <font color=#076F9A face=\"Candara\" size=4>\n",
    "                <div align=left>\n",
    "                    <br>\n",
    "                    <b>Syntax:</b>\n",
    "                </div>\n",
    "    </font>\n",
    "    <font color=black face=\"Candara\" size=4>\n",
    "                <div align=left>\n",
    "                    The basic syntax for creating a <ins>for loop</ins> statement in R is:\n",
    "                </div>\n",
    "    </font>\n",
    "</div>"
   ]
  },
  {
   "cell_type": "markdown",
   "metadata": {},
   "source": [
    "for (value in vector) {\n",
    "    statements\n",
    "}"
   ]
  },
  {
   "cell_type": "markdown",
   "metadata": {},
   "source": [
    "<div style=\"line-height:200%;\">\n",
    "    <font color=#076F9A face=\"Candara\" size=4>\n",
    "                <div align=left>\n",
    "                    <b>Flow Diagram:</b>\n",
    "                </div>\n",
    "    </font>\n",
    "    <div>        \n",
    "    <img src=\"..\\Week 02\\img\\r_for_loop.jpg\" width=\"200\"/>  \n",
    "</div>\n",
    "</div>"
   ]
  },
  {
   "cell_type": "markdown",
   "metadata": {},
   "source": [
    "<div style=\"line-height:200%;\">\n",
    "    <font color=black face=\"Candara\" size=4>\n",
    "                <div align=left>\n",
    "                    R’s for loops are particularly flexible in that they are not limited to integers, or even numbers in the input. We can pass character vectors, logical vectors, lists or expressions.\n",
    "                </div>\n",
    "    </font>\n",
    "</div>"
   ]
  },
  {
   "cell_type": "markdown",
   "metadata": {},
   "source": [
    "<div style=\"line-height:200%;\">\n",
    "    <font color=#076F9A face=\"Candara\" size=4>\n",
    "                <div align=left>\n",
    "                    <b>Example:</b>\n",
    "                </div>\n",
    "    </font>\n",
    "</div>"
   ]
  },
  {
   "cell_type": "code",
   "execution_count": 17,
   "metadata": {},
   "outputs": [
    {
     "data": {
      "text/html": [
       "<table>\n",
       "<tbody>\n",
       "\t<tr><td>1 </td><td> 6</td></tr>\n",
       "\t<tr><td>2 </td><td> 7</td></tr>\n",
       "\t<tr><td>3 </td><td> 8</td></tr>\n",
       "\t<tr><td>4 </td><td> 9</td></tr>\n",
       "\t<tr><td>5 </td><td>10</td></tr>\n",
       "</tbody>\n",
       "</table>\n"
      ],
      "text/latex": [
       "\\begin{tabular}{ll}\n",
       "\t 1  &  6\\\\\n",
       "\t 2  &  7\\\\\n",
       "\t 3  &  8\\\\\n",
       "\t 4  &  9\\\\\n",
       "\t 5  & 10\\\\\n",
       "\\end{tabular}\n"
      ],
      "text/markdown": [
       "\n",
       "| 1  |  6 |\n",
       "| 2  |  7 |\n",
       "| 3  |  8 |\n",
       "| 4  |  9 |\n",
       "| 5  | 10 |\n",
       "\n"
      ],
      "text/plain": [
       "     [,1] [,2]\n",
       "[1,] 1     6  \n",
       "[2,] 2     7  \n",
       "[3,] 3     8  \n",
       "[4,] 4     9  \n",
       "[5,] 5    10  "
      ]
     },
     "metadata": {},
     "output_type": "display_data"
    }
   ],
   "source": [
    "matrix(data = 1:10, nrow = 5)"
   ]
  },
  {
   "cell_type": "code",
   "execution_count": 18,
   "metadata": {
    "scrolled": true
   },
   "outputs": [
    {
     "name": "stdout",
     "output_type": "stream",
     "text": [
      "[1] 1\n",
      "[1] 2\n",
      "[1] 3\n",
      "[1] 4\n",
      "[1] 5\n",
      "[1] 6\n",
      "[1] 7\n",
      "[1] 8\n",
      "[1] 9\n",
      "[1] 10\n"
     ]
    }
   ],
   "source": [
    "for (i in matrix(data = 1:10, nrow = 5)) {\n",
    "    print(i)\n",
    "}"
   ]
  },
  {
   "cell_type": "code",
   "execution_count": 11,
   "metadata": {},
   "outputs": [
    {
     "name": "stdout",
     "output_type": "stream",
     "text": [
      "Countries are: India \n",
      "Countries are: UK \n",
      "Countries are: Japan \n",
      "Countries are: USA \n",
      "Countries are: Australia \n",
      "Countries are: China \n",
      "----This is Coming from Outside the For Loop---- \n"
     ]
    }
   ],
   "source": [
    "# For Loop Example 01:\n",
    "\n",
    "countries <- c('India', 'UK', 'Japan', 'USA', 'Australia', 'China')\n",
    "\n",
    "for (str in countries) {\n",
    "  cat(\"Countries are:\", str, \"\\n\")\n",
    "}\n",
    "\n",
    "cat(\"----This is Coming from Outside the For Loop----\", \"\\n\")"
   ]
  },
  {
   "cell_type": "code",
   "execution_count": 23,
   "metadata": {},
   "outputs": [
    {
     "name": "stdout",
     "output_type": "stream",
     "text": [
      "A \n",
      "B \n",
      "C \n",
      "D \n",
      "E \n",
      "F \n",
      "G \n",
      "H \n",
      "I \n",
      "J \n",
      "K \n",
      "L \n",
      "M \n",
      "N \n",
      "O \n",
      "P \n",
      "Q \n",
      "R \n",
      "S \n",
      "T \n",
      "U \n",
      "V \n",
      "W \n",
      "X \n",
      "Y \n",
      "Z \n"
     ]
    }
   ],
   "source": [
    "# For Loop Example 02:\n",
    "\n",
    "for ( i in LETTERS) {\n",
    "    cat(i, \"\\n\")\n",
    "}"
   ]
  },
  {
   "cell_type": "code",
   "execution_count": 25,
   "metadata": {
    "scrolled": true
   },
   "outputs": [
    {
     "name": "stdout",
     "output_type": "stream",
     "text": [
      "2 \n",
      "8 \n",
      "12 \n",
      "6 \n",
      "100 \n",
      "24 \n",
      "24 \n",
      "# 7"
     ]
    }
   ],
   "source": [
    "# For Loop Example 03:\n",
    "\n",
    "x <- c(2, 5, 3, 9, 8, 12, 6, 100, 23, 24, 24)\n",
    "\n",
    "count <- 0\n",
    "\n",
    "for (val in x) {\n",
    "    if(val %% 2 == 0) {\n",
    "        cat(val, \"\\n\")\n",
    "        count = count + 1        \n",
    "    }  \n",
    "}\n",
    "\n",
    "cat(\"#\", count)"
   ]
  },
  {
   "cell_type": "markdown",
   "metadata": {},
   "source": [
    "\n",
    "<div style=\"line-height:300%;\">\n",
    "    <font color=#9A0909 face=\"Sriracha\" size=6>\n",
    "                <div align=left>Break Statement</div>\n",
    "    </font>\n",
    "</div>"
   ]
  },
  {
   "cell_type": "markdown",
   "metadata": {},
   "source": [
    "<div style=\"line-height:200%;\">\n",
    "    <font color=black face=\"Candara\" size=4>\n",
    "                <div align=left>\n",
    "                    The break statement in R programming language has the following two usages:<br>\n",
    "1. When the break statement is encountered inside a loop, the loop is immediately terminated and program control resumes at the next statement following the loop.<br>\n",
    "2. It can be used to terminate a case in the switch statement (covered in the next chapter).\n",
    "                </div>\n",
    "    </font>\n",
    "    <font color=#076F9A face=\"Candara\" size=4>\n",
    "                <div align=left>\n",
    "                    <br>\n",
    "                    <b>Syntax:</b>\n",
    "                </div>\n",
    "    </font>\n",
    "    <font color=black face=\"Candara\" size=4>\n",
    "                <div align=left>\n",
    "                    The basic syntax for creating a break statement in R is:\n",
    "                </div>\n",
    "    </font>\n",
    "</div>"
   ]
  },
  {
   "cell_type": "markdown",
   "metadata": {},
   "source": [
    "if (test_expression) {\n",
    "    break\n",
    "}"
   ]
  },
  {
   "cell_type": "markdown",
   "metadata": {},
   "source": [
    "<div style=\"line-height:200%;\">\n",
    "    <font color=#076F9A face=\"Candara\" size=4>\n",
    "                <div align=left>\n",
    "                    <b>Flow Diagram:</b>\n",
    "                </div>\n",
    "    </font>\n",
    "    <div>        \n",
    "    <img src=\"..\\Week 02\\img\\r-break-flowchart.jpg\" width=\"250\"/>  \n",
    "</div>\n",
    "</div>"
   ]
  },
  {
   "cell_type": "markdown",
   "metadata": {},
   "source": [
    "<div style=\"line-height:200%;\">\n",
    "    <font color=#076F9A face=\"Candara\" size=4>\n",
    "                <div align=left>\n",
    "                    <b>Example:</b>\n",
    "                </div>\n",
    "    </font>\n",
    "</div>"
   ]
  },
  {
   "cell_type": "code",
   "execution_count": 33,
   "metadata": {},
   "outputs": [
    {
     "data": {
      "text/html": [
       "<ol class=list-inline>\n",
       "\t<li>1</li>\n",
       "\t<li>6</li>\n",
       "\t<li>1</li>\n",
       "\t<li>3</li>\n",
       "\t<li>5</li>\n",
       "\t<li>5</li>\n",
       "\t<li>6</li>\n",
       "\t<li>7</li>\n",
       "\t<li>7</li>\n",
       "\t<li>7</li>\n",
       "\t<li>3</li>\n",
       "\t<li>3</li>\n",
       "\t<li>1</li>\n",
       "\t<li>3</li>\n",
       "\t<li>4</li>\n",
       "\t<li>7</li>\n",
       "\t<li>7</li>\n",
       "\t<li>6</li>\n",
       "\t<li>3</li>\n",
       "\t<li>3</li>\n",
       "\t<li>7</li>\n",
       "\t<li>3</li>\n",
       "\t<li>1</li>\n",
       "\t<li>5</li>\n",
       "\t<li>2</li>\n",
       "\t<li>10</li>\n",
       "\t<li>9</li>\n",
       "\t<li>5</li>\n",
       "\t<li>2</li>\n",
       "\t<li>3</li>\n",
       "\t<li>2</li>\n",
       "\t<li>4</li>\n",
       "\t<li>1</li>\n",
       "\t<li>8</li>\n",
       "\t<li>3</li>\n",
       "\t<li>7</li>\n",
       "\t<li>2</li>\n",
       "\t<li>2</li>\n",
       "\t<li>6</li>\n",
       "\t<li>5</li>\n",
       "\t<li>4</li>\n",
       "\t<li>7</li>\n",
       "\t<li>6</li>\n",
       "\t<li>7</li>\n",
       "\t<li>9</li>\n",
       "\t<li>9</li>\n",
       "\t<li>1</li>\n",
       "\t<li>3</li>\n",
       "\t<li>7</li>\n",
       "\t<li>1</li>\n",
       "\t<li>5</li>\n",
       "\t<li>2</li>\n",
       "\t<li>2</li>\n",
       "\t<li>4</li>\n",
       "\t<li>10</li>\n",
       "\t<li>5</li>\n",
       "\t<li>7</li>\n",
       "\t<li>7</li>\n",
       "\t<li>2</li>\n",
       "\t<li>1</li>\n",
       "\t<li>8</li>\n",
       "\t<li>8</li>\n",
       "\t<li>7</li>\n",
       "\t<li>7</li>\n",
       "\t<li>4</li>\n",
       "\t<li>9</li>\n",
       "\t<li>4</li>\n",
       "\t<li>10</li>\n",
       "\t<li>5</li>\n",
       "\t<li>9</li>\n",
       "\t<li>3</li>\n",
       "\t<li>4</li>\n",
       "\t<li>1</li>\n",
       "\t<li>8</li>\n",
       "\t<li>10</li>\n",
       "\t<li>3</li>\n",
       "\t<li>4</li>\n",
       "\t<li>4</li>\n",
       "\t<li>10</li>\n",
       "\t<li>5</li>\n",
       "\t<li>2</li>\n",
       "\t<li>7</li>\n",
       "\t<li>10</li>\n",
       "\t<li>2</li>\n",
       "\t<li>6</li>\n",
       "\t<li>3</li>\n",
       "\t<li>6</li>\n",
       "\t<li>1</li>\n",
       "\t<li>10</li>\n",
       "\t<li>7</li>\n",
       "\t<li>1</li>\n",
       "\t<li>3</li>\n",
       "\t<li>1</li>\n",
       "\t<li>4</li>\n",
       "\t<li>2</li>\n",
       "\t<li>9</li>\n",
       "\t<li>3</li>\n",
       "\t<li>4</li>\n",
       "\t<li>1</li>\n",
       "\t<li>2</li>\n",
       "</ol>\n"
      ],
      "text/latex": [
       "\\begin{enumerate*}\n",
       "\\item 1\n",
       "\\item 6\n",
       "\\item 1\n",
       "\\item 3\n",
       "\\item 5\n",
       "\\item 5\n",
       "\\item 6\n",
       "\\item 7\n",
       "\\item 7\n",
       "\\item 7\n",
       "\\item 3\n",
       "\\item 3\n",
       "\\item 1\n",
       "\\item 3\n",
       "\\item 4\n",
       "\\item 7\n",
       "\\item 7\n",
       "\\item 6\n",
       "\\item 3\n",
       "\\item 3\n",
       "\\item 7\n",
       "\\item 3\n",
       "\\item 1\n",
       "\\item 5\n",
       "\\item 2\n",
       "\\item 10\n",
       "\\item 9\n",
       "\\item 5\n",
       "\\item 2\n",
       "\\item 3\n",
       "\\item 2\n",
       "\\item 4\n",
       "\\item 1\n",
       "\\item 8\n",
       "\\item 3\n",
       "\\item 7\n",
       "\\item 2\n",
       "\\item 2\n",
       "\\item 6\n",
       "\\item 5\n",
       "\\item 4\n",
       "\\item 7\n",
       "\\item 6\n",
       "\\item 7\n",
       "\\item 9\n",
       "\\item 9\n",
       "\\item 1\n",
       "\\item 3\n",
       "\\item 7\n",
       "\\item 1\n",
       "\\item 5\n",
       "\\item 2\n",
       "\\item 2\n",
       "\\item 4\n",
       "\\item 10\n",
       "\\item 5\n",
       "\\item 7\n",
       "\\item 7\n",
       "\\item 2\n",
       "\\item 1\n",
       "\\item 8\n",
       "\\item 8\n",
       "\\item 7\n",
       "\\item 7\n",
       "\\item 4\n",
       "\\item 9\n",
       "\\item 4\n",
       "\\item 10\n",
       "\\item 5\n",
       "\\item 9\n",
       "\\item 3\n",
       "\\item 4\n",
       "\\item 1\n",
       "\\item 8\n",
       "\\item 10\n",
       "\\item 3\n",
       "\\item 4\n",
       "\\item 4\n",
       "\\item 10\n",
       "\\item 5\n",
       "\\item 2\n",
       "\\item 7\n",
       "\\item 10\n",
       "\\item 2\n",
       "\\item 6\n",
       "\\item 3\n",
       "\\item 6\n",
       "\\item 1\n",
       "\\item 10\n",
       "\\item 7\n",
       "\\item 1\n",
       "\\item 3\n",
       "\\item 1\n",
       "\\item 4\n",
       "\\item 2\n",
       "\\item 9\n",
       "\\item 3\n",
       "\\item 4\n",
       "\\item 1\n",
       "\\item 2\n",
       "\\end{enumerate*}\n"
      ],
      "text/markdown": [
       "1. 1\n",
       "2. 6\n",
       "3. 1\n",
       "4. 3\n",
       "5. 5\n",
       "6. 5\n",
       "7. 6\n",
       "8. 7\n",
       "9. 7\n",
       "10. 7\n",
       "11. 3\n",
       "12. 3\n",
       "13. 1\n",
       "14. 3\n",
       "15. 4\n",
       "16. 7\n",
       "17. 7\n",
       "18. 6\n",
       "19. 3\n",
       "20. 3\n",
       "21. 7\n",
       "22. 3\n",
       "23. 1\n",
       "24. 5\n",
       "25. 2\n",
       "26. 10\n",
       "27. 9\n",
       "28. 5\n",
       "29. 2\n",
       "30. 3\n",
       "31. 2\n",
       "32. 4\n",
       "33. 1\n",
       "34. 8\n",
       "35. 3\n",
       "36. 7\n",
       "37. 2\n",
       "38. 2\n",
       "39. 6\n",
       "40. 5\n",
       "41. 4\n",
       "42. 7\n",
       "43. 6\n",
       "44. 7\n",
       "45. 9\n",
       "46. 9\n",
       "47. 1\n",
       "48. 3\n",
       "49. 7\n",
       "50. 1\n",
       "51. 5\n",
       "52. 2\n",
       "53. 2\n",
       "54. 4\n",
       "55. 10\n",
       "56. 5\n",
       "57. 7\n",
       "58. 7\n",
       "59. 2\n",
       "60. 1\n",
       "61. 8\n",
       "62. 8\n",
       "63. 7\n",
       "64. 7\n",
       "65. 4\n",
       "66. 9\n",
       "67. 4\n",
       "68. 10\n",
       "69. 5\n",
       "70. 9\n",
       "71. 3\n",
       "72. 4\n",
       "73. 1\n",
       "74. 8\n",
       "75. 10\n",
       "76. 3\n",
       "77. 4\n",
       "78. 4\n",
       "79. 10\n",
       "80. 5\n",
       "81. 2\n",
       "82. 7\n",
       "83. 10\n",
       "84. 2\n",
       "85. 6\n",
       "86. 3\n",
       "87. 6\n",
       "88. 1\n",
       "89. 10\n",
       "90. 7\n",
       "91. 1\n",
       "92. 3\n",
       "93. 1\n",
       "94. 4\n",
       "95. 2\n",
       "96. 9\n",
       "97. 3\n",
       "98. 4\n",
       "99. 1\n",
       "100. 2\n",
       "\n",
       "\n"
      ],
      "text/plain": [
       "  [1]  1  6  1  3  5  5  6  7  7  7  3  3  1  3  4  7  7  6  3  3  7  3  1  5  2\n",
       " [26] 10  9  5  2  3  2  4  1  8  3  7  2  2  6  5  4  7  6  7  9  9  1  3  7  1\n",
       " [51]  5  2  2  4 10  5  7  7  2  1  8  8  7  7  4  9  4 10  5  9  3  4  1  8 10\n",
       " [76]  3  4  4 10  5  2  7 10  2  6  3  6  1 10  7  1  3  1  4  2  9  3  4  1  2"
      ]
     },
     "metadata": {},
     "output_type": "display_data"
    }
   ],
   "source": [
    "sample(x = 1:10, size = 100, replace = TRUE)"
   ]
  },
  {
   "cell_type": "code",
   "execution_count": 35,
   "metadata": {
    "scrolled": true
   },
   "outputs": [
    {
     "name": "stdout",
     "output_type": "stream",
     "text": [
      "Start \n",
      "Num are :  9 \n",
      "Num are :  3 \n",
      "Coming out from for loop Where num = 7 \n",
      "Finish \n"
     ]
    }
   ],
   "source": [
    "# Break Statement Example 01:\n",
    "\n",
    "cat(\"Start\", \"\\n\")\n",
    "\n",
    "x <- sample(x = 1:10, size = 100, replace = TRUE)\n",
    "\n",
    "for (num in x) {\n",
    "    if (num == 7) {\n",
    "        cat(\"Coming out from for loop Where num =\", num, \"\\n\")\n",
    "        break\n",
    "    }\n",
    "    cat(\"Num are : \", num, \"\\n\")\n",
    "}\n",
    "\n",
    "cat(\"Finish\", \"\\n\")"
   ]
  },
  {
   "cell_type": "markdown",
   "metadata": {},
   "source": [
    "\n",
    "<div style=\"line-height:300%;\">\n",
    "    <font color=#9A0909 face=\"Sriracha\" size=6>\n",
    "                <div align=left>Next Statement</div>\n",
    "    </font>\n",
    "</div>"
   ]
  },
  {
   "cell_type": "markdown",
   "metadata": {},
   "source": [
    "<div style=\"line-height:200%;\">\n",
    "    <font color=black face=\"Candara\" size=4>\n",
    "                <div align=left>\n",
    "                    The next statement in R programming language is useful when we want to skip the current iteration of a loop without terminating it. On encountering next, the R parser skips further evaluation and starts next iteration of the loop.\n",
    "                </div>\n",
    "    </font>\n",
    "    <font color=#076F9A face=\"Candara\" size=4>\n",
    "                <div align=left>\n",
    "                    <br>\n",
    "                    <b>Syntax:</b>\n",
    "                </div>\n",
    "    </font>\n",
    "    <font color=black face=\"Candara\" size=4>\n",
    "                <div align=left>\n",
    "                    The basic syntax for creating a next statement in R is:\n",
    "                </div>\n",
    "    </font>\n",
    "</div>"
   ]
  },
  {
   "cell_type": "markdown",
   "metadata": {},
   "source": [
    "if (test_expression) {\n",
    "    next\n",
    "}"
   ]
  },
  {
   "cell_type": "markdown",
   "metadata": {},
   "source": [
    "<div style=\"line-height:200%;\">\n",
    "    <font color=#076F9A face=\"Candara\" size=4>\n",
    "                <div align=left>\n",
    "                    <b>Flow Diagram:</b>\n",
    "                </div>\n",
    "    </font>\n",
    "    <div>        \n",
    "    <img src=\"..\\Week 02\\img\\r-next-flowchart.png\" width=\"250\"/>  \n",
    "</div>\n",
    "</div>"
   ]
  },
  {
   "cell_type": "markdown",
   "metadata": {},
   "source": [
    "<div style=\"line-height:200%;\">\n",
    "    <font color=#076F9A face=\"Candara\" size=4>\n",
    "                <div align=left>\n",
    "                    <b>Example:</b>\n",
    "                </div>\n",
    "    </font>\n",
    "</div>"
   ]
  },
  {
   "cell_type": "code",
   "execution_count": 37,
   "metadata": {},
   "outputs": [
    {
     "name": "stdout",
     "output_type": "stream",
     "text": [
      "Num are :  1 \n",
      "Num are :  2 \n",
      "Num are :  3 \n",
      "Num are :  4 \n",
      "Num are :  5 \n",
      "Num are :  6 \n",
      "Coming out from for loop Where num = 7 \n",
      "Num are :  8 \n",
      "Num are :  9 \n",
      "Num are :  10 \n"
     ]
    }
   ],
   "source": [
    "# Next Statement Example 01:\n",
    "\n",
    "x <- c(1, 2, 3, 4, 5, 6, 7, 8, 9, 10)\n",
    "\n",
    "for (num in x) {\n",
    "    if (num == 7) {\n",
    "        cat(\"Coming out from for loop Where num =\", num, \"\\n\")\n",
    "        next\n",
    "    }\n",
    "    cat(\"Num are : \", num, \"\\n\")\n",
    "}"
   ]
  },
  {
   "cell_type": "code",
   "execution_count": 40,
   "metadata": {},
   "outputs": [
    {
     "name": "stdout",
     "output_type": "stream",
     "text": [
      "EVEN Number = 6 \n",
      "EVEN Number = 80 \n",
      "EVEN Number = 8 \n",
      "EVEN Number = 36 \n",
      "EVEN Number = 30 \n",
      "EVEN Number = 22 \n",
      "EVEN Number = 28 \n",
      "EVEN Number = 20 \n",
      "EVEN Number = 64 \n",
      "EVEN Number = 34 \n",
      "EVEN Number = 84 \n",
      "EVEN Number = 96 \n",
      "EVEN Number = 56 \n",
      "EVEN Number = 38 \n",
      "6 80 8 36 91 67 29 30 22 28 20 91 83 37 64 34 84 96 56 38 \n",
      "Number of EVEN: 14 \n"
     ]
    }
   ],
   "source": [
    "# Next Statement Example 02:\n",
    "\n",
    "number <- sample(x = 1:100, size = 20, replace = TRUE)\n",
    "\n",
    "count <- 0\n",
    "\n",
    "for (val in number) {\n",
    "    if (val %% 2 != 0) {\n",
    "        next\n",
    "    }\n",
    "    cat(\"EVEN Number =\", val, \"\\n\")\n",
    "    count <- count + 1\n",
    "}\n",
    "\n",
    "cat(number, \"\\n\")\n",
    "\n",
    "cat(\"Number of EVEN:\", count, \"\\n\")"
   ]
  },
  {
   "cell_type": "markdown",
   "metadata": {},
   "source": [
    "\n",
    "<div style=\"line-height:300%;\">\n",
    "    <font color=#9A0909 face=\"Sriracha\" size=6>\n",
    "                <div align=left>Repeat Loop</div>\n",
    "    </font>\n",
    "</div>"
   ]
  },
  {
   "cell_type": "markdown",
   "metadata": {},
   "source": [
    "<div style=\"line-height:200%;\">\n",
    "    <font color=black face=\"Candara\" size=4>\n",
    "                <div align=left>\n",
    "                    The <mark>Repeat Loop</mark> executes the same code again and again until a stop condition is met.\n",
    "                    \n",
    "There is <b>no condition check</b> in repeat loop to exit the loop.\n",
    "\n",
    "We must ourselves put a condition explicitly inside the body of the loop and use the <mark>Break Statement</mark> to exit the loop. Failing to do so will result into an infinite loop.\n",
    "                </div>\n",
    "    </font>\n",
    "    <font color=#076F9A face=\"Candara\" size=4>\n",
    "                <div align=left>\n",
    "                    <br>\n",
    "                    <b>Syntax:</b>\n",
    "                </div>\n",
    "    </font>\n",
    "    <font color=black face=\"Candara\" size=4>\n",
    "                <div align=left>\n",
    "                    The basic syntax for creating a repeat loop in R is:\n",
    "                </div>\n",
    "    </font>\n",
    "</div>"
   ]
  },
  {
   "cell_type": "markdown",
   "metadata": {},
   "source": [
    "repeat {\n",
    "    statement\n",
    "    if(condition) {\n",
    "        break\n",
    "    }\n",
    "}"
   ]
  },
  {
   "cell_type": "markdown",
   "metadata": {},
   "source": [
    "<div style=\"line-height:200%;\">\n",
    "    <font color=#076F9A face=\"Candara\" size=4>\n",
    "                <div align=left>\n",
    "                    <b>Flow Diagram:</b>\n",
    "                </div>\n",
    "    </font>\n",
    "    <div>        \n",
    "    <img src=\"..\\Week 02\\img\\r-repeat-loop.jpg\" width=\"250\"/>  \n",
    "</div>\n",
    "</div>"
   ]
  },
  {
   "cell_type": "markdown",
   "metadata": {},
   "source": [
    "<div style=\"line-height:200%;\">\n",
    "    <font color=#076F9A face=\"Candara\" size=4>\n",
    "                <div align=left>\n",
    "                    <b>Example:</b>\n",
    "                </div>\n",
    "    </font>\n",
    "</div>"
   ]
  },
  {
   "cell_type": "code",
   "execution_count": 41,
   "metadata": {},
   "outputs": [
    {
     "name": "stdout",
     "output_type": "stream",
     "text": [
      "Number of Dice: 5 \n",
      "You Loss! \n",
      "Number of Dice: 4 \n",
      "You Loss! \n",
      "Number of Dice: 4 \n",
      "You Loss! \n",
      "Number of Dice: 1 \n",
      "You Loss! \n",
      "Number of Dice: 6 \n",
      "You Win! \n",
      "Finish \n"
     ]
    }
   ],
   "source": [
    "# Repeat Loop Example 01:\n",
    "\n",
    "repeat {\n",
    "    num <- sample(1:6, 1)\n",
    "    \n",
    "    cat(\"Number of Dice:\", num, \"\\n\")\n",
    "    \n",
    "    if(num == 6) {\n",
    "        cat(\"You Win!\", \"\\n\")\n",
    "        break\n",
    "    } else {\n",
    "        cat(\"You Loss!\", \"\\n\")        \n",
    "    }\n",
    "}\n",
    "\n",
    "cat(\"Finish\", \"\\n\")"
   ]
  },
  {
   "cell_type": "code",
   "execution_count": 43,
   "metadata": {
    "scrolled": true
   },
   "outputs": [
    {
     "name": "stdout",
     "output_type": "stream",
     "text": [
      "Please Enter Any Integer Value Below 10: 8\n",
      "The Total Sum of Numbers From the Repeat Loop is: 27"
     ]
    }
   ],
   "source": [
    "# Repeat Loop Example 02:\n",
    "\n",
    "total <- 0\n",
    "\n",
    "number <- as.integer(readline(prompt=\"Please Enter Any Integer Value Below 10: \"))\n",
    "\n",
    "repeat  {\n",
    "  total = total + number\n",
    "  number = number + 1\n",
    "  if (number > 10)  {\n",
    "    break\n",
    "  }\n",
    "}\n",
    "\n",
    "cat(\"The Total Sum of Numbers From the Repeat Loop is:\", total)"
   ]
  },
  {
   "cell_type": "code",
   "execution_count": 6,
   "metadata": {},
   "outputs": [],
   "source": [
    "a = 15\n",
    "\n",
    "while (a < 10) {\n",
    "    a = a + 1\n",
    "    print(a)\n",
    "}"
   ]
  },
  {
   "cell_type": "code",
   "execution_count": 7,
   "metadata": {},
   "outputs": [
    {
     "name": "stdout",
     "output_type": "stream",
     "text": [
      "[1] 16\n"
     ]
    }
   ],
   "source": [
    "a = 15\n",
    "\n",
    "repeat {\n",
    "    a = a + 1\n",
    "    print(a)\n",
    "    if (a >= 10) {\n",
    "        break\n",
    "    }    \n",
    "}\n"
   ]
  }
 ],
 "metadata": {
  "celltoolbar": "Slideshow",
  "kernelspec": {
   "display_name": "R",
   "language": "R",
   "name": "ir"
  },
  "language_info": {
   "codemirror_mode": "r",
   "file_extension": ".r",
   "mimetype": "text/x-r-source",
   "name": "R",
   "pygments_lexer": "r",
   "version": "3.6.1"
  }
 },
 "nbformat": 4,
 "nbformat_minor": 2
}
