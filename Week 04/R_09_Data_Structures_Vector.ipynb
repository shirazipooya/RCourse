{
 "cells": [
  {
   "cell_type": "markdown",
   "metadata": {},
   "source": [
    "\n",
    "<div>        \n",
    "    <img src=\"..\\Week 01\\img\\R_logo.svg\" width=\"100\"/>  \n",
    "</div>\n",
    "\n",
    "<div style=\"line-height:600%;\">\n",
    "    <font color=#1363E1 face=\"Sriracha\" size=8>\n",
    "            <div align=center>R Data Structure</div>\n",
    "    </font>    \n",
    "</div>\n",
    "\n",
    "<div>        \n",
    "    <img src=\"..\\Week 04\\img\\DataSt.png\" width=\"600\"/>  \n",
    "</div>\n",
    "\n",
    "<div style=\"line-height:600%;\">\n",
    "    <font color=#1363E1 face=\"Sriracha\" size=8>\n",
    "            <div align=center>Vectors</div>\n",
    "    </font>    \n",
    "</div>"
   ]
  },
  {
   "cell_type": "markdown",
   "metadata": {},
   "source": [
    "<div style=\"line-height:200%;\">\n",
    "    <font color=black face=\"Candara\" size=4>\n",
    "                <div align=left>\n",
    "<mark>Vectors</mark> are the most basic <mark>R Data Objects</mark> and there are <mark>Six Types of Atomic Vectors</mark>. They are <b>LOGICAL</b>, <b>INTEGER<b>, <b>DOUBLE<b>, <b>COMPLEX<b>, <b>CHARACTER<b> and <b>RAW<b>.\n",
    "                </div>\n",
    "    </font>\n",
    "</div>\n",
    "\n",
    "\n",
    "\n"
   ]
  },
  {
   "cell_type": "markdown",
   "metadata": {},
   "source": [
    "<div style=\"line-height:300%;\">\n",
    "    <font color=#9A0909 face=\"Sriracha\" size=6>\n",
    "                <div align=left>Vector Creation</div>\n",
    "    </font>\n",
    "</div>"
   ]
  },
  {
   "cell_type": "markdown",
   "metadata": {},
   "source": [
    "<div style=\"line-height:200%;\">\n",
    "    <font color=black face=\"Candara\" size=4>\n",
    "                <div align=left>\n",
    "                    <b>Single Element Vector:</b>\n",
    "Even when you write just one value in R, it becomes a vector of length 1 and belongs to one of the above vector types.\n",
    "                </div>\n",
    "    </font>\n",
    "</div>"
   ]
  },
  {
   "cell_type": "markdown",
   "metadata": {},
   "source": [
    "<div style=\"line-height:200%;\">\n",
    "    <font color=#076F9A face=\"Candara\" size=4>\n",
    "                <div align=left>\n",
    "                    <b>Example:</b>\n",
    "                </div>\n",
    "    </font>\n",
    "</div>"
   ]
  },
  {
   "cell_type": "code",
   "execution_count": 1,
   "metadata": {
    "scrolled": true
   },
   "outputs": [
    {
     "name": "stdout",
     "output_type": "stream",
     "text": [
      "[1] \"abc\"\n",
      "[1] 12.5\n",
      "[1] 63\n",
      "[1] TRUE\n",
      "[1] 2+3i\n",
      "[1] 50 6f 6f 79 61\n"
     ]
    }
   ],
   "source": [
    "# Atomic vector of type character.\n",
    "x <- \"abc\"\n",
    "print(x);\n",
    "\n",
    "# Atomic vector of type double.\n",
    "x <- 12.5\n",
    "print(x)\n",
    "\n",
    "# Atomic vector of type integer.\n",
    "x <- 63L\n",
    "print(x)\n",
    "\n",
    "# Atomic vector of type logical.\n",
    "x <- TRUE\n",
    "print(x)\n",
    "\n",
    "# Atomic vector of type complex.\n",
    "x <- 2 + 3i\n",
    "print(x)\n",
    "\n",
    "# Atomic vector of type raw.\n",
    "x <- charToRaw(\"Pooya\")\n",
    "print(x)"
   ]
  },
  {
   "cell_type": "markdown",
   "metadata": {},
   "source": [
    "<div style=\"line-height:200%;\">\n",
    "    <font color=black face=\"Candara\" size=4>\n",
    "                <div align=left>\n",
    "                    <b>Multiple Elements Vector:</b>\n",
    "Using colon operator with numeric data.\n",
    "                </div>\n",
    "    </font>\n",
    "</div>"
   ]
  },
  {
   "cell_type": "code",
   "execution_count": 2,
   "metadata": {
    "scrolled": true
   },
   "outputs": [
    {
     "name": "stdout",
     "output_type": "stream",
     "text": [
      "[1]  5  6  7  8  9 10 11 12 13\n",
      "[1]  6.6  7.6  8.6  9.6 10.6 11.6 12.6\n",
      "[1]  3.8  4.8  5.8  6.8  7.8  8.8  9.8 10.8\n"
     ]
    }
   ],
   "source": [
    "# Creating a sequence from 5 to 13.\n",
    "v <- 5:13\n",
    "print(v)\n",
    "\n",
    "# Creating a sequence from 6.6 to 12.6.\n",
    "v <- 6.6:12.6\n",
    "print(v)\n",
    "\n",
    "# If the final element specified does not belong to the sequence \n",
    "# then it is discarded.\n",
    "v <- 3.8:11.4\n",
    "\n",
    "print(v)"
   ]
  },
  {
   "cell_type": "markdown",
   "metadata": {},
   "source": [
    "<div style=\"line-height:200%;\">\n",
    "    <font color=black face=\"Candara\" size=4>\n",
    "                <div align=left>\n",
    "                    <b>Using Sequence Operator:</b>\n",
    "                </div>\n",
    "    </font>\n",
    "</div>"
   ]
  },
  {
   "cell_type": "code",
   "execution_count": 1,
   "metadata": {
    "scrolled": true
   },
   "outputs": [
    {
     "data": {
      "text/html": [
       "<ol class=list-inline>\n",
       "\t<li>5</li>\n",
       "\t<li>5.4</li>\n",
       "\t<li>5.8</li>\n",
       "\t<li>6.2</li>\n",
       "\t<li>6.6</li>\n",
       "\t<li>7</li>\n",
       "\t<li>7.4</li>\n",
       "\t<li>7.8</li>\n",
       "\t<li>8.2</li>\n",
       "\t<li>8.6</li>\n",
       "\t<li>9</li>\n",
       "</ol>\n"
      ],
      "text/latex": [
       "\\begin{enumerate*}\n",
       "\\item 5\n",
       "\\item 5.4\n",
       "\\item 5.8\n",
       "\\item 6.2\n",
       "\\item 6.6\n",
       "\\item 7\n",
       "\\item 7.4\n",
       "\\item 7.8\n",
       "\\item 8.2\n",
       "\\item 8.6\n",
       "\\item 9\n",
       "\\end{enumerate*}\n"
      ],
      "text/markdown": [
       "1. 5\n",
       "2. 5.4\n",
       "3. 5.8\n",
       "4. 6.2\n",
       "5. 6.6\n",
       "6. 7\n",
       "7. 7.4\n",
       "8. 7.8\n",
       "9. 8.2\n",
       "10. 8.6\n",
       "11. 9\n",
       "\n",
       "\n"
      ],
      "text/plain": [
       " [1] 5.0 5.4 5.8 6.2 6.6 7.0 7.4 7.8 8.2 8.6 9.0"
      ]
     },
     "metadata": {},
     "output_type": "display_data"
    }
   ],
   "source": [
    "# Create vector with elements from 5 to 9 incrementing by 0.4.\n",
    "seq(from = 5, to = 9.q, by = 0.4)"
   ]
  },
  {
   "cell_type": "markdown",
   "metadata": {},
   "source": [
    "<div style=\"line-height:200%;\">\n",
    "    <font color=black face=\"Candara\" size=4>\n",
    "                <div align=left>\n",
    "                    <b>Using the c() Function:</b>\n",
    "                </div>\n",
    "    </font>\n",
    "</div>"
   ]
  },
  {
   "cell_type": "code",
   "execution_count": 7,
   "metadata": {
    "scrolled": false
   },
   "outputs": [
    {
     "name": "stdout",
     "output_type": "stream",
     "text": [
      "[1] \"apple\" \"red\"   \"5\"     \"TRUE\" \n"
     ]
    }
   ],
   "source": [
    "# The logical and numeric values are converted to characters.\n",
    "x <- c('apple', 'red', 5, TRUE)\n",
    "print(x)"
   ]
  },
  {
   "cell_type": "markdown",
   "metadata": {},
   "source": [
    "<div style=\"line-height:300%;\">\n",
    "    <font color=#9A0909 face=\"Sriracha\" size=6>\n",
    "                <div align=left>Accessing Vector Elements</div>\n",
    "    </font>\n",
    "</div>"
   ]
  },
  {
   "cell_type": "markdown",
   "metadata": {},
   "source": [
    "<div style=\"line-height:200%;\">\n",
    "    <font color=black face=\"Candara\" size=4>\n",
    "                <div align=left>\n",
    "                    Elements of a Vector are accessed using <mark>INDEXING</mark>. The <mark>[ ] Brackets</mark> are used for indexing. <b>Indexing Starts with Position 1</b>. <mark>Giving a negative value in the index drops that element from result</mark>.<b>TRUE, FALSE or 0 and 1 can also be used for indexing</b>.\n",
    "                </div>\n",
    "    </font>\n",
    "</div>"
   ]
  },
  {
   "cell_type": "markdown",
   "metadata": {},
   "source": [
    "<div style=\"line-height:200%;\">\n",
    "    <font color=#076F9A face=\"Candara\" size=4>\n",
    "                <div align=left>\n",
    "                    <b>Example:</b>\n",
    "                </div>\n",
    "    </font>\n",
    "</div>"
   ]
  },
  {
   "cell_type": "code",
   "execution_count": 11,
   "metadata": {},
   "outputs": [
    {
     "name": "stdout",
     "output_type": "stream",
     "text": [
      "[1] \"Sun\"   \"Mon\"   \"Thurs\"\n",
      "[1] \"Sat\"   \"Thurs\"\n",
      "[1] \"Sat\" \"Mon\" \"Wed\" \"Fri\"\n",
      "[1] \"Sat\"   \"Mon\"   \"Tue\"   \"Thurs\" \"Fri\"  \n",
      "[1] \"Sat\"\n"
     ]
    }
   ],
   "source": [
    "# Accessing vector elements using position.\n",
    "t <- c(\"Sat\", \"Sun\", \"Mon\", \"Tue\", \"Wed\", \"Thurs\", \"Fri\")\n",
    "u <- t[c(2:3,6)]\n",
    "print(u)\n",
    "\n",
    "# Accessing vector elements using logical indexing.\n",
    "v <- t[c(TRUE,FALSE,FALSE,FALSE,FALSE,TRUE,FALSE)]\n",
    "print(v)\n",
    "\n",
    "v <- t[c(TRUE,FALSE)] # c(TRUE,FALSE,TRUE,FALSE,TRUE,FALSE,TRUE)\n",
    "print(v)\n",
    "\n",
    "# Accessing vector elements using negative indexing.\n",
    "x <- t[c(-2,-5)]\n",
    "print(x)\n",
    "\n",
    "# Accessing vector elements using 0/1 indexing.\n",
    "y <- t[c(0,0,0,0,0,1,0)]\n",
    "print(y)"
   ]
  },
  {
   "cell_type": "markdown",
   "metadata": {},
   "source": [
    "\n",
    "<div style=\"line-height:300%;\">\n",
    "    <font color=#9A0909 face=\"Sriracha\" size=6>\n",
    "                <div align=left>Vector Manipulation</div>\n",
    "    </font>\n",
    "</div>"
   ]
  },
  {
   "cell_type": "markdown",
   "metadata": {},
   "source": [
    "<div style=\"line-height:200%;\">\n",
    "    <font color=black face=\"Candara\" size=4>\n",
    "                <div align=left>\n",
    "                    <b>Vector Arithmetic:</b>\n",
    "                    Two vectors of <b>Same Length</b> can be <mark>added, subtracted, multiplied or divided</mark> giving the result as a vector output.\n",
    "                </div>\n",
    "    </font>\n",
    "</div>"
   ]
  },
  {
   "cell_type": "markdown",
   "metadata": {},
   "source": [
    "<div style=\"line-height:200%;\">\n",
    "    <font color=#076F9A face=\"Candara\" size=4>\n",
    "                <div align=left>\n",
    "                    <b>Example:</b>\n",
    "                </div>\n",
    "    </font>\n",
    "</div>"
   ]
  },
  {
   "cell_type": "code",
   "execution_count": 14,
   "metadata": {
    "scrolled": false
   },
   "outputs": [
    {
     "name": "stdout",
     "output_type": "stream",
     "text": [
      "[1]  7 19  4 13  1 13\n",
      "[1] -1 -3  4 -3 -1  9\n",
      "[1] 12 88  0 40  0 22\n",
      "[1] 12 32 16 20  0 44\n",
      "[1] 0.7500000 0.7272727       Inf 0.6250000 0.0000000 5.5000000\n"
     ]
    }
   ],
   "source": [
    "# Create two vectors.\n",
    "v1 <- c(3, 8, 4, 5, 0, 11)\n",
    "v2 <- c(4, 11, 0, 8, 1, 2)\n",
    "\n",
    "# Vector addition.\n",
    "add.result <- v1 + v2\n",
    "print(add.result)\n",
    "\n",
    "# Vector subtraction.\n",
    "sub.result <- v1 - v2\n",
    "print(sub.result)\n",
    "\n",
    "# Vector multiplication.\n",
    "multi.result <- v1 * v2\n",
    "print(multi.result)\n",
    "\n",
    "multi.result <- v1 * 4\n",
    "print(multi.result)\n",
    "\n",
    "# Vector division.\n",
    "divi.result <- v1 / v2\n",
    "print(divi.result)"
   ]
  },
  {
   "cell_type": "markdown",
   "metadata": {},
   "source": [
    "<div style=\"line-height:200%;\">\n",
    "    <font color=black face=\"Candara\" size=4>\n",
    "                <div align=left>\n",
    "                    <b>Vector Element Recycling:</b>\n",
    "                    If we apply arithmetic operations to two vectors of <mark>Unequal Length</mark>, then the <b>elements of the shorter vector are recycled to complete the operations</b>.\n",
    "                </div>\n",
    "    </font>\n",
    "</div>"
   ]
  },
  {
   "cell_type": "markdown",
   "metadata": {},
   "source": [
    "<div style=\"line-height:200%;\">\n",
    "    <font color=#076F9A face=\"Candara\" size=4>\n",
    "                <div align=left>\n",
    "                    <b>Example:</b>\n",
    "                </div>\n",
    "    </font>\n",
    "</div>"
   ]
  },
  {
   "cell_type": "code",
   "execution_count": 15,
   "metadata": {
    "scrolled": true
   },
   "outputs": [
    {
     "name": "stdout",
     "output_type": "stream",
     "text": [
      "[1]  7 19  8 16  4 22\n",
      "[1] -1 -3  0 -6 -4  0\n"
     ]
    }
   ],
   "source": [
    "v1 <- c(3, 8, 4, 5, 0, 11)\n",
    "v2 <- c(4, 11) # V2 becomes c(4,11,4,11,4,11)\n",
    "\n",
    "add.result <- v1 + v2\n",
    "print(add.result)\n",
    "\n",
    "sub.result <- v1 - v2\n",
    "print(sub.result)"
   ]
  },
  {
   "cell_type": "markdown",
   "metadata": {},
   "source": [
    "<div style=\"line-height:200%;\">\n",
    "    <font color=black face=\"Candara\" size=4>\n",
    "                <div align=left>\n",
    "                    <b>Vector Element Sorting:</b>\n",
    "                    Elements in a vector can be sorted using the <mark>sort() function</mark>.\n",
    "                </div>\n",
    "    </font>\n",
    "</div>"
   ]
  },
  {
   "cell_type": "markdown",
   "metadata": {},
   "source": [
    "<div style=\"line-height:200%;\">\n",
    "    <font color=#076F9A face=\"Candara\" size=4>\n",
    "                <div align=left>\n",
    "                    <b>Example:</b>\n",
    "                </div>\n",
    "    </font>\n",
    "</div>"
   ]
  },
  {
   "cell_type": "code",
   "execution_count": 16,
   "metadata": {
    "scrolled": false
   },
   "outputs": [
    {
     "name": "stdout",
     "output_type": "stream",
     "text": [
      "[1]  -9   0   3   4   5   8  11 304\n",
      "[1] 304  11   8   5   4   3   0  -9\n",
      "[1] \"Blue\"   \"Red\"    \"violet\" \"yellow\"\n",
      "[1] \"yellow\" \"violet\" \"Red\"    \"Blue\"  \n"
     ]
    }
   ],
   "source": [
    "v <- c(3, 8, 4, 5, 0, 11, -9, 304)\n",
    "\n",
    "# Sort the elements of the vector.\n",
    "sort.result <- sort(x = v)\n",
    "print(sort.result)\n",
    "\n",
    "# Sort the elements in the reverse order.\n",
    "revsort.result <- sort(x = v, decreasing = TRUE)\n",
    "print(revsort.result)\n",
    "\n",
    "# Sorting character vectors.\n",
    "v <- c(\"Red\",\"Blue\",\"yellow\",\"violet\")\n",
    "sort.result <- sort(x = v)\n",
    "print(sort.result)\n",
    "\n",
    "# Sorting character vectors in reverse order.\n",
    "revsort.result <- sort(x = v, decreasing = TRUE)\n",
    "print(revsort.result)"
   ]
  },
  {
   "cell_type": "markdown",
   "metadata": {},
   "source": [
    "\n",
    "<div style=\"line-height:300%;\">\n",
    "    <font color=#9A0909 face=\"Sriracha\" size=6>\n",
    "                <div align=left>Use Character Vectors as Index in R</div>\n",
    "    </font>\n",
    "</div>"
   ]
  },
  {
   "cell_type": "markdown",
   "metadata": {},
   "source": [
    "<div style=\"line-height:200%;\">\n",
    "    <font color=#076F9A face=\"Candara\" size=4>\n",
    "                <div align=left>\n",
    "                    <b>Example:</b>\n",
    "                </div>\n",
    "    </font>\n",
    "</div>"
   ]
  },
  {
   "cell_type": "code",
   "execution_count": 20,
   "metadata": {},
   "outputs": [
    {
     "name": "stdout",
     "output_type": "stream",
     "text": [
      " Tmax  Tmin Tmean \n",
      "   35    15    25 \n",
      "Tmax \n",
      "  35 \n",
      "Tmax \n",
      "  35 \n",
      "Tmin \n",
      "  15 \n",
      " Tmax Tmean \n",
      "   35    25 \n"
     ]
    }
   ],
   "source": [
    "# R Vector Elements Accessing\n",
    "v <-  c(\"Tmax\" = 35, \"Tmin\" = 15, \"Tmean\" = 25) \n",
    "print(v)\n",
    "\n",
    "print(v[\"Tmax\"])\n",
    "\n",
    "print(v[1])\n",
    "\n",
    "print(v[\"Tmin\"])\n",
    "\n",
    "print(v[c(\"Tmax\", \"Tmean\")])"
   ]
  },
  {
   "cell_type": "markdown",
   "metadata": {},
   "source": [
    "\n",
    "<div style=\"line-height:300%;\">\n",
    "    <font color=#9A0909 face=\"Sriracha\" size=6>\n",
    "                <div align=left>Tips and Tricks</div>\n",
    "    </font>\n",
    "</div>"
   ]
  },
  {
   "cell_type": "code",
   "execution_count": 19,
   "metadata": {},
   "outputs": [
    {
     "name": "stdout",
     "output_type": "stream",
     "text": [
      "[1] \"UK\"        \"USA\"       \"TRUE\"      \"FALSE\"     \"India\"     \"China\"    \n",
      "[7] \"Japan\"     \"Russia\"    \"Sri Lanka\"\n"
     ]
    }
   ],
   "source": [
    "# Placing or Nesting One Vector inside the another\n",
    "b <- c(\"India\", \"China\", \"Japan\", \"Russia\", \"Sri Lanka\") \n",
    "\n",
    "f <- c(\"UK\", \"USA\", TRUE, FALSE, b) # b is another Vector\n",
    "\n",
    "print(f)"
   ]
  },
  {
   "cell_type": "code",
   "execution_count": 21,
   "metadata": {},
   "outputs": [
    {
     "name": "stdout",
     "output_type": "stream",
     "text": [
      "[1] \"UK\"     \"USA\"    \"Russia\"\n",
      "[1] \"China\"     \"UK\"        \"USA\"       \"Russia\"    \"Sri Lanka\"\n",
      "[1] \"China\" \"USA\"   \"India\"\n"
     ]
    }
   ],
   "source": [
    "# R Vector Elements Accessing - Access using Vector\n",
    "a <- c(\"India\", \"China\", \"Japan\", \"UK\", \"USA\", \"Russia\", \"Sri Lanka\") \n",
    "\n",
    "print(a[4:6])\n",
    "\n",
    "print(a[c(2, 4:7)])\n",
    "\n",
    "b <- c(2, 5, 1)\n",
    "print(a[b])"
   ]
  },
  {
   "cell_type": "code",
   "execution_count": 33,
   "metadata": {},
   "outputs": [
    {
     "name": "stdout",
     "output_type": "stream",
     "text": [
      "Tmax: 22 26 45 34 44 31 \n",
      "Tmin: 12 15 35 38 32 25 \n",
      "Tmax: 22 29 45 34 44 31 \n",
      "[1] 29 45 34 44 31\n"
     ]
    }
   ],
   "source": [
    "# R Vector Elements Manipulation\n",
    "Tmax <- c(22, 26, 45, 34, 44, 31)\n",
    "cat(\"Tmax:\", Tmax, \"\\n\")\n",
    "\n",
    "Tmin <- c(12, 15, 35, 38, 32, 25)\n",
    "cat(\"Tmin:\", Tmin, \"\\n\")\n",
    "\n",
    "# modify a vector\n",
    "Tmax[2] <- 29 \n",
    "cat(\"Tmax:\", Tmax, \"\\n\")\n",
    "\n",
    "Tmax[Tmax < Tmin] <- NA\n",
    "cat(\"Tmax:\", Tmax, \"\\n\")\n",
    "\n",
    "Tmax[Tmax < Tmin] <- NULL\n",
    "cat(\"Tmax:\", Tmax, \"\\n\")\n",
    "\n",
    "# Deleting Vector\n",
    "Tmax <- NULL\n",
    "print(Tmax)"
   ]
  },
  {
   "cell_type": "markdown",
   "metadata": {},
   "source": [
    "<div style=\"line-height:200%;\">\n",
    "    <font color=black face=\"Candara\" size=4>\n",
    "                <div align=left>\n",
    "                    <b>Important Functions of Vector in R:</b>\n",
    "                </div>\n",
    "    </font>\n",
    "</div>"
   ]
  },
  {
   "cell_type": "code",
   "execution_count": 31,
   "metadata": {},
   "outputs": [
    {
     "name": "stdout",
     "output_type": "stream",
     "text": [
      "a: 10 20 30 -15 40 -25 60 -5 \n"
     ]
    },
    {
     "data": {
      "text/html": [
       "'double'"
      ],
      "text/latex": [
       "'double'"
      ],
      "text/markdown": [
       "'double'"
      ],
      "text/plain": [
       "[1] \"double\""
      ]
     },
     "metadata": {},
     "output_type": "display_data"
    },
    {
     "data": {
      "text/html": [
       "8"
      ],
      "text/latex": [
       "8"
      ],
      "text/markdown": [
       "8"
      ],
      "text/plain": [
       "[1] 8"
      ]
     },
     "metadata": {},
     "output_type": "display_data"
    },
    {
     "data": {
      "text/html": [
       "<ol class=list-inline>\n",
       "\t<li>10</li>\n",
       "\t<li>20</li>\n",
       "\t<li>30</li>\n",
       "\t<li>-15</li>\n",
       "\t<li>40</li>\n",
       "\t<li>-25</li>\n",
       "</ol>\n"
      ],
      "text/latex": [
       "\\begin{enumerate*}\n",
       "\\item 10\n",
       "\\item 20\n",
       "\\item 30\n",
       "\\item -15\n",
       "\\item 40\n",
       "\\item -25\n",
       "\\end{enumerate*}\n"
      ],
      "text/markdown": [
       "1. 10\n",
       "2. 20\n",
       "3. 30\n",
       "4. -15\n",
       "5. 40\n",
       "6. -25\n",
       "\n",
       "\n"
      ],
      "text/plain": [
       "[1]  10  20  30 -15  40 -25"
      ]
     },
     "metadata": {},
     "output_type": "display_data"
    },
    {
     "data": {
      "text/html": [
       "<ol class=list-inline>\n",
       "\t<li>10</li>\n",
       "\t<li>20</li>\n",
       "\t<li>30</li>\n",
       "\t<li>-15</li>\n",
       "</ol>\n"
      ],
      "text/latex": [
       "\\begin{enumerate*}\n",
       "\\item 10\n",
       "\\item 20\n",
       "\\item 30\n",
       "\\item -15\n",
       "\\end{enumerate*}\n"
      ],
      "text/markdown": [
       "1. 10\n",
       "2. 20\n",
       "3. 30\n",
       "4. -15\n",
       "\n",
       "\n"
      ],
      "text/plain": [
       "[1]  10  20  30 -15"
      ]
     },
     "metadata": {},
     "output_type": "display_data"
    },
    {
     "data": {
      "text/html": [
       "<ol class=list-inline>\n",
       "\t<li>30</li>\n",
       "\t<li>-15</li>\n",
       "\t<li>40</li>\n",
       "\t<li>-25</li>\n",
       "\t<li>60</li>\n",
       "\t<li>-5</li>\n",
       "</ol>\n"
      ],
      "text/latex": [
       "\\begin{enumerate*}\n",
       "\\item 30\n",
       "\\item -15\n",
       "\\item 40\n",
       "\\item -25\n",
       "\\item 60\n",
       "\\item -5\n",
       "\\end{enumerate*}\n"
      ],
      "text/markdown": [
       "1. 30\n",
       "2. -15\n",
       "3. 40\n",
       "4. -25\n",
       "5. 60\n",
       "6. -5\n",
       "\n",
       "\n"
      ],
      "text/plain": [
       "[1]  30 -15  40 -25  60  -5"
      ]
     },
     "metadata": {},
     "output_type": "display_data"
    },
    {
     "data": {
      "text/html": [
       "<ol class=list-inline>\n",
       "\t<li>-25</li>\n",
       "\t<li>60</li>\n",
       "\t<li>-5</li>\n",
       "</ol>\n"
      ],
      "text/latex": [
       "\\begin{enumerate*}\n",
       "\\item -25\n",
       "\\item 60\n",
       "\\item -5\n",
       "\\end{enumerate*}\n"
      ],
      "text/markdown": [
       "1. -25\n",
       "2. 60\n",
       "3. -5\n",
       "\n",
       "\n"
      ],
      "text/plain": [
       "[1] -25  60  -5"
      ]
     },
     "metadata": {},
     "output_type": "display_data"
    }
   ],
   "source": [
    "# R Vector Elements Accessing\n",
    "a <-  c(10, 20, 30, -15, 40, -25, 60, -5) \n",
    "cat(\"a:\", a, \"\\n\")\n",
    "\n",
    "# Some of the Important Functions\n",
    "typeof(x = a)\n",
    "\n",
    "length(x = a)\n",
    "\n",
    "head(x = a)\n",
    "\n",
    "head(x = a, n = 4)\n",
    "\n",
    "tail(x = a)\n",
    "\n",
    "tail(x = a, n = 3)"
   ]
  }
 ],
 "metadata": {
  "kernelspec": {
   "display_name": "R",
   "language": "R",
   "name": "ir"
  },
  "language_info": {
   "codemirror_mode": "r",
   "file_extension": ".r",
   "mimetype": "text/x-r-source",
   "name": "R",
   "pygments_lexer": "r",
   "version": "3.6.1"
  }
 },
 "nbformat": 4,
 "nbformat_minor": 2
}
