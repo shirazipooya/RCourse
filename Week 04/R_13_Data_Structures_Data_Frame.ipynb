{
 "cells": [
  {
   "cell_type": "markdown",
   "metadata": {},
   "source": [
    "\n",
    "<div>        \n",
    "    <img src=\"..\\Week 01\\img\\R_logo.svg\" width=\"100\"/>  \n",
    "</div>\n",
    "\n",
    "<div style=\"line-height:600%;\">\n",
    "    <font color=#1363E1 face=\"Sriracha\" size=8>\n",
    "            <div align=center>R Data Structure</div>\n",
    "    </font>    \n",
    "</div>\n",
    "\n",
    "<div>        \n",
    "    <img src=\"..\\Week 04\\img\\DataSt.png\" width=\"600\"/>  \n",
    "</div>\n",
    "\n",
    "<div style=\"line-height:600%;\">\n",
    "    <font color=#1363E1 face=\"Sriracha\" size=8>\n",
    "            <div align=center>Data Frames</div>\n",
    "    </font>    \n",
    "</div>"
   ]
  },
  {
   "cell_type": "markdown",
   "metadata": {},
   "source": [
    "<div style=\"line-height:200%;\">\n",
    "    <font color=black face=\"Candara\" size=4>\n",
    "                <div align=left>\n",
    "                    A <b>Data Frame</b> is a <mark>Table</mark> or a <mark>Two-dimensional Array-like Structure</mark> in which each column contains values of one variable and each row contains one set of values from each column.\n",
    "                    \n",
    "Following are the characteristics of a data frame:\n",
    "<ul>\n",
    "  <li>The column names should be non-empty.</li>\n",
    "  <li>The row names should be unique</li>\n",
    "  <li>The data stored in a data frame can be of numeric, factor or character type.</li>\n",
    "    <li>Each column should contain same number of data items.</li>\n",
    "</ul>\n",
    "                </div>\n",
    "    </font>\n",
    "</div>\n",
    "\n",
    "\n",
    "\n"
   ]
  },
  {
   "cell_type": "markdown",
   "metadata": {},
   "source": [
    "<div style=\"line-height:300%;\">\n",
    "    <font color=#9A0909 face=\"Sriracha\" size=6>\n",
    "                <div align=left>Create Data Frame</div>\n",
    "    </font>\n",
    "</div>"
   ]
  },
  {
   "cell_type": "code",
   "execution_count": 9,
   "metadata": {
    "scrolled": true
   },
   "outputs": [
    {
     "name": "stdout",
     "output_type": "stream",
     "text": [
      "  emp_id emp_name salary start_date\n",
      "1      1     Rick 623.30 2012-01-01\n",
      "2     NA      Dan 515.20 2013-09-23\n",
      "3      2 Michelle 611.00 2014-11-15\n",
      "4   3000     Ryan 729.00 2014-05-11\n",
      "5     NA     Gary 843.25 2015-03-27\n"
     ]
    }
   ],
   "source": [
    "# Create the data frame.\n",
    "data <- data.frame(emp_id = c(1, NA, 2, 3000 ,NA),\n",
    "                   emp_name = c(\"Rick\", \"Dan\", \"Michelle\", \"Ryan\", \"Gary\"),\n",
    "                   salary = c(623.3, 515.2, 611.0, 729.0, 843.25),\n",
    "                   start_date = as.Date(c(\"2012-01-01\", \"2013-09-23\", \"2014-11-15\", \"2014-05-11\", \"2015-03-27\")),\n",
    "                   stringsAsFactors = FALSE)\n",
    "\n",
    "# Print the data frame.\n",
    "print(data) "
   ]
  },
  {
   "cell_type": "markdown",
   "metadata": {},
   "source": [
    "<div style=\"line-height:300%;\">\n",
    "    <font color=#9A0909 face=\"Sriracha\" size=6>\n",
    "                <div align=left>Get the Structure of the Data Frame</div>\n",
    "    </font>\n",
    "</div>"
   ]
  },
  {
   "cell_type": "markdown",
   "metadata": {},
   "source": [
    "<div style=\"line-height:200%;\">\n",
    "    <font color=black face=\"Candara\" size=4>\n",
    "                <div align=left>\n",
    "                    The structure of the data frame can be seen by using <mark>str() function</mark>:\n",
    "                </div>\n",
    "    </font>\n",
    "</div>"
   ]
  },
  {
   "cell_type": "markdown",
   "metadata": {},
   "source": [
    "<div style=\"line-height:200%;\">\n",
    "    <font color=#076F9A face=\"Candara\" size=4>\n",
    "                <div align=left>\n",
    "                    <b>Example:</b>\n",
    "                </div>\n",
    "    </font>\n",
    "</div>"
   ]
  },
  {
   "cell_type": "code",
   "execution_count": 6,
   "metadata": {
    "scrolled": true
   },
   "outputs": [
    {
     "name": "stdout",
     "output_type": "stream",
     "text": [
      "'data.frame':\t5 obs. of  4 variables:\n",
      " $ emp_id    : num  1 NA 2 3 NA\n",
      " $ emp_name  : chr  \"Rick\" \"Dan\" \"Michelle\" \"Ryan\" ...\n",
      " $ salary    : num  623 515 611 729 843\n",
      " $ start_date: Date, format: \"2012-01-01\" \"2013-09-23\" ...\n"
     ]
    }
   ],
   "source": [
    "# Get the structure of the data frame.\n",
    "str(data)"
   ]
  },
  {
   "cell_type": "markdown",
   "metadata": {},
   "source": [
    "\n",
    "<div style=\"line-height:300%;\">\n",
    "    <font color=#9A0909 face=\"Sriracha\" size=6>\n",
    "                <div align=left>Summary of Data in Data Frame</div>\n",
    "    </font>\n",
    "</div>"
   ]
  },
  {
   "cell_type": "markdown",
   "metadata": {},
   "source": [
    "<div style=\"line-height:200%;\">\n",
    "    <font color=black face=\"Candara\" size=4>\n",
    "                <div align=left>\n",
    "                    The statistical summary and nature of the data can be obtained by applying <mark>summary() function</mark>:\n",
    "                </div>\n",
    "    </font>\n",
    "</div>"
   ]
  },
  {
   "cell_type": "markdown",
   "metadata": {},
   "source": [
    "<div style=\"line-height:200%;\">\n",
    "    <font color=#076F9A face=\"Candara\" size=4>\n",
    "                <div align=left>\n",
    "                    <b>Example:</b>\n",
    "                </div>\n",
    "    </font>\n",
    "</div>"
   ]
  },
  {
   "cell_type": "code",
   "execution_count": 10,
   "metadata": {
    "scrolled": true
   },
   "outputs": [
    {
     "data": {
      "text/plain": [
       "     emp_id         emp_name             salary        start_date        \n",
       " Min.   :   1.0   Length:5           Min.   :515.2   Min.   :2012-01-01  \n",
       " 1st Qu.:   1.5   Class :character   1st Qu.:611.0   1st Qu.:2013-09-23  \n",
       " Median :   2.0   Mode  :character   Median :623.3   Median :2014-05-11  \n",
       " Mean   :1001.0                      Mean   :664.4   Mean   :2014-01-14  \n",
       " 3rd Qu.:1501.0                      3rd Qu.:729.0   3rd Qu.:2014-11-15  \n",
       " Max.   :3000.0                      Max.   :843.2   Max.   :2015-03-27  \n",
       " NA's   :2                                                               "
      ]
     },
     "metadata": {},
     "output_type": "display_data"
    }
   ],
   "source": [
    "# Print the summary.\n",
    "summary(data)  "
   ]
  },
  {
   "cell_type": "markdown",
   "metadata": {},
   "source": [
    "\n",
    "<div style=\"line-height:300%;\">\n",
    "    <font color=#9A0909 face=\"Sriracha\" size=6>\n",
    "                <div align=left>Extract Data from Data Frame</div>\n",
    "    </font>\n",
    "</div>"
   ]
  },
  {
   "cell_type": "markdown",
   "metadata": {},
   "source": [
    "We can use either [, [[ or $ operator to access columns of data frame.\n",
    "\n",
    "Accessing with [[ or $ is similar. However, it differs for [ in that, indexing with [ will return us a data frame but the other two will reduce it into a vector."
   ]
  },
  {
   "cell_type": "markdown",
   "metadata": {},
   "source": [
    "<div style=\"line-height:200%;\">\n",
    "    <font color=#076F9A face=\"Candara\" size=4>\n",
    "                <div align=left>\n",
    "                    <b>Example:</b>\n",
    "                </div>\n",
    "    </font>\n",
    "</div>"
   ]
  },
  {
   "cell_type": "code",
   "execution_count": 12,
   "metadata": {},
   "outputs": [
    {
     "name": "stdout",
     "output_type": "stream",
     "text": [
      "[1] \"Rick\"     \"Dan\"      \"Michelle\" \"Ryan\"     \"Gary\"    \n",
      "[1] \"character\"\n",
      "[1] \"character\"\n"
     ]
    }
   ],
   "source": [
    "# Extract Specific columns.\n",
    "result1 <- data$emp_name\n",
    "\n",
    "print(result1)\n",
    "\n",
    "print(typeof(result1))\n",
    "\n",
    "print(class(result1))"
   ]
  },
  {
   "cell_type": "code",
   "execution_count": 13,
   "metadata": {},
   "outputs": [
    {
     "name": "stdout",
     "output_type": "stream",
     "text": [
      "  emp_name\n",
      "1     Rick\n",
      "2      Dan\n",
      "3 Michelle\n",
      "4     Ryan\n",
      "5     Gary\n",
      "[1] \"list\"\n",
      "[1] \"data.frame\"\n"
     ]
    }
   ],
   "source": [
    "result2 <- data[\"emp_name\"]\n",
    "\n",
    "print(result2)\n",
    "\n",
    "print(typeof(result2))\n",
    "\n",
    "print(class(result2))"
   ]
  },
  {
   "cell_type": "code",
   "execution_count": 14,
   "metadata": {},
   "outputs": [
    {
     "name": "stdout",
     "output_type": "stream",
     "text": [
      "[1] \"Rick\"     \"Dan\"      \"Michelle\" \"Ryan\"     \"Gary\"    \n",
      "[1] \"character\"\n",
      "[1] \"character\"\n"
     ]
    }
   ],
   "source": [
    "result3 <- data[[\"emp_name\"]]\n",
    "\n",
    "print(result3)\n",
    "\n",
    "print(typeof(result3))\n",
    "\n",
    "print(class(result3))"
   ]
  },
  {
   "cell_type": "code",
   "execution_count": 15,
   "metadata": {
    "scrolled": false
   },
   "outputs": [
    {
     "name": "stdout",
     "output_type": "stream",
     "text": [
      "  emp_name\n",
      "1     Rick\n",
      "2      Dan\n",
      "3 Michelle\n",
      "4     Ryan\n",
      "5     Gary\n",
      "[1] \"list\"\n",
      "[1] \"data.frame\"\n"
     ]
    }
   ],
   "source": [
    "result4 <- data[2]\n",
    "\n",
    "print(result4)\n",
    "\n",
    "print(typeof(result4))\n",
    "\n",
    "print(class(result4))"
   ]
  },
  {
   "cell_type": "code",
   "execution_count": 26,
   "metadata": {
    "scrolled": false
   },
   "outputs": [
    {
     "name": "stdout",
     "output_type": "stream",
     "text": [
      "[1] \"Rick\"     \"Dan\"      \"Michelle\" \"Ryan\"     \"Gary\"    \n",
      "[1] \"character\"\n",
      "[1] \"character\"\n"
     ]
    }
   ],
   "source": [
    "result4 <- data[[2]]\n",
    "\n",
    "print(result4)\n",
    "\n",
    "print(typeof(result4))\n",
    "\n",
    "print(class(result4))"
   ]
  },
  {
   "cell_type": "markdown",
   "metadata": {},
   "source": [
    "<div style=\"line-height:200%;\">\n",
    "    <font color=black face=\"Candara\" size=4>\n",
    "                <div align=left>\n",
    "                    Extract the first two rows and then all columns:\n",
    "                </div>\n",
    "    </font>\n",
    "</div>"
   ]
  },
  {
   "cell_type": "code",
   "execution_count": 16,
   "metadata": {
    "scrolled": true
   },
   "outputs": [
    {
     "name": "stdout",
     "output_type": "stream",
     "text": [
      "  emp_id emp_name salary start_date\n",
      "1      1     Rick  623.3 2012-01-01\n",
      "2     NA      Dan  515.2 2013-09-23\n"
     ]
    },
    {
     "data": {
      "text/html": [
       "'list'"
      ],
      "text/latex": [
       "'list'"
      ],
      "text/markdown": [
       "'list'"
      ],
      "text/plain": [
       "[1] \"list\""
      ]
     },
     "metadata": {},
     "output_type": "display_data"
    },
    {
     "data": {
      "text/html": [
       "'data.frame'"
      ],
      "text/latex": [
       "'data.frame'"
      ],
      "text/markdown": [
       "'data.frame'"
      ],
      "text/plain": [
       "[1] \"data.frame\""
      ]
     },
     "metadata": {},
     "output_type": "display_data"
    }
   ],
   "source": [
    "# Extract first two rows.\n",
    "result <- data[1:2,]\n",
    "\n",
    "print(result)\n",
    "\n",
    "typeof(result)\n",
    "\n",
    "class(result)"
   ]
  },
  {
   "cell_type": "markdown",
   "metadata": {},
   "source": [
    "<div style=\"line-height:200%;\">\n",
    "    <font color=black face=\"Candara\" size=4>\n",
    "                <div align=left>\n",
    "                    Extract 3rd and 5th row with 2nd and 4th column:\n",
    "                </div>\n",
    "    </font>\n",
    "</div>"
   ]
  },
  {
   "cell_type": "code",
   "execution_count": 19,
   "metadata": {},
   "outputs": [
    {
     "name": "stdout",
     "output_type": "stream",
     "text": [
      "  emp_name start_date\n",
      "3 Michelle 2014-11-15\n",
      "5     Gary 2015-03-27\n"
     ]
    }
   ],
   "source": [
    "# Extract 3rd and 5th row with 2nd and 4th column.\n",
    "result <- data[c(3,5),c(2,4)]\n",
    "\n",
    "print(result)"
   ]
  },
  {
   "cell_type": "markdown",
   "metadata": {},
   "source": [
    "\n",
    "<div style=\"line-height:300%;\">\n",
    "    <font color=#9A0909 face=\"Sriracha\" size=6>\n",
    "                <div align=left>Expand Data Frame</div>\n",
    "    </font>\n",
    "</div>"
   ]
  },
  {
   "cell_type": "markdown",
   "metadata": {},
   "source": [
    "<div style=\"line-height:200%;\">\n",
    "    <font color=black face=\"Candara\" size=4>\n",
    "                <div align=left>\n",
    "                    A data frame can be expanded by adding columns and rows:\n",
    "                </div>\n",
    "    </font>\n",
    "</div>"
   ]
  },
  {
   "cell_type": "markdown",
   "metadata": {},
   "source": [
    "<div style=\"line-height:200%;\">\n",
    "    <font color=black face=\"Candara\" size=4>\n",
    "                <div align=left>\n",
    "                    <b>Add Column:</b> Just add the column vector using a new column name.\n",
    "                </div>\n",
    "    </font>\n",
    "</div>"
   ]
  },
  {
   "cell_type": "code",
   "execution_count": 20,
   "metadata": {
    "scrolled": true
   },
   "outputs": [
    {
     "name": "stdout",
     "output_type": "stream",
     "text": [
      "  emp_id emp_name salary start_date       dept\n",
      "1      1     Rick 623.30 2012-01-01         IT\n",
      "2      2      Dan 515.20 2013-09-23 Operations\n",
      "3      3 Michelle 611.00 2014-11-15         IT\n",
      "4      4     Ryan 729.00 2014-05-11         HR\n",
      "5      5     Gary 843.25 2015-03-27    Finance\n"
     ]
    }
   ],
   "source": [
    "# Add the \"dept\" coulmn.\n",
    "data$dept <- c(\"IT\", \"Operations\", \"IT\", \"HR\", \"Finance\")\n",
    "\n",
    "v <- data\n",
    "\n",
    "print(v)"
   ]
  },
  {
   "cell_type": "markdown",
   "metadata": {},
   "source": [
    "<div style=\"line-height:200%;\">\n",
    "    <font color=black face=\"Candara\" size=4>\n",
    "                <div align=left>\n",
    "                    <b>Add Row:</b> To add more rows permanently to an existing data frame, we need to bring in the new rows in the same structure as the existing data frame and use the <mark>rbind() function</mark>.\n",
    "\n",
    "In the example below we create a data frame with new rows and merge it with the existing data frame to create the final data frame.\n",
    "                </div>\n",
    "    </font>\n",
    "</div>"
   ]
  },
  {
   "cell_type": "code",
   "execution_count": 22,
   "metadata": {},
   "outputs": [
    {
     "name": "stdout",
     "output_type": "stream",
     "text": [
      "  emp_id emp_name salary start_date       dept\n",
      "1      1     Rick 623.30 2012-01-01         IT\n",
      "2      2      Dan 515.20 2013-09-23 Operations\n",
      "3      3 Michelle 611.00 2014-11-15         IT\n",
      "4      4     Ryan 729.00 2014-05-11         HR\n",
      "5      5     Gary 843.25 2015-03-27    Finance\n",
      "6      6    Rasmi 578.00 2013-05-21         IT\n",
      "7      7   Pranab 722.50 2013-07-30 Operations\n",
      "8      8    Tusar 632.80 2014-06-17   Fianance\n"
     ]
    }
   ],
   "source": [
    "# Create the data frame.\n",
    "data <- data.frame(emp_id = 1:5,\n",
    "                   emp_name = c(\"Rick\", \"Dan\", \"Michelle\", \"Ryan\", \"Gary\"),\n",
    "                   salary = c(623.3, 515.2, 611.0, 729.0, 843.25),\n",
    "                   start_date = as.Date(c(\"2012-01-01\", \"2013-09-23\", \"2014-11-15\", \"2014-05-11\", \"2015-03-27\")),\n",
    "                   dept = c(\"IT\", \"Operations\", \"IT\", \"HR\", \"Finance\"),\n",
    "                   stringsAsFactors = FALSE)\n",
    "\n",
    "\n",
    "# Create the second data frame\n",
    "dataNew <- data.frame(emp_id = 6:8,\n",
    "                      emp_name = c(\"Rasmi\", \"Pranab\", \"Tusar\"),\n",
    "                      salary = c(578.0, 722.5, 632.8),\n",
    "                      start_date = as.Date(c(\"2013-05-21\",\"2013-07-30\",\"2014-06-17\")),\n",
    "                      dept = c(\"IT\",\"Operations\",\"Fianance\"),\n",
    "                      stringsAsFactors = FALSE)\n",
    "\n",
    "\n",
    "# Bind the two data frames.\n",
    "finaldata <- rbind(data, dataNew)\n",
    "print(finaldata)"
   ]
  },
  {
   "cell_type": "code",
   "execution_count": 17,
   "metadata": {},
   "outputs": [
    {
     "name": "stdout",
     "output_type": "stream",
     "text": [
      "  emp_id emp_name salary start_date       dept   log\n",
      "1      1     Rick 623.30 2012-01-01         IT  TRUE\n",
      "2      2      Dan 515.20 2013-09-23 Operations  TRUE\n",
      "3      3 Michelle 611.00 2014-11-15         IT FALSE\n",
      "4      4     Ryan 729.00 2014-05-11         HR  TRUE\n",
      "5      5     Gary 843.25 2015-03-27    Finance FALSE\n"
     ]
    }
   ],
   "source": [
    "# Create the data frame.\n",
    "data <- data.frame(emp_id = 1:5,\n",
    "                   emp_name = c(\"Rick\", \"Dan\", \"Michelle\", \"Ryan\", \"Gary\"),\n",
    "                   salary = c(623.3, 515.2, 611.0, 729.0, 843.25),\n",
    "                   start_date = as.Date(c(\"2012-01-01\", \"2013-09-23\", \"2014-11-15\", \"2014-05-11\", \"2015-03-27\")),\n",
    "                   dept = c(\"IT\", \"Operations\", \"IT\", \"HR\", \"Finance\"),\n",
    "                   stringsAsFactors = FALSE)\n",
    "\n",
    "\n",
    "# Create the second data frame\n",
    "dataNew <- data.frame(log = c(T, T, F, T, F))\n",
    "\n",
    "\n",
    "# Bind the two data frames.\n",
    "finaldata <- cbind(data, dataNew)\n",
    "print(finaldata)"
   ]
  },
  {
   "cell_type": "markdown",
   "metadata": {},
   "source": [
    "\n",
    "<div style=\"line-height:300%;\">\n",
    "    <font color=#9A0909 face=\"Sriracha\" size=6>\n",
    "                <div align=left>Tips and Tricks</div>\n",
    "    </font>\n",
    "</div>"
   ]
  },
  {
   "cell_type": "code",
   "execution_count": 24,
   "metadata": {},
   "outputs": [
    {
     "name": "stdout",
     "output_type": "stream",
     "text": [
      "  Empid Full_Name   Profession income\n",
      "1     1      John Professional  80000\n",
      "2     2       Rob   Management  90000\n",
      "3     3   Christy    Developer  75000\n",
      "4     4   Johnson   Programmer  92000\n",
      "5     5    Miller     Clerical  68000\n",
      "6     6       Zhu        Admin  82000\n"
     ]
    }
   ],
   "source": [
    "Id <- c(1:6)\n",
    "\n",
    "Name <- c(\"John\", \"Rob\", \"Christy\",\"Johnson\", \"Miller\", \"Zhu\")\n",
    "\n",
    "Occupation <- c(\"Professional\", \"Management\", \"Developer\", \"Programmer\", \"Clerical\", \"Admin\")\n",
    "\n",
    "Salary <- c(80000, 90000, 75000, 92000, 68000, 82000)\n",
    "\n",
    "# We are assigning new names to the Columns\n",
    "employee <- data.frame(\"Empid\" = Id, \"Full_Name\" = Name, \"Profession\" = Occupation, \"income\" = Salary)\n",
    "\n",
    "print(employee)"
   ]
  },
  {
   "cell_type": "code",
   "execution_count": 25,
   "metadata": {},
   "outputs": [
    {
     "name": "stdout",
     "output_type": "stream",
     "text": [
      "[1] \"Empid\"      \"Full_Name\"  \"Profession\" \"income\"    \n"
     ]
    }
   ],
   "source": [
    "# Names function will display the Index Names of each Item \n",
    "print(names(employee))"
   ]
  },
  {
   "cell_type": "markdown",
   "metadata": {},
   "source": [
    "<div style=\"line-height:200%;\">\n",
    "    <font color=black face=\"Candara\" size=4>\n",
    "                <div align=left>\n",
    "                    Accessing Low Level elements of R Data Frame:\n",
    "                </div>\n",
    "    </font>\n",
    "</div>"
   ]
  },
  {
   "cell_type": "code",
   "execution_count": 49,
   "metadata": {},
   "outputs": [
    {
     "name": "stdout",
     "output_type": "stream",
     "text": [
      "  Id    Name   Occupation Salary\n",
      "1  1    John Professional  80000\n",
      "2  2     Rob   Management  90000\n",
      "3  3 Christy    Developer  75000\n",
      "4  4 Johnson   Programmer  92000\n",
      "5  5  Miller     Clerical  68000\n",
      "6  6     Zhu        Admin  82000\n"
     ]
    }
   ],
   "source": [
    "Id <- c(1:6)\n",
    "Name <- c(\"John\", \"Rob\", \"Christy\",\"Johnson\", \"Miller\", \"Zhu\")\n",
    "Occupation <- c(\"Professional\", \"Management\", \"Developer\", \"Programmer\", \"Clerical\", \"Admin\")\n",
    "Salary <- c(80000, 90000, 75000, 92000, 68000, 82000)\n",
    "\n",
    "employee <- data.frame(Id, Name, Occupation, Salary)\n",
    "\n",
    "print(employee)"
   ]
  },
  {
   "cell_type": "code",
   "execution_count": 46,
   "metadata": {},
   "outputs": [
    {
     "name": "stdout",
     "output_type": "stream",
     "text": [
      "     Name Salary\n",
      "1    John  80000\n",
      "2     Rob  90000\n",
      "3 Christy  75000\n"
     ]
    },
    {
     "data": {
      "text/html": [
       "'data.frame'"
      ],
      "text/latex": [
       "'data.frame'"
      ],
      "text/markdown": [
       "'data.frame'"
      ],
      "text/plain": [
       "[1] \"data.frame\""
      ]
     },
     "metadata": {},
     "output_type": "display_data"
    },
    {
     "data": {
      "text/html": [
       "'list'"
      ],
      "text/latex": [
       "'list'"
      ],
      "text/markdown": [
       "'list'"
      ],
      "text/plain": [
       "[1] \"list\""
      ]
     },
     "metadata": {},
     "output_type": "display_data"
    }
   ],
   "source": [
    "# Accessing Element at 1st Row and 2nd Column \n",
    "A = employee[1:3, c(\"Name\", \"Salary\")]\n",
    "print(A)\n",
    "\n",
    "class(A)\n",
    "typeof(A)"
   ]
  },
  {
   "cell_type": "code",
   "execution_count": 31,
   "metadata": {},
   "outputs": [
    {
     "data": {
      "text/html": [
       "Programmer\n",
       "<details>\n",
       "\t<summary style=display:list-item;cursor:pointer>\n",
       "\t\t<strong>Levels</strong>:\n",
       "\t</summary>\n",
       "\t<ol class=list-inline>\n",
       "\t\t<li>'Admin'</li>\n",
       "\t\t<li>'Clerical'</li>\n",
       "\t\t<li>'Developer'</li>\n",
       "\t\t<li>'Management'</li>\n",
       "\t\t<li>'Professional'</li>\n",
       "\t\t<li>'Programmer'</li>\n",
       "\t</ol>\n",
       "</details>"
      ],
      "text/latex": [
       "Programmer\n",
       "\\emph{Levels}: \\begin{enumerate*}\n",
       "\\item 'Admin'\n",
       "\\item 'Clerical'\n",
       "\\item 'Developer'\n",
       "\\item 'Management'\n",
       "\\item 'Professional'\n",
       "\\item 'Programmer'\n",
       "\\end{enumerate*}\n"
      ],
      "text/markdown": [
       "Programmer\n",
       "**Levels**: 1. 'Admin'\n",
       "2. 'Clerical'\n",
       "3. 'Developer'\n",
       "4. 'Management'\n",
       "5. 'Professional'\n",
       "6. 'Programmer'\n",
       "\n",
       "\n"
      ],
      "text/plain": [
       "[1] Programmer\n",
       "Levels: Admin Clerical Developer Management Professional Programmer"
      ]
     },
     "metadata": {},
     "output_type": "display_data"
    }
   ],
   "source": [
    "# Accessing Element at 4th Row and 3rd Column \n",
    "employee[4, 3] "
   ]
  },
  {
   "cell_type": "code",
   "execution_count": 32,
   "metadata": {},
   "outputs": [
    {
     "data": {
      "text/html": [
       "<table>\n",
       "<thead><tr><th></th><th scope=col>Id</th><th scope=col>Name</th><th scope=col>Occupation</th><th scope=col>Salary</th></tr></thead>\n",
       "<tbody>\n",
       "\t<tr><th scope=row>5</th><td>5       </td><td>Miller  </td><td>Clerical</td><td>68000   </td></tr>\n",
       "</tbody>\n",
       "</table>\n"
      ],
      "text/latex": [
       "\\begin{tabular}{r|llll}\n",
       "  & Id & Name & Occupation & Salary\\\\\n",
       "\\hline\n",
       "\t5 & 5        & Miller   & Clerical & 68000   \\\\\n",
       "\\end{tabular}\n"
      ],
      "text/markdown": [
       "\n",
       "| <!--/--> | Id | Name | Occupation | Salary |\n",
       "|---|---|---|---|---|\n",
       "| 5 | 5        | Miller   | Clerical | 68000    |\n",
       "\n"
      ],
      "text/plain": [
       "  Id Name   Occupation Salary\n",
       "5 5  Miller Clerical   68000 "
      ]
     },
     "metadata": {},
     "output_type": "display_data"
    }
   ],
   "source": [
    "# Accessing All Elements at 5th Row \n",
    "employee[5, ] "
   ]
  },
  {
   "cell_type": "code",
   "execution_count": 33,
   "metadata": {},
   "outputs": [
    {
     "data": {
      "text/html": [
       "<ol class=list-inline>\n",
       "\t<li>80000</li>\n",
       "\t<li>90000</li>\n",
       "\t<li>75000</li>\n",
       "\t<li>92000</li>\n",
       "\t<li>68000</li>\n",
       "\t<li>82000</li>\n",
       "</ol>\n"
      ],
      "text/latex": [
       "\\begin{enumerate*}\n",
       "\\item 80000\n",
       "\\item 90000\n",
       "\\item 75000\n",
       "\\item 92000\n",
       "\\item 68000\n",
       "\\item 82000\n",
       "\\end{enumerate*}\n"
      ],
      "text/markdown": [
       "1. 80000\n",
       "2. 90000\n",
       "3. 75000\n",
       "4. 92000\n",
       "5. 68000\n",
       "6. 82000\n",
       "\n",
       "\n"
      ],
      "text/plain": [
       "[1] 80000 90000 75000 92000 68000 82000"
      ]
     },
     "metadata": {},
     "output_type": "display_data"
    }
   ],
   "source": [
    "    \n",
    "# Accessing All Item of the 4th Column \n",
    "employee[, 4]"
   ]
  },
  {
   "cell_type": "markdown",
   "metadata": {},
   "source": [
    "<div style=\"line-height:200%;\">\n",
    "    <font color=black face=\"Candara\" size=4>\n",
    "                <div align=left>\n",
    "                    Accessing Multiple Values from R Data:\n",
    "                </div>\n",
    "    </font>\n",
    "</div>"
   ]
  },
  {
   "cell_type": "code",
   "execution_count": 34,
   "metadata": {
    "scrolled": true
   },
   "outputs": [
    {
     "data": {
      "text/html": [
       "<table>\n",
       "<thead><tr><th scope=col>Occupation</th><th scope=col>Salary</th></tr></thead>\n",
       "<tbody>\n",
       "\t<tr><td>Professional</td><td>80000       </td></tr>\n",
       "\t<tr><td>Management  </td><td>90000       </td></tr>\n",
       "</tbody>\n",
       "</table>\n"
      ],
      "text/latex": [
       "\\begin{tabular}{r|ll}\n",
       " Occupation & Salary\\\\\n",
       "\\hline\n",
       "\t Professional & 80000       \\\\\n",
       "\t Management   & 90000       \\\\\n",
       "\\end{tabular}\n"
      ],
      "text/markdown": [
       "\n",
       "| Occupation | Salary |\n",
       "|---|---|\n",
       "| Professional | 80000        |\n",
       "| Management   | 90000        |\n",
       "\n"
      ],
      "text/plain": [
       "  Occupation   Salary\n",
       "1 Professional 80000 \n",
       "2 Management   90000 "
      ]
     },
     "metadata": {},
     "output_type": "display_data"
    },
    {
     "data": {
      "text/html": [
       "<table>\n",
       "<thead><tr><th></th><th scope=col>Name</th><th scope=col>Salary</th></tr></thead>\n",
       "<tbody>\n",
       "\t<tr><th scope=row>2</th><td>Rob    </td><td>90000  </td></tr>\n",
       "\t<tr><th scope=row>3</th><td>Christy</td><td>75000  </td></tr>\n",
       "\t<tr><th scope=row>4</th><td>Johnson</td><td>92000  </td></tr>\n",
       "</tbody>\n",
       "</table>\n"
      ],
      "text/latex": [
       "\\begin{tabular}{r|ll}\n",
       "  & Name & Salary\\\\\n",
       "\\hline\n",
       "\t2 & Rob     & 90000  \\\\\n",
       "\t3 & Christy & 75000  \\\\\n",
       "\t4 & Johnson & 92000  \\\\\n",
       "\\end{tabular}\n"
      ],
      "text/markdown": [
       "\n",
       "| <!--/--> | Name | Salary |\n",
       "|---|---|---|\n",
       "| 2 | Rob     | 90000   |\n",
       "| 3 | Christy | 75000   |\n",
       "| 4 | Johnson | 92000   |\n",
       "\n"
      ],
      "text/plain": [
       "  Name    Salary\n",
       "2 Rob     90000 \n",
       "3 Christy 75000 \n",
       "4 Johnson 92000 "
      ]
     },
     "metadata": {},
     "output_type": "display_data"
    },
    {
     "data": {
      "text/html": [
       "<table>\n",
       "<thead><tr><th></th><th scope=col>Id</th><th scope=col>Name</th><th scope=col>Occupation</th><th scope=col>Salary</th></tr></thead>\n",
       "<tbody>\n",
       "\t<tr><th scope=row>2</th><td>2         </td><td>Rob       </td><td>Management</td><td>90000     </td></tr>\n",
       "\t<tr><th scope=row>3</th><td>3         </td><td>Christy   </td><td>Developer </td><td>75000     </td></tr>\n",
       "\t<tr><th scope=row>4</th><td>4         </td><td>Johnson   </td><td>Programmer</td><td>92000     </td></tr>\n",
       "\t<tr><th scope=row>5</th><td>5         </td><td>Miller    </td><td>Clerical  </td><td>68000     </td></tr>\n",
       "</tbody>\n",
       "</table>\n"
      ],
      "text/latex": [
       "\\begin{tabular}{r|llll}\n",
       "  & Id & Name & Occupation & Salary\\\\\n",
       "\\hline\n",
       "\t2 & 2          & Rob        & Management & 90000     \\\\\n",
       "\t3 & 3          & Christy    & Developer  & 75000     \\\\\n",
       "\t4 & 4          & Johnson    & Programmer & 92000     \\\\\n",
       "\t5 & 5          & Miller     & Clerical   & 68000     \\\\\n",
       "\\end{tabular}\n"
      ],
      "text/markdown": [
       "\n",
       "| <!--/--> | Id | Name | Occupation | Salary |\n",
       "|---|---|---|---|---|\n",
       "| 2 | 2          | Rob        | Management | 90000      |\n",
       "| 3 | 3          | Christy    | Developer  | 75000      |\n",
       "| 4 | 4          | Johnson    | Programmer | 92000      |\n",
       "| 5 | 5          | Miller     | Clerical   | 68000      |\n",
       "\n"
      ],
      "text/plain": [
       "  Id Name    Occupation Salary\n",
       "2 2  Rob     Management 90000 \n",
       "3 3  Christy Developer  75000 \n",
       "4 4  Johnson Programmer 92000 \n",
       "5 5  Miller  Clerical   68000 "
      ]
     },
     "metadata": {},
     "output_type": "display_data"
    },
    {
     "data": {
      "text/html": [
       "<table>\n",
       "<thead><tr><th scope=col>Name</th><th scope=col>Salary</th></tr></thead>\n",
       "<tbody>\n",
       "\t<tr><td>John   </td><td>80000  </td></tr>\n",
       "\t<tr><td>Rob    </td><td>90000  </td></tr>\n",
       "\t<tr><td>Christy</td><td>75000  </td></tr>\n",
       "\t<tr><td>Johnson</td><td>92000  </td></tr>\n",
       "\t<tr><td>Miller </td><td>68000  </td></tr>\n",
       "\t<tr><td>Zhu    </td><td>82000  </td></tr>\n",
       "</tbody>\n",
       "</table>\n"
      ],
      "text/latex": [
       "\\begin{tabular}{r|ll}\n",
       " Name & Salary\\\\\n",
       "\\hline\n",
       "\t John    & 80000  \\\\\n",
       "\t Rob     & 90000  \\\\\n",
       "\t Christy & 75000  \\\\\n",
       "\t Johnson & 92000  \\\\\n",
       "\t Miller  & 68000  \\\\\n",
       "\t Zhu     & 82000  \\\\\n",
       "\\end{tabular}\n"
      ],
      "text/markdown": [
       "\n",
       "| Name | Salary |\n",
       "|---|---|\n",
       "| John    | 80000   |\n",
       "| Rob     | 90000   |\n",
       "| Christy | 75000   |\n",
       "| Johnson | 92000   |\n",
       "| Miller  | 68000   |\n",
       "| Zhu     | 82000   |\n",
       "\n"
      ],
      "text/plain": [
       "  Name    Salary\n",
       "1 John    80000 \n",
       "2 Rob     90000 \n",
       "3 Christy 75000 \n",
       "4 Johnson 92000 \n",
       "5 Miller  68000 \n",
       "6 Zhu     82000 "
      ]
     },
     "metadata": {},
     "output_type": "display_data"
    }
   ],
   "source": [
    "# Accessing Item at 1st, 2nd Rows and 3rd, 4th Columns \n",
    "employee[c(1, 2), c(3, 4)]\n",
    "\n",
    "# Accessing Item at 2nd, 3rd, 4th Rows and 2nd, 4th Columns \n",
    "employee[2:4, c(2, 4)] \n",
    "\n",
    "# Accessing All Item at 2nd, 3rd, 4th, 5th Rows \n",
    "employee[2:5, ] \n",
    "         \n",
    "# Accessing All Item of 2nd and 4th Column \n",
    "employee[c(2, 4)]"
   ]
  },
  {
   "cell_type": "markdown",
   "metadata": {},
   "source": [
    "<div style=\"line-height:200%;\">\n",
    "    <font color=black face=\"Candara\" size=4>\n",
    "                <div align=left>\n",
    "                    Access R Data Frame Elements at Lower Level using $:\n",
    "                </div>\n",
    "    </font>\n",
    "</div>"
   ]
  },
  {
   "cell_type": "code",
   "execution_count": 47,
   "metadata": {},
   "outputs": [
    {
     "data": {
      "text/html": [
       "<ol class=list-inline>\n",
       "\t<li>Rob</li>\n",
       "\t<li>Johnson</li>\n",
       "</ol>\n",
       "\n",
       "<details>\n",
       "\t<summary style=display:list-item;cursor:pointer>\n",
       "\t\t<strong>Levels</strong>:\n",
       "\t</summary>\n",
       "\t<ol class=list-inline>\n",
       "\t\t<li>'Christy'</li>\n",
       "\t\t<li>'John'</li>\n",
       "\t\t<li>'Johnson'</li>\n",
       "\t\t<li>'Miller'</li>\n",
       "\t\t<li>'Rob'</li>\n",
       "\t\t<li>'Zhu'</li>\n",
       "\t</ol>\n",
       "</details>"
      ],
      "text/latex": [
       "\\begin{enumerate*}\n",
       "\\item Rob\n",
       "\\item Johnson\n",
       "\\end{enumerate*}\n",
       "\n",
       "\\emph{Levels}: \\begin{enumerate*}\n",
       "\\item 'Christy'\n",
       "\\item 'John'\n",
       "\\item 'Johnson'\n",
       "\\item 'Miller'\n",
       "\\item 'Rob'\n",
       "\\item 'Zhu'\n",
       "\\end{enumerate*}\n"
      ],
      "text/markdown": [
       "1. Rob\n",
       "2. Johnson\n",
       "\n",
       "\n",
       "\n",
       "**Levels**: 1. 'Christy'\n",
       "2. 'John'\n",
       "3. 'Johnson'\n",
       "4. 'Miller'\n",
       "5. 'Rob'\n",
       "6. 'Zhu'\n",
       "\n",
       "\n"
      ],
      "text/plain": [
       "[1] Rob     Johnson\n",
       "Levels: Christy John Johnson Miller Rob Zhu"
      ]
     },
     "metadata": {},
     "output_type": "display_data"
    },
    {
     "data": {
      "text/html": [
       "<ol class=list-inline>\n",
       "\t<li>Management</li>\n",
       "\t<li>Developer</li>\n",
       "\t<li>Programmer</li>\n",
       "\t<li>Clerical</li>\n",
       "</ol>\n",
       "\n",
       "<details>\n",
       "\t<summary style=display:list-item;cursor:pointer>\n",
       "\t\t<strong>Levels</strong>:\n",
       "\t</summary>\n",
       "\t<ol class=list-inline>\n",
       "\t\t<li>'Admin'</li>\n",
       "\t\t<li>'Clerical'</li>\n",
       "\t\t<li>'Developer'</li>\n",
       "\t\t<li>'Management'</li>\n",
       "\t\t<li>'Professional'</li>\n",
       "\t\t<li>'Programmer'</li>\n",
       "\t</ol>\n",
       "</details>"
      ],
      "text/latex": [
       "\\begin{enumerate*}\n",
       "\\item Management\n",
       "\\item Developer\n",
       "\\item Programmer\n",
       "\\item Clerical\n",
       "\\end{enumerate*}\n",
       "\n",
       "\\emph{Levels}: \\begin{enumerate*}\n",
       "\\item 'Admin'\n",
       "\\item 'Clerical'\n",
       "\\item 'Developer'\n",
       "\\item 'Management'\n",
       "\\item 'Professional'\n",
       "\\item 'Programmer'\n",
       "\\end{enumerate*}\n"
      ],
      "text/markdown": [
       "1. Management\n",
       "2. Developer\n",
       "3. Programmer\n",
       "4. Clerical\n",
       "\n",
       "\n",
       "\n",
       "**Levels**: 1. 'Admin'\n",
       "2. 'Clerical'\n",
       "3. 'Developer'\n",
       "4. 'Management'\n",
       "5. 'Professional'\n",
       "6. 'Programmer'\n",
       "\n",
       "\n"
      ],
      "text/plain": [
       "[1] Management Developer  Programmer Clerical  \n",
       "Levels: Admin Clerical Developer Management Professional Programmer"
      ]
     },
     "metadata": {},
     "output_type": "display_data"
    },
    {
     "data": {
      "text/html": [
       "<ol class=list-inline>\n",
       "\t<li>Management</li>\n",
       "\t<li>Developer</li>\n",
       "\t<li>Programmer</li>\n",
       "\t<li>Clerical</li>\n",
       "</ol>\n",
       "\n",
       "<details>\n",
       "\t<summary style=display:list-item;cursor:pointer>\n",
       "\t\t<strong>Levels</strong>:\n",
       "\t</summary>\n",
       "\t<ol class=list-inline>\n",
       "\t\t<li>'Admin'</li>\n",
       "\t\t<li>'Clerical'</li>\n",
       "\t\t<li>'Developer'</li>\n",
       "\t\t<li>'Management'</li>\n",
       "\t\t<li>'Professional'</li>\n",
       "\t\t<li>'Programmer'</li>\n",
       "\t</ol>\n",
       "</details>"
      ],
      "text/latex": [
       "\\begin{enumerate*}\n",
       "\\item Management\n",
       "\\item Developer\n",
       "\\item Programmer\n",
       "\\item Clerical\n",
       "\\end{enumerate*}\n",
       "\n",
       "\\emph{Levels}: \\begin{enumerate*}\n",
       "\\item 'Admin'\n",
       "\\item 'Clerical'\n",
       "\\item 'Developer'\n",
       "\\item 'Management'\n",
       "\\item 'Professional'\n",
       "\\item 'Programmer'\n",
       "\\end{enumerate*}\n"
      ],
      "text/markdown": [
       "1. Management\n",
       "2. Developer\n",
       "3. Programmer\n",
       "4. Clerical\n",
       "\n",
       "\n",
       "\n",
       "**Levels**: 1. 'Admin'\n",
       "2. 'Clerical'\n",
       "3. 'Developer'\n",
       "4. 'Management'\n",
       "5. 'Professional'\n",
       "6. 'Programmer'\n",
       "\n",
       "\n"
      ],
      "text/plain": [
       "[1] Management Developer  Programmer Clerical  \n",
       "Levels: Admin Clerical Developer Management Professional Programmer"
      ]
     },
     "metadata": {},
     "output_type": "display_data"
    }
   ],
   "source": [
    "# Accessing Item at 2nd, 4th Rows of Name Columns \n",
    "employee$Name[c(2, 4)] \n",
    "\n",
    "# Accessing Item at 2nd, 3rd, 4th, 5th Rows of Occupation Column \n",
    "employee$Occupation[2:5]\n",
    "employee[2:5, \"Occupation\"]"
   ]
  },
  {
   "cell_type": "markdown",
   "metadata": {},
   "source": [
    "<div style=\"line-height:200%;\">\n",
    "    <font color=black face=\"Candara\" size=4>\n",
    "                <div align=left>\n",
    "                    Modifying R Data Frame Elements:\n",
    "                </div>\n",
    "    </font>\n",
    "</div>"
   ]
  },
  {
   "cell_type": "code",
   "execution_count": 50,
   "metadata": {},
   "outputs": [
    {
     "name": "stdout",
     "output_type": "stream",
     "text": [
      "  Id    Name   Occupation Salary\n",
      "1  1    John Professional  80000\n",
      "2  2     Rob   Management 100000\n",
      "3  3 Christy    Developer  75000\n",
      "4  4 Johnson   Programmer  92000\n",
      "5  5  Miller     Clerical  68000\n",
      "6  6     Zhu        Admin  82000\n"
     ]
    }
   ],
   "source": [
    "# Modifying Item at 2nd Row and 3rd Column \n",
    "employee[2, 4] <- 100000\n",
    "print(employee)"
   ]
  },
  {
   "cell_type": "code",
   "execution_count": 38,
   "metadata": {
    "scrolled": true
   },
   "outputs": [
    {
     "name": "stdout",
     "output_type": "stream",
     "text": [
      "  Id    Name   Occupation Salary\n",
      "1 10    John Professional  80000\n",
      "2 11     Rob         <NA>  90000\n",
      "3 12 Christy    Developer  75000\n",
      "4 13 Johnson   Programmer  92000\n",
      "5 14  Miller     Clerical  68000\n",
      "6 15     Zhu        Admin  82000\n"
     ]
    }
   ],
   "source": [
    "\n",
    "#  Modifying All Item of 1st Column \n",
    "employee[, 1] <- c(10:15)\n",
    "print(employee)"
   ]
  },
  {
   "cell_type": "markdown",
   "metadata": {},
   "source": [
    "<div style=\"line-height:200%;\">\n",
    "    <font color=black face=\"Candara\" size=4>\n",
    "                <div align=left>\n",
    "                   Add Elements to R Data Fram:\n",
    "                </div>\n",
    "    </font>\n",
    "</div>"
   ]
  },
  {
   "cell_type": "code",
   "execution_count": 39,
   "metadata": {},
   "outputs": [
    {
     "name": "stdout",
     "output_type": "stream",
     "text": [
      "  Id    Name Salary\n",
      "1  1    John  80000\n",
      "2  2     Rob  90000\n",
      "3  3 Christy  75000\n",
      "4  4 Johnson  92000\n",
      "5  5  Miller  68000\n",
      "6  6     Zhu  82000\n"
     ]
    },
    {
     "data": {
      "text/html": [
       "<table>\n",
       "<thead><tr><th scope=col>Id</th><th scope=col>Name</th><th scope=col>Salary</th></tr></thead>\n",
       "<tbody>\n",
       "\t<tr><td>1      </td><td>John   </td><td> 80000 </td></tr>\n",
       "\t<tr><td>2      </td><td>Rob    </td><td> 90000 </td></tr>\n",
       "\t<tr><td>3      </td><td>Christy</td><td> 75000 </td></tr>\n",
       "\t<tr><td>4      </td><td>Johnson</td><td> 92000 </td></tr>\n",
       "\t<tr><td>5      </td><td>Miller </td><td> 68000 </td></tr>\n",
       "\t<tr><td>6      </td><td>Zhu    </td><td> 82000 </td></tr>\n",
       "\t<tr><td>7      </td><td>Gateway</td><td>105505 </td></tr>\n",
       "</tbody>\n",
       "</table>\n"
      ],
      "text/latex": [
       "\\begin{tabular}{r|lll}\n",
       " Id & Name & Salary\\\\\n",
       "\\hline\n",
       "\t 1       & John    &  80000 \\\\\n",
       "\t 2       & Rob     &  90000 \\\\\n",
       "\t 3       & Christy &  75000 \\\\\n",
       "\t 4       & Johnson &  92000 \\\\\n",
       "\t 5       & Miller  &  68000 \\\\\n",
       "\t 6       & Zhu     &  82000 \\\\\n",
       "\t 7       & Gateway & 105505 \\\\\n",
       "\\end{tabular}\n"
      ],
      "text/markdown": [
       "\n",
       "| Id | Name | Salary |\n",
       "|---|---|---|\n",
       "| 1       | John    |  80000  |\n",
       "| 2       | Rob     |  90000  |\n",
       "| 3       | Christy |  75000  |\n",
       "| 4       | Johnson |  92000  |\n",
       "| 5       | Miller  |  68000  |\n",
       "| 6       | Zhu     |  82000  |\n",
       "| 7       | Gateway | 105505  |\n",
       "\n"
      ],
      "text/plain": [
       "  Id Name    Salary\n",
       "1 1  John     80000\n",
       "2 2  Rob      90000\n",
       "3 3  Christy  75000\n",
       "4 4  Johnson  92000\n",
       "5 5  Miller   68000\n",
       "6 6  Zhu      82000\n",
       "7 7  Gateway 105505"
      ]
     },
     "metadata": {},
     "output_type": "display_data"
    }
   ],
   "source": [
    "# Adding elements in R Data Frame\n",
    "\n",
    "Id <- c(1:6)\n",
    "Name <- c(\"John\", \"Rob\", \"Christy\",\"Johnson\", \"Miller\", \"Zhu\")\n",
    "Salary <- c(80000, 90000, 75000, 92000, 68000, 82000)\n",
    "\n",
    "employee <- data.frame(Id, Name, Salary, stringsAsFactors=FALSE)\n",
    "print(employee)\n",
    "\n",
    "# Adding Extra Row \n",
    "rbind(employee, list(7, \"Gateway\", 105505))"
   ]
  },
  {
   "cell_type": "code",
   "execution_count": 40,
   "metadata": {
    "scrolled": true
   },
   "outputs": [
    {
     "data": {
      "text/html": [
       "<table>\n",
       "<thead><tr><th scope=col>Id</th><th scope=col>Name</th><th scope=col>Salary</th><th scope=col>Occupation</th></tr></thead>\n",
       "<tbody>\n",
       "\t<tr><td>1         </td><td>John      </td><td>80000     </td><td>Management</td></tr>\n",
       "\t<tr><td>2         </td><td>Rob       </td><td>90000     </td><td>Developer </td></tr>\n",
       "\t<tr><td>3         </td><td>Christy   </td><td>75000     </td><td>User      </td></tr>\n",
       "\t<tr><td>4         </td><td>Johnson   </td><td>92000     </td><td>Programmer</td></tr>\n",
       "\t<tr><td>5         </td><td>Miller    </td><td>68000     </td><td>Clerical  </td></tr>\n",
       "\t<tr><td>6         </td><td>Zhu       </td><td>82000     </td><td>Admin     </td></tr>\n",
       "</tbody>\n",
       "</table>\n"
      ],
      "text/latex": [
       "\\begin{tabular}{r|llll}\n",
       " Id & Name & Salary & Occupation\\\\\n",
       "\\hline\n",
       "\t 1          & John       & 80000      & Management\\\\\n",
       "\t 2          & Rob        & 90000      & Developer \\\\\n",
       "\t 3          & Christy    & 75000      & User      \\\\\n",
       "\t 4          & Johnson    & 92000      & Programmer\\\\\n",
       "\t 5          & Miller     & 68000      & Clerical  \\\\\n",
       "\t 6          & Zhu        & 82000      & Admin     \\\\\n",
       "\\end{tabular}\n"
      ],
      "text/markdown": [
       "\n",
       "| Id | Name | Salary | Occupation |\n",
       "|---|---|---|---|\n",
       "| 1          | John       | 80000      | Management |\n",
       "| 2          | Rob        | 90000      | Developer  |\n",
       "| 3          | Christy    | 75000      | User       |\n",
       "| 4          | Johnson    | 92000      | Programmer |\n",
       "| 5          | Miller     | 68000      | Clerical   |\n",
       "| 6          | Zhu        | 82000      | Admin      |\n",
       "\n"
      ],
      "text/plain": [
       "  Id Name    Salary Occupation\n",
       "1 1  John    80000  Management\n",
       "2 2  Rob     90000  Developer \n",
       "3 3  Christy 75000  User      \n",
       "4 4  Johnson 92000  Programmer\n",
       "5 5  Miller  68000  Clerical  \n",
       "6 6  Zhu     82000  Admin     "
      ]
     },
     "metadata": {},
     "output_type": "display_data"
    }
   ],
   "source": [
    "# Adding Extra Column \n",
    "Occupation <- c(\"Management\", \"Developer\", \"User\", \"Programmer\", \"Clerical\", \"Admin\")\n",
    "cbind(employee, Occupation)"
   ]
  },
  {
   "cell_type": "markdown",
   "metadata": {},
   "source": [
    "<div style=\"line-height:200%;\">\n",
    "    <font color=black face=\"Candara\" size=4>\n",
    "                <div align=left>\n",
    "                   R Data Frame Special Functions:\n",
    "                </div>\n",
    "    </font>\n",
    "</div>"
   ]
  },
  {
   "cell_type": "code",
   "execution_count": 42,
   "metadata": {},
   "outputs": [
    {
     "name": "stdout",
     "output_type": "stream",
     "text": [
      "   Id    Name   Occupation Salary\n",
      "1   1    John Professional  80000\n",
      "2   2     Rob   Programmer  70000\n",
      "3   3   Ruben   Management  90000\n",
      "4   4 Christy     Clerical  50000\n",
      "5   5 Johnson    Developer  60000\n",
      "6   6  Miller   Programmer  75000\n",
      "7   7 Carlson   Management  92000\n",
      "8   8    Ruiz     Clerical  68000\n",
      "9   9    Yang    Developer  55000\n",
      "10 10     Zhu   Programmer  82000\n"
     ]
    }
   ],
   "source": [
    "Id <- c(1:10)\n",
    "Name <- c(\"John\", \"Rob\", \"Ruben\", \"Christy\",\"Johnson\", \"Miller\", \"Carlson\", \"Ruiz\", \"Yang\",\"Zhu\")\n",
    "Occupation <- c(\"Professional\", \"Programmer\",\"Management\", \"Clerical\", \n",
    "                \"Developer\", \"Programmer\", \"Management\", \"Clerical\", \"Developer\",\"Programmer\")\n",
    "Salary <- c(80000, 70000, 90000, 50000, 60000, 75000, 92000, 68000, 55000, 82000)\n",
    "\n",
    "employee <- data.frame(Id, Name, Occupation, Salary)\n",
    "print(employee)"
   ]
  },
  {
   "cell_type": "code",
   "execution_count": 43,
   "metadata": {},
   "outputs": [
    {
     "data": {
      "text/html": [
       "'list'"
      ],
      "text/latex": [
       "'list'"
      ],
      "text/markdown": [
       "'list'"
      ],
      "text/plain": [
       "[1] \"list\""
      ]
     },
     "metadata": {},
     "output_type": "display_data"
    },
    {
     "data": {
      "text/html": [
       "'data.frame'"
      ],
      "text/latex": [
       "'data.frame'"
      ],
      "text/markdown": [
       "'data.frame'"
      ],
      "text/plain": [
       "[1] \"data.frame\""
      ]
     },
     "metadata": {},
     "output_type": "display_data"
    },
    {
     "data": {
      "text/html": [
       "<ol class=list-inline>\n",
       "\t<li>'Id'</li>\n",
       "\t<li>'Name'</li>\n",
       "\t<li>'Occupation'</li>\n",
       "\t<li>'Salary'</li>\n",
       "</ol>\n"
      ],
      "text/latex": [
       "\\begin{enumerate*}\n",
       "\\item 'Id'\n",
       "\\item 'Name'\n",
       "\\item 'Occupation'\n",
       "\\item 'Salary'\n",
       "\\end{enumerate*}\n"
      ],
      "text/markdown": [
       "1. 'Id'\n",
       "2. 'Name'\n",
       "3. 'Occupation'\n",
       "4. 'Salary'\n",
       "\n",
       "\n"
      ],
      "text/plain": [
       "[1] \"Id\"         \"Name\"       \"Occupation\" \"Salary\"    "
      ]
     },
     "metadata": {},
     "output_type": "display_data"
    },
    {
     "data": {
      "text/html": [
       "4"
      ],
      "text/latex": [
       "4"
      ],
      "text/markdown": [
       "4"
      ],
      "text/plain": [
       "[1] 4"
      ]
     },
     "metadata": {},
     "output_type": "display_data"
    },
    {
     "data": {
      "text/html": [
       "4"
      ],
      "text/latex": [
       "4"
      ],
      "text/markdown": [
       "4"
      ],
      "text/plain": [
       "[1] 4"
      ]
     },
     "metadata": {},
     "output_type": "display_data"
    },
    {
     "data": {
      "text/html": [
       "10"
      ],
      "text/latex": [
       "10"
      ],
      "text/markdown": [
       "10"
      ],
      "text/plain": [
       "[1] 10"
      ]
     },
     "metadata": {},
     "output_type": "display_data"
    },
    {
     "data": {
      "text/html": [
       "<ol class=list-inline>\n",
       "\t<li>10</li>\n",
       "\t<li>4</li>\n",
       "</ol>\n"
      ],
      "text/latex": [
       "\\begin{enumerate*}\n",
       "\\item 10\n",
       "\\item 4\n",
       "\\end{enumerate*}\n"
      ],
      "text/markdown": [
       "1. 10\n",
       "2. 4\n",
       "\n",
       "\n"
      ],
      "text/plain": [
       "[1] 10  4"
      ]
     },
     "metadata": {},
     "output_type": "display_data"
    }
   ],
   "source": [
    "typeof(employee)\n",
    "class(employee)\n",
    "names(employee)\n",
    "\n",
    "# Number of Rows and Columns\n",
    "length(employee)\n",
    "ncol(employee)\n",
    "nrow(employee)\n",
    "dim(employee)"
   ]
  }
 ],
 "metadata": {
  "kernelspec": {
   "display_name": "R",
   "language": "R",
   "name": "ir"
  },
  "language_info": {
   "codemirror_mode": "r",
   "file_extension": ".r",
   "mimetype": "text/x-r-source",
   "name": "R",
   "pygments_lexer": "r",
   "version": "3.6.1"
  }
 },
 "nbformat": 4,
 "nbformat_minor": 2
}
