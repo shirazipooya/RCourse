{
 "cells": [
  {
   "cell_type": "markdown",
   "metadata": {},
   "source": [
    "\n",
    "<div>        \n",
    "    <img src=\"..\\Week 01\\img\\R_logo.svg\" width=\"100\"/>  \n",
    "</div>\n",
    "\n",
    "<div style=\"line-height:600%;\">\n",
    "    <font color=#1363E1 face=\"Sriracha\" size=8>\n",
    "            <div align=center>R Data Structure</div>\n",
    "    </font>    \n",
    "</div>\n",
    "\n",
    "<div>        \n",
    "    <img src=\"..\\Week 04\\img\\DataSt.png\" width=\"600\"/>  \n",
    "</div>\n",
    "\n",
    "<div style=\"line-height:600%;\">\n",
    "    <font color=#1363E1 face=\"Sriracha\" size=8>\n",
    "            <div align=center>Arrays</div>\n",
    "    </font>    \n",
    "</div>"
   ]
  },
  {
   "cell_type": "markdown",
   "metadata": {},
   "source": [
    "<div style=\"line-height:200%;\">\n",
    "    <font color=black face=\"Candara\" size=4>\n",
    "                <div align=left>\n",
    "<mark>Arrays</mark> are the R data objects which can store data in more than two dimensions. For example, If we create an array of dimension (2, 3, 4) then it creates 4 rectangular matrices each with 2 rows and 3 columns. <mark>Arrays can store only data type</mark>.\n",
    "\n",
    "An array is created using the <mark>array() function</mark>. It takes vectors as input and uses the values in the dim parameter to create an array.\n",
    "                </div>\n",
    "    </font>\n",
    "</div>\n",
    "\n",
    "\n",
    "\n"
   ]
  },
  {
   "cell_type": "markdown",
   "metadata": {},
   "source": [
    "<div style=\"line-height:200%;\">\n",
    "    <font color=black face=\"Candara\" size=4>\n",
    "                <div align=left>\n",
    "                    <b>Syntax:</b>\n",
    "The basic syntax of the Array in R Programming language is as shown below::\n",
    "                </div>\n",
    "    </font>\n",
    "</div>"
   ]
  },
  {
   "cell_type": "raw",
   "metadata": {},
   "source": [
    "array(data, dim = (row_Size, column_Size, matrices), dimnames)"
   ]
  },
  {
   "cell_type": "markdown",
   "metadata": {},
   "source": [
    "<div style=\"line-height:200%;\">\n",
    "    <font color=black face=\"Candara\" size=4>\n",
    "                <div align=left>\n",
    "                    Following is the description of the parameters used:\n",
    "<ul>\n",
    "    <li><b>data:</b> is the input vector which becomes the data elements of the array.</li>\n",
    "  <li><b>row_Size:</b> Number of Row elements an array can store. For example, Row_Size =5 then each matrix in an array will have 5 rows.</li>\n",
    "  <li><b>column_Size:</b> Number of Column elements an array can store. For example, Column_Size = 6 then each matrix in an array will have 6 Columns.</li>\n",
    "    <li><b>Matrices:</b> \n",
    " It will decide the number of Matrices an array can accept. Array in R is always a Multi Dimensional, it means more than 1 matrix with rows and columns.</li>\n",
    "    <li><b>dimname:</b> It is used to change the default Row, Column, Matrices names to more meaningful names.</li>\n",
    "</ul>\n",
    "                </div>\n",
    "    </font>\n",
    "</div>"
   ]
  },
  {
   "cell_type": "markdown",
   "metadata": {},
   "source": [
    "<div style=\"line-height:200%;\">\n",
    "    <font color=#076F9A face=\"Candara\" size=4>\n",
    "                <div align=left>\n",
    "                    <b>Example:</b>\n",
    "                </div>\n",
    "    </font>\n",
    "</div>"
   ]
  },
  {
   "cell_type": "code",
   "execution_count": 4,
   "metadata": {
    "scrolled": true
   },
   "outputs": [
    {
     "name": "stdout",
     "output_type": "stream",
     "text": [
      ", , 1\n",
      "\n",
      "     [,1] [,2] [,3]\n",
      "[1,]    5   10   13\n",
      "[2,]    9   11   14\n",
      "[3,]    3   12   15\n",
      "\n",
      "[1] \"-------------------------------------------------------\"\n",
      ", , 1\n",
      "\n",
      "     [,1] [,2] [,3]\n",
      "[1,]    5   10   13\n",
      "[2,]    9   11   14\n",
      "[3,]    3   12   15\n",
      "\n",
      ", , 2\n",
      "\n",
      "     [,1] [,2] [,3]\n",
      "[1,]    5   10   13\n",
      "[2,]    9   11   14\n",
      "[3,]    3   12   15\n",
      "\n"
     ]
    }
   ],
   "source": [
    "# Create two vectors of different lengths.\n",
    "vector1 <- c(5, 9, 3)\n",
    "vector2 <- c(10, 11, 12, 13, 14, 15)\n",
    "\n",
    "# Take these vectors as input to the array.\n",
    "result <- array(data = c(vector1, vector2), dim = c(3,3,1))\n",
    "print(result)\n",
    "\n",
    "print(\"-------------------------------------------------------\")\n",
    "\n",
    "result <- array(data = c(vector1, vector2), dim = c(3,3,2))\n",
    "print(result)"
   ]
  },
  {
   "cell_type": "markdown",
   "metadata": {},
   "source": [
    "<div style=\"line-height:300%;\">\n",
    "    <font color=#9A0909 face=\"Sriracha\" size=6>\n",
    "                <div align=left>Naming Columns and Rows</div>\n",
    "    </font>\n",
    "</div>"
   ]
  },
  {
   "cell_type": "markdown",
   "metadata": {},
   "source": [
    "<div style=\"line-height:200%;\">\n",
    "    <font color=black face=\"Candara\" size=4>\n",
    "                <div align=left>\n",
    "                    We can give names to the rows, columns and matrices in the array by using the <mark>dimnames</mark> parameter.:\n",
    "                </div>\n",
    "    </font>\n",
    "</div>"
   ]
  },
  {
   "cell_type": "code",
   "execution_count": 5,
   "metadata": {
    "scrolled": true
   },
   "outputs": [
    {
     "name": "stdout",
     "output_type": "stream",
     "text": [
      ", , Day1\n",
      "\n",
      "     Lon1 Lon2 Lon3\n",
      "Lat1    1    4    7\n",
      "Lat2    2    5    8\n",
      "Lat3    3    6    9\n",
      "\n",
      ", , Day2\n",
      "\n",
      "     Lon1 Lon2 Lon3\n",
      "Lat1   10   13   16\n",
      "Lat2   11   14   17\n",
      "Lat3   12   15   18\n",
      "\n"
     ]
    },
    {
     "data": {
      "text/html": [
       "<table>\n",
       "<thead><tr><th></th><th scope=col>Day1</th><th scope=col>Day2</th></tr></thead>\n",
       "<tbody>\n",
       "\t<tr><th scope=row>Lat1</th><td>7 </td><td>16</td></tr>\n",
       "\t<tr><th scope=row>Lat2</th><td>8 </td><td>17</td></tr>\n",
       "\t<tr><th scope=row>Lat3</th><td>9 </td><td>18</td></tr>\n",
       "</tbody>\n",
       "</table>\n"
      ],
      "text/latex": [
       "\\begin{tabular}{r|ll}\n",
       "  & Day1 & Day2\\\\\n",
       "\\hline\n",
       "\tLat1 & 7  & 16\\\\\n",
       "\tLat2 & 8  & 17\\\\\n",
       "\tLat3 & 9  & 18\\\\\n",
       "\\end{tabular}\n"
      ],
      "text/markdown": [
       "\n",
       "| <!--/--> | Day1 | Day2 |\n",
       "|---|---|---|\n",
       "| Lat1 | 7  | 16 |\n",
       "| Lat2 | 8  | 17 |\n",
       "| Lat3 | 9  | 18 |\n",
       "\n"
      ],
      "text/plain": [
       "     Day1 Day2\n",
       "Lat1 7    16  \n",
       "Lat2 8    17  \n",
       "Lat3 9    18  "
      ]
     },
     "metadata": {},
     "output_type": "display_data"
    }
   ],
   "source": [
    "column.names <- c(\"Lon1\", \"Lon2\", \"Lon3\")\n",
    "row.names <- c(\"Lat1\", \"Lat2\", \"Lat3\")\n",
    "matrix.names <- c(\"Day1\", \"Day2\")\n",
    "\n",
    "result <- array(data = 1:18,\n",
    "                dim = c(3, 3, 2),\n",
    "                dimnames = list(row.names, column.names, matrix.names))\n",
    "print(result)\n",
    "\n",
    "result[, \"Lon3\",]"
   ]
  },
  {
   "cell_type": "markdown",
   "metadata": {},
   "source": [
    "<div style=\"line-height:300%;\">\n",
    "    <font color=#9A0909 face=\"Sriracha\" size=6>\n",
    "                <div align=left>Accessing Array Elements</div>\n",
    "    </font>\n",
    "</div>"
   ]
  },
  {
   "cell_type": "markdown",
   "metadata": {},
   "source": [
    "<div style=\"line-height:200%;\">\n",
    "    <font color=#076F9A face=\"Candara\" size=4>\n",
    "                <div align=left>\n",
    "                    <b>Example:</b>\n",
    "                </div>\n",
    "    </font>\n",
    "</div>"
   ]
  },
  {
   "cell_type": "raw",
   "metadata": {},
   "source": [
    "Array_Name[row_position, Column_Position, Matrix_Level]"
   ]
  },
  {
   "cell_type": "code",
   "execution_count": 10,
   "metadata": {
    "scrolled": true
   },
   "outputs": [
    {
     "name": "stdout",
     "output_type": "stream",
     "text": [
      ", , Matrix1\n",
      "\n",
      "     COL1 COL2 COL3\n",
      "ROW1    1    4    7\n",
      "ROW2    2    5    8\n",
      "ROW3    3    6    9\n",
      "\n",
      ", , Matrix2\n",
      "\n",
      "     COL1 COL2 COL3\n",
      "ROW1   10   13   16\n",
      "ROW2   11   14   17\n",
      "ROW3   12   15   18\n",
      "\n",
      "\n",
      "COL1 COL2 COL3 \n",
      "  12   15   18 \n",
      "\n",
      "[1] 7\n",
      "\n",
      "     COL1 COL2 COL3\n",
      "ROW1   10   13   16\n",
      "ROW2   11   14   17\n",
      "ROW3   12   15   18\n"
     ]
    }
   ],
   "source": [
    "column.names <- c(\"COL1\", \"COL2\", \"COL3\")\n",
    "row.names <- c(\"ROW1\", \"ROW2\", \"ROW3\")\n",
    "matrix.names <- c(\"Matrix1\", \"Matrix2\")\n",
    "\n",
    "result <- array(data = 1:18,\n",
    "                dim = c(3, 3, 2),\n",
    "                dimnames = list(row.names, column.names, matrix.names))\n",
    "print(result)\n",
    "cat(\"\\n\")\n",
    "\n",
    "# Print the third row of the second matrix of the array.\n",
    "print(result[3,,2])\n",
    "cat(\"\\n\")\n",
    "\n",
    "# Print the element in the 1st row and 3rd column of the 1st matrix.\n",
    "print(result[1,3,1])\n",
    "cat(\"\\n\")\n",
    "\n",
    "# Print the 2nd Matrix.\n",
    "print(result[,,2])"
   ]
  },
  {
   "cell_type": "markdown",
   "metadata": {},
   "source": [
    "\n",
    "<div style=\"line-height:300%;\">\n",
    "    <font color=#9A0909 face=\"Sriracha\" size=6>\n",
    "                <div align=left>Manipulating Array Elements</div>\n",
    "    </font>\n",
    "</div>"
   ]
  },
  {
   "cell_type": "markdown",
   "metadata": {},
   "source": [
    "<div style=\"line-height:200%;\">\n",
    "    <font color=black face=\"Candara\" size=4>\n",
    "                <div align=left>\n",
    "                    As array is made up matrices in multiple dimensions, the operations on elements of array are carried out by accessing elements of the matrices:\n",
    "                </div>\n",
    "    </font>\n",
    "</div>"
   ]
  },
  {
   "cell_type": "markdown",
   "metadata": {},
   "source": [
    "<div style=\"line-height:200%;\">\n",
    "    <font color=#076F9A face=\"Candara\" size=4>\n",
    "                <div align=left>\n",
    "                    <b>Example:</b>\n",
    "                </div>\n",
    "    </font>\n",
    "</div>"
   ]
  },
  {
   "cell_type": "code",
   "execution_count": 12,
   "metadata": {},
   "outputs": [
    {
     "name": "stdout",
     "output_type": "stream",
     "text": [
      ", , Matrix1\n",
      "\n",
      "     COL1 COL2 COL3\n",
      "ROW1    1    4    7\n",
      "ROW2    2    5    8\n",
      "ROW3    3    6    9\n",
      "\n",
      ", , Matrix2\n",
      "\n",
      "     COL1 COL2 COL3\n",
      "ROW1   10   13   16\n",
      "ROW2   11   14   17\n",
      "ROW3   12   15   18\n",
      "\n",
      "\n",
      ", , Matrix1\n",
      "\n",
      "     COL1 COL2 COL3\n",
      "ROW1   19   22   25\n",
      "ROW2   20   23   26\n",
      "ROW3   21   24   27\n",
      "\n",
      ", , Matrix2\n",
      "\n",
      "     COL1 COL2 COL3\n",
      "ROW1   28   31   34\n",
      "ROW2   29   32   35\n",
      "ROW3   30   33   36\n",
      "\n",
      "\n",
      "     COL1 COL2 COL3\n",
      "ROW1   38   44   50\n",
      "ROW2   40   46   52\n",
      "ROW3   42   48   54\n"
     ]
    }
   ],
   "source": [
    "column.names <- c(\"COL1\", \"COL2\", \"COL3\")\n",
    "row.names <- c(\"ROW1\", \"ROW2\", \"ROW3\")\n",
    "matrix.names <- c(\"Matrix1\", \"Matrix2\")\n",
    "\n",
    "array1 <- array(data = 1:18,\n",
    "                dim = c(3, 3, 2),\n",
    "                dimnames = list(row.names, column.names, matrix.names))\n",
    "print(array1)\n",
    "cat(\"\\n\")\n",
    "\n",
    "column.names <- c(\"COL1\", \"COL2\", \"COL3\")\n",
    "row.names <- c(\"ROW1\", \"ROW2\", \"ROW3\")\n",
    "matrix.names <- c(\"Matrix1\", \"Matrix2\")\n",
    "\n",
    "array2 <- array(data = 19:36,\n",
    "                dim = c(3, 3, 2),\n",
    "                dimnames = list(row.names, column.names, matrix.names))\n",
    "print(array2)\n",
    "cat(\"\\n\")\n",
    "\n",
    "# create matrices from these arrays.\n",
    "matrix1 <- array1[,,2]\n",
    "matrix2 <- array2[,,2]\n",
    "\n",
    "# Add the matrices.\n",
    "result <- matrix1 + matrix2\n",
    "print(result)"
   ]
  },
  {
   "cell_type": "markdown",
   "metadata": {},
   "source": [
    "\n",
    "<div style=\"line-height:300%;\">\n",
    "    <font color=#9A0909 face=\"Sriracha\" size=6>\n",
    "                <div align=left>Calculations Across Array Elements</div>\n",
    "    </font>\n",
    "</div>"
   ]
  },
  {
   "cell_type": "markdown",
   "metadata": {},
   "source": [
    "<div style=\"line-height:200%;\">\n",
    "    <font color=black face=\"Candara\" size=4>\n",
    "                <div align=left>\n",
    "                    We can do calculations across the elements in an array using the <mark>apply() function</mark>:\n",
    "                </div>\n",
    "    </font>\n",
    "</div>"
   ]
  },
  {
   "cell_type": "markdown",
   "metadata": {},
   "source": [
    "<div style=\"line-height:200%;\">\n",
    "    <font color=black face=\"Candara\" size=4>\n",
    "                <div align=left>\n",
    "                    <b>Syntax:</b>\n",
    "                </div>\n",
    "    </font>\n",
    "</div>"
   ]
  },
  {
   "cell_type": "raw",
   "metadata": {},
   "source": [
    "apply(x, margin, fun)"
   ]
  },
  {
   "cell_type": "markdown",
   "metadata": {},
   "source": [
    "<div style=\"line-height:200%;\">\n",
    "    <font color=black face=\"Candara\" size=4>\n",
    "                <div align=left>\n",
    "                    Following is the description of the parameters used:\n",
    "<ul>\n",
    "    <li><b>x:</b> is an array.</li>\n",
    "  <li><b>margin:</b> is the name of the data set used</li>\n",
    "  <li><b>fun:</b> is the function to be applied across the elements of the array.</li>\n",
    "</ul>\n",
    "                </div>\n",
    "    </font>\n",
    "</div>"
   ]
  },
  {
   "cell_type": "markdown",
   "metadata": {},
   "source": [
    "<div style=\"line-height:200%;\">\n",
    "    <font color=#076F9A face=\"Candara\" size=4>\n",
    "                <div align=left>\n",
    "                    <b>Example:</b>\n",
    "                </div>\n",
    "    </font>\n",
    "</div>"
   ]
  },
  {
   "cell_type": "code",
   "execution_count": 8,
   "metadata": {},
   "outputs": [
    {
     "name": "stdout",
     "output_type": "stream",
     "text": [
      ", , Matrix1\n",
      "\n",
      "     COL1 COL2 COL3\n",
      "ROW1    1    4    7\n",
      "ROW2    2    5    8\n",
      "ROW3    3    6    9\n",
      "\n",
      ", , Matrix2\n",
      "\n",
      "     COL1 COL2 COL3\n",
      "ROW1   10   13   16\n",
      "ROW2   11   14   17\n",
      "ROW3   12   15   18\n",
      "\n",
      "\n",
      "Matrix1 Matrix2 \n",
      "      5      14 \n"
     ]
    }
   ],
   "source": [
    "column.names <- c(\"COL1\", \"COL2\", \"COL3\")\n",
    "row.names <- c(\"ROW1\", \"ROW2\", \"ROW3\")\n",
    "matrix.names <- c(\"Matrix1\", \"Matrix2\")\n",
    "\n",
    "array1 <- array(data = 1:18,\n",
    "                dim = c(3, 3, 2),\n",
    "                dimnames = list(row.names, column.names, matrix.names))\n",
    "print(array1)\n",
    "cat(\"\\n\")\n",
    "\n",
    "# Use apply to calculate the sum of the rows across all the matrices.\n",
    "result <- apply(X = array1,\n",
    "                MARGIN = c(3),\n",
    "                FUN = mean)\n",
    "print(result)"
   ]
  },
  {
   "cell_type": "markdown",
   "metadata": {},
   "source": [
    "\n",
    "<div style=\"line-height:300%;\">\n",
    "    <font color=#9A0909 face=\"Sriracha\" size=6>\n",
    "                <div align=left>Tips and Tricks</div>\n",
    "    </font>\n",
    "</div>"
   ]
  },
  {
   "cell_type": "code",
   "execution_count": 15,
   "metadata": {},
   "outputs": [
    {
     "name": "stdout",
     "output_type": "stream",
     "text": [
      ", , Matrix1\n",
      "\n",
      "     COL1 COL2 COL3\n",
      "ROW1    1    4    7\n",
      "ROW2    2    5    8\n",
      "ROW3    3    6    9\n",
      "\n",
      ", , Matrix2\n",
      "\n",
      "     COL1 COL2 COL3\n",
      "ROW1   10   13   16\n",
      "ROW2   11   14   17\n",
      "ROW3   12   15   18\n",
      "\n",
      "\n"
     ]
    },
    {
     "data": {
      "text/html": [
       "'array'"
      ],
      "text/latex": [
       "'array'"
      ],
      "text/markdown": [
       "'array'"
      ],
      "text/plain": [
       "[1] \"array\""
      ]
     },
     "metadata": {},
     "output_type": "display_data"
    },
    {
     "data": {
      "text/html": [
       "<ol class=list-inline>\n",
       "\t<li>3</li>\n",
       "\t<li>3</li>\n",
       "\t<li>2</li>\n",
       "</ol>\n"
      ],
      "text/latex": [
       "\\begin{enumerate*}\n",
       "\\item 3\n",
       "\\item 3\n",
       "\\item 2\n",
       "\\end{enumerate*}\n"
      ],
      "text/markdown": [
       "1. 3\n",
       "2. 3\n",
       "3. 2\n",
       "\n",
       "\n"
      ],
      "text/plain": [
       "[1] 3 3 2"
      ]
     },
     "metadata": {},
     "output_type": "display_data"
    },
    {
     "data": {
      "text/html": [
       "3"
      ],
      "text/latex": [
       "3"
      ],
      "text/markdown": [
       "3"
      ],
      "text/plain": [
       "[1] 3"
      ]
     },
     "metadata": {},
     "output_type": "display_data"
    },
    {
     "data": {
      "text/html": [
       "3"
      ],
      "text/latex": [
       "3"
      ],
      "text/markdown": [
       "3"
      ],
      "text/plain": [
       "[1] 3"
      ]
     },
     "metadata": {},
     "output_type": "display_data"
    }
   ],
   "source": [
    "# Data Type and Dimensions of Matrix in R\n",
    "\n",
    "column.names <- c(\"COL1\", \"COL2\", \"COL3\")\n",
    "row.names <- c(\"ROW1\", \"ROW2\", \"ROW3\")\n",
    "matrix.names <- c(\"Matrix1\", \"Matrix2\")\n",
    "\n",
    "array1 <- array(data = 1:18,\n",
    "                dim = c(3, 3, 2),\n",
    "                dimnames = list(row.names, column.names, matrix.names))\n",
    "print(array1)\n",
    "cat(\"\\n\")\n",
    "\n",
    "class(array1)\n",
    "\n",
    "dim(array1)\n",
    "\n",
    "nrow(array1)\n",
    "\n",
    "ncol(array1)"
   ]
  }
 ],
 "metadata": {
  "kernelspec": {
   "display_name": "R",
   "language": "R",
   "name": "ir"
  },
  "language_info": {
   "codemirror_mode": "r",
   "file_extension": ".r",
   "mimetype": "text/x-r-source",
   "name": "R",
   "pygments_lexer": "r",
   "version": "3.6.1"
  }
 },
 "nbformat": 4,
 "nbformat_minor": 2
}
