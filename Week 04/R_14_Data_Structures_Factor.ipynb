{
 "cells": [
  {
   "cell_type": "markdown",
   "metadata": {},
   "source": [
    "\n",
    "<div>        \n",
    "    <img src=\"..\\Week 01\\img\\R_logo.svg\" width=\"100\"/>  \n",
    "</div>\n",
    "\n",
    "<div style=\"line-height:600%;\">\n",
    "    <font color=#1363E1 face=\"Sriracha\" size=8>\n",
    "            <div align=center>R Data Structure</div>\n",
    "    </font>    \n",
    "</div>\n",
    "\n",
    "<div>        \n",
    "    <img src=\"..\\Week 04\\img\\DataSt.png\" width=\"600\"/>  \n",
    "</div>\n",
    "\n",
    "<div style=\"line-height:600%;\">\n",
    "    <font color=#1363E1 face=\"Sriracha\" size=8>\n",
    "            <div align=center>Factors</div>\n",
    "    </font>    \n",
    "</div>"
   ]
  },
  {
   "cell_type": "markdown",
   "metadata": {},
   "source": [
    "<div style=\"line-height:200%;\">\n",
    "    <font color=black face=\"Candara\" size=4>\n",
    "                <div align=left>\n",
    "                    <mark>Factors</mark> are the data objects which are used to categorize the data and store it as levels. They can store both strings and integers. They are useful in the columns which have a limited number of unique values. Like \"Male, \"Female\" and True, False etc. They are useful in data analysis for statistical modeling.\n",
    "\n",
    "Factors are created using the <mark>factor () function</mark> by taking a vector as input.\n",
    "                </div>\n",
    "    </font>\n",
    "</div>\n",
    "\n",
    "\n",
    "\n"
   ]
  },
  {
   "cell_type": "markdown",
   "metadata": {},
   "source": [
    "<div style=\"line-height:300%;\">\n",
    "    <font color=#9A0909 face=\"Sriracha\" size=6>\n",
    "                <div align=left>Create Data Frame</div>\n",
    "    </font>\n",
    "</div>"
   ]
  },
  {
   "cell_type": "markdown",
   "metadata": {},
   "source": [
    "<div style=\"line-height:200%;\">\n",
    "    <font color=#076F9A face=\"Candara\" size=4>\n",
    "                <div align=left>\n",
    "                    <b>Example:</b>\n",
    "                </div>\n",
    "    </font>\n",
    "</div>"
   ]
  },
  {
   "cell_type": "code",
   "execution_count": 2,
   "metadata": {
    "scrolled": true
   },
   "outputs": [
    {
     "name": "stdout",
     "output_type": "stream",
     "text": [
      " [1] \"East\"  \"West\"  \"East\"  \"North\" \"North\" \"East\"  \"West\"  \"West\"  \"West\" \n",
      "[10] \"East\"  \"North\"\n"
     ]
    }
   ],
   "source": [
    "# Create a vector as input.\n",
    "data <- c(\"East\", \"West\", \"East\", \"North\",\"North\", \n",
    "          \"East\", \"West\", \"West\", \"West\", \"East\", \"North\")\n",
    "\n",
    "print(data)"
   ]
  },
  {
   "cell_type": "code",
   "execution_count": 3,
   "metadata": {},
   "outputs": [
    {
     "data": {
      "text/html": [
       "FALSE"
      ],
      "text/latex": [
       "FALSE"
      ],
      "text/markdown": [
       "FALSE"
      ],
      "text/plain": [
       "[1] FALSE"
      ]
     },
     "metadata": {},
     "output_type": "display_data"
    }
   ],
   "source": [
    "is.factor(data)"
   ]
  },
  {
   "cell_type": "code",
   "execution_count": 6,
   "metadata": {},
   "outputs": [
    {
     "name": "stdout",
     "output_type": "stream",
     "text": [
      " [1] East  West  East  North North East  West  West  West  East  North\n",
      "Levels: East North West\n",
      "============================================ \n",
      "[1] TRUE\n"
     ]
    }
   ],
   "source": [
    "# Apply the factor function.\n",
    "factor_data <- factor(data)\n",
    "\n",
    "print(factor_data)\n",
    "\n",
    "cat(\"============================================\", \"\\n\")\n",
    "\n",
    "print(is.factor(factor_data))"
   ]
  },
  {
   "cell_type": "markdown",
   "metadata": {},
   "source": [
    "<div style=\"line-height:300%;\">\n",
    "    <font color=#9A0909 face=\"Sriracha\" size=6>\n",
    "                <div align=left>Factors in Data Frame</div>\n",
    "    </font>\n",
    "</div>"
   ]
  },
  {
   "cell_type": "markdown",
   "metadata": {},
   "source": [
    "<div style=\"line-height:200%;\">\n",
    "    <font color=black face=\"Candara\" size=4>\n",
    "                <div align=left>\n",
    "                    On creating any data frame with a column of text data, R treats the text column as categorical data and creates factors on it:\n",
    "                </div>\n",
    "    </font>\n",
    "</div>"
   ]
  },
  {
   "cell_type": "markdown",
   "metadata": {},
   "source": [
    "<div style=\"line-height:200%;\">\n",
    "    <font color=#076F9A face=\"Candara\" size=4>\n",
    "                <div align=left>\n",
    "                    <b>Example:</b>\n",
    "                </div>\n",
    "    </font>\n",
    "</div>"
   ]
  },
  {
   "cell_type": "code",
   "execution_count": 7,
   "metadata": {
    "scrolled": false
   },
   "outputs": [
    {
     "name": "stdout",
     "output_type": "stream",
     "text": [
      "  height weight gender\n",
      "1    132     48   male\n",
      "2    151     49   male\n",
      "3    162     66 female\n",
      "4    139     53 female\n",
      "5    166     67   male\n",
      "6    147     52 female\n",
      "7    122     40   male\n"
     ]
    }
   ],
   "source": [
    "# Create the vectors for data frame.\n",
    "height <- c(132, 151, 162, 139, 166, 147, 122)\n",
    "weight <- c(48, 49, 66, 53, 67, 52, 40)\n",
    "gender <- c(\"male\", \"male\", \"female\", \"female\", \"male\", \"female\", \"male\")\n",
    "\n",
    "# Create the data frame.\n",
    "input_data <- data.frame(height, weight, gender)\n",
    "print(input_data)"
   ]
  },
  {
   "cell_type": "code",
   "execution_count": 8,
   "metadata": {
    "scrolled": true
   },
   "outputs": [
    {
     "name": "stdout",
     "output_type": "stream",
     "text": [
      "'data.frame':\t7 obs. of  3 variables:\n",
      " $ height: num  132 151 162 139 166 147 122\n",
      " $ weight: num  48 49 66 53 67 52 40\n",
      " $ gender: Factor w/ 2 levels \"female\",\"male\": 2 2 1 1 2 1 2\n"
     ]
    }
   ],
   "source": [
    "str(input_data)"
   ]
  },
  {
   "cell_type": "code",
   "execution_count": 9,
   "metadata": {
    "scrolled": true
   },
   "outputs": [
    {
     "data": {
      "text/html": [
       "TRUE"
      ],
      "text/latex": [
       "TRUE"
      ],
      "text/markdown": [
       "TRUE"
      ],
      "text/plain": [
       "[1] TRUE"
      ]
     },
     "metadata": {},
     "output_type": "display_data"
    }
   ],
   "source": [
    "# Test if the gender column is a factor.\n",
    "is.factor(input_data$gender)"
   ]
  },
  {
   "cell_type": "code",
   "execution_count": 10,
   "metadata": {
    "scrolled": true
   },
   "outputs": [
    {
     "data": {
      "text/html": [
       "<ol class=list-inline>\n",
       "\t<li>male</li>\n",
       "\t<li>male</li>\n",
       "\t<li>female</li>\n",
       "\t<li>female</li>\n",
       "\t<li>male</li>\n",
       "\t<li>female</li>\n",
       "\t<li>male</li>\n",
       "</ol>\n",
       "\n",
       "<details>\n",
       "\t<summary style=display:list-item;cursor:pointer>\n",
       "\t\t<strong>Levels</strong>:\n",
       "\t</summary>\n",
       "\t<ol class=list-inline>\n",
       "\t\t<li>'female'</li>\n",
       "\t\t<li>'male'</li>\n",
       "\t</ol>\n",
       "</details>"
      ],
      "text/latex": [
       "\\begin{enumerate*}\n",
       "\\item male\n",
       "\\item male\n",
       "\\item female\n",
       "\\item female\n",
       "\\item male\n",
       "\\item female\n",
       "\\item male\n",
       "\\end{enumerate*}\n",
       "\n",
       "\\emph{Levels}: \\begin{enumerate*}\n",
       "\\item 'female'\n",
       "\\item 'male'\n",
       "\\end{enumerate*}\n"
      ],
      "text/markdown": [
       "1. male\n",
       "2. male\n",
       "3. female\n",
       "4. female\n",
       "5. male\n",
       "6. female\n",
       "7. male\n",
       "\n",
       "\n",
       "\n",
       "**Levels**: 1. 'female'\n",
       "2. 'male'\n",
       "\n",
       "\n"
      ],
      "text/plain": [
       "[1] male   male   female female male   female male  \n",
       "Levels: female male"
      ]
     },
     "metadata": {},
     "output_type": "display_data"
    }
   ],
   "source": [
    "# Print the gender column so see the levels.\n",
    "input_data$gender"
   ]
  },
  {
   "cell_type": "code",
   "execution_count": 11,
   "metadata": {},
   "outputs": [
    {
     "data": {
      "text/html": [
       "'integer'"
      ],
      "text/latex": [
       "'integer'"
      ],
      "text/markdown": [
       "'integer'"
      ],
      "text/plain": [
       "[1] \"integer\""
      ]
     },
     "metadata": {},
     "output_type": "display_data"
    },
    {
     "data": {
      "text/html": [
       "'factor'"
      ],
      "text/latex": [
       "'factor'"
      ],
      "text/markdown": [
       "'factor'"
      ],
      "text/plain": [
       "[1] \"factor\""
      ]
     },
     "metadata": {},
     "output_type": "display_data"
    }
   ],
   "source": [
    "typeof(input_data$gender)\n",
    "\n",
    "class(input_data$gender)"
   ]
  },
  {
   "cell_type": "markdown",
   "metadata": {},
   "source": [
    "\n",
    "<div style=\"line-height:300%;\">\n",
    "    <font color=#9A0909 face=\"Sriracha\" size=6>\n",
    "                <div align=left>Changing the Order of Levels</div>\n",
    "    </font>\n",
    "</div>"
   ]
  },
  {
   "cell_type": "markdown",
   "metadata": {},
   "source": [
    "<div style=\"line-height:200%;\">\n",
    "    <font color=black face=\"Candara\" size=4>\n",
    "                <div align=left>\n",
    "                    The order of the levels in a factor can be changed by applying the factor function again with new order of the levels:\n",
    "                </div>\n",
    "    </font>\n",
    "</div>"
   ]
  },
  {
   "cell_type": "markdown",
   "metadata": {},
   "source": [
    "<div style=\"line-height:200%;\">\n",
    "    <font color=#076F9A face=\"Candara\" size=4>\n",
    "                <div align=left>\n",
    "                    <b>Example:</b>\n",
    "                </div>\n",
    "    </font>\n",
    "</div>"
   ]
  },
  {
   "cell_type": "code",
   "execution_count": 12,
   "metadata": {
    "scrolled": true
   },
   "outputs": [
    {
     "data": {
      "text/html": [
       "<ol class=list-inline>\n",
       "\t<li>East</li>\n",
       "\t<li>West</li>\n",
       "\t<li>East</li>\n",
       "\t<li>North</li>\n",
       "\t<li>North</li>\n",
       "\t<li>East</li>\n",
       "\t<li>West</li>\n",
       "\t<li>West</li>\n",
       "\t<li>West</li>\n",
       "\t<li>East</li>\n",
       "\t<li>North</li>\n",
       "</ol>\n",
       "\n",
       "<details>\n",
       "\t<summary style=display:list-item;cursor:pointer>\n",
       "\t\t<strong>Levels</strong>:\n",
       "\t</summary>\n",
       "\t<ol class=list-inline>\n",
       "\t\t<li>'East'</li>\n",
       "\t\t<li>'North'</li>\n",
       "\t\t<li>'West'</li>\n",
       "\t</ol>\n",
       "</details>"
      ],
      "text/latex": [
       "\\begin{enumerate*}\n",
       "\\item East\n",
       "\\item West\n",
       "\\item East\n",
       "\\item North\n",
       "\\item North\n",
       "\\item East\n",
       "\\item West\n",
       "\\item West\n",
       "\\item West\n",
       "\\item East\n",
       "\\item North\n",
       "\\end{enumerate*}\n",
       "\n",
       "\\emph{Levels}: \\begin{enumerate*}\n",
       "\\item 'East'\n",
       "\\item 'North'\n",
       "\\item 'West'\n",
       "\\end{enumerate*}\n"
      ],
      "text/markdown": [
       "1. East\n",
       "2. West\n",
       "3. East\n",
       "4. North\n",
       "5. North\n",
       "6. East\n",
       "7. West\n",
       "8. West\n",
       "9. West\n",
       "10. East\n",
       "11. North\n",
       "\n",
       "\n",
       "\n",
       "**Levels**: 1. 'East'\n",
       "2. 'North'\n",
       "3. 'West'\n",
       "\n",
       "\n"
      ],
      "text/plain": [
       " [1] East  West  East  North North East  West  West  West  East  North\n",
       "Levels: East North West"
      ]
     },
     "metadata": {},
     "output_type": "display_data"
    }
   ],
   "source": [
    "data <- c(\"East\", \"West\", \"East\", \"North\", \"North\", \"East\",\n",
    "          \"West\", \"West\", \"West\", \"East\", \"North\")\n",
    "\n",
    "# Create the factors\n",
    "factor_data <- factor(data)\n",
    "factor_data"
   ]
  },
  {
   "cell_type": "code",
   "execution_count": 13,
   "metadata": {},
   "outputs": [
    {
     "name": "stdout",
     "output_type": "stream",
     "text": [
      " [1] East  West  East  North North East  West  West  West  East  North\n",
      "Levels: East West North\n"
     ]
    }
   ],
   "source": [
    "# Apply the factor function with required order of the level.\n",
    "new_order_data <- factor(factor_data,levels = c(\"East\", \"West\", \"North\"))\n",
    "print(new_order_data) "
   ]
  },
  {
   "cell_type": "markdown",
   "metadata": {},
   "source": [
    "\n",
    "<div style=\"line-height:300%;\">\n",
    "    <font color=#9A0909 face=\"Sriracha\" size=6>\n",
    "                <div align=left>Generating Factor Levels</div>\n",
    "    </font>\n",
    "</div>"
   ]
  },
  {
   "cell_type": "markdown",
   "metadata": {},
   "source": [
    "<div style=\"line-height:200%;\">\n",
    "    <font color=black face=\"Candara\" size=4>\n",
    "                <div align=left>\n",
    "                    We can generate factor levels by using the gl() function. It takes two integers as input which indicates how many levels and how many times each level:\n",
    "                </div>\n",
    "    </font>\n",
    "</div>"
   ]
  },
  {
   "cell_type": "markdown",
   "metadata": {},
   "source": [
    "<div style=\"line-height:200%;\">\n",
    "    <font color=#076F9A face=\"Candara\" size=4>\n",
    "                <div align=left>\n",
    "                    <b>Example:</b>\n",
    "                </div>\n",
    "    </font>\n",
    "</div>"
   ]
  },
  {
   "cell_type": "code",
   "execution_count": 20,
   "metadata": {
    "scrolled": true
   },
   "outputs": [
    {
     "name": "stdout",
     "output_type": "stream",
     "text": [
      "[1] Tampa   Tampa   Seattle Seattle Boston  Boston \n",
      "Levels: Tampa Seattle Boston\n"
     ]
    }
   ],
   "source": [
    "v <- gl(n = 3, k = 2, labels = c(\"Tampa\", \"Seattle\",\"Boston\"))\n",
    "print(v)"
   ]
  },
  {
   "cell_type": "code",
   "execution_count": 21,
   "metadata": {},
   "outputs": [
    {
     "data": {
      "text/html": [
       "<ol class=list-inline>\n",
       "\t<li>'Tampa'</li>\n",
       "\t<li>'Seattle'</li>\n",
       "\t<li>'Boston'</li>\n",
       "</ol>\n"
      ],
      "text/latex": [
       "\\begin{enumerate*}\n",
       "\\item 'Tampa'\n",
       "\\item 'Seattle'\n",
       "\\item 'Boston'\n",
       "\\end{enumerate*}\n"
      ],
      "text/markdown": [
       "1. 'Tampa'\n",
       "2. 'Seattle'\n",
       "3. 'Boston'\n",
       "\n",
       "\n"
      ],
      "text/plain": [
       "[1] \"Tampa\"   \"Seattle\" \"Boston\" "
      ]
     },
     "metadata": {},
     "output_type": "display_data"
    }
   ],
   "source": [
    "levels(v)"
   ]
  },
  {
   "cell_type": "code",
   "execution_count": 27,
   "metadata": {},
   "outputs": [
    {
     "name": "stdout",
     "output_type": "stream",
     "text": [
      " Factor w/ 3 levels \"divorced\",\"married\",..: 3 2 3 1\n"
     ]
    }
   ],
   "source": [
    "x <- factor(c(\"single\", \"married\", \"single\", \"divorced\"))\n",
    "str(x)"
   ]
  },
  {
   "cell_type": "code",
   "execution_count": 28,
   "metadata": {},
   "outputs": [
    {
     "data": {
      "text/html": [
       "<ol class=list-inline>\n",
       "\t<li>married</li>\n",
       "\t<li>divorced</li>\n",
       "</ol>\n",
       "\n",
       "<details>\n",
       "\t<summary style=display:list-item;cursor:pointer>\n",
       "\t\t<strong>Levels</strong>:\n",
       "\t</summary>\n",
       "\t<ol class=list-inline>\n",
       "\t\t<li>'divorced'</li>\n",
       "\t\t<li>'married'</li>\n",
       "\t\t<li>'single'</li>\n",
       "\t</ol>\n",
       "</details>"
      ],
      "text/latex": [
       "\\begin{enumerate*}\n",
       "\\item married\n",
       "\\item divorced\n",
       "\\end{enumerate*}\n",
       "\n",
       "\\emph{Levels}: \\begin{enumerate*}\n",
       "\\item 'divorced'\n",
       "\\item 'married'\n",
       "\\item 'single'\n",
       "\\end{enumerate*}\n"
      ],
      "text/markdown": [
       "1. married\n",
       "2. divorced\n",
       "\n",
       "\n",
       "\n",
       "**Levels**: 1. 'divorced'\n",
       "2. 'married'\n",
       "3. 'single'\n",
       "\n",
       "\n"
      ],
      "text/plain": [
       "[1] married  divorced\n",
       "Levels: divorced married single"
      ]
     },
     "metadata": {},
     "output_type": "display_data"
    }
   ],
   "source": [
    "x[c(2, 4)]"
   ]
  },
  {
   "cell_type": "code",
   "execution_count": 30,
   "metadata": {},
   "outputs": [
    {
     "data": {
      "text/html": [
       "<ol class=list-inline>\n",
       "\t<li>single</li>\n",
       "\t<li>married</li>\n",
       "\t<li>divorced</li>\n",
       "\t<li>divorced</li>\n",
       "</ol>\n",
       "\n",
       "<details>\n",
       "\t<summary style=display:list-item;cursor:pointer>\n",
       "\t\t<strong>Levels</strong>:\n",
       "\t</summary>\n",
       "\t<ol class=list-inline>\n",
       "\t\t<li>'divorced'</li>\n",
       "\t\t<li>'married'</li>\n",
       "\t\t<li>'single'</li>\n",
       "\t</ol>\n",
       "</details>"
      ],
      "text/latex": [
       "\\begin{enumerate*}\n",
       "\\item single\n",
       "\\item married\n",
       "\\item divorced\n",
       "\\item divorced\n",
       "\\end{enumerate*}\n",
       "\n",
       "\\emph{Levels}: \\begin{enumerate*}\n",
       "\\item 'divorced'\n",
       "\\item 'married'\n",
       "\\item 'single'\n",
       "\\end{enumerate*}\n"
      ],
      "text/markdown": [
       "1. single\n",
       "2. married\n",
       "3. divorced\n",
       "4. divorced\n",
       "\n",
       "\n",
       "\n",
       "**Levels**: 1. 'divorced'\n",
       "2. 'married'\n",
       "3. 'single'\n",
       "\n",
       "\n"
      ],
      "text/plain": [
       "[1] single   married  divorced divorced\n",
       "Levels: divorced married single"
      ]
     },
     "metadata": {},
     "output_type": "display_data"
    }
   ],
   "source": [
    "# modify x\n",
    "x[3] <- \"divorced\"\n",
    "x"
   ]
  },
  {
   "cell_type": "code",
   "execution_count": 31,
   "metadata": {},
   "outputs": [
    {
     "name": "stderr",
     "output_type": "stream",
     "text": [
      "Warning message in `[<-.factor`(`*tmp*`, 3, value = \"None\"):\n",
      "\"invalid factor level, NA generated\""
     ]
    },
    {
     "data": {
      "text/html": [
       "<ol class=list-inline>\n",
       "\t<li>single</li>\n",
       "\t<li>married</li>\n",
       "\t<li>&lt;NA&gt;</li>\n",
       "\t<li>divorced</li>\n",
       "</ol>\n",
       "\n",
       "<details>\n",
       "\t<summary style=display:list-item;cursor:pointer>\n",
       "\t\t<strong>Levels</strong>:\n",
       "\t</summary>\n",
       "\t<ol class=list-inline>\n",
       "\t\t<li>'divorced'</li>\n",
       "\t\t<li>'married'</li>\n",
       "\t\t<li>'single'</li>\n",
       "\t</ol>\n",
       "</details>"
      ],
      "text/latex": [
       "\\begin{enumerate*}\n",
       "\\item single\n",
       "\\item married\n",
       "\\item <NA>\n",
       "\\item divorced\n",
       "\\end{enumerate*}\n",
       "\n",
       "\\emph{Levels}: \\begin{enumerate*}\n",
       "\\item 'divorced'\n",
       "\\item 'married'\n",
       "\\item 'single'\n",
       "\\end{enumerate*}\n"
      ],
      "text/markdown": [
       "1. single\n",
       "2. married\n",
       "3. &lt;NA&gt;\n",
       "4. divorced\n",
       "\n",
       "\n",
       "\n",
       "**Levels**: 1. 'divorced'\n",
       "2. 'married'\n",
       "3. 'single'\n",
       "\n",
       "\n"
      ],
      "text/plain": [
       "[1] single   married  <NA>     divorced\n",
       "Levels: divorced married single"
      ]
     },
     "metadata": {},
     "output_type": "display_data"
    }
   ],
   "source": [
    "# modify x\n",
    "x[3] <- \"None\"\n",
    "x"
   ]
  },
  {
   "cell_type": "code",
   "execution_count": 32,
   "metadata": {},
   "outputs": [
    {
     "name": "stdout",
     "output_type": "stream",
     "text": [
      " Factor w/ 3 levels \"divorced\",\"married\",..: 3 2 3 1\n"
     ]
    }
   ],
   "source": [
    "x <- factor(c(\"single\", \"married\", \"single\", \"divorced\"))\n",
    "str(x)"
   ]
  },
  {
   "cell_type": "code",
   "execution_count": 33,
   "metadata": {},
   "outputs": [],
   "source": [
    "# add new level:\n",
    "levels(x) <- c(levels(x), \"None\")"
   ]
  },
  {
   "cell_type": "code",
   "execution_count": 34,
   "metadata": {},
   "outputs": [
    {
     "data": {
      "text/html": [
       "<ol class=list-inline>\n",
       "\t<li>single</li>\n",
       "\t<li>married</li>\n",
       "\t<li>None</li>\n",
       "\t<li>divorced</li>\n",
       "</ol>\n",
       "\n",
       "<details>\n",
       "\t<summary style=display:list-item;cursor:pointer>\n",
       "\t\t<strong>Levels</strong>:\n",
       "\t</summary>\n",
       "\t<ol class=list-inline>\n",
       "\t\t<li>'divorced'</li>\n",
       "\t\t<li>'married'</li>\n",
       "\t\t<li>'single'</li>\n",
       "\t\t<li>'None'</li>\n",
       "\t</ol>\n",
       "</details>"
      ],
      "text/latex": [
       "\\begin{enumerate*}\n",
       "\\item single\n",
       "\\item married\n",
       "\\item None\n",
       "\\item divorced\n",
       "\\end{enumerate*}\n",
       "\n",
       "\\emph{Levels}: \\begin{enumerate*}\n",
       "\\item 'divorced'\n",
       "\\item 'married'\n",
       "\\item 'single'\n",
       "\\item 'None'\n",
       "\\end{enumerate*}\n"
      ],
      "text/markdown": [
       "1. single\n",
       "2. married\n",
       "3. None\n",
       "4. divorced\n",
       "\n",
       "\n",
       "\n",
       "**Levels**: 1. 'divorced'\n",
       "2. 'married'\n",
       "3. 'single'\n",
       "4. 'None'\n",
       "\n",
       "\n"
      ],
      "text/plain": [
       "[1] single   married  None     divorced\n",
       "Levels: divorced married single None"
      ]
     },
     "metadata": {},
     "output_type": "display_data"
    }
   ],
   "source": [
    "# modify x\n",
    "x[3] <- \"None\"\n",
    "x"
   ]
  }
 ],
 "metadata": {
  "kernelspec": {
   "display_name": "R",
   "language": "R",
   "name": "ir"
  },
  "language_info": {
   "codemirror_mode": "r",
   "file_extension": ".r",
   "mimetype": "text/x-r-source",
   "name": "R",
   "pygments_lexer": "r",
   "version": "3.6.1"
  }
 },
 "nbformat": 4,
 "nbformat_minor": 2
}
