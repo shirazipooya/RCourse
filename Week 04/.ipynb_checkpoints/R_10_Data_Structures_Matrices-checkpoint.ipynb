{
 "cells": [
  {
   "cell_type": "markdown",
   "metadata": {},
   "source": [
    "\n",
    "<div>        \n",
    "    <img src=\"..\\Week 01\\img\\R_logo.svg\" width=\"100\"/>  \n",
    "</div>\n",
    "\n",
    "<div style=\"line-height:600%;\">\n",
    "    <font color=#1363E1 face=\"Sriracha\" size=8>\n",
    "            <div align=center>R Data Structure</div>\n",
    "    </font>    \n",
    "</div>\n",
    "\n",
    "<div>        \n",
    "    <img src=\"..\\Week 04\\img\\DataSt.png\" width=\"600\"/>  \n",
    "</div>\n",
    "\n",
    "<div style=\"line-height:600%;\">\n",
    "    <font color=#1363E1 face=\"Sriracha\" size=8>\n",
    "            <div align=center>Matrices</div>\n",
    "    </font>    \n",
    "</div>"
   ]
  },
  {
   "cell_type": "markdown",
   "metadata": {},
   "source": [
    "<div style=\"line-height:200%;\">\n",
    "    <font color=black face=\"Candara\" size=4>\n",
    "                <div align=left>\n",
    "Matrices are the R objects in which the elements are arranged in a <mark>Two-dimensional Rectangular Layout</mark>. <b>They contain elements of the same atomic types</b>. Though we can create a matrix containing only characters or only logical values, they are not of much use. We use matrices containing numeric elements to be used in mathematical calculations.\n",
    "\n",
    "A <b>Matrix</b> is created using the <mark>matrix() function</mark>.\n",
    "                </div>\n",
    "    </font>\n",
    "</div>\n",
    "\n",
    "\n",
    "\n"
   ]
  },
  {
   "cell_type": "markdown",
   "metadata": {},
   "source": [
    "<div style=\"line-height:200%;\">\n",
    "    <font color=black face=\"Candara\" size=4>\n",
    "                <div align=left>\n",
    "                    <b>Syntax:</b>\n",
    "The basic syntax for creating a matrix in R is:\n",
    "                </div>\n",
    "    </font>\n",
    "</div>"
   ]
  },
  {
   "cell_type": "raw",
   "metadata": {},
   "source": [
    "matrix(data, nrow, ncol, byrow, dimnames)"
   ]
  },
  {
   "cell_type": "markdown",
   "metadata": {},
   "source": [
    "<div style=\"line-height:200%;\">\n",
    "    <font color=black face=\"Candara\" size=4>\n",
    "                <div align=left>\n",
    "                    Following is the description of the parameters used:\n",
    "<ul>\n",
    "    <li><b>data:</b> is the input vector which becomes the data elements of the matrix.</li>\n",
    "  <li><b>nrow:</b> is the number of rows to be created.</li>\n",
    "  <li><b>ncol:</b> is the number of columns to be created.</li>\n",
    "    <li><b>byrow:</b> \n",
    " is a logical clue. If TRUE then the input vector elements are arranged by row.</li>\n",
    "    <li><b>dimname:</b> is the names assigned to the rows and columns.</li>\n",
    "</ul>\n",
    "                </div>\n",
    "    </font>\n",
    "</div>"
   ]
  },
  {
   "cell_type": "markdown",
   "metadata": {},
   "source": [
    "<div style=\"line-height:200%;\">\n",
    "    <font color=#076F9A face=\"Candara\" size=4>\n",
    "                <div align=left>\n",
    "                    <b>Example:</b>\n",
    "                </div>\n",
    "    </font>\n",
    "</div>"
   ]
  },
  {
   "cell_type": "code",
   "execution_count": 2,
   "metadata": {
    "scrolled": true
   },
   "outputs": [
    {
     "name": "stdout",
     "output_type": "stream",
     "text": [
      "     [,1] [,2] [,3]\n",
      "[1,]    3    4    5\n",
      "[2,]    6    7    8\n",
      "[3,]    9   10   11\n",
      "[4,]   12   13   14\n",
      "     [,1] [,2] [,3]\n",
      "[1,]    3    7   11\n",
      "[2,]    4    8   12\n",
      "[3,]    5    9   13\n",
      "[4,]    6   10   14\n",
      "     col1 col2 col3\n",
      "row1    3    4    5\n",
      "row2    6    7    8\n",
      "row3    9   10   11\n",
      "row4   12   13   14\n"
     ]
    }
   ],
   "source": [
    "# Elements are arranged sequentially by row.\n",
    "M <- matrix(data = c(3:14), nrow = 4, byrow = TRUE)\n",
    "print(M)\n",
    "\n",
    "# Elements are arranged sequentially by column.\n",
    "N <- matrix(data = c(3:14), nrow = 4, byrow = FALSE)\n",
    "print(N)\n",
    "\n",
    "# Define the column and row names.\n",
    "rownames = c(\"row1\", \"row2\", \"row3\", \"row4\")\n",
    "colnames = c(\"col1\", \"col2\", \"col3\")\n",
    "\n",
    "P <- matrix(data = c(3:14),\n",
    "            nrow = 4, \n",
    "            byrow = TRUE,\n",
    "            dimnames = list(rownames, colnames))\n",
    "print(P)"
   ]
  },
  {
   "cell_type": "markdown",
   "metadata": {},
   "source": [
    "<div style=\"line-height:300%;\">\n",
    "    <font color=#9A0909 face=\"Sriracha\" size=6>\n",
    "                <div align=left>Accessing Elements of a Matrix</div>\n",
    "    </font>\n",
    "</div>"
   ]
  },
  {
   "cell_type": "markdown",
   "metadata": {},
   "source": [
    "<div style=\"line-height:200%;\">\n",
    "    <font color=black face=\"Candara\" size=4>\n",
    "                <div align=left>\n",
    "                    Elements of a matrix can be accessed by using the column and row index of the element. We consider the matrix P above to find the specific elements below:\n",
    "                </div>\n",
    "    </font>\n",
    "</div>"
   ]
  },
  {
   "cell_type": "code",
   "execution_count": 3,
   "metadata": {
    "scrolled": true
   },
   "outputs": [
    {
     "name": "stdout",
     "output_type": "stream",
     "text": [
      "[1] 5\n",
      "[1] 13\n",
      "col1 col2 col3 \n",
      "   6    7    8 \n",
      "row1 row2 row3 row4 \n",
      "   5    8   11   14 \n"
     ]
    }
   ],
   "source": [
    "# Define the column and row names.\n",
    "rownames = c(\"row1\", \"row2\", \"row3\", \"row4\")\n",
    "colnames = c(\"col1\", \"col2\", \"col3\")\n",
    "\n",
    "# Create the matrix.\n",
    "P <- matrix(data = c(3:14),\n",
    "            nrow = 4,\n",
    "            byrow = TRUE, \n",
    "            dimnames = list(rownames, colnames))\n",
    "\n",
    "# Access the element at 3rd column and 1st row.\n",
    "print(P[1,3])\n",
    "\n",
    "# Access the element at 2nd column and 4th row.\n",
    "print(P[4,2])\n",
    "\n",
    "# Access only the  2nd row.\n",
    "print(P[2,])\n",
    "\n",
    "# Access only the 3rd column.\n",
    "print(P[,3])"
   ]
  },
  {
   "cell_type": "markdown",
   "metadata": {},
   "source": [
    "<div style=\"line-height:300%;\">\n",
    "    <font color=#9A0909 face=\"Sriracha\" size=6>\n",
    "                <div align=left>Matrix Computations</div>\n",
    "    </font>\n",
    "</div>"
   ]
  },
  {
   "cell_type": "markdown",
   "metadata": {},
   "source": [
    "<div style=\"line-height:200%;\">\n",
    "    <font color=black face=\"Candara\" size=4>\n",
    "                <div align=left>\n",
    "                    Various mathematical operations are performed on the matrices using the R operators. The result of the operation is also a matrix.\n",
    "\n",
    "The dimensions (number of rows and columns) should be same for the matrices involved in the operation.\n",
    "                </div>\n",
    "    </font>\n",
    "</div>"
   ]
  },
  {
   "cell_type": "markdown",
   "metadata": {},
   "source": [
    "<div style=\"line-height:200%;\">\n",
    "    <font color=black face=\"Candara\" size=4>\n",
    "                <div align=left>\n",
    "                    <b>Matrix Addition and Subtraction:</b>\n",
    "                </div>\n",
    "    </font>\n",
    "</div>"
   ]
  },
  {
   "cell_type": "markdown",
   "metadata": {},
   "source": [
    "<div style=\"line-height:200%;\">\n",
    "    <font color=#076F9A face=\"Candara\" size=4>\n",
    "                <div align=left>\n",
    "                    <b>Example:</b>\n",
    "                </div>\n",
    "    </font>\n",
    "</div>"
   ]
  },
  {
   "cell_type": "code",
   "execution_count": 4,
   "metadata": {
    "scrolled": true
   },
   "outputs": [
    {
     "name": "stdout",
     "output_type": "stream",
     "text": [
      "     [,1] [,2] [,3]\n",
      "[1,]    3   -1    2\n",
      "[2,]    9    4    6\n",
      "     [,1] [,2] [,3]\n",
      "[1,]    5    0    3\n",
      "[2,]    2    9   -4\n",
      "Result of addition \n",
      "     [,1] [,2] [,3]\n",
      "[1,]    8   -1    5\n",
      "[2,]   11   13    2\n",
      "Result of subtraction \n",
      "     [,1] [,2] [,3]\n",
      "[1,]   -2   -1   -1\n",
      "[2,]    7   -5   10\n"
     ]
    }
   ],
   "source": [
    "# Create two 2x3 matrices.\n",
    "matrix1 <- matrix(data = c(3, 9, -1, 4, 2, 6), nrow = 2)\n",
    "print(matrix1)\n",
    "\n",
    "matrix2 <- matrix(data = c(5, 2, 0, 9, 3, -4), nrow = 2)\n",
    "print(matrix2)\n",
    "\n",
    "# Add the matrices.\n",
    "result <- matrix1 + matrix2\n",
    "cat(\"Result of addition:\",\"\\n\")\n",
    "print(result)\n",
    "\n",
    "# Subtract the mat-rices\n",
    "result <- matrix1  matrix2\n",
    "cat(\"Result of subtraction:\",\"\\n\")\n",
    "print(result)"
   ]
  },
  {
   "cell_type": "markdown",
   "metadata": {},
   "source": [
    "<div style=\"line-height:200%;\">\n",
    "    <font color=black face=\"Candara\" size=4>\n",
    "                <div align=left>\n",
    "                    <b>Matrix Addition and Subtraction:</b>\n",
    "                </div>\n",
    "    </font>\n",
    "</div>"
   ]
  },
  {
   "cell_type": "markdown",
   "metadata": {},
   "source": [
    "<div style=\"line-height:200%;\">\n",
    "    <font color=#076F9A face=\"Candara\" size=4>\n",
    "                <div align=left>\n",
    "                    <b>Example:</b>\n",
    "                </div>\n",
    "    </font>\n",
    "</div>"
   ]
  },
  {
   "cell_type": "code",
   "execution_count": 5,
   "metadata": {
    "scrolled": false
   },
   "outputs": [
    {
     "name": "stdout",
     "output_type": "stream",
     "text": [
      "     [,1] [,2] [,3]\n",
      "[1,]    3   -1    2\n",
      "[2,]    9    4    6\n",
      "     [,1] [,2] [,3]\n",
      "[1,]    5    0    3\n",
      "[2,]    2    9    4\n",
      "Result of multiplication \n",
      "     [,1] [,2] [,3]\n",
      "[1,]   15    0    6\n",
      "[2,]   18   36   24\n",
      "Result of division \n",
      "     [,1]      [,2]      [,3]\n",
      "[1,]  0.6      -Inf 0.6666667\n",
      "[2,]  4.5 0.4444444 1.5000000\n"
     ]
    }
   ],
   "source": [
    "# Create two 2x3 matrices.\n",
    "matrix1 <- matrix(data = c(3, 9, -1, 4, 2, 6), nrow = 2)\n",
    "print(matrix1)\n",
    "\n",
    "matrix2 <- matrix(data = c(5, 2, 0, 9, 3, 4), nrow = 2)\n",
    "print(matrix2)\n",
    "\n",
    "# Multiply the matrices.\n",
    "result <- matrix1 * matrix2\n",
    "cat(\"Result of multiplication\",\"\\n\")\n",
    "print(result)\n",
    "\n",
    "# Divide the matrices\n",
    "result <- matrix1 / matrix2\n",
    "cat(\"Result of division\",\"\\n\")\n",
    "print(result)"
   ]
  },
  {
   "cell_type": "markdown",
   "metadata": {},
   "source": [
    "\n",
    "<div style=\"line-height:300%;\">\n",
    "    <font color=#9A0909 face=\"Sriracha\" size=6>\n",
    "                <div align=left>Create R Matrix using cbind and rbind</div>\n",
    "    </font>\n",
    "</div>"
   ]
  },
  {
   "cell_type": "markdown",
   "metadata": {},
   "source": [
    "<div style=\"line-height:200%;\">\n",
    "    <font color=#076F9A face=\"Candara\" size=4>\n",
    "                <div align=left>\n",
    "                    <b>Example:</b>\n",
    "                </div>\n",
    "    </font>\n",
    "</div>"
   ]
  },
  {
   "cell_type": "code",
   "execution_count": 2,
   "metadata": {},
   "outputs": [
    {
     "name": "stdout",
     "output_type": "stream",
     "text": [
      "     A  B\n",
      "[1,] 1 10\n",
      "[2,] 2 20\n",
      "[3,] 3 30\n",
      "\n",
      "  [,1] [,2] [,3]\n",
      "A    1    2    3\n",
      "B   10   20   30\n",
      "\n",
      "     A  B    \n",
      "[1,] 1 10 100\n",
      "[2,] 2 20 200\n",
      "[3,] 3 30 300\n",
      "\n"
     ]
    },
    {
     "name": "stderr",
     "output_type": "stream",
     "text": [
      "Warning message in rbind(Y, C = c(100, 200)):\n",
      "\"number of columns of result is not a multiple of vector length (arg 2)\""
     ]
    },
    {
     "name": "stdout",
     "output_type": "stream",
     "text": [
      "  [,1] [,2] [,3]\n",
      "A    1    2    3\n",
      "B   10   20   30\n",
      "C  100  200  100\n"
     ]
    }
   ],
   "source": [
    "A <- c(1, 2, 3) \n",
    "B <- c(10, 20, 30)\n",
    "\n",
    "X <- cbind(A, B)\n",
    "print(X)\n",
    "\n",
    "cat(\"\\n\")\n",
    "\n",
    "Y <- rbind(A, B)\n",
    "print(Y)\n",
    "\n",
    "cat(\"\\n\")\n",
    "\n",
    "Z <- cbind(X, c(100, 200, 300))\n",
    "print(Z)\n",
    "\n",
    "cat(\"\\n\")\n",
    "\n",
    "Z <- rbind(Y, C = c(100, 200, 300))\n",
    "print(Z)"
   ]
  },
  {
   "cell_type": "markdown",
   "metadata": {},
   "source": [
    "\n",
    "<div style=\"line-height:300%;\">\n",
    "    <font color=#9A0909 face=\"Sriracha\" size=6>\n",
    "                <div align=left>Matrix with Recycling Elements</div>\n",
    "    </font>\n",
    "</div>"
   ]
  },
  {
   "cell_type": "markdown",
   "metadata": {},
   "source": [
    "<div style=\"line-height:200%;\">\n",
    "    <font color=#076F9A face=\"Candara\" size=4>\n",
    "                <div align=left>\n",
    "                    <b>Example:</b>\n",
    "                </div>\n",
    "    </font>\n",
    "</div>"
   ]
  },
  {
   "cell_type": "code",
   "execution_count": 14,
   "metadata": {},
   "outputs": [
    {
     "name": "stdout",
     "output_type": "stream",
     "text": [
      "     [,1] [,2] [,3]\n",
      "[1,]   44   44   44\n",
      "[2,]   45   45   45\n",
      "[3,]   46   46   46\n",
      "     [,1] [,2] [,3]\n",
      "[1,]   44   45   46\n",
      "[2,]   44   45   46\n",
      "[3,]   44   45   46\n"
     ]
    }
   ],
   "source": [
    "# R Create Matrix\n",
    "\n",
    "A <- matrix(c(44: 46), nrow = 3, ncol = 3)\n",
    "print(A)\n",
    "\n",
    "B <- matrix(c(44: 46), nrow = 3, ncol = 3, byrow = TRUE)\n",
    "print(B)"
   ]
  },
  {
   "cell_type": "markdown",
   "metadata": {},
   "source": [
    "\n",
    "<div style=\"line-height:300%;\">\n",
    "    <font color=#9A0909 face=\"Sriracha\" size=6>\n",
    "                <div align=left>Tips and Tricks</div>\n",
    "    </font>\n",
    "</div>"
   ]
  },
  {
   "cell_type": "code",
   "execution_count": 4,
   "metadata": {},
   "outputs": [
    {
     "name": "stdout",
     "output_type": "stream",
     "text": [
      "     [,1] [,2] [,3] [,4]\n",
      "[1,]    1    2    3    4\n",
      "[2,]    5    6    7    8\n",
      "[3,]    9   10   11   12\n"
     ]
    },
    {
     "data": {
      "text/html": [
       "'matrix'"
      ],
      "text/latex": [
       "'matrix'"
      ],
      "text/markdown": [
       "'matrix'"
      ],
      "text/plain": [
       "[1] \"matrix\""
      ]
     },
     "metadata": {},
     "output_type": "display_data"
    },
    {
     "data": {
      "text/html": [
       "<ol class=list-inline>\n",
       "\t<li>3</li>\n",
       "\t<li>4</li>\n",
       "</ol>\n"
      ],
      "text/latex": [
       "\\begin{enumerate*}\n",
       "\\item 3\n",
       "\\item 4\n",
       "\\end{enumerate*}\n"
      ],
      "text/markdown": [
       "1. 3\n",
       "2. 4\n",
       "\n",
       "\n"
      ],
      "text/plain": [
       "[1] 3 4"
      ]
     },
     "metadata": {},
     "output_type": "display_data"
    },
    {
     "data": {
      "text/html": [
       "3"
      ],
      "text/latex": [
       "3"
      ],
      "text/markdown": [
       "3"
      ],
      "text/plain": [
       "[1] 3"
      ]
     },
     "metadata": {},
     "output_type": "display_data"
    },
    {
     "data": {
      "text/html": [
       "4"
      ],
      "text/latex": [
       "4"
      ],
      "text/markdown": [
       "4"
      ],
      "text/plain": [
       "[1] 4"
      ]
     },
     "metadata": {},
     "output_type": "display_data"
    },
    {
     "data": {
      "text/html": [
       "<table>\n",
       "<tbody>\n",
       "\t<tr><td>1 </td><td>5 </td><td> 9</td></tr>\n",
       "\t<tr><td>2 </td><td>6 </td><td>10</td></tr>\n",
       "\t<tr><td>3 </td><td>7 </td><td>11</td></tr>\n",
       "\t<tr><td>4 </td><td>8 </td><td>12</td></tr>\n",
       "</tbody>\n",
       "</table>\n"
      ],
      "text/latex": [
       "\\begin{tabular}{lll}\n",
       "\t 1  & 5  &  9\\\\\n",
       "\t 2  & 6  & 10\\\\\n",
       "\t 3  & 7  & 11\\\\\n",
       "\t 4  & 8  & 12\\\\\n",
       "\\end{tabular}\n"
      ],
      "text/markdown": [
       "\n",
       "| 1  | 5  |  9 |\n",
       "| 2  | 6  | 10 |\n",
       "| 3  | 7  | 11 |\n",
       "| 4  | 8  | 12 |\n",
       "\n"
      ],
      "text/plain": [
       "     [,1] [,2] [,3]\n",
       "[1,] 1    5     9  \n",
       "[2,] 2    6    10  \n",
       "[3,] 3    7    11  \n",
       "[4,] 4    8    12  "
      ]
     },
     "metadata": {},
     "output_type": "display_data"
    }
   ],
   "source": [
    "# Data Type and Dimensions of Matrix in R\n",
    "\n",
    "A <- matrix(data = c(1:12),\n",
    "            nrow = 3, \n",
    "            ncol = 4, \n",
    "            byrow = TRUE)\n",
    "print(A)\n",
    "\n",
    "class(A)\n",
    "\n",
    "dim(A)\n",
    "\n",
    "nrow(A)\n",
    "\n",
    "ncol(A)\n",
    "\n",
    "t(A)"
   ]
  },
  {
   "cell_type": "code",
   "execution_count": 5,
   "metadata": {},
   "outputs": [
    {
     "name": "stdout",
     "output_type": "stream",
     "text": [
      "     [,1] [,2] [,3] [,4]\n",
      "[1,]    1    2    3    4\n",
      "[2,]    5    6    7    8\n",
      "[3,]    9   10   11   12\n",
      "\n",
      "     [,1] [,2]\n",
      "[1,]    3    4\n",
      "[2,]    7    8\n",
      "\n",
      "     [,1] [,2] [,3] [,4]\n",
      "[1,]    5    6    7    8\n",
      "[2,]    9   10   11   12\n",
      "\n",
      "     [,1] [,2]\n",
      "[1,]    1    4\n",
      "[2,]    5    8\n",
      "[3,]    9   12\n",
      "\n",
      "     [,1] [,2] [,3] [,4]\n",
      "[1,]    1    2    3    4\n",
      "[2,]    9   10   11   12\n",
      "\n",
      "     [,1] [,2] [,3]\n",
      "[1,]    1    2    4\n",
      "[2,]    9   10   12\n",
      "\n",
      "     [,1] [,2]\n",
      "[1,]    1    3\n",
      "[2,]    5    7\n",
      "[3,]    9   11\n"
     ]
    }
   ],
   "source": [
    "# Accessing R Matrix Elements Subset\n",
    "\n",
    "A <- matrix(data = c(1:12),\n",
    "            nrow = 3, \n",
    "            ncol = 4,\n",
    "            byrow = TRUE)\n",
    "print(A)\n",
    "cat(\"\\n\")\n",
    "\n",
    "# Access the elements at 1st, 3rd row and 2nd, 4th column.\n",
    "print(A[c(1, 2), c(3, 4)])\n",
    "cat(\"\\n\")\n",
    "\n",
    "# Access All the element at 2nd and 3rd row.\n",
    "print(A[c(2, 3), ])\n",
    "cat(\"\\n\")\n",
    "\n",
    "# Access All the element at 1st and 4th Column.\n",
    "print(A[ , c(1, 4)])\n",
    "cat(\"\\n\")\n",
    "\n",
    "# Access All the element except 2nd row.\n",
    "print(A[-2, ])\n",
    "cat(\"\\n\")\n",
    "\n",
    "# Access All the element except 2nd row and 3rd Columm.\n",
    "print(A[-2, -3])\n",
    "cat(\"\\n\")\n",
    "\n",
    "# Access All the element except 3rd and 4th Columm.\n",
    "print(A[, c(-2, -4)])"
   ]
  },
  {
   "cell_type": "code",
   "execution_count": 20,
   "metadata": {},
   "outputs": [
    {
     "name": "stdout",
     "output_type": "stream",
     "text": [
      "     [,1] [,2] [,3] [,4]\n",
      "[1,]    1    2    3    4\n",
      "[2,]    5    6    7    8\n",
      "[3,]    9   10   11   12\n",
      "\n",
      "     [,1] [,2]\n",
      "[1,]    2    4\n",
      "[2,]   10   12\n",
      "\n",
      "     [,1] [,2] [,3] [,4]\n",
      "[1,]    1    2    3    4\n",
      "[2,]    5    6    7    8\n",
      "\n",
      "     [,1] [,2]\n",
      "[1,]    2    4\n",
      "[2,]    6    8\n",
      "[3,]   10   12\n",
      "\n",
      "     [,1] [,2]\n",
      "[1,]    2    4\n",
      "[2,]    6    8\n"
     ]
    }
   ],
   "source": [
    "# Accessing R Matrix Elements using Boolean Vector\n",
    "\n",
    "A <- matrix(data = c(1:12),\n",
    "            nrow = 3,\n",
    "            ncol = 4, \n",
    "            byrow = TRUE)\n",
    "print(A)\n",
    "cat(\"\\n\")\n",
    "\n",
    "# Access the elements at 1st, 3rd row and 2nd, 4th column.\n",
    "print(A[c(TRUE, FALSE, TRUE), c(FALSE, TRUE, FALSE, TRUE)])\n",
    "cat(\"\\n\")\n",
    "\n",
    "# Access All the element at 1ST AND 2nd row.\n",
    "print(A[c(TRUE, TRUE, FALSE), ])\n",
    "cat(\"\\n\")\n",
    "\n",
    "# Access All the element at 1st and 4th Column.\n",
    "print(A[ , c(FALSE, TRUE)])\n",
    "cat(\"\\n\")\n",
    "\n",
    "# Access the elements at 1st, 2nd row and 2nd, 4th column.\n",
    "print(A[c(1, 2), c(FALSE, TRUE, FALSE, TRUE)])"
   ]
  },
  {
   "cell_type": "code",
   "execution_count": 22,
   "metadata": {},
   "outputs": [
    {
     "name": "stdout",
     "output_type": "stream",
     "text": [
      "     Col1 Col2 Col3 Col4\n",
      "Row1    1    4    7   10\n",
      "Row2    2    5    8   11\n",
      "Row3    3    6    9   12\n",
      "\n",
      "[1] 7\n",
      "\n",
      "Col1 Col2 Col3 Col4 \n",
      "   2    5    8   11 \n",
      "\n",
      "Row1 Row2 Row3 \n",
      "  10   11   12 \n",
      "\n",
      "Col2 Col3 Col4 \n",
      "   5    8   11 \n",
      "\n",
      "     Col2 Col3 Col4\n",
      "Row1    4    7   10\n",
      "Row2    5    8   11\n"
     ]
    }
   ],
   "source": [
    "# Accessing R Matrix Elements using Char Index\n",
    "\n",
    "# Defining Row names and Column names of Matrix in R\n",
    "row.names <- c(\"Row1\", \"Row2\", \"Row3\")\n",
    "column.names <-c(\"Col1\", \"Col2\", \"Col3\", \"Col4\")\n",
    "\n",
    "B <- matrix(data = c(1:12),\n",
    "            nrow = 3, \n",
    "            dimnames = list(row.names, column.names))\n",
    "print(B)\n",
    "cat(\"\\n\")\n",
    "\n",
    "# Access the elements at 1st row and 3rd Column.\n",
    "print(B[\"Row1\", \"Col3\"])\n",
    "cat(\"\\n\")\n",
    "\n",
    "# Access only the 2nd row.\n",
    "print(B[\"Row2\",])\n",
    "cat(\"\\n\")\n",
    "\n",
    "# Access only the 4th column.\n",
    "print(B[, \"Col4\"])\n",
    "cat(\"\\n\")\n",
    "\n",
    "# Access the elements at 2nd row and 2, 3, 4th Column.\n",
    "print(B[\"Row2\", 2:4])\n",
    "cat(\"\\n\")\n",
    "\n",
    "# Access the elements at 1st, 3rd row and 1, 2, 3rd Column.\n",
    "print(B[c(\"Row1\", \"Row2\"), 2:4])"
   ]
  },
  {
   "cell_type": "code",
   "execution_count": 11,
   "metadata": {
    "scrolled": false
   },
   "outputs": [
    {
     "name": "stdout",
     "output_type": "stream",
     "text": [
      "     [,1] [,2] [,3]\n",
      "[1,]    1    4    7\n",
      "[2,]    2    5    8\n",
      "[3,]    3    6    9\n",
      "\n",
      "     [,1] [,2] [,3]\n",
      "[1,]    1    4    7\n",
      "[2,]    2  100    8\n",
      "[3,]    3    6    9\n",
      "\n",
      "     [,1] [,2] [,3]\n",
      "[1,]   NA   NA    7\n",
      "[2,]   NA  100    8\n",
      "[3,]   NA    6    9\n"
     ]
    }
   ],
   "source": [
    "# Modifying Matrix in R Programming\n",
    "\n",
    "A <- matrix(data = c(1:9),\n",
    "            nrow = 3,\n",
    "            ncol = 3)\n",
    "print(A)\n",
    "cat(\"\\n\")\n",
    "\n",
    "A[2, 2] <- 100\n",
    "print(A)\n",
    "cat(\"\\n\")\n",
    "\n",
    "A[A < 5] <- NA\n",
    "print(A)"
   ]
  },
  {
   "cell_type": "code",
   "execution_count": 13,
   "metadata": {
    "scrolled": true
   },
   "outputs": [
    {
     "name": "stdout",
     "output_type": "stream",
     "text": [
      "     [,1] [,2] [,3]\n",
      "[1,]    1    4    7\n",
      "[2,]    2    5    8\n",
      "[3,]    3    6    9\n",
      "\n",
      "NULL\n",
      "\n",
      "NULL\n",
      "\n",
      "  1 2 3\n",
      "A 1 4 7\n",
      "B 2 5 8\n",
      "C 3 6 9\n",
      "\n",
      "[1] \"1\" \"2\" \"3\"\n",
      "\n",
      "[1] \"A\" \"B\" \"C\"\n",
      "     1 2 3\n",
      "[1,] 1 4 7\n",
      "[2,] 2 5 8\n",
      "[3,] 3 6 9\n"
     ]
    }
   ],
   "source": [
    "# These names can be accessed or changed with two helpful functions\n",
    "# colnames() and rownames().\n",
    "\n",
    "A <- matrix(data = c(1:9),\n",
    "            nrow = 3,\n",
    "            ncol = 3)\n",
    "print(A)\n",
    "cat(\"\\n\")\n",
    "\n",
    "print(colnames(A))\n",
    "cat(\"\\n\")\n",
    "\n",
    "print(rownames(A))\n",
    "cat(\"\\n\")\n",
    "\n",
    "colnames(A) <- c(\"1\", \"2\", \"3\")\n",
    "rownames(A) <- c(\"A\", \"B\", \"C\")\n",
    "print(A)\n",
    "cat(\"\\n\")\n",
    "\n",
    "print(colnames(A))\n",
    "cat(\"\\n\")\n",
    "\n",
    "print(rownames(A))\n",
    "\n",
    "rownames(A) <- NULL\n",
    "\n",
    "print(A)\n"
   ]
  },
  {
   "cell_type": "code",
   "execution_count": 36,
   "metadata": {},
   "outputs": [
    {
     "name": "stdout",
     "output_type": "stream",
     "text": [
      "     [,1] [,2] [,3]\n",
      "[1,]    1    3    5\n",
      "[2,]    2    4    6\n",
      "\n"
     ]
    },
    {
     "data": {
      "text/html": [
       "<ol class=list-inline>\n",
       "\t<li>2</li>\n",
       "\t<li>3</li>\n",
       "</ol>\n"
      ],
      "text/latex": [
       "\\begin{enumerate*}\n",
       "\\item 2\n",
       "\\item 3\n",
       "\\end{enumerate*}\n"
      ],
      "text/markdown": [
       "1. 2\n",
       "2. 3\n",
       "\n",
       "\n"
      ],
      "text/plain": [
       "[1] 2 3"
      ]
     },
     "metadata": {},
     "output_type": "display_data"
    },
    {
     "name": "stdout",
     "output_type": "stream",
     "text": [
      "\n",
      "     [,1] [,2]\n",
      "[1,]    1    4\n",
      "[2,]    2    5\n",
      "[3,]    3    6\n"
     ]
    }
   ],
   "source": [
    "A <- matrix(data = 1:6, nrow = 2)\n",
    "print(A)\n",
    "cat(\"\\n\")\n",
    "\n",
    "dim(A)\n",
    "cat(\"\\n\")\n",
    "\n",
    "dim(A) <- c(3, 2)\n",
    "print(A)"
   ]
  }
 ],
 "metadata": {
  "kernelspec": {
   "display_name": "R",
   "language": "R",
   "name": "ir"
  },
  "language_info": {
   "codemirror_mode": "r",
   "file_extension": ".r",
   "mimetype": "text/x-r-source",
   "name": "R",
   "pygments_lexer": "r",
   "version": "3.6.1"
  }
 },
 "nbformat": 4,
 "nbformat_minor": 2
}
