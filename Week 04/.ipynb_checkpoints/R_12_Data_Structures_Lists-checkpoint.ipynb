{
 "cells": [
  {
   "cell_type": "markdown",
   "metadata": {},
   "source": [
    "\n",
    "<div>        \n",
    "    <img src=\"..\\Week 01\\img\\R_logo.svg\" width=\"100\"/>  \n",
    "</div>\n",
    "\n",
    "<div style=\"line-height:600%;\">\n",
    "    <font color=#1363E1 face=\"Sriracha\" size=8>\n",
    "            <div align=center>R Data Structure</div>\n",
    "    </font>    \n",
    "</div>\n",
    "\n",
    "<div>        \n",
    "    <img src=\"..\\Week 04\\img\\DataSt.png\" width=\"600\"/>  \n",
    "</div>\n",
    "\n",
    "<div style=\"line-height:600%;\">\n",
    "    <font color=#1363E1 face=\"Sriracha\" size=8>\n",
    "            <div align=center>Lists</div>\n",
    "    </font>    \n",
    "</div>"
   ]
  },
  {
   "cell_type": "markdown",
   "metadata": {},
   "source": [
    "<div style=\"line-height:200%;\">\n",
    "    <font color=black face=\"Candara\" size=4>\n",
    "                <div align=left>\n",
    "<mark>Lists</mark> are the R objects which contain elements of different types like: <b>numbers, strings, vectors and another list inside it</b>. A list can also contain a <b>matrix or a function</b> as its elements. List is created using <mark>list() function</mark>.\n",
    "                </div>\n",
    "    </font>\n",
    "</div>\n",
    "\n",
    "\n",
    "\n"
   ]
  },
  {
   "cell_type": "markdown",
   "metadata": {},
   "source": [
    "<div style=\"line-height:300%;\">\n",
    "    <font color=#9A0909 face=\"Sriracha\" size=6>\n",
    "                <div align=left>Creating a List</div>\n",
    "    </font>\n",
    "</div>"
   ]
  },
  {
   "cell_type": "markdown",
   "metadata": {},
   "source": [
    "<div style=\"line-height:200%;\">\n",
    "    <font color=black face=\"Candara\" size=4>\n",
    "                <div align=left>\n",
    "                    Following is an example to create a list containing strings, numbers, vectors and a logical values:\n",
    "                </div>\n",
    "    </font>\n",
    "</div>"
   ]
  },
  {
   "cell_type": "code",
   "execution_count": 1,
   "metadata": {
    "scrolled": true
   },
   "outputs": [
    {
     "name": "stdout",
     "output_type": "stream",
     "text": [
      "[[1]]\n",
      "[1] \"Red\"\n",
      "\n",
      "[[2]]\n",
      "[1] \"Green\"\n",
      "\n",
      "[[3]]\n",
      "[1] 21 32 11\n",
      "\n",
      "[[4]]\n",
      "[1] TRUE\n",
      "\n",
      "[[5]]\n",
      "[1] 51.23\n",
      "\n",
      "[[6]]\n",
      "[1] 119.1\n",
      "\n"
     ]
    }
   ],
   "source": [
    "# Create a list containing strings, numbers, vectors and a logical values.\n",
    "list_data <- list(\"Red\", \"Green\", c(21,32,11), TRUE, 51.23, 119.1)\n",
    "print(list_data)"
   ]
  },
  {
   "cell_type": "markdown",
   "metadata": {},
   "source": [
    "<div style=\"line-height:300%;\">\n",
    "    <font color=#9A0909 face=\"Sriracha\" size=6>\n",
    "                <div align=left>Naming List Elements</div>\n",
    "    </font>\n",
    "</div>"
   ]
  },
  {
   "cell_type": "markdown",
   "metadata": {},
   "source": [
    "<div style=\"line-height:200%;\">\n",
    "    <font color=black face=\"Candara\" size=4>\n",
    "                <div align=left>\n",
    "                    The list elements can be given names and they can be accessed using these names:\n",
    "                </div>\n",
    "    </font>\n",
    "</div>"
   ]
  },
  {
   "cell_type": "markdown",
   "metadata": {},
   "source": [
    "<div style=\"line-height:200%;\">\n",
    "    <font color=#076F9A face=\"Candara\" size=4>\n",
    "                <div align=left>\n",
    "                    <b>Example:</b>\n",
    "                </div>\n",
    "    </font>\n",
    "</div>"
   ]
  },
  {
   "cell_type": "code",
   "execution_count": 20,
   "metadata": {
    "scrolled": true
   },
   "outputs": [
    {
     "name": "stdout",
     "output_type": "stream",
     "text": [
      "$Company\n",
      "[1] \"Tutorial Gateway\"\n",
      "\n",
      "$Flag\n",
      "[1] TRUE\n",
      "\n",
      "$prod\n",
      "[1] 10 20 30\n",
      "\n",
      "$val\n",
      "[1] 95\n",
      "\n",
      "$sale\n",
      "[1] 105.61\n",
      "\n"
     ]
    }
   ],
   "source": [
    "# Create Named List in R Programming\n",
    "\n",
    "list.data <- list(\"Company\" = \"Tutorial Gateway\",\n",
    "                  \"Flag\" = TRUE,\n",
    "                  \"prod\" = c(10, 20, 30),\n",
    "                  \"val\" = 95,\n",
    "                  \"sale\" = 105.61)\n",
    "print(list.data)"
   ]
  },
  {
   "cell_type": "code",
   "execution_count": 2,
   "metadata": {
    "scrolled": true
   },
   "outputs": [
    {
     "name": "stdout",
     "output_type": "stream",
     "text": [
      "$`1st Quarter`\n",
      "[1] \"Jan\" \"Feb\" \"Mar\"\n",
      "\n",
      "$A_Matrix\n",
      "     [,1] [,2] [,3]\n",
      "[1,]    3    5   -2\n",
      "[2,]    9    1    8\n",
      "\n",
      "$`A Inner list`\n",
      "$`A Inner list`[[1]]\n",
      "[1] \"green\"\n",
      "\n",
      "$`A Inner list`[[2]]\n",
      "[1] 12.3\n",
      "\n",
      "\n"
     ]
    }
   ],
   "source": [
    "# Create a list containing a vector, a matrix and a list.\n",
    "list_data <- list(c(\"Jan\", \"Feb\", \"Mar\"),\n",
    "                  matrix(data = c(3, 9, 5, 1, -2, 8), nrow = 2),\n",
    "                  list(\"green\", 12.3))\n",
    "\n",
    "# Give names to the elements in the list.\n",
    "names(list_data) <- c(\"1st Quarter\", \"A_Matrix\", \"A Inner list\")\n",
    "\n",
    "# Show the list.\n",
    "print(list_data)"
   ]
  },
  {
   "cell_type": "code",
   "execution_count": 9,
   "metadata": {
    "scrolled": true
   },
   "outputs": [
    {
     "name": "stdout",
     "output_type": "stream",
     "text": [
      "$`1st Quarter`\n",
      "[1] \"Jan\" \"Feb\" \"Mar\"\n",
      "\n",
      "$A_Matrix\n",
      "     [,1] [,2] [,3]\n",
      "[1,]    3    5   -2\n",
      "[2,]    9    1    8\n",
      "\n",
      "$`A Inner list`\n",
      "$`A Inner list`$color\n",
      "[1] \"green\"\n",
      "\n",
      "$`A Inner list`$number\n",
      "[1] 12.3\n",
      "\n",
      "\n"
     ]
    }
   ],
   "source": [
    "# Create a list containing a vector, a matrix and a list.\n",
    "list_data <- list(c(\"Jan\", \"Feb\", \"Mar\"),\n",
    "                  matrix(data = c(3, 9, 5, 1, -2, 8), nrow = 2),\n",
    "                  list(\"green\", 12.3))\n",
    "\n",
    "# Give names to the elements in the list.\n",
    "names(list_data) <- c(\"1st Quarter\", \"A_Matrix\", \"A Inner list\")\n",
    "\n",
    "names(list_data$\"A Inner list\") <- c(\"color\", \"number\")\n",
    "\n",
    "# Show the list.\n",
    "print(list_data)"
   ]
  },
  {
   "cell_type": "markdown",
   "metadata": {},
   "source": [
    "\n",
    "<div style=\"line-height:300%;\">\n",
    "    <font color=#9A0909 face=\"Sriracha\" size=6>\n",
    "                <div align=left>Accessing List Elements</div>\n",
    "    </font>\n",
    "</div>"
   ]
  },
  {
   "cell_type": "markdown",
   "metadata": {},
   "source": [
    "<div style=\"line-height:200%;\">\n",
    "    <font color=black face=\"Candara\" size=4>\n",
    "                <div align=left>\n",
    "                    Elements of the list can be accessed by the index of the element in the list. In case of named lists it can also be accessed using the names:\n",
    "                </div>\n",
    "    </font>\n",
    "</div>"
   ]
  },
  {
   "cell_type": "markdown",
   "metadata": {},
   "source": [
    "<div style=\"line-height:200%;\">\n",
    "    <font color=#076F9A face=\"Candara\" size=4>\n",
    "                <div align=left>\n",
    "                    <b>Example:</b>\n",
    "                </div>\n",
    "    </font>\n",
    "</div>"
   ]
  },
  {
   "cell_type": "code",
   "execution_count": 12,
   "metadata": {
    "scrolled": true
   },
   "outputs": [
    {
     "name": "stdout",
     "output_type": "stream",
     "text": [
      "$`1st Quarter`\n",
      "[1] \"Jan\" \"Feb\" \"Mar\"\n",
      "\n",
      "======================================= \n",
      "$`A Inner list`\n",
      "$`A Inner list`[[1]]\n",
      "[1] \"green\"\n",
      "\n",
      "$`A Inner list`[[2]]\n",
      "[1] 12.3\n",
      "\n",
      "\n",
      "======================================= \n",
      "     [,1] [,2] [,3]\n",
      "[1,]    3    5   -2\n",
      "[2,]    9    1    8\n",
      "======================================= \n",
      "[[1]]\n",
      "[1] \"green\"\n",
      "\n",
      "[[2]]\n",
      "[1] 12.3\n",
      "\n"
     ]
    }
   ],
   "source": [
    "# Create a list containing a vector, a matrix and a list.\n",
    "list_data <- list(c(\"Jan\", \"Feb\", \"Mar\"),\n",
    "                  matrix(data = c(3, 9, 5, 1, -2, 8), nrow = 2),\n",
    "                  list(\"green\", 12.3))\n",
    "\n",
    "# Give names to the elements in the list.\n",
    "names(list_data) <- c(\"1st Quarter\", \"A_Matrix\", \"A Inner list\")\n",
    "\n",
    "# Access the first element of the list.\n",
    "print(list_data[1])\n",
    "cat(\"=======================================\",\"\\n\")\n",
    "\n",
    "# Access the thrid element. As it is also a list, all its elements will be printed.\n",
    "print(list_data[3])\n",
    "cat(\"=======================================\",\"\\n\")\n",
    "\n",
    "# Access the list element using the name of the element.\n",
    "print(list_data$A_Matrix)\n",
    "cat(\"=======================================\",\"\\n\")\n",
    "\n",
    "print(list_data$`A Inner list`)"
   ]
  },
  {
   "cell_type": "code",
   "execution_count": null,
   "metadata": {},
   "outputs": [],
   "source": [
    "# Accessing R List Elements\n",
    "\n",
    "vect.x <- c(10, 30, 50, 70)\n",
    "vect.y <- c(\"India\", \"Russia\", \"Japan\", \"UK\", \"China\", \"USA\") \n",
    "\n",
    "list.data <- list(vect.x, vect.y)\n",
    "names(list.data) <- c(\"Numeric_Vector\", \"Country\") \n",
    "\n",
    "matrix.A <- matrix(data = c(1:12), nrow = 3, ncol = 4)\n",
    "vect.z <- c(55, 75, 25, 105, 125)\n",
    "\n",
    "list.mixed <- list(matrix.A,\n",
    "                   list.data,\n",
    "                   vect.z, \n",
    "                   \"Tutorial Gateway\")\n",
    "\n",
    "names(list.mixed) <- c(\"Numeric_Matrix\",\n",
    "                       \"Nested_List\",\n",
    "                       \"Random_vector\",\n",
    "                       \"Company\")\n",
    "print(list.mixed)\n",
    "\n",
    "# Accessing Vector.z Elements\n",
    "print(list.mixed$Random_vector)\n",
    "\n",
    "# Accessing Vector.z Elements\n",
    "print(list.mixed$Numeric_Matrix)\n",
    "\n",
    "# Accessing Nested List Elements\n",
    "print(list.mixed$Nested_List)"
   ]
  },
  {
   "cell_type": "code",
   "execution_count": 22,
   "metadata": {},
   "outputs": [
    {
     "name": "stdout",
     "output_type": "stream",
     "text": [
      "[[1]]\n",
      "     [,1] [,2] [,3] [,4]\n",
      "[1,]    1    4    7   10\n",
      "[2,]    2    5    8   11\n",
      "[3,]    3    6    9   12\n",
      "\n",
      "[[2]]\n",
      "[1] 10.25 30.75 20.45 40.85\n",
      "\n",
      "[[3]]\n",
      "[1] \"Tutorial Gateway\"\n",
      "\n",
      "[[4]]\n",
      "[1] \"India\"  \"Japan\"  \"Russia\" \"China\"  \"USA\"   \n",
      "\n",
      "[[5]]\n",
      "[1] 95\n",
      "\n",
      "[[6]]\n",
      "[1]  50  75  25 100 125\n",
      "\n",
      "[1] \"============================================\"\n",
      "[[1]]\n",
      "[1] \"Tutorial Gateway\"\n",
      "\n",
      "[[2]]\n",
      "[1] 95\n",
      "\n",
      "[[3]]\n",
      "[1]  50  75  25 100 125\n",
      "\n",
      "[1] \"============================================\"\n",
      "[[1]]\n",
      "[1] 10.25 30.75 20.45 40.85\n",
      "\n",
      "[[2]]\n",
      "[1] \"Tutorial Gateway\"\n",
      "\n",
      "[[3]]\n",
      "[1] \"India\"  \"Japan\"  \"Russia\" \"China\"  \"USA\"   \n",
      "\n",
      "[[4]]\n",
      "[1] 95\n",
      "\n",
      "[[5]]\n",
      "[1]  50  75  25 100 125\n",
      "\n",
      "[1] \"============================================\"\n",
      "[[1]]\n",
      "     [,1] [,2] [,3] [,4]\n",
      "[1,]    1    4    7   10\n",
      "[2,]    2    5    8   11\n",
      "[3,]    3    6    9   12\n",
      "\n",
      "[[2]]\n",
      "[1] 10.25 30.75 20.45 40.85\n",
      "\n",
      "[[3]]\n",
      "[1] \"Tutorial Gateway\"\n",
      "\n",
      "[[4]]\n",
      "[1] 95\n",
      "\n",
      "[[5]]\n",
      "[1]  50  75  25 100 125\n",
      "\n",
      "[1] \"============================================\"\n",
      "[[1]]\n",
      "[1] 10.25 30.75 20.45 40.85\n",
      "\n",
      "[[2]]\n",
      "[1] \"Tutorial Gateway\"\n",
      "\n",
      "[[3]]\n",
      "[1] \"India\"  \"Japan\"  \"Russia\" \"China\"  \"USA\"   \n",
      "\n",
      "[[4]]\n",
      "[1] 95\n",
      "\n"
     ]
    }
   ],
   "source": [
    "# Accessing R List Elements\n",
    "\n",
    "vect.a <- c(10.25, 30.75, 20.45, 40.85)\n",
    "vect.b <- c(\"India\", \"Japan\", \"Russia\", \"China\", \"USA\") \n",
    "vect.c <- c(50, 75, 25, 100, 125)\n",
    "\n",
    "A <- matrix(data = c(1:12), nrow = 3, ncol = 4)\n",
    "\n",
    "list.data <- list(A,\n",
    "                  vect.a,\n",
    "                  \"Tutorial Gateway\",\n",
    "                  vect.b,\n",
    "                  95,\n",
    "                  vect.c )\n",
    "print(list.data)\n",
    "print(\"============================================\")\n",
    "\n",
    "# Accessing List Element using Boolean Vector\n",
    "print(list.data[c(FALSE, FALSE, TRUE, FALSE, TRUE, TRUE)])\n",
    "print(\"============================================\")\n",
    "\n",
    "# Accessing All Element except 1\n",
    "print(list.data[-1])\n",
    "print(\"============================================\")\n",
    "\n",
    "# Accessing All Element except 4\n",
    "print(list.data[-4])\n",
    "print(\"============================================\")\n",
    "\n",
    "# Accessing All Element except 1 and 6th element\n",
    "print(list.data[c(-1, -6)])"
   ]
  },
  {
   "cell_type": "markdown",
   "metadata": {},
   "source": [
    "\n",
    "<div style=\"line-height:300%;\">\n",
    "    <font color=#9A0909 face=\"Sriracha\" size=6>\n",
    "                <div align=left>Manipulating List Elements</div>\n",
    "    </font>\n",
    "</div>"
   ]
  },
  {
   "cell_type": "markdown",
   "metadata": {},
   "source": [
    "<div style=\"line-height:200%;\">\n",
    "    <font color=black face=\"Candara\" size=4>\n",
    "                <div align=left>\n",
    "                    We can add, delete and update list elements as shown below. We can add and delete elements only at the end of a list. But we can update any element:\n",
    "                </div>\n",
    "    </font>\n",
    "</div>"
   ]
  },
  {
   "cell_type": "markdown",
   "metadata": {},
   "source": [
    "<div style=\"line-height:200%;\">\n",
    "    <font color=#076F9A face=\"Candara\" size=4>\n",
    "                <div align=left>\n",
    "                    <b>Example:</b>\n",
    "                </div>\n",
    "    </font>\n",
    "</div>"
   ]
  },
  {
   "cell_type": "code",
   "execution_count": 16,
   "metadata": {},
   "outputs": [
    {
     "name": "stdout",
     "output_type": "stream",
     "text": [
      "$`1st Quarter`\n",
      "[1] \"Jan\" \"Feb\" \"Mar\"\n",
      "\n",
      "$A_Matrix\n",
      "     [,1] [,2] [,3]\n",
      "[1,]    3    5   -2\n",
      "[2,]    9    1    8\n",
      "\n",
      "$`A Inner list`\n",
      "$`A Inner list`[[1]]\n",
      "[1] \"green\"\n",
      "\n",
      "$`A Inner list`[[2]]\n",
      "[1] 12.3\n",
      "\n",
      "\n",
      "[[4]]\n",
      "[1] \"New element\"\n",
      "\n",
      "======================================= \n",
      "$`1st Quarter`\n",
      "[1] \"Jan\" \"Feb\" \"Mar\"\n",
      "\n",
      "$A_Matrix\n",
      "     [,1] [,2] [,3]\n",
      "[1,]    3    5   -2\n",
      "[2,]    9    1    8\n",
      "\n",
      "$`A Inner list`\n",
      "$`A Inner list`[[1]]\n",
      "[1] \"green\"\n",
      "\n",
      "$`A Inner list`[[2]]\n",
      "[1] 12.3\n",
      "\n",
      "\n",
      "======================================= \n",
      "$<NA>\n",
      "NULL\n",
      "\n",
      "======================================= \n",
      "$`1st Quarter`\n",
      "[1] \"Jan\" \"Feb\" \"Mar\"\n",
      "\n",
      "$A_Matrix\n",
      "     [,1] [,2] [,3]\n",
      "[1,]    3    5   -2\n",
      "[2,]    9    1    8\n",
      "\n",
      "$`A Inner list`\n",
      "[1] \"updated element\"\n",
      "\n"
     ]
    }
   ],
   "source": [
    "# Create a list containing a vector, a matrix and a list.\n",
    "list_data <- list(c(\"Jan\", \"Feb\", \"Mar\"),\n",
    "                  matrix(data = c(3, 9, 5, 1, -2, 8), nrow = 2),\n",
    "                  list(\"green\", 12.3))\n",
    "\n",
    "# Give names to the elements in the list.\n",
    "names(list_data) <- c(\"1st Quarter\", \"A_Matrix\", \"A Inner list\")\n",
    "\n",
    "# Add element at the end of the list.\n",
    "list_data[4] <- \"New element\"\n",
    "print(list_data)\n",
    "cat(\"=======================================\",\"\\n\")\n",
    "\n",
    "# Remove the last element.\n",
    "list_data[4] <- NULL\n",
    "print(list_data)\n",
    "cat(\"=======================================\",\"\\n\")\n",
    "\n",
    "# Print the 4th Element.\n",
    "print(list_data[4])\n",
    "cat(\"=======================================\",\"\\n\")\n",
    "\n",
    "# Update the 3rd Element.\n",
    "list_data[3] <- \"updated element\"\n",
    "print(list_data)"
   ]
  },
  {
   "cell_type": "markdown",
   "metadata": {},
   "source": [
    "\n",
    "<div style=\"line-height:300%;\">\n",
    "    <font color=#9A0909 face=\"Sriracha\" size=6>\n",
    "                <div align=left>Merging Lists</div>\n",
    "    </font>\n",
    "</div>"
   ]
  },
  {
   "cell_type": "code",
   "execution_count": 17,
   "metadata": {
    "scrolled": true
   },
   "outputs": [
    {
     "name": "stdout",
     "output_type": "stream",
     "text": [
      "[[1]]\n",
      "[1] 1\n",
      "\n",
      "[[2]]\n",
      "[1] 2\n",
      "\n",
      "[[3]]\n",
      "[1] 3\n",
      "\n",
      "[[4]]\n",
      "[1] \"Sun\"\n",
      "\n",
      "[[5]]\n",
      "[1] \"Mon\"\n",
      "\n",
      "[[6]]\n",
      "[1] \"Tue\"\n",
      "\n"
     ]
    }
   ],
   "source": [
    "# Create two lists.\n",
    "list1 <- list(1, 2, 3)\n",
    "list2 <- list(\"Sun\", \"Mon\", \"Tue\")\n",
    "\n",
    "# Merge the two lists.\n",
    "merged.list <- c(list1,list2)\n",
    "\n",
    "# Print the merged list.\n",
    "print(merged.list)"
   ]
  },
  {
   "cell_type": "markdown",
   "metadata": {},
   "source": [
    "\n",
    "<div style=\"line-height:300%;\">\n",
    "    <font color=#9A0909 face=\"Sriracha\" size=6>\n",
    "                <div align=left>Converting List to Vector</div>\n",
    "    </font>\n",
    "</div>"
   ]
  },
  {
   "cell_type": "markdown",
   "metadata": {},
   "source": [
    "<div style=\"line-height:200%;\">\n",
    "    <font color=black face=\"Candara\" size=4>\n",
    "                <div align=left>\n",
    "                   A list can be converted to a vector so that the elements of the vector can be used for further manipulation. All the arithmetic operations on vectors can be applied after the list is converted into vectors. To do this conversion, we use the <mark>unlist() function</mark>. It takes the list as input and produces a vector:\n",
    "                </div>\n",
    "    </font>\n",
    "</div>"
   ]
  },
  {
   "cell_type": "code",
   "execution_count": 19,
   "metadata": {},
   "outputs": [
    {
     "name": "stdout",
     "output_type": "stream",
     "text": [
      "[[1]]\n",
      "[1] 1 2 3 4 5\n",
      "\n",
      "[[2]]\n",
      "[1] 10 11 12 13 14 15\n",
      "\n",
      "[[3]]\n",
      "[1] 1 2 3\n",
      "\n",
      " [1]  1  2  3  4  5 10 11 12 13 14 15  1  2  3\n"
     ]
    }
   ],
   "source": [
    "# Create lists.\n",
    "list1 <- list(1:5, 10:15, 1:3)\n",
    "print(list1)\n",
    "\n",
    "\n",
    "# Convert the lists to vectors.\n",
    "v1 <- unlist(list1)\n",
    "\n",
    "print(v1)"
   ]
  },
  {
   "cell_type": "markdown",
   "metadata": {},
   "source": [
    "\n",
    "<div style=\"line-height:300%;\">\n",
    "    <font color=#9A0909 face=\"Sriracha\" size=6>\n",
    "                <div align=left>How to access components of a list?</div>\n",
    "    </font>\n",
    "</div>"
   ]
  },
  {
   "cell_type": "markdown",
   "metadata": {},
   "source": [
    "<div style=\"line-height:200%;\">\n",
    "    <font color=black face=\"Candara\" size=4>\n",
    "                <div align=left>\n",
    "                   Lists can be accessed in similar fashion to vectors. Integer, logical or character vectors can be used for indexing. Let us consider a list as follows:\n",
    "                </div>\n",
    "    </font>\n",
    "</div>"
   ]
  },
  {
   "cell_type": "code",
   "execution_count": 29,
   "metadata": {},
   "outputs": [
    {
     "name": "stdout",
     "output_type": "stream",
     "text": [
      "$int\n",
      "[1] 2.5\n",
      "\n",
      "$log\n",
      "[1] TRUE\n",
      "\n",
      "$vector\n",
      "[1] 1 2 3 4 5\n",
      "\n",
      "$str\n",
      "[1] \"Hello\"\n",
      "\n",
      "$matrix\n",
      "     [,1] [,2]\n",
      "[1,]    1    3\n",
      "[2,]    2    4\n",
      "\n"
     ]
    }
   ],
   "source": [
    "x <- list(2.5,\n",
    "          TRUE,\n",
    "          1:5,\n",
    "          \"Hello\",\n",
    "          matrix(data = 1:4, nrow = 2))\n",
    "\n",
    "names(x) <- c(\"int\", \"log\", \"vector\", \"str\", \"matrix\")\n",
    "\n",
    "print(x)"
   ]
  },
  {
   "cell_type": "code",
   "execution_count": 30,
   "metadata": {},
   "outputs": [
    {
     "data": {
      "text/html": [
       "<dl>\n",
       "\t<dt>$int</dt>\n",
       "\t\t<dd>2.5</dd>\n",
       "\t<dt>$log</dt>\n",
       "\t\t<dd>TRUE</dd>\n",
       "</dl>\n"
      ],
      "text/latex": [
       "\\begin{description}\n",
       "\\item[\\$int] 2.5\n",
       "\\item[\\$log] TRUE\n",
       "\\end{description}\n"
      ],
      "text/markdown": [
       "$int\n",
       ":   2.5\n",
       "$log\n",
       ":   TRUE\n",
       "\n",
       "\n"
      ],
      "text/plain": [
       "$int\n",
       "[1] 2.5\n",
       "\n",
       "$log\n",
       "[1] TRUE\n"
      ]
     },
     "metadata": {},
     "output_type": "display_data"
    },
    {
     "data": {
      "text/html": [
       "'list'"
      ],
      "text/latex": [
       "'list'"
      ],
      "text/markdown": [
       "'list'"
      ],
      "text/plain": [
       "[1] \"list\""
      ]
     },
     "metadata": {},
     "output_type": "display_data"
    },
    {
     "data": {
      "text/html": [
       "'list'"
      ],
      "text/latex": [
       "'list'"
      ],
      "text/markdown": [
       "'list'"
      ],
      "text/plain": [
       "[1] \"list\""
      ]
     },
     "metadata": {},
     "output_type": "display_data"
    }
   ],
   "source": [
    "x[c(1:2)] # index using integer vector\n",
    "\n",
    "typeof(x[c(1:2)])\n",
    "class(x[c(1:2)])"
   ]
  },
  {
   "cell_type": "code",
   "execution_count": 31,
   "metadata": {},
   "outputs": [
    {
     "data": {
      "text/html": [
       "<dl>\n",
       "\t<dt>$int</dt>\n",
       "\t\t<dd>2.5</dd>\n",
       "\t<dt>$vector</dt>\n",
       "\t\t<dd><ol class=list-inline>\n",
       "\t<li>1</li>\n",
       "\t<li>2</li>\n",
       "\t<li>3</li>\n",
       "\t<li>4</li>\n",
       "\t<li>5</li>\n",
       "</ol>\n",
       "</dd>\n",
       "\t<dt>$str</dt>\n",
       "\t\t<dd>'Hello'</dd>\n",
       "\t<dt>$matrix</dt>\n",
       "\t\t<dd><table>\n",
       "<tbody>\n",
       "\t<tr><td>1</td><td>3</td></tr>\n",
       "\t<tr><td>2</td><td>4</td></tr>\n",
       "</tbody>\n",
       "</table>\n",
       "</dd>\n",
       "</dl>\n"
      ],
      "text/latex": [
       "\\begin{description}\n",
       "\\item[\\$int] 2.5\n",
       "\\item[\\$vector] \\begin{enumerate*}\n",
       "\\item 1\n",
       "\\item 2\n",
       "\\item 3\n",
       "\\item 4\n",
       "\\item 5\n",
       "\\end{enumerate*}\n",
       "\n",
       "\\item[\\$str] 'Hello'\n",
       "\\item[\\$matrix] \\begin{tabular}{ll}\n",
       "\t 1 & 3\\\\\n",
       "\t 2 & 4\\\\\n",
       "\\end{tabular}\n",
       "\n",
       "\\end{description}\n"
      ],
      "text/markdown": [
       "$int\n",
       ":   2.5\n",
       "$vector\n",
       ":   1. 1\n",
       "2. 2\n",
       "3. 3\n",
       "4. 4\n",
       "5. 5\n",
       "\n",
       "\n",
       "\n",
       "$str\n",
       ":   'Hello'\n",
       "$matrix\n",
       ":   \n",
       "| 1 | 3 |\n",
       "| 2 | 4 |\n",
       "\n",
       "\n",
       "\n",
       "\n"
      ],
      "text/plain": [
       "$int\n",
       "[1] 2.5\n",
       "\n",
       "$vector\n",
       "[1] 1 2 3 4 5\n",
       "\n",
       "$str\n",
       "[1] \"Hello\"\n",
       "\n",
       "$matrix\n",
       "     [,1] [,2]\n",
       "[1,]    1    3\n",
       "[2,]    2    4\n"
      ]
     },
     "metadata": {},
     "output_type": "display_data"
    },
    {
     "data": {
      "text/html": [
       "'list'"
      ],
      "text/latex": [
       "'list'"
      ],
      "text/markdown": [
       "'list'"
      ],
      "text/plain": [
       "[1] \"list\""
      ]
     },
     "metadata": {},
     "output_type": "display_data"
    }
   ],
   "source": [
    "x[-2] # using negative integer to exclude second component\n",
    "\n",
    "class(x[-2] )"
   ]
  },
  {
   "cell_type": "code",
   "execution_count": 32,
   "metadata": {},
   "outputs": [
    {
     "data": {
      "text/html": [
       "<dl>\n",
       "\t<dt>$int</dt>\n",
       "\t\t<dd>2.5</dd>\n",
       "\t<dt>$matrix</dt>\n",
       "\t\t<dd><table>\n",
       "<tbody>\n",
       "\t<tr><td>1</td><td>3</td></tr>\n",
       "\t<tr><td>2</td><td>4</td></tr>\n",
       "</tbody>\n",
       "</table>\n",
       "</dd>\n",
       "</dl>\n"
      ],
      "text/latex": [
       "\\begin{description}\n",
       "\\item[\\$int] 2.5\n",
       "\\item[\\$matrix] \\begin{tabular}{ll}\n",
       "\t 1 & 3\\\\\n",
       "\t 2 & 4\\\\\n",
       "\\end{tabular}\n",
       "\n",
       "\\end{description}\n"
      ],
      "text/markdown": [
       "$int\n",
       ":   2.5\n",
       "$matrix\n",
       ":   \n",
       "| 1 | 3 |\n",
       "| 2 | 4 |\n",
       "\n",
       "\n",
       "\n",
       "\n"
      ],
      "text/plain": [
       "$int\n",
       "[1] 2.5\n",
       "\n",
       "$matrix\n",
       "     [,1] [,2]\n",
       "[1,]    1    3\n",
       "[2,]    2    4\n"
      ]
     },
     "metadata": {},
     "output_type": "display_data"
    },
    {
     "data": {
      "text/html": [
       "'list'"
      ],
      "text/latex": [
       "'list'"
      ],
      "text/markdown": [
       "'list'"
      ],
      "text/plain": [
       "[1] \"list\""
      ]
     },
     "metadata": {},
     "output_type": "display_data"
    }
   ],
   "source": [
    "x[c(T, F, F, F, T)] # index using logical vector\n",
    "\n",
    "class(x[c(T, F, F, F, T)])"
   ]
  },
  {
   "cell_type": "code",
   "execution_count": 33,
   "metadata": {
    "scrolled": true
   },
   "outputs": [
    {
     "data": {
      "text/html": [
       "<dl>\n",
       "\t<dt>$int</dt>\n",
       "\t\t<dd>2.5</dd>\n",
       "\t<dt>$matrix</dt>\n",
       "\t\t<dd><table>\n",
       "<tbody>\n",
       "\t<tr><td>1</td><td>3</td></tr>\n",
       "\t<tr><td>2</td><td>4</td></tr>\n",
       "</tbody>\n",
       "</table>\n",
       "</dd>\n",
       "</dl>\n"
      ],
      "text/latex": [
       "\\begin{description}\n",
       "\\item[\\$int] 2.5\n",
       "\\item[\\$matrix] \\begin{tabular}{ll}\n",
       "\t 1 & 3\\\\\n",
       "\t 2 & 4\\\\\n",
       "\\end{tabular}\n",
       "\n",
       "\\end{description}\n"
      ],
      "text/markdown": [
       "$int\n",
       ":   2.5\n",
       "$matrix\n",
       ":   \n",
       "| 1 | 3 |\n",
       "| 2 | 4 |\n",
       "\n",
       "\n",
       "\n",
       "\n"
      ],
      "text/plain": [
       "$int\n",
       "[1] 2.5\n",
       "\n",
       "$matrix\n",
       "     [,1] [,2]\n",
       "[1,]    1    3\n",
       "[2,]    2    4\n"
      ]
     },
     "metadata": {},
     "output_type": "display_data"
    },
    {
     "data": {
      "text/html": [
       "'list'"
      ],
      "text/latex": [
       "'list'"
      ],
      "text/markdown": [
       "'list'"
      ],
      "text/plain": [
       "[1] \"list\""
      ]
     },
     "metadata": {},
     "output_type": "display_data"
    }
   ],
   "source": [
    "x[c(\"int\",\"matrix\")] # index using character vector\n",
    "\n",
    "class(x[c(\"int\",\"matrix\")])"
   ]
  },
  {
   "cell_type": "markdown",
   "metadata": {},
   "source": [
    "<div style=\"line-height:200%;\">\n",
    "    <font color=black face=\"Candara\" size=4>\n",
    "                <div align=left>\n",
    "                   Indexing with <mark>[</mark> as shown above will give us <mark>Sublist</mark> not the <mark>content inside the component</mark>. To retrieve the content, we need to use <mark>[[</mark>.\n",
    "\n",
    "<b>However, this approach will allow us to access only a single component at a time.</b>\n",
    "                </div>\n",
    "    </font>\n",
    "</div>"
   ]
  },
  {
   "cell_type": "code",
   "execution_count": 35,
   "metadata": {},
   "outputs": [
    {
     "data": {
      "text/html": [
       "<strong>$int</strong> = 2.5"
      ],
      "text/latex": [
       "\\textbf{\\$int} = 2.5"
      ],
      "text/markdown": [
       "**$int** = 2.5"
      ],
      "text/plain": [
       "$int\n",
       "[1] 2.5\n"
      ]
     },
     "metadata": {},
     "output_type": "display_data"
    },
    {
     "data": {
      "text/html": [
       "'list'"
      ],
      "text/latex": [
       "'list'"
      ],
      "text/markdown": [
       "'list'"
      ],
      "text/plain": [
       "[1] \"list\""
      ]
     },
     "metadata": {},
     "output_type": "display_data"
    }
   ],
   "source": [
    "x[\"int\"]\n",
    "\n",
    "typeof(x[\"int\"])"
   ]
  },
  {
   "cell_type": "code",
   "execution_count": 36,
   "metadata": {
    "scrolled": true
   },
   "outputs": [
    {
     "data": {
      "text/html": [
       "2.5"
      ],
      "text/latex": [
       "2.5"
      ],
      "text/markdown": [
       "2.5"
      ],
      "text/plain": [
       "[1] 2.5"
      ]
     },
     "metadata": {},
     "output_type": "display_data"
    },
    {
     "data": {
      "text/html": [
       "'double'"
      ],
      "text/latex": [
       "'double'"
      ],
      "text/markdown": [
       "'double'"
      ],
      "text/plain": [
       "[1] \"double\""
      ]
     },
     "metadata": {},
     "output_type": "display_data"
    }
   ],
   "source": [
    "x[[\"int\"]]\n",
    "\n",
    "typeof(x[[\"int\"]])"
   ]
  },
  {
   "cell_type": "markdown",
   "metadata": {},
   "source": [
    "<div style=\"line-height:200%;\">\n",
    "    <font color=black face=\"Candara\" size=4>\n",
    "                <div align=left>\n",
    "                    An alternative to <mark>[[</mark>, which is used often while accessing content of a list is the $ operator.\n",
    "                </div>\n",
    "    </font>\n",
    "</div>"
   ]
  },
  {
   "cell_type": "code",
   "execution_count": 39,
   "metadata": {},
   "outputs": [
    {
     "data": {
      "text/html": [
       "<ol class=list-inline>\n",
       "\t<li>1</li>\n",
       "\t<li>2</li>\n",
       "\t<li>3</li>\n",
       "\t<li>4</li>\n",
       "\t<li>5</li>\n",
       "</ol>\n"
      ],
      "text/latex": [
       "\\begin{enumerate*}\n",
       "\\item 1\n",
       "\\item 2\n",
       "\\item 3\n",
       "\\item 4\n",
       "\\item 5\n",
       "\\end{enumerate*}\n"
      ],
      "text/markdown": [
       "1. 1\n",
       "2. 2\n",
       "3. 3\n",
       "4. 4\n",
       "5. 5\n",
       "\n",
       "\n"
      ],
      "text/plain": [
       "[1] 1 2 3 4 5"
      ]
     },
     "metadata": {},
     "output_type": "display_data"
    },
    {
     "data": {
      "text/html": [
       "'integer'"
      ],
      "text/latex": [
       "'integer'"
      ],
      "text/markdown": [
       "'integer'"
      ],
      "text/plain": [
       "[1] \"integer\""
      ]
     },
     "metadata": {},
     "output_type": "display_data"
    },
    {
     "data": {
      "text/html": [
       "'integer'"
      ],
      "text/latex": [
       "'integer'"
      ],
      "text/markdown": [
       "'integer'"
      ],
      "text/plain": [
       "[1] \"integer\""
      ]
     },
     "metadata": {},
     "output_type": "display_data"
    }
   ],
   "source": [
    "x$vector    # same as x[[\"vector\"]]\n",
    "typeof(x$vector)\n",
    "class(x$vector)"
   ]
  },
  {
   "cell_type": "code",
   "execution_count": 40,
   "metadata": {},
   "outputs": [
    {
     "data": {
      "text/html": [
       "<ol class=list-inline>\n",
       "\t<li>1</li>\n",
       "\t<li>2</li>\n",
       "\t<li>3</li>\n",
       "\t<li>4</li>\n",
       "\t<li>5</li>\n",
       "</ol>\n"
      ],
      "text/latex": [
       "\\begin{enumerate*}\n",
       "\\item 1\n",
       "\\item 2\n",
       "\\item 3\n",
       "\\item 4\n",
       "\\item 5\n",
       "\\end{enumerate*}\n"
      ],
      "text/markdown": [
       "1. 1\n",
       "2. 2\n",
       "3. 3\n",
       "4. 4\n",
       "5. 5\n",
       "\n",
       "\n"
      ],
      "text/plain": [
       "[1] 1 2 3 4 5"
      ]
     },
     "metadata": {},
     "output_type": "display_data"
    }
   ],
   "source": [
    "x$v"
   ]
  },
  {
   "cell_type": "code",
   "execution_count": 41,
   "metadata": {},
   "outputs": [
    {
     "data": {
      "text/plain": [
       "NULL"
      ]
     },
     "metadata": {},
     "output_type": "display_data"
    }
   ],
   "source": [
    " x[[\"v\"]]  "
   ]
  },
  {
   "cell_type": "code",
   "execution_count": 42,
   "metadata": {},
   "outputs": [
    {
     "data": {
      "text/html": [
       "3"
      ],
      "text/latex": [
       "3"
      ],
      "text/markdown": [
       "3"
      ],
      "text/plain": [
       "[1] 3"
      ]
     },
     "metadata": {},
     "output_type": "display_data"
    }
   ],
   "source": [
    "x$vector[3]"
   ]
  },
  {
   "cell_type": "code",
   "execution_count": 43,
   "metadata": {},
   "outputs": [
    {
     "data": {
      "text/html": [
       "3"
      ],
      "text/latex": [
       "3"
      ],
      "text/markdown": [
       "3"
      ],
      "text/plain": [
       "[1] 3"
      ]
     },
     "metadata": {},
     "output_type": "display_data"
    }
   ],
   "source": [
    "x[[\"vector\"]][3]"
   ]
  },
  {
   "cell_type": "code",
   "execution_count": 44,
   "metadata": {},
   "outputs": [
    {
     "data": {
      "text/plain": [
       "$<NA>\n",
       "NULL\n"
      ]
     },
     "metadata": {},
     "output_type": "display_data"
    }
   ],
   "source": [
    "x[\"vector\"][3]"
   ]
  }
 ],
 "metadata": {
  "kernelspec": {
   "display_name": "R",
   "language": "R",
   "name": "ir"
  },
  "language_info": {
   "codemirror_mode": "r",
   "file_extension": ".r",
   "mimetype": "text/x-r-source",
   "name": "R",
   "pygments_lexer": "r",
   "version": "3.6.1"
  }
 },
 "nbformat": 4,
 "nbformat_minor": 2
}
