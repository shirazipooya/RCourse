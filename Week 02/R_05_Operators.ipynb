{
 "cells": [
  {
   "cell_type": "markdown",
   "metadata": {},
   "source": [
    "\n",
    "<div>        \n",
    "    <img src=\"..\\Week 01\\img\\R_logo.svg\" width=\"100\"/>  \n",
    "</div>\n",
    "\n",
    "<div style=\"line-height:600%;\">\n",
    "    <font color=#1363E1 face=\"Sriracha\" size=8>\n",
    "            <div align=center>OPERATORS</div>\n",
    "    </font>    \n",
    "</div>\n"
   ]
  },
  {
   "cell_type": "markdown",
   "metadata": {},
   "source": [
    "<div style=\"line-height:200%;\">\n",
    "    <font color=black face=\"Candara\" size=4>\n",
    "                <div align=justify>\n",
    "An operator is a symbol that tells the compiler to perform specific <mark>mathematical or logical manipulations</mark>. <ins>R language</ins> is rich in built-in operators and provides following types of operators.\n",
    "                </div>\n",
    "    </font>\n",
    "    <br>\n",
    "    <font color=black face=\"Sriracha\" size=5>\n",
    "                <div align=left>\n",
    "                    Types of Operators:\n",
    "                </div>\n",
    "    </font>\n",
    "    <font color=black face=\"Candara\" size=4>\n",
    "                <div align=left>\n",
    "                    <ul>\n",
    "                        <li>Arithmetic Operators</li>\n",
    "                        <li>Relational Operators</li>\n",
    "                        <li>Logical Operators</li>\n",
    "                        <li>Assignment Operators</li>\n",
    "                        <li>Miscellaneous Operators</li>\n",
    "                    </ul>\n",
    "                </div>\n",
    "    </font>\n",
    "</div>"
   ]
  },
  {
   "cell_type": "markdown",
   "metadata": {},
   "source": [
    "<div>        \n",
    "    <img src=\"..\\Week 02\\img\\ope_pre.png\" width=\"400\"/>  \n",
    "</div>\n"
   ]
  },
  {
   "cell_type": "markdown",
   "metadata": {},
   "source": [
    "<div style=\"line-height:300%;\">\n",
    "    <font color=#9A0909 face=\"Sriracha\" size=6>\n",
    "                <div align=left>Arithmetic Operators</div>\n",
    "    </font>\n",
    "</div>"
   ]
  },
  {
   "cell_type": "markdown",
   "metadata": {},
   "source": [
    "<div style=\"line-height:200%;\">\n",
    "    <font color=black face=\"Candara\" size=4>\n",
    "                <div align=left>\n",
    "Following table shows the arithmetic operators supported by R language. The operators act on <mark>each element of the vector</mark>.\n",
    "                </div>\n",
    "    </font>\n",
    "</div>\n",
    "\n",
    "\n"
   ]
  },
  {
   "cell_type": "markdown",
   "metadata": {},
   "source": [
    "<div>        \n",
    "    <img src=\"..\\Week 02\\img\\R_arithmetic_operators.png\" width=\"400\"/>  \n",
    "</div>\n"
   ]
  },
  {
   "cell_type": "markdown",
   "metadata": {},
   "source": [
    "<div style=\"line-height:200%;\">\n",
    "    <font color=#076F9A face=\"Candara\" size=4>\n",
    "                <div align=left>\n",
    "                    <b><mark>+</mark> : Adds Two Vectors</b>\n",
    "                </div>\n",
    "    </font>\n",
    "</div>"
   ]
  },
  {
   "cell_type": "code",
   "execution_count": 6,
   "metadata": {
    "scrolled": true
   },
   "outputs": [
    {
     "name": "stdout",
     "output_type": "stream",
     "text": [
      "[1] 5 7 9\n",
      "[1] 5 7 9\n"
     ]
    }
   ],
   "source": [
    "v <- c(1, 2, 3)\n",
    "\n",
    "t <- c(4, 5, 6)\n",
    "\n",
    "print(v + t)\n",
    "\n",
    "z <- v + t\n",
    "print(z)"
   ]
  },
  {
   "cell_type": "markdown",
   "metadata": {},
   "source": [
    "<div>        \n",
    "    <img src=\"..\\Week 02\\img\\Add.png\" width=\"150\"/>  \n",
    "</div>"
   ]
  },
  {
   "cell_type": "markdown",
   "metadata": {},
   "source": [
    "<div style=\"line-height:200%;\">\n",
    "    <font color=#076F9A face=\"Candara\" size=4>\n",
    "                <div align=left>\n",
    "                    <b><mark>-</mark> : Subtracts Second Vector From The First</b>\n",
    "                </div>\n",
    "    </font>\n",
    "</div>"
   ]
  },
  {
   "cell_type": "code",
   "execution_count": 9,
   "metadata": {
    "scrolled": true
   },
   "outputs": [
    {
     "name": "stdout",
     "output_type": "stream",
     "text": [
      "[1] -3 -3 -3\n"
     ]
    }
   ],
   "source": [
    "v <- c(1, 2, 3)\n",
    "\n",
    "t <- c(4, 5, 6)\n",
    "\n",
    "print(v - t)"
   ]
  },
  {
   "cell_type": "markdown",
   "metadata": {},
   "source": [
    "<div style=\"line-height:200%;\">\n",
    "    <font color=#076F9A face=\"Candara\" size=4>\n",
    "                <div align=left>\n",
    "                    <b><mark>*</mark> : Multiplies Both Vectors</b>\n",
    "                </div>\n",
    "    </font>\n",
    "</div>"
   ]
  },
  {
   "cell_type": "code",
   "execution_count": 15,
   "metadata": {
    "scrolled": true
   },
   "outputs": [
    {
     "name": "stdout",
     "output_type": "stream",
     "text": [
      "[1]  4 10 18 NA 32\n"
     ]
    }
   ],
   "source": [
    "v <- c(1, 2, 3, NA, 4)\n",
    "\n",
    "t <- c(4, 5, 6, 7, 8)\n",
    "\n",
    "print(v * t)"
   ]
  },
  {
   "cell_type": "markdown",
   "metadata": {},
   "source": [
    "<div style=\"line-height:200%;\">\n",
    "    <font color=#076F9A face=\"Candara\" size=4>\n",
    "                <div align=left>\n",
    "                    <b><mark>/</mark> : Divide The First Vector With The Second</b>\n",
    "                </div>\n",
    "    </font>\n",
    "</div>"
   ]
  },
  {
   "cell_type": "code",
   "execution_count": 16,
   "metadata": {
    "scrolled": true
   },
   "outputs": [
    {
     "name": "stdout",
     "output_type": "stream",
     "text": [
      "[1] 0.25 0.40 0.50\n"
     ]
    }
   ],
   "source": [
    "v <- c(1, 2, 3)\n",
    "\n",
    "t <- c(4, 5, 6)\n",
    "\n",
    "print(v / t)"
   ]
  },
  {
   "cell_type": "markdown",
   "metadata": {},
   "source": [
    "<div style=\"line-height:200%;\">\n",
    "    <font color=#076F9A face=\"Candara\" size=4>\n",
    "                <div align=left>\n",
    "                    <b><mark>%%</mark> : Give The Remainder Of The First Vector With The Second</b>\n",
    "                </div>\n",
    "    </font>\n",
    "</div>"
   ]
  },
  {
   "cell_type": "code",
   "execution_count": 19,
   "metadata": {
    "scrolled": true
   },
   "outputs": [
    {
     "name": "stdout",
     "output_type": "stream",
     "text": [
      "[1] 79\n",
      "[1] 2 0 4\n"
     ]
    }
   ],
   "source": [
    "v <- c(10, 20, 34)\n",
    "\n",
    "t <- c(4, 5, 6)\n",
    "\n",
    "print(v %% t)"
   ]
  },
  {
   "cell_type": "markdown",
   "metadata": {},
   "source": [
    "<div style=\"line-height:200%;\">\n",
    "    <font color=#076F9A face=\"Candara\" size=4>\n",
    "                <div align=left>\n",
    "                    <b><mark>%/%</mark>: The Result Of Division Of First Vector With Second (Quotient)</b>\n",
    "                </div>\n",
    "    </font>\n",
    "</div>"
   ]
  },
  {
   "cell_type": "code",
   "execution_count": 7,
   "metadata": {
    "scrolled": true
   },
   "outputs": [
    {
     "name": "stdout",
     "output_type": "stream",
     "text": [
      "[1] 2 4 5\n"
     ]
    }
   ],
   "source": [
    "v <- c(10, 20, 34)\n",
    "\n",
    "t <- c(4, 5, 6)\n",
    "\n",
    "print(v %/%t)"
   ]
  },
  {
   "cell_type": "markdown",
   "metadata": {},
   "source": [
    "<div style=\"line-height:200%;\">\n",
    "    <font color=#076F9A face=\"Candara\" size=4>\n",
    "                <div align=left>\n",
    "                    <b><mark>^</mark> : The First Vector Raised To The Exponent Of Second Vector</b>\n",
    "                </div>\n",
    "    </font>\n",
    "</div>"
   ]
  },
  {
   "cell_type": "code",
   "execution_count": 18,
   "metadata": {
    "scrolled": true
   },
   "outputs": [
    {
     "name": "stdout",
     "output_type": "stream",
     "text": [
      "[1]   1  32 729\n"
     ]
    }
   ],
   "source": [
    "v <- c(1, 2, 3)\n",
    "\n",
    "t <- c(4, 5, 6)\n",
    "\n",
    "print(v ^ t)"
   ]
  },
  {
   "cell_type": "markdown",
   "metadata": {},
   "source": [
    "<div style=\"line-height:300%;\">\n",
    "    <font color=#9A0909 face=\"Sriracha\" size=6>\n",
    "                <div align=left>Relational Operators</div>\n",
    "    </font>\n",
    "</div>"
   ]
  },
  {
   "cell_type": "markdown",
   "metadata": {},
   "source": [
    "<div style=\"line-height:200%;\">\n",
    "    <font color=black face=\"Candara\" size=4>\n",
    "                <div align=left>\n",
    "Following table shows the <mark>relational operators</mark> supported by R language. Each element of the first vector is <mark>compared</mark> with the corresponding element of the second vector. The result of comparison is a <mark>Boolean value</mark>.\n",
    "                </div>\n",
    "    </font>\n",
    "</div>\n",
    "\n",
    "\n",
    "\n"
   ]
  },
  {
   "cell_type": "markdown",
   "metadata": {},
   "source": [
    "<div>        \n",
    "    <img src=\"..\\Week 02\\img\\R_rel_ope.png\" width=\"400\"/>  \n",
    "</div>\n"
   ]
  },
  {
   "cell_type": "markdown",
   "metadata": {},
   "source": [
    "\n",
    "<div style=\"line-height:200%;\">\n",
    "    <font color=#076F9A face=\"Candara\" size=4>\n",
    "                <div align=left>\n",
    "                    <b><mark>></mark> : Checks If Each Element Of The First Vector Is Greater Than The Corresponding Element Of The Second Vector</b>\n",
    "                </div>\n",
    "    </font>\n",
    "</div>"
   ]
  },
  {
   "cell_type": "code",
   "execution_count": 21,
   "metadata": {
    "scrolled": false
   },
   "outputs": [
    {
     "name": "stdout",
     "output_type": "stream",
     "text": [
      "[1]  TRUE FALSE FALSE\n"
     ]
    }
   ],
   "source": [
    "v <- c(10, 2, 3)\n",
    "\n",
    "t <- c(4, 5, 3)\n",
    "\n",
    "print(v > t)"
   ]
  },
  {
   "cell_type": "markdown",
   "metadata": {},
   "source": [
    "<div>        \n",
    "    <img src=\"..\\Week 02\\img\\greaterThan.png\" width=\"150\"/>  \n",
    "</div>"
   ]
  },
  {
   "cell_type": "markdown",
   "metadata": {},
   "source": [
    "<div style=\"line-height:200%;\">\n",
    "    <font color=#076F9A  face=\"Candara\" size=4>\n",
    "                <div align=left>\n",
    "                    <b><mark><</mark> : Checks If Each Element Of The First Vector Is Less Than The Corresponding Element Of The Second Vector</b>\n",
    "                </div>\n",
    "    </font>\n",
    "</div>"
   ]
  },
  {
   "cell_type": "code",
   "execution_count": 22,
   "metadata": {
    "scrolled": false
   },
   "outputs": [
    {
     "name": "stdout",
     "output_type": "stream",
     "text": [
      "[1] FALSE  TRUE FALSE\n"
     ]
    }
   ],
   "source": [
    "v <- c(10, 2, 3)\n",
    "\n",
    "t <- c(4, 5, 3)\n",
    "\n",
    "print(v < t)"
   ]
  },
  {
   "cell_type": "markdown",
   "metadata": {},
   "source": [
    "\n",
    "<div style=\"line-height:200%;\">\n",
    "    <font color=#076F9A  face=\"Candara\" size=4>\n",
    "                <div align=left>\n",
    "                    <b><mark>>=</mark> : Checks If Each Element Of The First Vector Is Greater Than Or Equal To The Corresponding Element Of The Second Vector</b>\n",
    "                </div>\n",
    "    </font>\n",
    "</div>"
   ]
  },
  {
   "cell_type": "code",
   "execution_count": 23,
   "metadata": {
    "scrolled": false
   },
   "outputs": [
    {
     "name": "stdout",
     "output_type": "stream",
     "text": [
      "[1]  TRUE FALSE  TRUE\n"
     ]
    }
   ],
   "source": [
    "v <- c(10, 2, 3)\n",
    "\n",
    "t <- c(4, 5, 3)\n",
    "\n",
    "print(v >= t)"
   ]
  },
  {
   "cell_type": "markdown",
   "metadata": {},
   "source": [
    "\n",
    "<div style=\"line-height:200%;\">\n",
    "    <font color=#076F9A  face=\"Candara\" size=4>\n",
    "                <div align=left>\n",
    "                    <b><mark><=</mark> : Checks If Each Element Of The First Vector Is Less Than Or Equal To The Corresponding Element Of The Second Vector</b>\n",
    "                </div>\n",
    "    </font>\n",
    "</div>"
   ]
  },
  {
   "cell_type": "code",
   "execution_count": 6,
   "metadata": {
    "scrolled": false
   },
   "outputs": [
    {
     "name": "stdout",
     "output_type": "stream",
     "text": [
      "[1] FALSE  TRUE  TRUE\n"
     ]
    }
   ],
   "source": [
    "v <- c(10, 2, 3)\n",
    "\n",
    "t <- c(4, 5, 3)\n",
    "\n",
    "print(v <= t)"
   ]
  },
  {
   "cell_type": "markdown",
   "metadata": {},
   "source": [
    "\n",
    "<div style=\"line-height:200%;\">\n",
    "    <font color=#076F9A  face=\"Candara\" size=4>\n",
    "                <div align=left>\n",
    "                    <b><mark>==</mark> : Checks If Each Element Of The First Vector Is Equal To The Corresponding Element Of The Second Vector</b>\n",
    "                </div>\n",
    "    </font>\n",
    "</div>"
   ]
  },
  {
   "cell_type": "code",
   "execution_count": 17,
   "metadata": {
    "scrolled": false
   },
   "outputs": [
    {
     "name": "stdout",
     "output_type": "stream",
     "text": [
      "[1] FALSE FALSE  TRUE\n"
     ]
    }
   ],
   "source": [
    "v <- c(10, 2, 3)\n",
    "\n",
    "t <- c(4, 5, 3)\n",
    "\n",
    "print(v == t)"
   ]
  },
  {
   "cell_type": "markdown",
   "metadata": {},
   "source": [
    "\n",
    "<div style=\"line-height:200%;\">\n",
    "    <font color=#076F9A  face=\"Candara\" size=4>\n",
    "                <div align=left>\n",
    "                    <b><mark>!=</mark> : Checks If Each Element Of The First Vector Is Unequal To The Corresponding Element Of The Second Vector</b>\n",
    "                </div>\n",
    "    </font>\n",
    "</div>"
   ]
  },
  {
   "cell_type": "code",
   "execution_count": 7,
   "metadata": {
    "scrolled": true
   },
   "outputs": [
    {
     "name": "stdout",
     "output_type": "stream",
     "text": [
      "[1]  TRUE  TRUE FALSE\n"
     ]
    }
   ],
   "source": [
    "v <- c(10, 2, 3)\n",
    "\n",
    "t <- c(4, 5, 3)\n",
    "\n",
    "print(v != t)"
   ]
  },
  {
   "cell_type": "markdown",
   "metadata": {},
   "source": [
    "\n",
    "<div style=\"line-height:300%;\">\n",
    "    <font color=#9A0909 face=\"Sriracha\" size=6>\n",
    "                <div align=left>Logical Operators</div>\n",
    "    </font>\n",
    "</div>"
   ]
  },
  {
   "cell_type": "markdown",
   "metadata": {},
   "source": [
    "\n",
    "<div style=\"line-height:200%;\">\n",
    "    <font color=black face=\"Candara\" size=4>\n",
    "                <div align=left>\n",
    "Following table shows the <mark>Logical Operators</mark> supported by R language. It is applicable only to <mark>vectors of type logical, numeric or complex</mark>. <b>All numbers greater than 1 are considered as logical value TRUE</b>.\n",
    "\n",
    "Each element of the first vector is compared with the corresponding element of the second vector. The result of comparison is a <mark>Boolean Value</mark>.\n",
    "                </div>\n",
    "    </font>\n",
    "</div>\n",
    "\n",
    "\n",
    "\n",
    "\n",
    "\n",
    "\n",
    "\n",
    "\n"
   ]
  },
  {
   "cell_type": "markdown",
   "metadata": {},
   "source": [
    "<div>        \n",
    "    <img src=\"..\\Week 02\\img\\R_log_ope.png\" width=\"400\"/>  \n",
    "</div>"
   ]
  },
  {
   "cell_type": "markdown",
   "metadata": {},
   "source": [
    "\n",
    "<div style=\"line-height:200%;\">\n",
    "    <font color=#076F9A  face=\"Candara\" size=4>\n",
    "                <div align=left>\n",
    "                    <b><mark>&</mark> : It is called <ins>Element-wise Logical AND operator</ins>. It combines each element of the first vector with the corresponding element of the second vector and gives a output <ins>TRUE if both the elements are TRUE</ins>.</b>\n",
    "                </div>\n",
    "    </font>\n",
    "</div>"
   ]
  },
  {
   "cell_type": "code",
   "execution_count": 9,
   "metadata": {
    "scrolled": false
   },
   "outputs": [
    {
     "name": "stdout",
     "output_type": "stream",
     "text": [
      "[1]  TRUE  TRUE FALSE FALSE  TRUE\n"
     ]
    }
   ],
   "source": [
    "v <- c(-1, 1, 0, TRUE, 2+3i)\n",
    "\n",
    "t <- c(4, 1, 5, FALSE, 3+9i)\n",
    "\n",
    "print(v & t)"
   ]
  },
  {
   "cell_type": "markdown",
   "metadata": {},
   "source": [
    "<div>        \n",
    "    <img src=\"..\\Week 02\\img\\and.png\" width=\"500\"/>  \n",
    "</div>"
   ]
  },
  {
   "cell_type": "markdown",
   "metadata": {},
   "source": [
    "| CONDITION 1 | CONDITION 2 | CONDITION 1 && CONDITION 2 |\n",
    "| :--------------:| :--------------: | :------: |\n",
    "| TRUE | TRUE | TRUE |\n",
    "| TRUE | FALSE | FALSE |\n",
    "| FALSE | TRUE | FALSE |\n",
    "| FALSE | FALSE | FALSE |"
   ]
  },
  {
   "cell_type": "markdown",
   "metadata": {},
   "source": [
    "\n",
    "<div style=\"line-height:200%;\">\n",
    "    <font color=#076F9A  face=\"Candara\" size=4>\n",
    "                <div align=left>\n",
    "                    <b><mark>|</mark> : It is called <ins>Element-wise Logical OR operator</ins>. It combines each element of the first vector with the corresponding element of the second vector and gives a <ins>output TRUE if one the elements is TRUE</ins>.</b>\n",
    "                </div>\n",
    "    </font>\n",
    "</div>\n"
   ]
  },
  {
   "cell_type": "code",
   "execution_count": 10,
   "metadata": {
    "scrolled": true
   },
   "outputs": [
    {
     "name": "stdout",
     "output_type": "stream",
     "text": [
      "[1]  TRUE  TRUE  TRUE  TRUE FALSE\n"
     ]
    }
   ],
   "source": [
    "v <- c(-1, 1, 0, TRUE, 0)\n",
    "\n",
    "t <- c(4, 1, 5, FALSE, FALSE)\n",
    "\n",
    "print(v | t)"
   ]
  },
  {
   "cell_type": "markdown",
   "metadata": {},
   "source": [
    "<div>        \n",
    "    <img src=\"..\\Week 02\\img\\or.png\" width=\"500\"/>  \n",
    "</div>"
   ]
  },
  {
   "cell_type": "markdown",
   "metadata": {},
   "source": [
    "| CONDITION 1 | CONDITION 2 | CONDITION 1 or CONDITION 2 |\n",
    "| :--------------:| :--------------: | :------: |\n",
    "| TRUE | TRUE | TRUE |\n",
    "| TRUE | FALSE | TRUE |\n",
    "| FALSE | TRUE | TRUE |\n",
    "| FALSE | FALSE | FALSE |"
   ]
  },
  {
   "cell_type": "markdown",
   "metadata": {},
   "source": [
    "\n",
    "<div style=\"line-height:200%;\">\n",
    "    <font color=#076F9A  face=\"Candara\" size=4>\n",
    "                <div align=left>\n",
    "                    <b><mark>!</mark> : It is called <ins>Logical NOT Operator</ins>. Takes each element of the vector and gives the opposite logical value.</b>\n",
    "                </div>\n",
    "    </font>\n",
    "</div>"
   ]
  },
  {
   "cell_type": "code",
   "execution_count": 7,
   "metadata": {
    "scrolled": true
   },
   "outputs": [
    {
     "name": "stdout",
     "output_type": "stream",
     "text": [
      "[1] FALSE FALSE  TRUE FALSE FALSE  TRUE\n"
     ]
    }
   ],
   "source": [
    "v <- c(-1, 1, 0, TRUE, FALSE)\n",
    "\n",
    "print(!v)"
   ]
  },
  {
   "cell_type": "markdown",
   "metadata": {},
   "source": [
    "<div>        \n",
    "    <img src=\"..\\Week 02\\img\\not.png\" width=\"500\"/>  \n",
    "</div>"
   ]
  },
  {
   "cell_type": "markdown",
   "metadata": {},
   "source": [
    "| First Element | Output |\n",
    "| :--------------:| :--------------: |\n",
    "| TRUE | FALSE |\n",
    "| FALSE | TRUE |"
   ]
  },
  {
   "cell_type": "markdown",
   "metadata": {},
   "source": [
    ">The logical operator `&&` and `||` considers only the first element of the vectors and give a vector of `single element as output`."
   ]
  },
  {
   "cell_type": "markdown",
   "metadata": {},
   "source": [
    "\n",
    "<div style=\"line-height:200%;\">\n",
    "    <font color=#076F9A  face=\"Candara\" size=4>\n",
    "                <div align=left>\n",
    "                    <b><mark>&&</mark> : Called <ins>Logical AND Operator</ins>. Takes first element of both the vectors and gives the TRUE only if both are TRUE.</b>\n",
    "                </div>\n",
    "    </font>\n",
    "</div>"
   ]
  },
  {
   "cell_type": "code",
   "execution_count": 24,
   "metadata": {
    "scrolled": false
   },
   "outputs": [
    {
     "name": "stdout",
     "output_type": "stream",
     "text": [
      "[1]  TRUE  TRUE FALSE FALSE FALSE\n",
      "[1] TRUE\n"
     ]
    }
   ],
   "source": [
    "v <- c(-1, 1, 0, TRUE, 0)\n",
    "\n",
    "t <- c(4, 1, 5, FALSE, FALSE)\n",
    "\n",
    "print(v & t)\n",
    "\n",
    "print(v && t)"
   ]
  },
  {
   "cell_type": "markdown",
   "metadata": {},
   "source": [
    "<div>        \n",
    "    <img src=\"..\\Week 02\\img\\andand.png\" width=\"500\"/>  \n",
    "</div>"
   ]
  },
  {
   "cell_type": "markdown",
   "metadata": {},
   "source": [
    "\n",
    "<div style=\"line-height:200%;\">\n",
    "    <font color=#076F9A  face=\"Candara\" size=4>\n",
    "                <div align=left>\n",
    "                    <b><mark>||</mark> : Called <ins>Logical OR Operator</ins>. Takes first element of both the vectors and gives the TRUE if one of them is TRUE.</b>\n",
    "                </div>\n",
    "    </font>\n",
    "</div>"
   ]
  },
  {
   "cell_type": "code",
   "execution_count": 17,
   "metadata": {
    "scrolled": false
   },
   "outputs": [
    {
     "name": "stdout",
     "output_type": "stream",
     "text": [
      "[1]  TRUE FALSE  TRUE FALSE FALSE\n",
      "[1] TRUE\n"
     ]
    }
   ],
   "source": [
    "v <- c(0, 0, 1, FALSE, 0)\n",
    "\n",
    "t <- c(4, 0, 5, FALSE, FALSE)\n",
    "\n",
    "print(v | t)\n",
    "\n",
    "print(v || t)"
   ]
  },
  {
   "cell_type": "markdown",
   "metadata": {},
   "source": [
    "<div>        \n",
    "    <img src=\"..\\Week 02\\img\\oror.png\" width=\"500\"/>  \n",
    "</div>"
   ]
  },
  {
   "cell_type": "markdown",
   "metadata": {},
   "source": [
    "\n",
    "\n",
    "<div style=\"line-height:300%;\">\n",
    "    <font color=#9A0909 face=\"Sriracha\" size=6>\n",
    "                <div align=left>Assignment Operators</div>\n",
    "    </font>\n",
    "</div>\n"
   ]
  },
  {
   "cell_type": "markdown",
   "metadata": {},
   "source": [
    "<div style=\"line-height:200%;\">\n",
    "    <font color=black face=\"Candara\" size=4>\n",
    "                <div align=left>\n",
    "These operators are used to assign values to vectors.</div>\n",
    "    </font>\n",
    "</div>"
   ]
  },
  {
   "cell_type": "markdown",
   "metadata": {},
   "source": [
    "<div>        \n",
    "    <img src=\"..\\Week 02\\img\\assi_ope.png\" width=\"500\"/>  \n",
    "</div>\n",
    "\n",
    "\n",
    "\n",
    "\n"
   ]
  },
  {
   "cell_type": "markdown",
   "metadata": {},
   "source": [
    "\n",
    "<div style=\"line-height:200%;\">\n",
    "    <font color=#076F9A  face=\"Candara\" size=4>\n",
    "                <div align=left>\n",
    "Leftwards Assignment\n",
    "                </div>\n",
    "    </font>\n",
    "</div>"
   ]
  },
  {
   "cell_type": "code",
   "execution_count": 26,
   "metadata": {
    "scrolled": true
   },
   "outputs": [
    {
     "name": "stdout",
     "output_type": "stream",
     "text": [
      "[1] 3 1 1\n",
      "[1] 3+0i 1+0i 1+0i 2+3i\n",
      "[1] 3+0i 1+0i 1+0i 2+3i\n"
     ]
    }
   ],
   "source": [
    "v1 <- c(3, 1, TRUE, 2+3i)\n",
    "v3 = c(3, 1, TRUE, 2+3i)\n",
    "v2 <<- c(3, 1, TRUE, 2+3i)\n",
    "\n",
    "print(v1)\n",
    "print(v2)\n",
    "print(v3)"
   ]
  },
  {
   "cell_type": "markdown",
   "metadata": {},
   "source": [
    "<div style=\"line-height:200%;\">\n",
    "    <font color=#076F9A  face=\"Candara\" size=4>\n",
    "                <div align=left>\n",
    "Rightwards Assignment\n",
    "                </div>\n",
    "    </font>\n",
    "</div>"
   ]
  },
  {
   "cell_type": "code",
   "execution_count": 27,
   "metadata": {
    "scrolled": true
   },
   "outputs": [
    {
     "name": "stdout",
     "output_type": "stream",
     "text": [
      "[1] 3+0i 1+0i 1+0i 2+3i\n",
      "[1] 3+0i 1+0i 1+0i 2+3i\n"
     ]
    }
   ],
   "source": [
    "c(3, 1, TRUE, 2+3i) -> v1\n",
    "c(3, 1, TRUE, 2+3i) ->> v2\n",
    "\n",
    "print(v1)\n",
    "print(v2)"
   ]
  },
  {
   "cell_type": "markdown",
   "metadata": {},
   "source": [
    "<div style=\"line-height:300%;\">\n",
    "    <font color=#9A0909 face=\"Sriracha\" size=6>\n",
    "                <div align=left>Miscellaneous Operators</div>\n",
    "    </font>\n",
    "</div>"
   ]
  },
  {
   "cell_type": "markdown",
   "metadata": {},
   "source": [
    "<div style=\"line-height:200%;\">\n",
    "    <font color=black face=\"Candara\" size=4>\n",
    "                <div align=left>\n",
    "These operators are used to for specific purpose and not general mathematical or logical computation.</div>\n",
    "    </font>\n",
    "</div>\n",
    "\n",
    "\n",
    "\n",
    "\n"
   ]
  },
  {
   "cell_type": "markdown",
   "metadata": {},
   "source": [
    "\n",
    "<div style=\"line-height:200%;\">\n",
    "    <font color=#076F9A  face=\"Candara\" size=4>\n",
    "                <div align=left>\n",
    "                    <b><mark>:</mark> : <ins>Colon Operator</ins>. It creates the <ins>series of numbers in sequence</ins> for a vector.</b>\n",
    "                </div>\n",
    "    </font>\n",
    "</div>"
   ]
  },
  {
   "cell_type": "code",
   "execution_count": 34,
   "metadata": {
    "scrolled": false
   },
   "outputs": [
    {
     "name": "stdout",
     "output_type": "stream",
     "text": [
      "[1] 1 2 3 4\n"
     ]
    }
   ],
   "source": [
    "v <- 1:4\n",
    "\n",
    "print(v) "
   ]
  },
  {
   "cell_type": "markdown",
   "metadata": {},
   "source": [
    "\n",
    "<div style=\"line-height:200%;\">\n",
    "    <font color=#076F9A  face=\"Candara\" size=4>\n",
    "                <div align=left>\n",
    "                    <b><mark>%in%</mark> : This operator is used to <ins>identify if an element belongs to a vectorColon Operator</ins>.</b>\n",
    "                </div>\n",
    "    </font>\n",
    "</div>"
   ]
  },
  {
   "cell_type": "code",
   "execution_count": 35,
   "metadata": {
    "scrolled": true
   },
   "outputs": [
    {
     "name": "stdout",
     "output_type": "stream",
     "text": [
      " [1]  1  2  3  4  5  6  7  8  9 10\n",
      "[1] TRUE\n",
      "[1] FALSE\n"
     ]
    }
   ],
   "source": [
    "v1 <- 8\n",
    "\n",
    "v2 <- 12\n",
    "\n",
    "t <- 1:10\n",
    "\n",
    "print(t)\n",
    "\n",
    "print(v1 %in% t) \n",
    "\n",
    "print(v2 %in% t) "
   ]
  },
  {
   "cell_type": "markdown",
   "metadata": {},
   "source": [
    "\n",
    "<div style=\"line-height:200%;\">\n",
    "    <font color=#076F9A  face=\"Candara\" size=4>\n",
    "                <div align=left>\n",
    "                    <b><mark>%*%</mark> : This operator is used to <ins>multiply a matrix with its transpose</ins>.</b>\n",
    "                </div>\n",
    "    </font>\n",
    "</div>\n",
    "\n",
    "<div style=\"line-height:100%;\">\n",
    "    <font color=black face=\"Britannic\" size=6>\n",
    "                <div align=left></div>\n",
    "    </font>\n",
    "</div>"
   ]
  },
  {
   "cell_type": "code",
   "execution_count": 37,
   "metadata": {
    "scrolled": false
   },
   "outputs": [
    {
     "name": "stdout",
     "output_type": "stream",
     "text": [
      "[1] \"M:\"\n",
      "     [,1] [,2] [,3]\n",
      "[1,]    2    6    5\n",
      "[2,]    1   10    4\n",
      "[1] \"M %*% t(M):\"\n",
      "     [,1] [,2]\n",
      "[1,]   65   82\n",
      "[2,]   82  117\n",
      "[1] \"M * t(M):\"\n",
      "     [,1] [,2] [,3]\n",
      "[1,]    8   72   50\n",
      "[2,]    2  200   32\n"
     ]
    }
   ],
   "source": [
    "M = matrix(data = c(2, 6, 5, 1, 10, 4),\n",
    "           nrow = 2,\n",
    "           ncol = 3,\n",
    "           byrow = TRUE)\n",
    "\n",
    "print(\"M:\")\n",
    "print(M)\n",
    "\n",
    "t1 = M %*% t(M)\n",
    "print(\"M %*% t(M):\")\n",
    "print(t1)\n",
    "\n",
    "mm = 2 * M\n",
    "\n",
    "t2 = M * mm\n",
    "print(\"M * t(M):\")\n",
    "print(t2)"
   ]
  }
 ],
 "metadata": {
  "kernelspec": {
   "display_name": "R",
   "language": "R",
   "name": "ir"
  },
  "language_info": {
   "codemirror_mode": "r",
   "file_extension": ".r",
   "mimetype": "text/x-r-source",
   "name": "R",
   "pygments_lexer": "r",
   "version": "3.6.1"
  }
 },
 "nbformat": 4,
 "nbformat_minor": 2
}
