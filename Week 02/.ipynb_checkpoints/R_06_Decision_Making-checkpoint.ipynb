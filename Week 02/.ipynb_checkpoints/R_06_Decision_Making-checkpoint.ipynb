{
 "cells": [
  {
   "cell_type": "markdown",
   "metadata": {},
   "source": [
    "\n",
    "<div>        \n",
    "    <img src=\"..\\Week 01\\img\\R_logo.svg\" width=\"100\"/>  \n",
    "</div>\n",
    "\n",
    "<div style=\"line-height:600%;\">\n",
    "    <font color=#1363E1 face=\"Sriracha\" size=8>\n",
    "            <div align=center>DECISION MAKING</div>\n",
    "    </font>    \n",
    "</div>\n",
    "\n",
    "<div>        \n",
    "    <img src=\"..\\Week 02\\img\\selection.jpg\" width=\"400\"/>  \n",
    "</div>"
   ]
  },
  {
   "cell_type": "markdown",
   "metadata": {},
   "source": [
    "<div style=\"line-height:200%;\">\n",
    "    <font color=black face=\"Candara\" size=4>\n",
    "                <div align=justify>\n",
    "<mark>Decision Making</mark> structures require the programmer to specify <mark>one or more conditions</mark> to be evaluated or tested by the program, along with a <mark>statement or statements</mark> to be executed if the condition is determined to be <mark>TRUE</mark>, and optionally, other statements to be executed if the condition is determined to be <mark>FALSE</mark>.\n",
    "\n",
    "Following is the general form of a typical decision making structure found in most of the programming languages.\n",
    "                </div>\n",
    "    </font>\n",
    "</div>\n",
    "\n",
    "\n",
    "\n"
   ]
  },
  {
   "cell_type": "markdown",
   "metadata": {
    "slideshow": {
     "slide_type": "-"
    }
   },
   "source": [
    "<div>        \n",
    "    <img src=\"..\\Week 02\\img\\if-else-flow-control.png\" width=\"300\"/>  \n",
    "</div>"
   ]
  },
  {
   "cell_type": "markdown",
   "metadata": {},
   "source": [
    "<div style=\"line-height:200%;\">\n",
    "    <font color=black face=\"Candara\" size=4>\n",
    "                <div align=left>\n",
    "                    R provides the following types of <mark>Decision Making Statements</mark>:\n",
    "                </div>\n",
    "    </font>\n",
    "</div>\n",
    "\n",
    "\n"
   ]
  },
  {
   "cell_type": "markdown",
   "metadata": {},
   "source": [
    "<div>        \n",
    "    <img src=\"..\\Week 01\\img\\r_type_decision_making.png\" width=\"800\"/>  \n",
    "</div>"
   ]
  },
  {
   "cell_type": "markdown",
   "metadata": {},
   "source": [
    "\n",
    "<div style=\"line-height:300%;\">\n",
    "    <font color=#9A0909 face=\"Sriracha\" size=6>\n",
    "                <div align=left>If Statement</div>\n",
    "    </font>\n",
    "</div>"
   ]
  },
  {
   "cell_type": "markdown",
   "metadata": {},
   "source": [
    "<div style=\"line-height:200%;\">\n",
    "    <font color=black face=\"Candara\" size=4>\n",
    "                <div align=left>\n",
    "                    An <mark>if statement</mark> consists of a <mark>Boolean Expression</mark> followed by one or more statements.\n",
    "                </div>\n",
    "    </font>\n",
    "    <font color=#076F9A face=\"Candara\" size=4>\n",
    "                <div align=left>\n",
    "                    <br>\n",
    "                    <b>Syntax:</b>\n",
    "                </div>\n",
    "    </font>\n",
    "    <font color=black face=\"Candara\" size=4>\n",
    "                <div align=left>\n",
    "                    The basic syntax for creating an if statement in R is:\n",
    "                </div>\n",
    "    </font>\n",
    "</div>\n",
    "\n",
    "\n",
    "\n",
    "\n",
    "\n"
   ]
  },
  {
   "cell_type": "code",
   "execution_count": null,
   "metadata": {
    "slideshow": {
     "slide_type": "skip"
    }
   },
   "outputs": [],
   "source": [
    "if(boolean_expression) {\n",
    "   // statement(s) will execute if the boolean expression is true.\n",
    "}"
   ]
  },
  {
   "cell_type": "markdown",
   "metadata": {
    "scrolled": false
   },
   "source": [
    "<div style=\"line-height:200%;\">\n",
    "    <font color=black face=\"Candara\" size=4>\n",
    "                <div align=left>\n",
    "                    If the <mark>Boolean Expression</mark> evaluates to be <mark>TRUE</mark>, then the <mark>Block of Code</mark> inside the <mark>if statement</mark> will be <mark>Executed</mark>. If Boolean expression evaluates to be <mark>FALSE</mark>, then the first set of code after the end of the if statement <ins>(after the closing curly brace)</ins> will be executed.\n",
    "                </div>\n",
    "    </font>\n",
    "    <font color=#076F9A face=\"Candara\" size=4>\n",
    "                <div align=left>\n",
    "                    <br>\n",
    "                    <b>Flow Diagram:</b>\n",
    "                </div>\n",
    "    </font>\n",
    "</div>"
   ]
  },
  {
   "cell_type": "markdown",
   "metadata": {
    "scrolled": true
   },
   "source": [
    "<div>        \n",
    "    <img src=\"..\\Week 02\\img\\IF-Condition-Flow-Chart.jpg\" width=\"300\"/>  \n",
    "</div>"
   ]
  },
  {
   "cell_type": "markdown",
   "metadata": {},
   "source": [
    "<div>        \n",
    "    <img src=\"..\\Week 02\\img\\tipstricks.jpg\" width=\"200\"/>  \n",
    "</div>\n",
    "\n",
    "\n"
   ]
  },
  {
   "cell_type": "code",
   "execution_count": 1,
   "metadata": {
    "scrolled": true
   },
   "outputs": [
    {
     "name": "stdout",
     "output_type": "stream",
     "text": [
      "[1] \"Start\"\n",
      "[1] \"Finish\"\n"
     ]
    }
   ],
   "source": [
    "print(\"Start\")\n",
    "print(\"Finish\")"
   ]
  },
  {
   "cell_type": "code",
   "execution_count": null,
   "metadata": {
    "scrolled": true
   },
   "outputs": [],
   "source": [
    "cat(\"Start\", \"\\n\")\n",
    "cat(\"Finish\", \"\\n\")"
   ]
  },
  {
   "cell_type": "markdown",
   "metadata": {},
   "source": [
    "<div>        \n",
    "    <img src=\"..\\Week 02\\img\\tipstricks.jpg\" width=\"200\"/>  \n",
    "</div>\n",
    "\n",
    "\n"
   ]
  },
  {
   "cell_type": "markdown",
   "metadata": {},
   "source": [
    "<div style=\"line-height:200%;\">\n",
    "    <font color=#076F9A face=\"Candara\" size=4>\n",
    "                <div align=left>\n",
    "                    <b>Example:</b>\n",
    "                </div>\n",
    "    </font>\n",
    "</div>"
   ]
  },
  {
   "cell_type": "code",
   "execution_count": null,
   "metadata": {
    "scrolled": true
   },
   "outputs": [],
   "source": [
    "# IF Statement Example 01:\n",
    "\n",
    "cat(\"Start\", \"\\n\")\n",
    "\n",
    "score <- 12\n",
    "\n",
    "if(score >= 10) {\n",
    "    cat(\"Pass!\", \"\\n\")\n",
    "}\n",
    "\n",
    "cat(\"Finish\", \"\\n\")"
   ]
  },
  {
   "cell_type": "code",
   "execution_count": null,
   "metadata": {
    "scrolled": true
   },
   "outputs": [],
   "source": [
    "# IF Statement Example 01:\n",
    "\n",
    "cat(\"Start\", \"\\n\")\n",
    "\n",
    "score <- 6\n",
    "\n",
    "if(score >= 10) {\n",
    "    cat(\"Pass!\", \"\\n\")\n",
    "}\n",
    "\n",
    "cat(\"Finish\", \"\\n\")"
   ]
  },
  {
   "cell_type": "code",
   "execution_count": null,
   "metadata": {},
   "outputs": [],
   "source": [
    "# IF Statement Example 02:\n",
    "\n",
    "cat(\"Start\", \"\\n\")\n",
    "\n",
    "num <- as.integer(readline(prompt=\"Please Enter Any Integer Value: \"))\n",
    "\n",
    "if (num > 0) {\n",
    "    cat(\"You Have Entered POSITIVE Number\", \"\\n\")\n",
    "}\n",
    "\n",
    "cat(\"Finish\", \"\\n\")"
   ]
  },
  {
   "cell_type": "code",
   "execution_count": null,
   "metadata": {},
   "outputs": [],
   "source": [
    "# IF Statement Example 02:\n",
    "\n",
    "cat(\"Start\", \"\\n\")\n",
    "\n",
    "num <- as.integer(readline(prompt=\"Please Enter Any Integer Value: \"))\n",
    "\n",
    "if (num > 0) {\n",
    "    cat(\"You Have Entered POSITIVE Number\", \"\\n\")\n",
    "}\n",
    "\n",
    "cat(\"Finish\", \"\\n\")"
   ]
  },
  {
   "cell_type": "markdown",
   "metadata": {},
   "source": [
    "\n",
    "\n",
    "<div style=\"line-height:300%;\">\n",
    "    <font color=#9A0909 face=\"Sriracha\" size=6>\n",
    "                <div align=left>If ... Else Statement</div>\n",
    "    </font>\n",
    "</div>"
   ]
  },
  {
   "cell_type": "markdown",
   "metadata": {},
   "source": [
    "<div style=\"line-height:200%;\">\n",
    "    <font color=black face=\"Candara\" size=4>\n",
    "                <div align=left>\n",
    "                    An <mark>if statement</mark> can be followed by an optional <mark>else statement</mark> which executes when the boolean expression is <mark>FALSE</mark>.\n",
    "                </div>\n",
    "    </font>\n",
    "    <font color=#076F9A face=\"Candara\" size=4>\n",
    "                <div align=left>\n",
    "                    <br>\n",
    "                    <b>Syntax:</b>\n",
    "                </div>\n",
    "    </font>\n",
    "    <font color=black face=\"Candara\" size=4>\n",
    "                <div align=left>\n",
    "                    The basic syntax for creating an if ... else statement in R is:\n",
    "                </div>\n",
    "    </font>\n",
    "</div>"
   ]
  },
  {
   "cell_type": "code",
   "execution_count": null,
   "metadata": {
    "slideshow": {
     "slide_type": "skip"
    }
   },
   "outputs": [],
   "source": [
    "if(boolean_expression) {\n",
    "   // if block: statement(s) will execute if the boolean expression is true.\n",
    "} else {\n",
    "   // else block: statement(s) will execute if the boolean expression is false.\n",
    "}"
   ]
  },
  {
   "cell_type": "markdown",
   "metadata": {
    "scrolled": false
   },
   "source": [
    "\n",
    "<div style=\"line-height:200%;\">\n",
    "    <font color=black face=\"Candara\" size=4>\n",
    "                <div align=left>\n",
    "                    If the <mark>Boolean Expression</mark> evaluates to be <mark>TRUE</mark>, then the <mark>if block</mark> of code will be executed, otherwise <mark>else block</mark> of code will be executed.\n",
    "                </div>\n",
    "    </font>\n",
    "    <font color=#076F9A face=\"Candara\" size=4>\n",
    "                <div align=left>\n",
    "                    <br>\n",
    "                    <b>Flow Diagram:</b>\n",
    "                </div>\n",
    "    </font>\n",
    "</div>\n",
    "\n",
    "\n",
    "\n",
    "\n",
    "\n",
    "\n",
    "\n",
    "\n"
   ]
  },
  {
   "cell_type": "markdown",
   "metadata": {
    "scrolled": true
   },
   "source": [
    "<div>        \n",
    "    <img src=\"..\\Week 01\\img\\IF-ELSE-FLOW-CHART.jpg\" width=\"600\"/>  \n",
    "</div>"
   ]
  },
  {
   "cell_type": "markdown",
   "metadata": {},
   "source": [
    "<div style=\"line-height:200%;\">\n",
    "    <font color=#076F9A face=\"Candara\" size=4>\n",
    "                <div align=left>\n",
    "                    <b>Example:</b>\n",
    "                </div>\n",
    "    </font>\n",
    "</div>"
   ]
  },
  {
   "cell_type": "code",
   "execution_count": null,
   "metadata": {
    "scrolled": true
   },
   "outputs": [],
   "source": [
    "# IF Else Statement Example 01:\n",
    "\n",
    "cat(\"Start\", \"\\n\")\n",
    "\n",
    "num <- as.integer(readline(prompt=\"Please Enter Any Integer Value: \"))\n",
    "\n",
    "if (num > 0) {\n",
    "    cat(\"You Have Entered POSITIVE Number\", \"\\n\")\n",
    "} else {\n",
    "    cat(\"You Have Entered NEGATIVE Number\", \"\\n\")    \n",
    "}\n",
    "\n",
    "cat(\"Finish\", \"\\n\")"
   ]
  },
  {
   "cell_type": "code",
   "execution_count": null,
   "metadata": {
    "scrolled": true
   },
   "outputs": [],
   "source": [
    "# IF Else Statement Example 01:\n",
    "\n",
    "cat(\"Start\", \"\\n\")\n",
    "\n",
    "num <- as.integer(readline(prompt=\"Please Enter Any Integer Value: \"))\n",
    "\n",
    "if (num > 0) {\n",
    "    cat(\"You Have Entered POSITIVE Number\", \"\\n\")\n",
    "} else {\n",
    "    cat(\"You Have Entered NEGATIVE Number\", \"\\n\")    \n",
    "}\n",
    "\n",
    "cat(\"Finish\", \"\\n\")"
   ]
  },
  {
   "cell_type": "code",
   "execution_count": null,
   "metadata": {
    "scrolled": true
   },
   "outputs": [],
   "source": [
    "# IF Else Statement Example 01:\n",
    "\n",
    "cat(\"Start\", \"\\n\")\n",
    "\n",
    "num <- as.integer(readline(prompt=\"Please Enter Any Integer Value: \"))\n",
    "\n",
    "if (num > 0) {\n",
    "    cat(\"You Have Entered POSITIVE Number\", \"\\n\")\n",
    "} else {\n",
    "    cat(\"You Have Entered NEGATIVE Number\", \"\\n\")    \n",
    "}\n",
    "\n",
    "cat(\"Finish\", \"\\n\")"
   ]
  },
  {
   "cell_type": "code",
   "execution_count": null,
   "metadata": {},
   "outputs": [],
   "source": [
    "# IF Else Statement Example 02:\n",
    "\n",
    "cat(\"Start\", \"\\n\")\n",
    "\n",
    "station_database <- c(\"Shirazi\",\"Esfahan\",\"Tehran\", \"Mashhad\", \"Tabriz\", \"Arak\")\n",
    "\n",
    "station_name <- readline(prompt=\"Please Enter Name of Station: \")\n",
    "\n",
    "if(station_name %in% station_database) {\n",
    "    cat(\"Your Stations's Name Is In Our Database.\", \"\\n\")\n",
    "} else {\n",
    "    cat(\"Sorry, Your Stations's Name Is Not In Our Database.\", \"\\n\")\n",
    "}\n",
    "\n",
    "cat(\"Finish\", \"\\n\")"
   ]
  },
  {
   "cell_type": "code",
   "execution_count": null,
   "metadata": {},
   "outputs": [],
   "source": [
    "# IF Else Statement Example 02:\n",
    "\n",
    "cat(\"Start\", \"\\n\")\n",
    "\n",
    "station_database <- c(\"Shirazi\",\"Esfahan\",\"Tehran\", \"Mashhad\", \"Tabriz\", \"Arak\")\n",
    "\n",
    "station_name <- readline(prompt=\"Please Enter Name of Station: \")\n",
    "\n",
    "if(station_name %in% station_database) {\n",
    "    cat(\"Your Stations's Name Is In Our Database.\", \"\\n\")\n",
    "} else {\n",
    "    cat(\"Sorry, Your Stations's Name Is Not In Our Database.\", \"\\n\")\n",
    "}\n",
    "\n",
    "cat(\"Finish\", \"\\n\")"
   ]
  },
  {
   "cell_type": "code",
   "execution_count": null,
   "metadata": {
    "scrolled": false
   },
   "outputs": [],
   "source": [
    "# IF Else Statement Example 03:\n",
    "\n",
    "cat(\"Start\", \"\\n\") # Statement 1\n",
    "\n",
    "my_age <- as.integer(readline(prompt=\"Please Enter Your Age: \")) # Statement 2\n",
    "\n",
    "if (my_age > 18) {\n",
    "    cat(\"You are eligible to vote.\", \"\\n\") # Statement 3\n",
    "    cat(\"Don't forget to carry your ID card.\", \"\\n\") #Statement 4\n",
    "} else {\n",
    "    cat(\"You are NOT eligible to vote.\", \"\\n\") #Statement 5\n",
    "    cat(\"We are sorry\", \"\\n\") #Statement 6\n",
    "}\n",
    "\n",
    "cat(\"Finish\", \"\\n\") #Statement 7"
   ]
  },
  {
   "cell_type": "code",
   "execution_count": null,
   "metadata": {
    "scrolled": false
   },
   "outputs": [],
   "source": [
    "# IF Else Statement Example 03:\n",
    "\n",
    "cat(\"Start\", \"\\n\") # Statement 1\n",
    "\n",
    "my_age <- as.integer(readline(prompt=\"Please Enter Your Age: \")) # Statement 2\n",
    "\n",
    "if (my_age > 18) {\n",
    "    cat(\"You are eligible to vote.\", \"\\n\") # Statement 3\n",
    "    cat(\"Don't forget to carry your ID card.\", \"\\n\") #Statement 4\n",
    "} else {\n",
    "    cat(\"You are NOT eligible to vote.\", \"\\n\") #Statement 5\n",
    "    cat(\"We are sorry\", \"\\n\") #Statement 6\n",
    "}\n",
    "\n",
    "cat(\"Finish\", \"\\n\") #Statement 7"
   ]
  },
  {
   "cell_type": "markdown",
   "metadata": {},
   "source": [
    "<div style=\"line-height:300%;\">\n",
    "    <font color=#9A0909 face=\"Sriracha\" size=6>\n",
    "                <div align=left>ifelse() Function</div>\n",
    "    </font>\n",
    "</div>\n"
   ]
  },
  {
   "cell_type": "markdown",
   "metadata": {},
   "source": [
    "<div style=\"line-height:200%;\">\n",
    "    <font color=#076F9A face=\"Candara\" size=4>\n",
    "                <div align=left>\n",
    "                    <b>Syntax:</b>\n",
    "                </div>\n",
    "    </font>\n",
    "</div>"
   ]
  },
  {
   "cell_type": "code",
   "execution_count": null,
   "metadata": {
    "slideshow": {
     "slide_type": "skip"
    }
   },
   "outputs": [],
   "source": [
    "ifelse(test, yes, no)"
   ]
  },
  {
   "cell_type": "markdown",
   "metadata": {},
   "source": [
    "<div style=\"line-height:200%;\">\n",
    "    <font color=#076F9A face=\"Candara\" size=4>\n",
    "                <div align=left>\n",
    "                    <b>Example:</b>\n",
    "                </div>\n",
    "    </font>\n",
    "</div>"
   ]
  },
  {
   "cell_type": "code",
   "execution_count": null,
   "metadata": {
    "scrolled": false
   },
   "outputs": [],
   "source": [
    "# ifelse Function Example 01:\n",
    "\n",
    "cat(\"Start\", \"\\n\")\n",
    "\n",
    "num <- as.integer(readline(prompt=\"Please Enter Any Integer Value: \"))\n",
    "\n",
    "if (num %% 2 == 0) {\n",
    "    cat(\"You Have Entered EVEN Number\", \"\\n\")\n",
    "} else {\n",
    "    cat(\"You Have Entered ODD Number\", \"\\n\")    \n",
    "}\n",
    "\n",
    "cat(\"Finish\", \"\\n\")"
   ]
  },
  {
   "cell_type": "code",
   "execution_count": null,
   "metadata": {
    "scrolled": false
   },
   "outputs": [],
   "source": [
    "# ifelse Function Example 01:\n",
    "\n",
    "cat(\"Start\", \"\\n\")\n",
    "\n",
    "num <- as.integer(readline(prompt=\"Please Enter Any Integer Value: \"))\n",
    "\n",
    "\n",
    "ans <- ifelse(test = num %% 2 == 0,\n",
    "              yes = \"You Have Entered EVEN Number\",\n",
    "              no = \"You Have Entered ODD Number\")\n",
    "\n",
    "cat(ans, \"\\n\")\n",
    "\n",
    "cat(\"Finish\", \"\\n\")"
   ]
  },
  {
   "cell_type": "markdown",
   "metadata": {},
   "source": [
    "<div style=\"line-height:300%;\">\n",
    "    <font color=#9A0909 face=\"Sriracha\" size=6>\n",
    "                <div align=left>Nested If...Else Statement</div>\n",
    "    </font>\n",
    "</div>"
   ]
  },
  {
   "cell_type": "markdown",
   "metadata": {},
   "source": [
    "<div style=\"line-height:200%;\">\n",
    "    <font color=#076F9A face=\"Candara\" size=4>\n",
    "                <div align=left>\n",
    "                    <b>Syntax:</b>\n",
    "                </div>\n",
    "    </font>\n",
    "    <font color=black face=\"Candara\" size=4>\n",
    "                <div align=left>\n",
    "                    The basic syntax of the Nested If ... Else Statement in R Programming language is as follows:\n",
    "                </div>\n",
    "    </font>\n",
    "</div>\n"
   ]
  },
  {
   "cell_type": "raw",
   "metadata": {},
   "source": [
    "if (Boolean_Expression 1)  {\n",
    "     #Boolean_Expression 1 result is TRUE then, it will check for Boolean_Expression 2\n",
    "     if (Boolean_Expression 2)  {\n",
    "          #Boolean_Expression 2 result is TRUE, then these statements will be executed\n",
    "          Boolean_Expression 2 True statements\n",
    "     } else {\n",
    "          #Boolean_Expression 2 result is FALSE then, these statements will be executed\n",
    "          Boolean_Expression 2 False statements\n",
    "} else  {\n",
    "     #If the Boolean_Expression 1 result is FALSE, these statements will be executed\n",
    "     Boolean_Expression 1 False statements\n",
    "}"
   ]
  },
  {
   "cell_type": "markdown",
   "metadata": {},
   "source": [
    "<div style=\"line-height:200%;\">\n",
    "    <font color=#076F9A face=\"Candara\" size=4>\n",
    "                <div align=left>\n",
    "                    <b>Flow Diagram:</b>\n",
    "                </div>\n",
    "    </font>\n",
    "    <font color=black face=\"Candara\" size=4>\n",
    "                <div align=left>\n",
    "                    Following picture will show you the flow chart of the Nested If statement in R Programming.\n",
    "                </div>\n",
    "    </font>\n",
    "</div>"
   ]
  },
  {
   "cell_type": "markdown",
   "metadata": {
    "scrolled": true
   },
   "source": [
    "<div>        \n",
    "    <img src=\"..\\Week 01\\img\\NESTED-IF-FLOW-CHART.jpg\" width=\"600\"/>  \n",
    "</div>"
   ]
  },
  {
   "cell_type": "markdown",
   "metadata": {},
   "source": [
    "<div style=\"line-height:200%;\">\n",
    "    <font color=black face=\"Candara\" size=4>\n",
    "                <div align=left>\n",
    "If the <ins>Test Condition 1</ins> is <b>FALSE</b> then <mark>STATEMENT 3</mark> will be executed.\n",
    "                    \n",
    "If <ins>Test Condition 1</ins> is <b>TRUE</b> then it will check for the <ins>Test Condition 2</ins>.\n",
    "\n",
    "If <ins>Test Condition 2</ins> is <b>TRUE</b> then <mark>STATEMENT 1</mark> will be executed Otherwise, <ins>Test Condition 2</ins> is <b>FALSE</b> then <mark>STATEMENT 2</mark> is executed.\n",
    "                </div>\n",
    "    </font>\n",
    "</div>"
   ]
  },
  {
   "cell_type": "markdown",
   "metadata": {},
   "source": [
    "<div style=\"line-height:200%;\">\n",
    "    <font color=#076F9A face=\"Candara\" size=4>\n",
    "                <div align=left>\n",
    "                    <b>Example:</b>\n",
    "                </div>\n",
    "    </font>\n",
    "</div>"
   ]
  },
  {
   "cell_type": "code",
   "execution_count": null,
   "metadata": {
    "scrolled": true
   },
   "outputs": [],
   "source": [
    "# IF Else Statement Example 01:\n",
    "\n",
    "cat(\"Start\", \"\\n\")\n",
    "\n",
    "num <- as.integer(readline(prompt=\"Please Enter Any Integer Value: \"))\n",
    "\n",
    "if (num != 0) {\n",
    "    if (num > 0) {\n",
    "        cat(\"You Have Entered POSITIVE Number\", \"\\n\")        \n",
    "    } else {\n",
    "        cat(\"You Have Entered NEGATIVE Number\", \"\\n\")        \n",
    "    }    \n",
    "} else {\n",
    "    cat(\"You Have Entered ZERO\", \"\\n\")        \n",
    "}\n",
    "\n",
    "cat(\"Finish\", \"\\n\")"
   ]
  },
  {
   "cell_type": "code",
   "execution_count": null,
   "metadata": {
    "scrolled": true
   },
   "outputs": [],
   "source": [
    "# IF Else Statement Example 01:\n",
    "\n",
    "cat(\"Start\", \"\\n\")\n",
    "\n",
    "num <- as.integer(readline(prompt=\"Please Enter Any Integer Value: \"))\n",
    "\n",
    "if (num != 0) {\n",
    "    if (num > 0) {\n",
    "        cat(\"You Have Entered POSITIVE Number\", \"\\n\")        \n",
    "    } else {\n",
    "        cat(\"You Have Entered NEGATIVE Number\", \"\\n\")        \n",
    "    }    \n",
    "} else {\n",
    "    cat(\"You Have Entered ZERO\", \"\\n\")        \n",
    "}\n",
    "\n",
    "cat(\"Finish\", \"\\n\")"
   ]
  },
  {
   "cell_type": "code",
   "execution_count": null,
   "metadata": {
    "scrolled": true
   },
   "outputs": [],
   "source": [
    "# IF Else Statement Example 01:\n",
    "\n",
    "cat(\"Start\", \"\\n\")\n",
    "\n",
    "num <- as.integer(readline(prompt=\"Please Enter Any Integer Value: \"))\n",
    "\n",
    "if (num != 0) {\n",
    "    if (num > 0) {\n",
    "        cat(\"You Have Entered POSITIVE Number\", \"\\n\")        \n",
    "    } else {\n",
    "        cat(\"You Have Entered NEGATIVE Number\", \"\\n\")        \n",
    "    }    \n",
    "} else {\n",
    "    cat(\"You Have Entered ZERO\", \"\\n\")        \n",
    "}\n",
    "\n",
    "cat(\"Finish\", \"\\n\")"
   ]
  },
  {
   "cell_type": "code",
   "execution_count": null,
   "metadata": {
    "scrolled": false
   },
   "outputs": [],
   "source": [
    "# IF Else Statement Example 02:\n",
    "\n",
    "cat(\"Start\", \"\\n\")\n",
    "\n",
    "my_age <- as.integer(readline(prompt=\"Please Enter Your Age: \"))\n",
    "\n",
    "if (my_age < 18) {\n",
    "    cat(\"You are Not a Major.\", \"\\n\")\n",
    "    cat(\"You are Not Eligible to Work.\", \"\\n\")\n",
    "} else {\n",
    "    if (my_age >= 18 && my_age <= 60 ) {\n",
    "        cat(\"You are Eligible to Work.\", \"\\n\")\n",
    "        cat(\"Please fill the Application Form and Email to us.\", \"\\n\")\n",
    "    } else {\n",
    "        cat(\"As per the Government Rules, You are too Old to Work.\", \"\\n\")\n",
    "    }  \n",
    "}\n",
    "\n",
    "cat(\"Finish\", \"\\n\")"
   ]
  },
  {
   "cell_type": "code",
   "execution_count": null,
   "metadata": {
    "scrolled": false
   },
   "outputs": [],
   "source": [
    "# IF Else Statement Example 02:\n",
    "\n",
    "cat(\"Start\", \"\\n\")\n",
    "\n",
    "my_age <- as.integer(readline(prompt=\"Please Enter Your Age: \"))\n",
    "\n",
    "if (my_age < 18) {\n",
    "    cat(\"You are Not a Major.\", \"\\n\")\n",
    "    cat(\"You are Not Eligible to Work.\", \"\\n\")\n",
    "} else {\n",
    "    if (my_age >= 18 && my_age <= 60 ) {\n",
    "        cat(\"You are Eligible to Work.\", \"\\n\")\n",
    "        cat(\"Please fill the Application Form and Email to us.\", \"\\n\")\n",
    "    } else {\n",
    "        cat(\"As per the Government Rules, You are too Old to Work.\", \"\\n\")\n",
    "    }  \n",
    "}\n",
    "\n",
    "cat(\"Finish\", \"\\n\")"
   ]
  },
  {
   "cell_type": "code",
   "execution_count": null,
   "metadata": {
    "scrolled": false
   },
   "outputs": [],
   "source": [
    "# IF Else Statement Example 02:\n",
    "\n",
    "cat(\"Start\", \"\\n\")\n",
    "\n",
    "my_age <- as.integer(readline(prompt=\"Please Enter Your Age: \"))\n",
    "\n",
    "if (my_age < 18) {\n",
    "    cat(\"You are Not a Major.\", \"\\n\")\n",
    "    cat(\"You are Not Eligible to Work.\", \"\\n\")\n",
    "} else {\n",
    "    if (my_age >= 18 && my_age <= 60 ) {\n",
    "        cat(\"You are Eligible to Work.\", \"\\n\")\n",
    "        cat(\"Please fill the Application Form and Email to us.\", \"\\n\")\n",
    "    } else {\n",
    "        cat(\"As per the Government Rules, You are too Old to Work.\", \"\\n\")\n",
    "    }  \n",
    "}\n",
    "\n",
    "cat(\"Finish\", \"\\n\")"
   ]
  },
  {
   "cell_type": "markdown",
   "metadata": {},
   "source": [
    "<div style=\"line-height:300%;\">\n",
    "    <font color=#9A0909 face=\"Sriracha\" size=6>\n",
    "                <div align=left>The if...else if...else Statement</div>\n",
    "    </font>\n",
    "</div>"
   ]
  },
  {
   "cell_type": "markdown",
   "metadata": {},
   "source": [
    "<div style=\"line-height:200%;\">\n",
    "    <font color=black face=\"Candara\" size=4>\n",
    "                <div align=left>\n",
    "                  An <mark>if statement</mark> can be followed by an optional <mark>else if ... else statement</mark>, which is very useful to test various conditions using single <mark>if ... else if statement</mark>.\n",
    "When using <ins>if</ins>, <ins>else if</ins>, <ins>else statements</ins> there are few points to keep in mind:\n",
    "                    <ul>\n",
    "                        <li>An <mark>if</mark> can have <ins>zero</ins> or <ins>one</ins> <mark>else</mark> and <b>it must come after any else if's</b>.</li>\n",
    "                        <li>An <mark>if</mark> can have <ins>zero</ins> to <ins>many</ins> <mark>else if's</mark> and <b>they must come before the else</b>.</li>\n",
    "                        <li>Once an <mark>else if</mark> succeeds, none of the remaining <mark>else if's</mark> or <mark>else's</mark> will be tested.</li>\n",
    "</ul>\n",
    "                </div>\n",
    "    </font>\n",
    "    <font color=#076F9A face=\"Candara\" size=4>\n",
    "                <div align=left>\n",
    "                    <br>\n",
    "                    <b>Syntax:</b>\n",
    "                </div>\n",
    "    </font>\n",
    "    <font color=black face=\"Candara\" size=4>\n",
    "                <div align=left>\n",
    "                    The basic syntax for creating an if ... else if ... else statement in R is:\n",
    "                </div>\n",
    "    </font>\n",
    "</div>"
   ]
  },
  {
   "cell_type": "code",
   "execution_count": null,
   "metadata": {
    "slideshow": {
     "slide_type": "skip"
    }
   },
   "outputs": [],
   "source": [
    "if(boolean_expression 1) {\n",
    "   // Executes when the boolean expression 1 is true.\n",
    "} else if( boolean_expression 2) {\n",
    "   // Executes when the boolean expression 2 is true.\n",
    "} else if( boolean_expression 3) {\n",
    "   // Executes when the boolean expression 3 is true.\n",
    "} else {\n",
    "   // executes when none of the above condition is true.\n",
    "}"
   ]
  },
  {
   "cell_type": "markdown",
   "metadata": {},
   "source": [
    "<div style=\"line-height:200%;\">\n",
    "    <font color=#076F9A face=\"Candara\" size=4>\n",
    "                <div align=left>\n",
    "                    <b>Flow Diagram:</b>\n",
    "                </div>\n",
    "    </font>\n",
    "    <font color=black face=\"Candara\" size=4>\n",
    "                <div align=left>\n",
    "                    Following picture will show you the flow chart of the if ... else if ... else statement in R Programming.\n",
    "                </div>\n",
    "    </font>\n",
    "</div>"
   ]
  },
  {
   "cell_type": "markdown",
   "metadata": {
    "scrolled": true
   },
   "source": [
    "<div>        \n",
    "    <img src=\"..\\Week 01\\img\\ELSE-IF-Flow-Chart.jpg\" width=\"600\"/>  \n",
    "</div>"
   ]
  },
  {
   "cell_type": "markdown",
   "metadata": {},
   "source": [
    "<div style=\"line-height:200%;\">\n",
    "    <font color=#076F9A face=\"Candara\" size=4>\n",
    "                <div align=left>\n",
    "                    <b>Example:</b>\n",
    "                </div>\n",
    "    </font>\n",
    "</div>"
   ]
  },
  {
   "cell_type": "code",
   "execution_count": null,
   "metadata": {
    "scrolled": true
   },
   "outputs": [],
   "source": [
    "# Else If Statement Example 01:\n",
    "\n",
    "cat(\"Start\", \"\\n\")\n",
    "\n",
    "num <- as.integer(readline(prompt=\"Please Enter Any Integer Value: \"))\n",
    "\n",
    "if (num > 0) {\n",
    "    cat(\"You Have Entered POSITIVE Number\", \"\\n\")    \n",
    "} else if(num < 0) {\n",
    "    cat(\"You Have Entered NEGATIVE Number\", \"\\n\")    \n",
    "} else {\n",
    "    cat(\"You Have Entered ZERO\", \"\\n\")    \n",
    "}\n",
    "\n",
    "cat(\"Finish\", \"\\n\")\n"
   ]
  },
  {
   "cell_type": "code",
   "execution_count": null,
   "metadata": {
    "scrolled": true
   },
   "outputs": [],
   "source": [
    "# Else If Statement Example 01:\n",
    "\n",
    "cat(\"Start\", \"\\n\")\n",
    "\n",
    "num <- as.integer(readline(prompt=\"Please Enter Any Integer Value: \"))\n",
    "\n",
    "if (num > 0) {\n",
    "    cat(\"You Have Entered POSITIVE Number\", \"\\n\")    \n",
    "} else if(num < 0) {\n",
    "    cat(\"You Have Entered NEGATIVE Number\", \"\\n\")    \n",
    "} else {\n",
    "    cat(\"You Have Entered ZERO\", \"\\n\")    \n",
    "}\n",
    "\n",
    "cat(\"Finish\", \"\\n\")\n"
   ]
  },
  {
   "cell_type": "code",
   "execution_count": null,
   "metadata": {
    "scrolled": true
   },
   "outputs": [],
   "source": [
    "# Else If Statement Example 01:\n",
    "\n",
    "cat(\"Start\", \"\\n\")\n",
    "\n",
    "num <- as.integer(readline(prompt=\"Please Enter Any Integer Value: \"))\n",
    "\n",
    "if (num > 0) {\n",
    "    cat(\"You Have Entered POSITIVE Number\", \"\\n\")    \n",
    "} else if(num < 0) {\n",
    "    cat(\"You Have Entered NEGATIVE Number\", \"\\n\")    \n",
    "} else {\n",
    "    cat(\"You Have Entered ZERO\", \"\\n\")    \n",
    "}\n",
    "\n",
    "cat(\"Finish\", \"\\n\")\n"
   ]
  },
  {
   "cell_type": "markdown",
   "metadata": {},
   "source": [
    "<div>        \n",
    "    <img src=\"..\\Week 02\\img\\band_score_ielts.png\" width=\"400\"/>  \n",
    "</div>\n"
   ]
  },
  {
   "cell_type": "code",
   "execution_count": null,
   "metadata": {},
   "outputs": [],
   "source": [
    "# Else If Statement Example 02:\n",
    "\n",
    "cat(\"Start\", \"\\n\")\n",
    "\n",
    "num <- as.integer(readline(prompt=\"Please Enter Number of Correct Answers: \"))\n",
    "\n",
    "if(num > 40) {\n",
    "    cat(\"Wrong Number\", \"\\n\")\n",
    "} else if (num >= 39 & num <= 40) {\n",
    "    cat(\"Your Band Score is: 9.0\", \"\\n\")\n",
    "    cat(\"Your Are Expert User\", \"\\n\")    \n",
    "} else if(num >= 37 & num <= 38) {\n",
    "    cat(\"Your Band Score is: 8.5\", \"\\n\")\n",
    "} else if(num >= 35 & num <= 36) {\n",
    "    cat(\"Your Band Score is: 8.0\", \"\\n\")\n",
    "    cat(\"Your Are Very Good User\", \"\\n\")\n",
    "} else if(num >= 32 & num <= 34) {\n",
    "    cat(\"Your Band Score is: 7.5\", \"\\n\")\n",
    "} else if(num >= 30 & num <= 31) {\n",
    "    cat(\"Your Band Score is: 7.0\", \"\\n\")\n",
    "    cat(\"Your Are Good User\", \"\\n\")\n",
    "} else if(num >= 26 & num <= 29) {\n",
    "    cat(\"Your Band Score is: 6.5\", \"\\n\")\n",
    "} else if(num >= 23 & num <= 25) {\n",
    "    cat(\"Your Band Score is: 6.0\", \"\\n\")\n",
    "    cat(\"Your Are Competent User\", \"\\n\")\n",
    "} else {\n",
    "    cat(\"Your Band Score is: Less Than 6.0\", \"\\n\")\n",
    "    cat(\"Your Are Modest User\", \"\\n\")\n",
    "}\n",
    "\n",
    "cat(\"Finish\", \"\\n\")\n"
   ]
  },
  {
   "cell_type": "code",
   "execution_count": null,
   "metadata": {},
   "outputs": [],
   "source": [
    "# Else If Statement Example 02:\n",
    "\n",
    "cat(\"Start\", \"\\n\")\n",
    "\n",
    "num <- as.integer(readline(prompt=\"Please Enter Number of Correct Answers: \"))\n",
    "\n",
    "if(num > 40) {\n",
    "    cat(\"Wrong Number\", \"\\n\")\n",
    "} else if (num >= 39 & num <= 40) {\n",
    "    cat(\"Your Band Score is: 9.0\", \"\\n\")\n",
    "    cat(\"Your Are Expert User\", \"\\n\")    \n",
    "} else if(num >= 37 & num <= 38) {\n",
    "    cat(\"Your Band Score is: 8.5\", \"\\n\")\n",
    "} else if(num >= 35 & num <= 36) {\n",
    "    cat(\"Your Band Score is: 8.0\", \"\\n\")\n",
    "    cat(\"Your Are Very Good User\", \"\\n\")\n",
    "} else if(num >= 32 & num <= 34) {\n",
    "    cat(\"Your Band Score is: 7.5\", \"\\n\")\n",
    "} else if(num >= 30 & num <= 31) {\n",
    "    cat(\"Your Band Score is: 7.0\", \"\\n\")\n",
    "    cat(\"Your Are Good User\", \"\\n\")\n",
    "} else if(num >= 26 & num <= 29) {\n",
    "    cat(\"Your Band Score is: 6.5\", \"\\n\")\n",
    "} else if(num >= 23 & num <= 25) {\n",
    "    cat(\"Your Band Score is: 6.0\", \"\\n\")\n",
    "    cat(\"Your Are Competent User\", \"\\n\")\n",
    "} else {\n",
    "    cat(\"Your Band Score is: Less Than 6.0\", \"\\n\")\n",
    "    cat(\"Your Are Modest User\", \"\\n\")\n",
    "}\n",
    "\n",
    "cat(\"Finish\", \"\\n\")\n"
   ]
  },
  {
   "cell_type": "code",
   "execution_count": null,
   "metadata": {},
   "outputs": [],
   "source": [
    "# Else If Statement Example 02:\n",
    "\n",
    "cat(\"Start\", \"\\n\")\n",
    "\n",
    "num <- as.integer(readline(prompt=\"Please Enter Number of Correct Answers: \"))\n",
    "\n",
    "if(num > 40) {\n",
    "    cat(\"Wrong Number\", \"\\n\")\n",
    "} else if (num >= 39 & num <= 40) {\n",
    "    cat(\"Your Band Score is: 9.0\", \"\\n\")\n",
    "    cat(\"Your Are Expert User\", \"\\n\")    \n",
    "} else if(num >= 37 & num <= 38) {\n",
    "    cat(\"Your Band Score is: 8.5\", \"\\n\")\n",
    "} else if(num >= 35 & num <= 36) {\n",
    "    cat(\"Your Band Score is: 8.0\", \"\\n\")\n",
    "    cat(\"Your Are Very Good User\", \"\\n\")\n",
    "} else if(num >= 32 & num <= 34) {\n",
    "    cat(\"Your Band Score is: 7.5\", \"\\n\")\n",
    "} else if(num >= 30 & num <= 31) {\n",
    "    cat(\"Your Band Score is: 7.0\", \"\\n\")\n",
    "    cat(\"Your Are Good User\", \"\\n\")\n",
    "} else if(num >= 26 & num <= 29) {\n",
    "    cat(\"Your Band Score is: 6.5\", \"\\n\")\n",
    "} else if(num >= 23 & num <= 25) {\n",
    "    cat(\"Your Band Score is: 6.0\", \"\\n\")\n",
    "    cat(\"Your Are Competent User\", \"\\n\")\n",
    "} else {\n",
    "    cat(\"Your Band Score is: Less Than 6.0\", \"\\n\")\n",
    "    cat(\"Your Are Modest User\", \"\\n\")\n",
    "}\n",
    "\n",
    "cat(\"Finish\", \"\\n\")\n"
   ]
  },
  {
   "cell_type": "markdown",
   "metadata": {},
   "source": [
    "\n",
    "<div style=\"line-height:300%;\">\n",
    "    <font color=#9A0909 face=\"Sriracha\" size=6>\n",
    "                <div align=left>Switch Statement</div>\n",
    "    </font>\n",
    "</div>"
   ]
  },
  {
   "cell_type": "markdown",
   "metadata": {},
   "source": [
    "<div style=\"line-height:200%;\">\n",
    "    <font color=black face=\"Candara\" size=4>\n",
    "                <div align=left>A <mark>Switch Statement</mark> allows a variable to be tested for equality against a <mark>List of Values</mark>. Each value is called a <mark>case</mark>, and the variable being switched on is checked for each case.                  \n",
    "                </div>\n",
    "    </font>\n",
    "    <font color=#076F9A face=\"Candara\" size=4>\n",
    "                <div align=left>\n",
    "                    <br>\n",
    "                    <b>Syntax:</b>\n",
    "                </div>\n",
    "    </font>\n",
    "    <font color=black face=\"Candara\" size=4>\n",
    "                <div align=left>\n",
    "                    The basic syntax for creating a switch statement in R is:\n",
    "                </div>\n",
    "    </font>\n",
    "</div>"
   ]
  },
  {
   "cell_type": "code",
   "execution_count": null,
   "metadata": {
    "slideshow": {
     "slide_type": "skip"
    }
   },
   "outputs": [],
   "source": [
    "switch(expression, case1, case2, case3....)"
   ]
  },
  {
   "cell_type": "markdown",
   "metadata": {},
   "source": [
    "<div style=\"line-height:200%;\">\n",
    "    <font color=black face=\"Candara\" size=4>\n",
    "                <div align=left>\n",
    "                    The following rules apply to a <mark>Switch Statement</mark>:\n",
    "                    <ul>\n",
    "                        <li>If the value of expression is not a character string it is coerced to integer.</li>\n",
    "                        <li>You can have any number of case statements within a switch. Each case is followed by the value to be compared to and a colon.</li>\n",
    "                        <li>If the value of the integer is between 1 and nargs()−1 (The max number of arguments)then the corresponding element of case condition is evaluated and the result returned.</li>\n",
    "                        <li>If expression evaluates to a character string then that string is matched (exactly) to the names of the elements.</li>\n",
    "                        <li>If there is more than one match, the first matching element is returned.</li>\n",
    "                        <li>No Default argument is available.</li>\n",
    "                        <li>In the case of no match, if there is a unnamed element of ... its value is returned. (If there is more than one such argument an error is returned.)</li>\n",
    "</ul>\n",
    "                </div>\n",
    "\n",
    "</div>"
   ]
  },
  {
   "cell_type": "markdown",
   "metadata": {},
   "source": [
    "<div style=\"line-height:200%;\">\n",
    "    <font color=#076F9A face=\"Candara\" size=4>\n",
    "                <div align=left>\n",
    "                    <b>Flow Diagram:</b>\n",
    "                </div>\n",
    "    </font>\n",
    "    <font color=black face=\"Candara\" size=4>\n",
    "                <div align=left>\n",
    "                    The following screenshot will show you the flow chart behind this R Switch Case.\n",
    "                </div>\n",
    "    </font>\n",
    "</div>"
   ]
  },
  {
   "cell_type": "markdown",
   "metadata": {
    "scrolled": true
   },
   "source": [
    "<div>        \n",
    "    <img src=\"..\\Week 01\\img\\r_switch_statement.jpg\" width=\"300\"/>  \n",
    "</div>"
   ]
  },
  {
   "cell_type": "markdown",
   "metadata": {},
   "source": [
    "<div style=\"line-height:200%;\">\n",
    "    <font color=#076F9A face=\"Candara\" size=4>\n",
    "                <div align=left>\n",
    "                    <b>Example:</b>\n",
    "                </div>\n",
    "    </font>\n",
    "</div>"
   ]
  },
  {
   "cell_type": "code",
   "execution_count": null,
   "metadata": {
    "scrolled": true
   },
   "outputs": [],
   "source": [
    "# R Switch Statement Example 01:\n",
    "\n",
    "num <- 2\n",
    "\n",
    "x <- switch(EXPR = num,\n",
    "            \"first\",\n",
    "            \"second\",\n",
    "            \"third\",\n",
    "            \"fourth\")\n",
    "\n",
    "print(x)"
   ]
  },
  {
   "cell_type": "code",
   "execution_count": null,
   "metadata": {
    "scrolled": true
   },
   "outputs": [],
   "source": [
    "# R Switch Statement Example 01:\n",
    "\n",
    "num <- 5\n",
    "\n",
    "x <- switch(EXPR = num,\n",
    "            \"first\",\n",
    "            \"second\",\n",
    "            \"third\",\n",
    "            \"fourth\")\n",
    "\n",
    "print(x)"
   ]
  },
  {
   "cell_type": "code",
   "execution_count": null,
   "metadata": {},
   "outputs": [],
   "source": [
    "# R Switch Statement Example 02:\n",
    "\n",
    "day_of_week <- as.integer(readline(prompt = \"Enter Day of the Week: \"))\n",
    "\n",
    "day = switch(EXPR = day_of_week,\n",
    "             \"Saturday\",\n",
    "             \"Sunday\",\n",
    "             \"Monday\",\n",
    "             \"Tuesday\",\n",
    "             \"Wednesday\",\n",
    "             \"Friday\")\n",
    "\n",
    "cat(day, \"\\n\")"
   ]
  },
  {
   "cell_type": "code",
   "execution_count": null,
   "metadata": {},
   "outputs": [],
   "source": [
    "# R Switch Statement Example 02:\n",
    "\n",
    "day_of_week <- as.integer(readline(prompt = \"Enter Day of the Week: \"))\n",
    "\n",
    "day = switch(EXPR = day_of_week,\n",
    "             \"Saturday\",\n",
    "             \"Sunday\",\n",
    "             \"Monday\",\n",
    "             \"Tuesday\",\n",
    "             \"Wednesday\",\n",
    "             \"Friday\")\n",
    "\n",
    "cat(day, \"\\n\")"
   ]
  },
  {
   "cell_type": "code",
   "execution_count": null,
   "metadata": {},
   "outputs": [],
   "source": [
    "# R Switch Statement Example 03:\n",
    "\n",
    "item = \"ID\"\n",
    "\n",
    "switch(EXPR = item,\n",
    "       \"Name\" = \"Pooya\",\n",
    "       \"Family\" = \"Shirazi\",\n",
    "       \"Age\" = 36,\n",
    "       \"ID\" = 1513,\n",
    "       \"Phone\" = \"09131009667\",\n",
    "       \"City\" = \"Esfahan\")"
   ]
  },
  {
   "cell_type": "code",
   "execution_count": null,
   "metadata": {},
   "outputs": [],
   "source": [
    "# R Switch Statement Example 03:\n",
    "\n",
    "item = \"Country\"\n",
    "\n",
    "switch(EXPR = item,\n",
    "       \"Name\" = \"Pooya\",\n",
    "       \"Family\" = \"Shirazi\",\n",
    "       \"Age\" = 36,\n",
    "       \"ID\" = 1513,\n",
    "       \"Phone\" = \"09131009667\",\n",
    "       \"City\" = \"Esfahan\")"
   ]
  },
  {
   "cell_type": "code",
   "execution_count": null,
   "metadata": {},
   "outputs": [],
   "source": [
    "# R Switch Statement Example 04:\n",
    "\n",
    "number1 <- as.integer(readline(prompt = \"Please Enter Number 1: \"))\n",
    "number2 <- as.integer(readline(prompt = \"Please Enter Number 2: \"))\n",
    "operator <- readline(prompt=\"Please Enter Any ARITHMETIC OPERATOR You Wish!: \")\n",
    "\n",
    "switch(operator,\n",
    "       \"+\" = cat(\"Addition of two numbers is: \", (number1 + number2), \"\\n\"),\n",
    "       \n",
    "       \"-\" = cat(\"Subtraction of two numbers is: \", (number1 - number2), \"\\n\"),\n",
    "       \n",
    "       \"*\" = cat(\"Multiplication of two numbers is: \", (number1 * number2), \"\\n\"),\n",
    "       \n",
    "       \"^\" = cat(\"Exponent of two numbers is: \", (number1 ^ number2), \"\\n\"),\n",
    "       \n",
    "       \"/\" = cat(\"Division of two numbers is: \", (number1 / number2), \"\\n\"),\n",
    "       \n",
    "       \"%/%\" = cat(\"Integer Division of two numbers is: \", (number1 %/% number2), \"\\n\"),\n",
    "       \n",
    "       \"%%\" = cat(\"Division of two numbers is: \", (number1 %% number2), \"\\n\"),\n",
    "       \n",
    "       cat(\"ERROR\", \"\\n\")    \n",
    "       \n",
    ")"
   ]
  },
  {
   "cell_type": "code",
   "execution_count": null,
   "metadata": {},
   "outputs": [],
   "source": [
    "# R Switch Statement Example 04:\n",
    "\n",
    "number1 <- as.integer(readline(prompt = \"Please Enter Number 1: \"))\n",
    "number2 <- as.integer(readline(prompt = \"Please Enter Number 2: \"))\n",
    "operator <- readline(prompt=\"Please Enter Any ARITHMETIC OPERATOR You Wish!: \")\n",
    "\n",
    "switch(operator,\n",
    "       \"+\" = cat(\"Addition of two numbers is: \", (number1 + number2), \"\\n\"),\n",
    "       \n",
    "       \"-\" = cat(\"Subtraction of two numbers is: \", (number1 - number2), \"\\n\"),\n",
    "       \n",
    "       \"*\" = cat(\"Multiplication of two numbers is: \", (number1 * number2), \"\\n\"),\n",
    "       \n",
    "       \"^\" = cat(\"Exponent of two numbers is: \", (number1 ^ number2), \"\\n\"),\n",
    "       \n",
    "       \"/\" = cat(\"Division of two numbers is: \", (number1 / number2), \"\\n\"),\n",
    "       \n",
    "       \"%/%\" = cat(\"Integer Division of two numbers is: \", (number1 %/% number2), \"\\n\"),\n",
    "       \n",
    "       \"%%\" = cat(\"Division of two numbers is: \", (number1 %% number2), \"\\n\"),\n",
    "       \n",
    "       cat(\"ERROR\", \"\\n\")    \n",
    "       \n",
    ")"
   ]
  },
  {
   "cell_type": "code",
   "execution_count": null,
   "metadata": {
    "scrolled": false
   },
   "outputs": [],
   "source": [
    "# R Switch Statement Example 05:\n",
    "\n",
    "day_of_week <- as.integer(readline(prompt = \"Enter Day of the Week: \"))\n",
    "\n",
    "switch(EXPR = day_of_week,\n",
    "      {cat(\"Your Number is:\", day_of_week, \"\\n\")\n",
    "       cat(\"Day of Week:\", \"Saturday\", \"\\n\")},\n",
    "       \n",
    "      {cat(\"Your Number is:\", day_of_week, \"\\n\")\n",
    "       cat(\"Day of Week:\", \"Sunday\", \"\\n\")},\n",
    "       \n",
    "      {cat(\"Your Number is:\", day_of_week, \"\\n\")\n",
    "       cat(\"Day of Week:\", \"Monday\", \"\\n\")},\n",
    "       \n",
    "      {cat(\"Your Number is:\", day_of_week, \"\\n\")\n",
    "       cat(\"Day of Week:\", \"Tuesday\", \"\\n\")},\n",
    "       \n",
    "      {cat(\"Your Number is:\", day_of_week, \"\\n\")\n",
    "       cat(\"Day of Week:\", \"Wednesday\", \"\\n\")},\n",
    "       \n",
    "      {cat(\"Your Number is:\", day_of_week, \"\\n\")\n",
    "       cat(\"Day of Week:\", \"Thursday\", \"\\n\")},\n",
    "       \n",
    "      {cat(\"Your Number is:\", day_of_week, \"\\n\")\n",
    "       cat(\"Day of Week:\", \"Friday\", \"\\n\")}       \n",
    ")"
   ]
  },
  {
   "cell_type": "markdown",
   "metadata": {},
   "source": [
    "<div style=\"line-height:200%;\">\n",
    "    <font color=#076F9A face=\"Candara\" size=4>\n",
    "                <div align=left>\n",
    "                    <b>Example:</b>\n",
    "                </div>\n",
    "    </font>\n",
    "</div>"
   ]
  },
  {
   "cell_type": "code",
   "execution_count": 2,
   "metadata": {},
   "outputs": [
    {
     "name": "stdout",
     "output_type": "stream",
     "text": [
      "[1] \"data.frame\"\n"
     ]
    },
    {
     "data": {
      "text/html": [
       "<table>\n",
       "<thead><tr><th scope=col>Site</th><th scope=col>Year</th><th scope=col>Month</th><th scope=col>dd</th><th scope=col>ff</th><th scope=col>tmin</th><th scope=col>t</th><th scope=col>tmax</th><th scope=col>td</th><th scope=col>p0</th><th scope=col>...</th><th scope=col>um</th><th scope=col>sshn</th><th scope=col>radglo24</th><th scope=col>evt</th><th scope=col>ewsm</th><th scope=col>nm</th><th scope=col>umax</th><th scope=col>umin</th><th scope=col>tsoil_m</th><th scope=col>rrr</th></tr></thead>\n",
       "<tbody>\n",
       "\t<tr><td>40831  </td><td>2000   </td><td>1      </td><td>117.58 </td><td>1.86   </td><td> 7.82  </td><td>12.30  </td><td>17.34  </td><td>6.23   </td><td>1017.46</td><td>...    </td><td>68.42  </td><td>6.55   </td><td>NA     </td><td>2.73   </td><td>14.78  </td><td>2.81   </td><td>87.19  </td><td>45.55  </td><td>5.58   </td><td>48.6   </td></tr>\n",
       "\t<tr><td>40831  </td><td>2000   </td><td>2      </td><td>155.22 </td><td>2.21   </td><td> 8.64  </td><td>14.32  </td><td>20.74  </td><td>2.84   </td><td>1017.34</td><td>...    </td><td>49.57  </td><td>7.61   </td><td>NA     </td><td>5.27   </td><td>17.07  </td><td>1.76   </td><td>71.79  </td><td>26.38  </td><td>6.03   </td><td> 4.0   </td></tr>\n",
       "\t<tr><td>40831  </td><td>2000   </td><td>3      </td><td>164.03 </td><td>2.51   </td><td>12.07  </td><td>19.24  </td><td>26.41  </td><td>1.56   </td><td>1014.10</td><td>...    </td><td>34.02  </td><td>8.32   </td><td>NA     </td><td>8.93   </td><td>23.65  </td><td>1.65   </td><td>56.45  </td><td>16.45  </td><td>9.94   </td><td> 3.0   </td></tr>\n",
       "</tbody>\n",
       "</table>\n"
      ],
      "text/latex": [
       "\\begin{tabular}{r|llllllllllllllllllllll}\n",
       " Site & Year & Month & dd & ff & tmin & t & tmax & td & p0 & ... & um & sshn & radglo24 & evt & ewsm & nm & umax & umin & tsoil\\_m & rrr\\\\\n",
       "\\hline\n",
       "\t 40831   & 2000    & 1       & 117.58  & 1.86    &  7.82   & 12.30   & 17.34   & 6.23    & 1017.46 & ...     & 68.42   & 6.55    & NA      & 2.73    & 14.78   & 2.81    & 87.19   & 45.55   & 5.58    & 48.6   \\\\\n",
       "\t 40831   & 2000    & 2       & 155.22  & 2.21    &  8.64   & 14.32   & 20.74   & 2.84    & 1017.34 & ...     & 49.57   & 7.61    & NA      & 5.27    & 17.07   & 1.76    & 71.79   & 26.38   & 6.03    &  4.0   \\\\\n",
       "\t 40831   & 2000    & 3       & 164.03  & 2.51    & 12.07   & 19.24   & 26.41   & 1.56    & 1014.10 & ...     & 34.02   & 8.32    & NA      & 8.93    & 23.65   & 1.65    & 56.45   & 16.45   & 9.94    &  3.0   \\\\\n",
       "\\end{tabular}\n"
      ],
      "text/markdown": [
       "\n",
       "| Site | Year | Month | dd | ff | tmin | t | tmax | td | p0 | ... | um | sshn | radglo24 | evt | ewsm | nm | umax | umin | tsoil_m | rrr |\n",
       "|---|---|---|---|---|---|---|---|---|---|---|---|---|---|---|---|---|---|---|---|---|\n",
       "| 40831   | 2000    | 1       | 117.58  | 1.86    |  7.82   | 12.30   | 17.34   | 6.23    | 1017.46 | ...     | 68.42   | 6.55    | NA      | 2.73    | 14.78   | 2.81    | 87.19   | 45.55   | 5.58    | 48.6    |\n",
       "| 40831   | 2000    | 2       | 155.22  | 2.21    |  8.64   | 14.32   | 20.74   | 2.84    | 1017.34 | ...     | 49.57   | 7.61    | NA      | 5.27    | 17.07   | 1.76    | 71.79   | 26.38   | 6.03    |  4.0    |\n",
       "| 40831   | 2000    | 3       | 164.03  | 2.51    | 12.07   | 19.24   | 26.41   | 1.56    | 1014.10 | ...     | 34.02   | 8.32    | NA      | 8.93    | 23.65   | 1.65    | 56.45   | 16.45   | 9.94    |  3.0    |\n",
       "\n"
      ],
      "text/plain": [
       "  Site  Year Month dd     ff   tmin  t     tmax  td   p0      ... um    sshn\n",
       "1 40831 2000 1     117.58 1.86  7.82 12.30 17.34 6.23 1017.46 ... 68.42 6.55\n",
       "2 40831 2000 2     155.22 2.21  8.64 14.32 20.74 2.84 1017.34 ... 49.57 7.61\n",
       "3 40831 2000 3     164.03 2.51 12.07 19.24 26.41 1.56 1014.10 ... 34.02 8.32\n",
       "  radglo24 evt  ewsm  nm   umax  umin  tsoil_m rrr \n",
       "1 NA       2.73 14.78 2.81 87.19 45.55 5.58    48.6\n",
       "2 NA       5.27 17.07 1.76 71.79 26.38 6.03     4.0\n",
       "3 NA       8.93 23.65 1.65 56.45 16.45 9.94     3.0"
      ]
     },
     "metadata": {},
     "output_type": "display_data"
    }
   ],
   "source": [
    "data <- read.csv(file = \"img/data.csv\",\n",
    "                 header = TRUE)\n",
    "\n",
    "print(class(data))\n",
    "\n",
    "head(x = data, n = 3)"
   ]
  },
  {
   "cell_type": "code",
   "execution_count": 3,
   "metadata": {},
   "outputs": [
    {
     "name": "stderr",
     "output_type": "stream",
     "text": [
      "Registered S3 methods overwritten by 'ggplot2':\n",
      "  method         from \n",
      "  [.quosures     rlang\n",
      "  c.quosures     rlang\n",
      "  print.quosures rlang\n",
      "Registered S3 method overwritten by 'rvest':\n",
      "  method            from\n",
      "  read_xml.response xml2\n",
      "-- Attaching packages --------------------------------------- tidyverse 1.2.1 --\n",
      "v ggplot2 3.1.1       v purrr   0.3.2  \n",
      "v tibble  2.1.1       v dplyr   0.8.0.1\n",
      "v tidyr   0.8.3       v stringr 1.4.0  \n",
      "v readr   1.3.1       v forcats 0.4.0  \n",
      "-- Conflicts ------------------------------------------ tidyverse_conflicts() --\n",
      "x dplyr::filter() masks stats::filter()\n",
      "x dplyr::lag()    masks stats::lag()\n"
     ]
    },
    {
     "name": "stdout",
     "output_type": "stream",
     "text": [
      "   Year Month  tmin  tmax\n",
      "1  2000     1  7.82 17.34\n",
      "2  2000     2  8.64 20.74\n",
      "3  2000     3 12.07 26.41\n",
      "4  2000     4 21.27 36.90\n",
      "5  2000     5 24.84 41.65\n",
      "6  2000     6 27.03 45.67\n",
      "7  2000     7 30.57 48.33\n",
      "8  2000     8 29.64 48.55\n",
      "9  2000     9 24.10 42.63\n",
      "10 2000    10 19.67 35.26\n",
      "    Year Month  tmin  tmax\n",
      "219 2018     3 16.99 31.76\n",
      "220 2018     4 35.60 32.45\n",
      "221 2018     5 25.70 39.63\n",
      "222 2018     6 30.79 45.85\n",
      "223 2018     7 31.19 47.84\n",
      "224 2018     8 29.43 47.15\n",
      "225 2018     9 26.83 45.59\n",
      "226 2018    10 22.49 37.22\n",
      "227 2018    11 16.41 24.74\n",
      "228 2018    12 12.33 21.52\n"
     ]
    }
   ],
   "source": [
    "library(tidyverse)\n",
    "\n",
    "myData <- data %>% select(Year, Month, tmin, tmax)\n",
    "\n",
    "print(head(x = myData, n = 10))\n",
    "\n",
    "print(tail(x = myData, n = 10))"
   ]
  },
  {
   "cell_type": "code",
   "execution_count": 6,
   "metadata": {},
   "outputs": [
    {
     "data": {
      "text/html": [
       "228"
      ],
      "text/latex": [
       "228"
      ],
      "text/markdown": [
       "228"
      ],
      "text/plain": [
       "[1] 228"
      ]
     },
     "metadata": {},
     "output_type": "display_data"
    }
   ],
   "source": [
    "year <- c(myData$Year)\n",
    "month <- c(myData$Month)\n",
    "tmin <- c(myData$tmin)\n",
    "tmax <- c(myData$tmax)\n",
    "\n",
    "length(year)"
   ]
  },
  {
   "cell_type": "code",
   "execution_count": 8,
   "metadata": {},
   "outputs": [
    {
     "name": "stdout",
     "output_type": "stream",
     "text": [
      "Warning: 2001 11 \n",
      "Error: 2006 5 \n",
      "Warning: 2006 12 \n",
      "Warning: 2009 2 \n",
      "Warning: 2011 2 \n",
      "Error: 2011 7 \n",
      "Error: 2012 2 \n",
      "Error: 2015 5 \n",
      "Error: 2018 4 \n"
     ]
    }
   ],
   "source": [
    "for (i in 1:228) {\n",
    "    if (tmax[i] < tmin[i]) {\n",
    "        cat(\"Error:\", year[i], month[i], \"\\n\")\n",
    "    } else if (tmax[i] == tmin[i]) {\n",
    "        cat(\"Warning:\", year[i], month[i], \"\\n\")        \n",
    "    }\n",
    "}"
   ]
  },
  {
   "cell_type": "code",
   "execution_count": 13,
   "metadata": {},
   "outputs": [
    {
     "data": {
      "text/html": [
       "<ol class=list-inline>\n",
       "\t<li>2006</li>\n",
       "\t<li>2011</li>\n",
       "\t<li>2012</li>\n",
       "\t<li>2015</li>\n",
       "\t<li>2018</li>\n",
       "</ol>\n"
      ],
      "text/latex": [
       "\\begin{enumerate*}\n",
       "\\item 2006\n",
       "\\item 2011\n",
       "\\item 2012\n",
       "\\item 2015\n",
       "\\item 2018\n",
       "\\end{enumerate*}\n"
      ],
      "text/markdown": [
       "1. 2006\n",
       "2. 2011\n",
       "3. 2012\n",
       "4. 2015\n",
       "5. 2018\n",
       "\n",
       "\n"
      ],
      "text/plain": [
       "[1] 2006 2011 2012 2015 2018"
      ]
     },
     "metadata": {},
     "output_type": "display_data"
    },
    {
     "data": {
      "text/html": [
       "<ol class=list-inline>\n",
       "\t<li>5</li>\n",
       "\t<li>7</li>\n",
       "\t<li>2</li>\n",
       "\t<li>5</li>\n",
       "\t<li>4</li>\n",
       "</ol>\n"
      ],
      "text/latex": [
       "\\begin{enumerate*}\n",
       "\\item 5\n",
       "\\item 7\n",
       "\\item 2\n",
       "\\item 5\n",
       "\\item 4\n",
       "\\end{enumerate*}\n"
      ],
      "text/markdown": [
       "1. 5\n",
       "2. 7\n",
       "3. 2\n",
       "4. 5\n",
       "5. 4\n",
       "\n",
       "\n"
      ],
      "text/plain": [
       "[1] 5 7 2 5 4"
      ]
     },
     "metadata": {},
     "output_type": "display_data"
    }
   ],
   "source": [
    "year[tmin > tmax]\n",
    "\n",
    "month[tmin > tmax]"
   ]
  },
  {
   "cell_type": "code",
   "execution_count": null,
   "metadata": {},
   "outputs": [],
   "source": []
  }
 ],
 "metadata": {
  "celltoolbar": "Slideshow",
  "kernelspec": {
   "display_name": "R",
   "language": "R",
   "name": "ir"
  },
  "language_info": {
   "codemirror_mode": "r",
   "file_extension": ".r",
   "mimetype": "text/x-r-source",
   "name": "R",
   "pygments_lexer": "r",
   "version": "3.6.1"
  }
 },
 "nbformat": 4,
 "nbformat_minor": 2
}
