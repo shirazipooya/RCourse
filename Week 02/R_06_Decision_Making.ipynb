{
 "cells": [
  {
   "cell_type": "markdown",
   "metadata": {},
   "source": [
    "\n",
    "<div>        \n",
    "    <img src=\"..\\Week 01\\img\\R_logo.svg\" width=\"100\"/>  \n",
    "</div>\n",
    "\n",
    "<div style=\"line-height:600%;\">\n",
    "    <font color=#1363E1 face=\"Sriracha\" size=8>\n",
    "            <div align=center>DECISION MAKING</div>\n",
    "    </font>    \n",
    "</div>\n",
    "\n",
    "<div>        \n",
    "    <img src=\"..\\Week 02\\img\\selection.jpg\" width=\"400\"/>  \n",
    "</div>"
   ]
  },
  {
   "cell_type": "markdown",
   "metadata": {},
   "source": [
    "<div style=\"line-height:200%;\">\n",
    "    <font color=black face=\"Candara\" size=4>\n",
    "                <div align=justify>\n",
    "<mark>Decision Making</mark> structures require the programmer to specify <mark>one or more conditions</mark> to be evaluated or tested by the program, along with a <mark>statement or statements</mark> to be executed if the condition is determined to be <mark>TRUE</mark>, and optionally, other statements to be executed if the condition is determined to be <mark>FALSE</mark>.\n",
    "\n",
    "Following is the general form of a typical decision making structure found in most of the programming languages.\n",
    "                </div>\n",
    "    </font>\n",
    "</div>\n",
    "\n",
    "\n",
    "\n"
   ]
  },
  {
   "cell_type": "markdown",
   "metadata": {},
   "source": [
    "<div>        \n",
    "    <img src=\"..\\Week 02\\img\\if-else-flow-control.png\" width=\"300\"/>  \n",
    "</div>"
   ]
  },
  {
   "cell_type": "markdown",
   "metadata": {},
   "source": [
    "<div style=\"line-height:200%;\">\n",
    "    <font color=black face=\"Candara\" size=4>\n",
    "                <div align=left>\n",
    "                    R provides the following types of <mark>Decision Making Statements</mark>:\n",
    "                </div>\n",
    "    </font>\n",
    "</div>\n",
    "\n",
    "\n"
   ]
  },
  {
   "cell_type": "markdown",
   "metadata": {},
   "source": [
    "<div>        \n",
    "    <img src=\"..\\Week 01\\img\\r_type_decision_making.png\" width=\"800\"/>  \n",
    "</div>"
   ]
  },
  {
   "cell_type": "markdown",
   "metadata": {},
   "source": [
    "\n",
    "<div style=\"line-height:300%;\">\n",
    "    <font color=#9A0909 face=\"Sriracha\" size=6>\n",
    "                <div align=left>If Statement</div>\n",
    "    </font>\n",
    "</div>"
   ]
  },
  {
   "cell_type": "markdown",
   "metadata": {},
   "source": [
    "<div style=\"line-height:200%;\">\n",
    "    <font color=black face=\"Candara\" size=4>\n",
    "                <div align=left>\n",
    "                    An <mark>if statement</mark> consists of a <mark>Boolean Expression</mark> followed by one or more statements.\n",
    "                </div>\n",
    "    </font>\n",
    "    <font color=#076F9A face=\"Candara\" size=4>\n",
    "                <div align=left>\n",
    "                    <br>\n",
    "                    <b>Syntax:</b>\n",
    "                </div>\n",
    "    </font>\n",
    "    <font color=black face=\"Candara\" size=4>\n",
    "                <div align=left>\n",
    "                    The basic syntax for creating an if statement in R is:\n",
    "                </div>\n",
    "    </font>\n",
    "</div>\n",
    "\n",
    "\n",
    "\n",
    "\n",
    "\n"
   ]
  },
  {
   "cell_type": "raw",
   "metadata": {},
   "source": [
    "if(boolean_expression) {\n",
    "   // statement(s) will execute if the boolean expression is true.\n",
    "}"
   ]
  },
  {
   "cell_type": "markdown",
   "metadata": {
    "scrolled": false
   },
   "source": [
    "<div style=\"line-height:200%;\">\n",
    "    <font color=black face=\"Candara\" size=4>\n",
    "                <div align=left>\n",
    "                    If the <mark>Boolean Expression</mark> evaluates to be <mark>TRUE</mark>, then the <mark>Block of Code</mark> inside the <mark>if statement</mark> will be <mark>Executed</mark>. If Boolean expression evaluates to be <mark>FALSE</mark>, then the first set of code after the end of the if statement <ins>(after the closing curly brace)</ins> will be executed.\n",
    "                </div>\n",
    "    </font>\n",
    "    <font color=#076F9A face=\"Candara\" size=4>\n",
    "                <div align=left>\n",
    "                    <br>\n",
    "                    <b>Flow Diagram:</b>\n",
    "                </div>\n",
    "    </font>\n",
    "</div>"
   ]
  },
  {
   "cell_type": "markdown",
   "metadata": {
    "scrolled": true
   },
   "source": [
    "<div>        \n",
    "    <img src=\"..\\Week 02\\img\\IF-Condition-Flow-Chart.jpg\" width=\"300\"/>  \n",
    "</div>"
   ]
  },
  {
   "cell_type": "markdown",
   "metadata": {},
   "source": [
    "<div>        \n",
    "    <img src=\"..\\Week 02\\img\\tipstricks.jpg\" width=\"200\"/>  \n",
    "</div>\n",
    "\n",
    "\n"
   ]
  },
  {
   "cell_type": "code",
   "execution_count": 1,
   "metadata": {
    "scrolled": true
   },
   "outputs": [
    {
     "name": "stdout",
     "output_type": "stream",
     "text": [
      "[1] \"Start\"\n",
      "[1] \"Finish\"\n"
     ]
    }
   ],
   "source": [
    "print(\"Start\")\n",
    "print(\"Finish\")"
   ]
  },
  {
   "cell_type": "code",
   "execution_count": 2,
   "metadata": {
    "scrolled": true
   },
   "outputs": [
    {
     "name": "stdout",
     "output_type": "stream",
     "text": [
      "Start \n",
      "Finish \n"
     ]
    }
   ],
   "source": [
    "cat(\"Start\", \"\\n\")\n",
    "cat(\"Finish\", \"\\n\")"
   ]
  },
  {
   "cell_type": "markdown",
   "metadata": {},
   "source": [
    "<div>        \n",
    "    <img src=\"..\\Week 02\\img\\tipstricks.jpg\" width=\"200\"/>  \n",
    "</div>\n",
    "\n",
    "\n"
   ]
  },
  {
   "cell_type": "markdown",
   "metadata": {},
   "source": [
    "<div style=\"line-height:200%;\">\n",
    "    <font color=#076F9A face=\"Candara\" size=4>\n",
    "                <div align=left>\n",
    "                    <b>Example:</b>\n",
    "                </div>\n",
    "    </font>\n",
    "</div>"
   ]
  },
  {
   "cell_type": "code",
   "execution_count": 19,
   "metadata": {
    "scrolled": true
   },
   "outputs": [
    {
     "name": "stdout",
     "output_type": "stream",
     "text": [
      "Start \n",
      "Pass! \n",
      "Finish \n"
     ]
    }
   ],
   "source": [
    "# IF Statement Example 01:\n",
    "\n",
    "cat(\"Start\", \"\\n\")\n",
    "\n",
    "score <- 12\n",
    "\n",
    "if(score >= 10) {\n",
    "    cat(\"Pass!\", \"\\n\")\n",
    "}\n",
    "\n",
    "cat(\"Finish\", \"\\n\")"
   ]
  },
  {
   "cell_type": "code",
   "execution_count": 20,
   "metadata": {
    "scrolled": true
   },
   "outputs": [
    {
     "name": "stdout",
     "output_type": "stream",
     "text": [
      "Start \n",
      "Finish \n"
     ]
    }
   ],
   "source": [
    "# IF Statement Example 01:\n",
    "\n",
    "cat(\"Start\", \"\\n\")\n",
    "\n",
    "score <- 6\n",
    "\n",
    "if(score >= 10) {\n",
    "    cat(\"Pass!\", \"\\n\")\n",
    "}\n",
    "\n",
    "cat(\"Finish\", \"\\n\")"
   ]
  },
  {
   "cell_type": "code",
   "execution_count": 21,
   "metadata": {},
   "outputs": [
    {
     "name": "stdout",
     "output_type": "stream",
     "text": [
      "Start \n",
      "Please Enter Any Integer Value: 5\n",
      "You Have Entered POSITIVE Number \n",
      "Finish \n"
     ]
    }
   ],
   "source": [
    "# IF Statement Example 02:\n",
    "\n",
    "cat(\"Start\", \"\\n\")\n",
    "\n",
    "num <- as.integer(readline(prompt=\"Please Enter Any Integer Value: \"))\n",
    "\n",
    "if (num > 0) {\n",
    "    cat(\"You Have Entered POSITIVE Number\", \"\\n\")\n",
    "}\n",
    "\n",
    "cat(\"Finish\", \"\\n\")"
   ]
  },
  {
   "cell_type": "code",
   "execution_count": 22,
   "metadata": {},
   "outputs": [
    {
     "name": "stdout",
     "output_type": "stream",
     "text": [
      "Start \n",
      "Please Enter Any Integer Value: -5\n",
      "Finish \n"
     ]
    }
   ],
   "source": [
    "# IF Statement Example 02:\n",
    "\n",
    "cat(\"Start\", \"\\n\")\n",
    "\n",
    "num <- as.integer(readline(prompt=\"Please Enter Any Integer Value: \"))\n",
    "\n",
    "if (num > 0) {\n",
    "    cat(\"You Have Entered POSITIVE Number\", \"\\n\")\n",
    "}\n",
    "\n",
    "cat(\"Finish\", \"\\n\")"
   ]
  },
  {
   "cell_type": "markdown",
   "metadata": {},
   "source": [
    "\n",
    "\n",
    "<div style=\"line-height:300%;\">\n",
    "    <font color=#9A0909 face=\"Sriracha\" size=6>\n",
    "                <div align=left>If ... Else Statement</div>\n",
    "    </font>\n",
    "</div>"
   ]
  },
  {
   "cell_type": "markdown",
   "metadata": {},
   "source": [
    "<div style=\"line-height:200%;\">\n",
    "    <font color=black face=\"Candara\" size=4>\n",
    "                <div align=left>\n",
    "                    An <mark>if statement</mark> can be followed by an optional <mark>else statement</mark> which executes when the boolean expression is <mark>FALSE</mark>.\n",
    "                </div>\n",
    "    </font>\n",
    "    <font color=#076F9A face=\"Candara\" size=4>\n",
    "                <div align=left>\n",
    "                    <br>\n",
    "                    <b>Syntax:</b>\n",
    "                </div>\n",
    "    </font>\n",
    "    <font color=black face=\"Candara\" size=4>\n",
    "                <div align=left>\n",
    "                    The basic syntax for creating an if ... else statement in R is:\n",
    "                </div>\n",
    "    </font>\n",
    "</div>"
   ]
  },
  {
   "cell_type": "raw",
   "metadata": {},
   "source": [
    "if(boolean_expression) {\n",
    "   // if block: statement(s) will execute if the boolean expression is true.\n",
    "} else {\n",
    "   // else block: statement(s) will execute if the boolean expression is false.\n",
    "}"
   ]
  },
  {
   "cell_type": "markdown",
   "metadata": {
    "scrolled": false
   },
   "source": [
    "\n",
    "<div style=\"line-height:200%;\">\n",
    "    <font color=black face=\"Candara\" size=4>\n",
    "                <div align=left>\n",
    "                    If the <mark>Boolean Expression</mark> evaluates to be <mark>TRUE</mark>, then the <mark>if block</mark> of code will be executed, otherwise <mark>else block</mark> of code will be executed.\n",
    "                </div>\n",
    "    </font>\n",
    "    <font color=#076F9A face=\"Candara\" size=4>\n",
    "                <div align=left>\n",
    "                    <br>\n",
    "                    <b>Flow Diagram:</b>\n",
    "                </div>\n",
    "    </font>\n",
    "</div>\n",
    "\n",
    "\n",
    "\n",
    "\n",
    "\n",
    "\n",
    "\n",
    "\n"
   ]
  },
  {
   "cell_type": "markdown",
   "metadata": {
    "scrolled": true
   },
   "source": [
    "<div>        \n",
    "    <img src=\"..\\Week 01\\img\\IF-ELSE-FLOW-CHART.jpg\" width=\"600\"/>  \n",
    "</div>"
   ]
  },
  {
   "cell_type": "markdown",
   "metadata": {},
   "source": [
    "<div style=\"line-height:200%;\">\n",
    "    <font color=#076F9A face=\"Candara\" size=4>\n",
    "                <div align=left>\n",
    "                    <b>Example:</b>\n",
    "                </div>\n",
    "    </font>\n",
    "</div>"
   ]
  },
  {
   "cell_type": "code",
   "execution_count": 23,
   "metadata": {
    "scrolled": true
   },
   "outputs": [
    {
     "name": "stdout",
     "output_type": "stream",
     "text": [
      "Start \n",
      "Please Enter Any Integer Value: 5\n",
      "You Have Entered POSITIVE Number \n",
      "Finish \n"
     ]
    }
   ],
   "source": [
    "# IF Else Statement Example 01:\n",
    "\n",
    "cat(\"Start\", \"\\n\")\n",
    "\n",
    "num <- as.integer(readline(prompt=\"Please Enter Any Integer Value: \"))\n",
    "\n",
    "if (num > 0) {\n",
    "    cat(\"You Have Entered POSITIVE Number\", \"\\n\")\n",
    "} else {\n",
    "    cat(\"You Have Entered NEGATIVE Number\", \"\\n\")    \n",
    "}\n",
    "\n",
    "cat(\"Finish\", \"\\n\")"
   ]
  },
  {
   "cell_type": "code",
   "execution_count": 24,
   "metadata": {
    "scrolled": true
   },
   "outputs": [
    {
     "name": "stdout",
     "output_type": "stream",
     "text": [
      "Start \n",
      "Please Enter Any Integer Value: -6\n",
      "You Have Entered NEGATIVE Number \n",
      "Finish \n"
     ]
    }
   ],
   "source": [
    "# IF Else Statement Example 01:\n",
    "\n",
    "cat(\"Start\", \"\\n\")\n",
    "\n",
    "num <- as.integer(readline(prompt=\"Please Enter Any Integer Value: \"))\n",
    "\n",
    "if (num > 0) {\n",
    "    cat(\"You Have Entered POSITIVE Number\", \"\\n\")\n",
    "} else {\n",
    "    cat(\"You Have Entered NEGATIVE Number\", \"\\n\")    \n",
    "}\n",
    "\n",
    "cat(\"Finish\", \"\\n\")"
   ]
  },
  {
   "cell_type": "code",
   "execution_count": 25,
   "metadata": {
    "scrolled": true
   },
   "outputs": [
    {
     "name": "stdout",
     "output_type": "stream",
     "text": [
      "Start \n",
      "Please Enter Any Integer Value: 0\n",
      "You Have Entered NEGATIVE Number \n",
      "Finish \n"
     ]
    }
   ],
   "source": [
    "# IF Else Statement Example 01:\n",
    "\n",
    "cat(\"Start\", \"\\n\")\n",
    "\n",
    "num <- as.integer(readline(prompt=\"Please Enter Any Integer Value: \"))\n",
    "\n",
    "if (num > 0) {\n",
    "    cat(\"You Have Entered POSITIVE Number\", \"\\n\")\n",
    "} else {\n",
    "    cat(\"You Have Entered NEGATIVE Number\", \"\\n\")    \n",
    "}\n",
    "\n",
    "cat(\"Finish\", \"\\n\")"
   ]
  },
  {
   "cell_type": "code",
   "execution_count": 6,
   "metadata": {},
   "outputs": [
    {
     "name": "stdout",
     "output_type": "stream",
     "text": [
      "Start \n",
      "Please Enter Name of Station: Zabol\n",
      "Sorry, Your Stations's Name Is Not In Our Database. \n",
      "Finish \n"
     ]
    }
   ],
   "source": [
    "# IF Else Statement Example 02:\n",
    "\n",
    "cat(\"Start\", \"\\n\")\n",
    "\n",
    "station_database <- c(\"Shirazi\",\"Esfahan\",\"Tehran\", \"Mashhad\", \"Tabriz\", \"Arak\")\n",
    "\n",
    "station_name <- readline(prompt=\"Please Enter Name of Station: \")\n",
    "\n",
    "if(station_name %in% station_database) {\n",
    "    cat(\"Your Stations's Name Is In Our Database.\", \"\\n\")\n",
    "} else {\n",
    "    cat(\"Sorry, Your Stations's Name Is Not In Our Database.\", \"\\n\")\n",
    "}\n",
    "\n",
    "cat(\"Finish\", \"\\n\")"
   ]
  },
  {
   "cell_type": "code",
   "execution_count": 26,
   "metadata": {},
   "outputs": [
    {
     "name": "stdout",
     "output_type": "stream",
     "text": [
      "Start \n",
      "Please Enter Name of Station: Tehran\n",
      "Your Stations's Name Is In Our Database. \n",
      "Finish \n"
     ]
    }
   ],
   "source": [
    "# IF Else Statement Example 02:\n",
    "\n",
    "cat(\"Start\", \"\\n\")\n",
    "\n",
    "station_database <- c(\"Shirazi\",\"Esfahan\",\"Tehran\", \"Mashhad\", \"Tabriz\", \"Arak\")\n",
    "\n",
    "station_name <- readline(prompt=\"Please Enter Name of Station: \")\n",
    "\n",
    "if(station_name %in% station_database) {\n",
    "    cat(\"Your Stations's Name Is In Our Database.\", \"\\n\")\n",
    "} else {\n",
    "    cat(\"Sorry, Your Stations's Name Is Not In Our Database.\", \"\\n\")\n",
    "}\n",
    "\n",
    "cat(\"Finish\", \"\\n\")"
   ]
  },
  {
   "cell_type": "code",
   "execution_count": 7,
   "metadata": {
    "scrolled": false
   },
   "outputs": [
    {
     "name": "stdout",
     "output_type": "stream",
     "text": [
      "Start \n",
      "Please Enter Your Age: 22\n",
      "You are eligible to vote. \n",
      "Don't forget to carry your ID card. \n",
      "Finish \n"
     ]
    }
   ],
   "source": [
    "# IF Else Statement Example 03:\n",
    "\n",
    "cat(\"Start\", \"\\n\") # Statement 1\n",
    "\n",
    "my_age <- as.integer(readline(prompt=\"Please Enter Your Age: \")) # Statement 2\n",
    "\n",
    "if (my_age > 18) {\n",
    "    cat(\"You are eligible to vote.\", \"\\n\") # Statement 3\n",
    "    cat(\"Don't forget to carry your ID card.\", \"\\n\") #Statement 4\n",
    "} else {\n",
    "    cat(\"You are NOT eligible to vote.\", \"\\n\") #Statement 5\n",
    "    cat(\"We are sorry\", \"\\n\") #Statement 6\n",
    "}\n",
    "\n",
    "cat(\"Finish\", \"\\n\") #Statement 7"
   ]
  },
  {
   "cell_type": "code",
   "execution_count": 27,
   "metadata": {
    "scrolled": false
   },
   "outputs": [
    {
     "name": "stdout",
     "output_type": "stream",
     "text": [
      "Start \n",
      "Please Enter Your Age: 11\n",
      "You are NOT eligible to vote. \n",
      "We are sorry \n",
      "Finish \n"
     ]
    }
   ],
   "source": [
    "# IF Else Statement Example 03:\n",
    "\n",
    "cat(\"Start\", \"\\n\") # Statement 1\n",
    "\n",
    "my_age <- as.integer(readline(prompt=\"Please Enter Your Age: \")) # Statement 2\n",
    "\n",
    "if (my_age > 18) {\n",
    "    cat(\"You are eligible to vote.\", \"\\n\") # Statement 3\n",
    "    cat(\"Don't forget to carry your ID card.\", \"\\n\") #Statement 4\n",
    "} else {\n",
    "    cat(\"You are NOT eligible to vote.\", \"\\n\") #Statement 5\n",
    "    cat(\"We are sorry\", \"\\n\") #Statement 6\n",
    "}\n",
    "\n",
    "cat(\"Finish\", \"\\n\") #Statement 7"
   ]
  },
  {
   "cell_type": "markdown",
   "metadata": {},
   "source": [
    "<div style=\"line-height:300%;\">\n",
    "    <font color=#9A0909 face=\"Sriracha\" size=6>\n",
    "                <div align=left>ifelse() Function</div>\n",
    "    </font>\n",
    "</div>\n"
   ]
  },
  {
   "cell_type": "markdown",
   "metadata": {},
   "source": [
    "<div style=\"line-height:200%;\">\n",
    "    <font color=#076F9A face=\"Candara\" size=4>\n",
    "                <div align=left>\n",
    "                    <b>Syntax:</b>\n",
    "                </div>\n",
    "    </font>\n",
    "</div>"
   ]
  },
  {
   "cell_type": "raw",
   "metadata": {},
   "source": [
    "ifelse(test, yes, no)"
   ]
  },
  {
   "cell_type": "markdown",
   "metadata": {},
   "source": [
    "<div style=\"line-height:200%;\">\n",
    "    <font color=#076F9A face=\"Candara\" size=4>\n",
    "                <div align=left>\n",
    "                    <b>Example:</b>\n",
    "                </div>\n",
    "    </font>\n",
    "</div>"
   ]
  },
  {
   "cell_type": "code",
   "execution_count": 8,
   "metadata": {
    "scrolled": false
   },
   "outputs": [
    {
     "name": "stdout",
     "output_type": "stream",
     "text": [
      "Start \n",
      "Please Enter Any Integer Value: 18\n",
      "You Have Entered EVEN Number \n",
      "Finish \n"
     ]
    }
   ],
   "source": [
    "# ifelse Function Example 01:\n",
    "\n",
    "cat(\"Start\", \"\\n\")\n",
    "\n",
    "num <- as.integer(readline(prompt=\"Please Enter Any Integer Value: \"))\n",
    "\n",
    "if (num %% 2 == 0) {\n",
    "    cat(\"You Have Entered EVEN Number\", \"\\n\")\n",
    "} else {\n",
    "    cat(\"You Have Entered ODD Number\", \"\\n\")    \n",
    "}\n",
    "\n",
    "cat(\"Finish\", \"\\n\")"
   ]
  },
  {
   "cell_type": "code",
   "execution_count": 28,
   "metadata": {
    "scrolled": false
   },
   "outputs": [
    {
     "name": "stdout",
     "output_type": "stream",
     "text": [
      "Start \n",
      "Please Enter Any Integer Value: 18\n",
      "You Have Entered EVEN Number \n",
      "Finish \n"
     ]
    }
   ],
   "source": [
    "# ifelse Function Example 01:\n",
    "\n",
    "cat(\"Start\", \"\\n\")\n",
    "\n",
    "num <- as.integer(readline(prompt=\"Please Enter Any Integer Value: \"))\n",
    "\n",
    "\n",
    "ans <- ifelse(test = num %% 2 == 0,\n",
    "              yes = \"You Have Entered EVEN Number\",\n",
    "              no = \"You Have Entered ODD Number\")\n",
    "\n",
    "cat(ans, \"\\n\")\n",
    "\n",
    "cat(\"Finish\", \"\\n\")"
   ]
  },
  {
   "cell_type": "markdown",
   "metadata": {},
   "source": [
    "<div style=\"line-height:300%;\">\n",
    "    <font color=#9A0909 face=\"Sriracha\" size=6>\n",
    "                <div align=left>Nested If...Else Statement</div>\n",
    "    </font>\n",
    "</div>"
   ]
  },
  {
   "cell_type": "markdown",
   "metadata": {},
   "source": [
    "<div style=\"line-height:200%;\">\n",
    "    <font color=#076F9A face=\"Candara\" size=4>\n",
    "                <div align=left>\n",
    "                    <b>Syntax:</b>\n",
    "                </div>\n",
    "    </font>\n",
    "    <font color=black face=\"Candara\" size=4>\n",
    "                <div align=left>\n",
    "                    The basic syntax of the Nested If ... Else Statement in R Programming language is as follows:\n",
    "                </div>\n",
    "    </font>\n",
    "</div>\n"
   ]
  },
  {
   "cell_type": "raw",
   "metadata": {},
   "source": [
    "if (Boolean_Expression 1)  {\n",
    "     #Boolean_Expression 1 result is TRUE then, it will check for Boolean_Expression 2\n",
    "     if (Boolean_Expression 2)  {\n",
    "          #Boolean_Expression 2 result is TRUE, then these statements will be executed\n",
    "          Boolean_Expression 2 True statements\n",
    "     } else {\n",
    "          #Boolean_Expression 2 result is FALSE then, these statements will be executed\n",
    "          Boolean_Expression 2 False statements\n",
    "} else  {\n",
    "     #If the Boolean_Expression 1 result is FALSE, these statements will be executed\n",
    "     Boolean_Expression 1 False statements\n",
    "}"
   ]
  },
  {
   "cell_type": "markdown",
   "metadata": {},
   "source": [
    "<div style=\"line-height:200%;\">\n",
    "    <font color=#076F9A face=\"Candara\" size=4>\n",
    "                <div align=left>\n",
    "                    <b>Flow Diagram:</b>\n",
    "                </div>\n",
    "    </font>\n",
    "    <font color=black face=\"Candara\" size=4>\n",
    "                <div align=left>\n",
    "                    Following picture will show you the flow chart of the Nested If statement in R Programming.\n",
    "                </div>\n",
    "    </font>\n",
    "</div>"
   ]
  },
  {
   "cell_type": "markdown",
   "metadata": {
    "scrolled": true
   },
   "source": [
    "<div>        \n",
    "    <img src=\"..\\Week 01\\img\\NESTED-IF-FLOW-CHART.jpg\" width=\"600\"/>  \n",
    "</div>"
   ]
  },
  {
   "cell_type": "markdown",
   "metadata": {},
   "source": [
    "<div style=\"line-height:200%;\">\n",
    "    <font color=black face=\"Candara\" size=4>\n",
    "                <div align=left>\n",
    "If the <ins>Test Condition 1</ins> is <b>FALSE</b> then <mark>STATEMENT 3</mark> will be executed.\n",
    "                    \n",
    "If <ins>Test Condition 1</ins> is <b>TRUE</b> then it will check for the <ins>Test Condition 2</ins>.\n",
    "\n",
    "If <ins>Test Condition 2</ins> is <b>TRUE</b> then <mark>STATEMENT 1</mark> will be executed Otherwise, <ins>Test Condition 2</ins> is <b>FALSE</b> then <mark>STATEMENT 2</mark> is executed.\n",
    "                </div>\n",
    "    </font>\n",
    "</div>"
   ]
  },
  {
   "cell_type": "markdown",
   "metadata": {},
   "source": [
    "<div style=\"line-height:200%;\">\n",
    "    <font color=#076F9A face=\"Candara\" size=4>\n",
    "                <div align=left>\n",
    "                    <b>Example:</b>\n",
    "                </div>\n",
    "    </font>\n",
    "</div>"
   ]
  },
  {
   "cell_type": "code",
   "execution_count": 1,
   "metadata": {
    "scrolled": true
   },
   "outputs": [
    {
     "name": "stdout",
     "output_type": "stream",
     "text": [
      "Start \n",
      "Please Enter Any Integer Value: 0\n",
      "You Have Entered ZERO \n",
      "Finish \n"
     ]
    }
   ],
   "source": [
    "# IF Else Statement Example 01:\n",
    "\n",
    "cat(\"Start\", \"\\n\")\n",
    "\n",
    "num <- as.integer(readline(prompt=\"Please Enter Any Integer Value: \"))\n",
    "\n",
    "if (num != 0) {\n",
    "    if (num > 0) {\n",
    "        cat(\"You Have Entered POSITIVE Number\", \"\\n\")        \n",
    "    } else {\n",
    "        cat(\"You Have Entered NEGATIVE Number\", \"\\n\")        \n",
    "    }    \n",
    "} else {\n",
    "    cat(\"You Have Entered ZERO\", \"\\n\")        \n",
    "}\n",
    "\n",
    "cat(\"Finish\", \"\\n\")"
   ]
  },
  {
   "cell_type": "code",
   "execution_count": 2,
   "metadata": {
    "scrolled": true
   },
   "outputs": [
    {
     "name": "stdout",
     "output_type": "stream",
     "text": [
      "Start \n",
      "Please Enter Any Integer Value: 11\n",
      "You Have Entered POSITIVE Number \n",
      "Finish \n"
     ]
    }
   ],
   "source": [
    "# IF Else Statement Example 01:\n",
    "\n",
    "cat(\"Start\", \"\\n\")\n",
    "\n",
    "num <- as.integer(readline(prompt=\"Please Enter Any Integer Value: \"))\n",
    "\n",
    "if (num != 0) {\n",
    "    if (num > 0) {\n",
    "        cat(\"You Have Entered POSITIVE Number\", \"\\n\")        \n",
    "    } else {\n",
    "        cat(\"You Have Entered NEGATIVE Number\", \"\\n\")        \n",
    "    }    \n",
    "} else {\n",
    "    cat(\"You Have Entered ZERO\", \"\\n\")        \n",
    "}\n",
    "\n",
    "cat(\"Finish\", \"\\n\")"
   ]
  },
  {
   "cell_type": "code",
   "execution_count": 3,
   "metadata": {
    "scrolled": true
   },
   "outputs": [
    {
     "name": "stdout",
     "output_type": "stream",
     "text": [
      "Start \n",
      "Please Enter Any Integer Value: -200\n",
      "You Have Entered NEGATIVE Number \n",
      "Finish \n"
     ]
    }
   ],
   "source": [
    "# IF Else Statement Example 01:\n",
    "\n",
    "cat(\"Start\", \"\\n\")\n",
    "\n",
    "num <- as.integer(readline(prompt=\"Please Enter Any Integer Value: \"))\n",
    "\n",
    "if (num != 0) {\n",
    "    if (num > 0) {\n",
    "        cat(\"You Have Entered POSITIVE Number\", \"\\n\")        \n",
    "    } else {\n",
    "        cat(\"You Have Entered NEGATIVE Number\", \"\\n\")        \n",
    "    }    \n",
    "} else {\n",
    "    cat(\"You Have Entered ZERO\", \"\\n\")        \n",
    "}\n",
    "\n",
    "cat(\"Finish\", \"\\n\")"
   ]
  },
  {
   "cell_type": "code",
   "execution_count": 4,
   "metadata": {
    "scrolled": false
   },
   "outputs": [
    {
     "name": "stdout",
     "output_type": "stream",
     "text": [
      "Start \n",
      "Please Enter Your Age: 15\n",
      "You are Not a Major. \n",
      "You are Not Eligible to Work. \n",
      "Finish \n"
     ]
    }
   ],
   "source": [
    "# IF Else Statement Example 02:\n",
    "\n",
    "cat(\"Start\", \"\\n\")\n",
    "\n",
    "my_age <- as.integer(readline(prompt=\"Please Enter Your Age: \"))\n",
    "\n",
    "if (my_age < 18) {\n",
    "    cat(\"You are Not a Major.\", \"\\n\")\n",
    "    cat(\"You are Not Eligible to Work.\", \"\\n\")\n",
    "} else {\n",
    "    if (my_age >= 18 && my_age <= 60 ) {\n",
    "        cat(\"You are Eligible to Work.\", \"\\n\")\n",
    "        cat(\"Please fill the Application Form and Email to us.\", \"\\n\")\n",
    "    } else {\n",
    "        cat(\"As per the Government Rules, You are too Old to Work.\", \"\\n\")\n",
    "    }  \n",
    "}\n",
    "\n",
    "cat(\"Finish\", \"\\n\")"
   ]
  },
  {
   "cell_type": "code",
   "execution_count": 5,
   "metadata": {
    "scrolled": false
   },
   "outputs": [
    {
     "name": "stdout",
     "output_type": "stream",
     "text": [
      "Start \n",
      "Please Enter Your Age: 35\n",
      "You are Eligible to Work. \n",
      "Please fill the Application Form and Email to us. \n",
      "Finish \n"
     ]
    }
   ],
   "source": [
    "# IF Else Statement Example 02:\n",
    "\n",
    "cat(\"Start\", \"\\n\")\n",
    "\n",
    "my_age <- as.integer(readline(prompt=\"Please Enter Your Age: \"))\n",
    "\n",
    "if (my_age < 18) {\n",
    "    cat(\"You are Not a Major.\", \"\\n\")\n",
    "    cat(\"You are Not Eligible to Work.\", \"\\n\")\n",
    "} else {\n",
    "    if (my_age >= 18 && my_age <= 60 ) {\n",
    "        cat(\"You are Eligible to Work.\", \"\\n\")\n",
    "        cat(\"Please fill the Application Form and Email to us.\", \"\\n\")\n",
    "    } else {\n",
    "        cat(\"As per the Government Rules, You are too Old to Work.\", \"\\n\")\n",
    "    }  \n",
    "}\n",
    "\n",
    "cat(\"Finish\", \"\\n\")"
   ]
  },
  {
   "cell_type": "code",
   "execution_count": 6,
   "metadata": {
    "scrolled": false
   },
   "outputs": [
    {
     "name": "stdout",
     "output_type": "stream",
     "text": [
      "Start \n",
      "Please Enter Your Age: 64\n",
      "As per the Government Rules, You are too Old to Work. \n",
      "Finish \n"
     ]
    }
   ],
   "source": [
    "# IF Else Statement Example 02:\n",
    "\n",
    "cat(\"Start\", \"\\n\")\n",
    "\n",
    "my_age <- as.integer(readline(prompt=\"Please Enter Your Age: \"))\n",
    "\n",
    "if (my_age < 18) {\n",
    "    cat(\"You are Not a Major.\", \"\\n\")\n",
    "    cat(\"You are Not Eligible to Work.\", \"\\n\")\n",
    "} else {\n",
    "    if (my_age >= 18 && my_age <= 60 ) {\n",
    "        cat(\"You are Eligible to Work.\", \"\\n\")\n",
    "        cat(\"Please fill the Application Form and Email to us.\", \"\\n\")\n",
    "    } else {\n",
    "        cat(\"As per the Government Rules, You are too Old to Work.\", \"\\n\")\n",
    "    }  \n",
    "}\n",
    "\n",
    "cat(\"Finish\", \"\\n\")"
   ]
  },
  {
   "cell_type": "markdown",
   "metadata": {},
   "source": [
    "<div style=\"line-height:300%;\">\n",
    "    <font color=#9A0909 face=\"Sriracha\" size=6>\n",
    "                <div align=left>The if...else if...else Statement</div>\n",
    "    </font>\n",
    "</div>"
   ]
  },
  {
   "cell_type": "markdown",
   "metadata": {},
   "source": [
    "<div style=\"line-height:200%;\">\n",
    "    <font color=black face=\"Candara\" size=4>\n",
    "                <div align=left>\n",
    "                  An <mark>if statement</mark> can be followed by an optional <mark>else if ... else statement</mark>, which is very useful to test various conditions using single <mark>if ... else if statement</mark>.\n",
    "When using <ins>if</ins>, <ins>else if</ins>, <ins>else statements</ins> there are few points to keep in mind:\n",
    "                    <ul>\n",
    "                        <li>An <mark>if</mark> can have <ins>zero</ins> or <ins>one</ins> <mark>else</mark> and <b>it must come after any else if's</b>.</li>\n",
    "                        <li>An <mark>if</mark> can have <ins>zero</ins> to <ins>many</ins> <mark>else if's</mark> and <b>they must come before the else</b>.</li>\n",
    "                        <li>Once an <mark>else if</mark> succeeds, none of the remaining <mark>else if's</mark> or <mark>else's</mark> will be tested.</li>\n",
    "</ul>\n",
    "                </div>\n",
    "    </font>\n",
    "    <font color=#076F9A face=\"Candara\" size=4>\n",
    "                <div align=left>\n",
    "                    <br>\n",
    "                    <b>Syntax:</b>\n",
    "                </div>\n",
    "    </font>\n",
    "    <font color=black face=\"Candara\" size=4>\n",
    "                <div align=left>\n",
    "                    The basic syntax for creating an if ... else if ... else statement in R is:\n",
    "                </div>\n",
    "    </font>\n",
    "</div>"
   ]
  },
  {
   "cell_type": "raw",
   "metadata": {},
   "source": [
    "if(boolean_expression 1) {\n",
    "   // Executes when the boolean expression 1 is true.\n",
    "} else if( boolean_expression 2) {\n",
    "   // Executes when the boolean expression 2 is true.\n",
    "} else if( boolean_expression 3) {\n",
    "   // Executes when the boolean expression 3 is true.\n",
    "} else {\n",
    "   // executes when none of the above condition is true.\n",
    "}"
   ]
  },
  {
   "cell_type": "markdown",
   "metadata": {},
   "source": [
    "<div style=\"line-height:200%;\">\n",
    "    <font color=#076F9A face=\"Candara\" size=4>\n",
    "                <div align=left>\n",
    "                    <b>Flow Diagram:</b>\n",
    "                </div>\n",
    "    </font>\n",
    "    <font color=black face=\"Candara\" size=4>\n",
    "                <div align=left>\n",
    "                    Following picture will show you the flow chart of the if ... else if ... else statement in R Programming.\n",
    "                </div>\n",
    "    </font>\n",
    "</div>"
   ]
  },
  {
   "cell_type": "markdown",
   "metadata": {
    "scrolled": true
   },
   "source": [
    "<div>        \n",
    "    <img src=\"..\\Week 01\\img\\ELSE-IF-Flow-Chart.jpg\" width=\"600\"/>  \n",
    "</div>"
   ]
  },
  {
   "cell_type": "markdown",
   "metadata": {},
   "source": [
    "<div style=\"line-height:200%;\">\n",
    "    <font color=#076F9A face=\"Candara\" size=4>\n",
    "                <div align=left>\n",
    "                    <b>Example:</b>\n",
    "                </div>\n",
    "    </font>\n",
    "</div>"
   ]
  },
  {
   "cell_type": "code",
   "execution_count": 7,
   "metadata": {
    "scrolled": true
   },
   "outputs": [
    {
     "name": "stdout",
     "output_type": "stream",
     "text": [
      "Start \n",
      "Please Enter Any Integer Value: 0\n",
      "You Have Entered ZERO \n",
      "Finish \n"
     ]
    }
   ],
   "source": [
    "# Else If Statement Example 01:\n",
    "\n",
    "cat(\"Start\", \"\\n\")\n",
    "\n",
    "num <- as.integer(readline(prompt=\"Please Enter Any Integer Value: \"))\n",
    "\n",
    "if (num > 0) {\n",
    "    cat(\"You Have Entered POSITIVE Number\", \"\\n\")    \n",
    "} else if(num < 0) {\n",
    "    cat(\"You Have Entered NEGATIVE Number\", \"\\n\")    \n",
    "} else {\n",
    "    cat(\"You Have Entered ZERO\", \"\\n\")    \n",
    "}\n",
    "\n",
    "cat(\"Finish\", \"\\n\")\n"
   ]
  },
  {
   "cell_type": "code",
   "execution_count": 8,
   "metadata": {
    "scrolled": true
   },
   "outputs": [
    {
     "name": "stdout",
     "output_type": "stream",
     "text": [
      "Start \n",
      "Please Enter Any Integer Value: 2\n",
      "You Have Entered POSITIVE Number \n",
      "Finish \n"
     ]
    }
   ],
   "source": [
    "# Else If Statement Example 01:\n",
    "\n",
    "cat(\"Start\", \"\\n\")\n",
    "\n",
    "num <- as.integer(readline(prompt=\"Please Enter Any Integer Value: \"))\n",
    "\n",
    "if (num > 0) {\n",
    "    cat(\"You Have Entered POSITIVE Number\", \"\\n\")    \n",
    "} else if(num < 0) {\n",
    "    cat(\"You Have Entered NEGATIVE Number\", \"\\n\")    \n",
    "} else {\n",
    "    cat(\"You Have Entered ZERO\", \"\\n\")    \n",
    "}\n",
    "\n",
    "cat(\"Finish\", \"\\n\")\n"
   ]
  },
  {
   "cell_type": "code",
   "execution_count": 9,
   "metadata": {
    "scrolled": true
   },
   "outputs": [
    {
     "name": "stdout",
     "output_type": "stream",
     "text": [
      "Start \n",
      "Please Enter Any Integer Value: -6\n",
      "You Have Entered NEGATIVE Number \n",
      "Finish \n"
     ]
    }
   ],
   "source": [
    "# Else If Statement Example 01:\n",
    "\n",
    "cat(\"Start\", \"\\n\")\n",
    "\n",
    "num <- as.integer(readline(prompt=\"Please Enter Any Integer Value: \"))\n",
    "\n",
    "if (num > 0) {\n",
    "    cat(\"You Have Entered POSITIVE Number\", \"\\n\")    \n",
    "} else if(num < 0) {\n",
    "    cat(\"You Have Entered NEGATIVE Number\", \"\\n\")    \n",
    "} else {\n",
    "    cat(\"You Have Entered ZERO\", \"\\n\")    \n",
    "}\n",
    "\n",
    "cat(\"Finish\", \"\\n\")\n"
   ]
  },
  {
   "cell_type": "markdown",
   "metadata": {},
   "source": [
    "<div>        \n",
    "    <img src=\"..\\Week 02\\img\\band_score_ielts.png\" width=\"400\"/>  \n",
    "</div>\n"
   ]
  },
  {
   "cell_type": "code",
   "execution_count": 10,
   "metadata": {},
   "outputs": [
    {
     "name": "stdout",
     "output_type": "stream",
     "text": [
      "Start \n",
      "Please Enter Number of Correct Answers: 44\n",
      "Wrong Number \n",
      "Finish \n"
     ]
    }
   ],
   "source": [
    "# Else If Statement Example 02:\n",
    "\n",
    "cat(\"Start\", \"\\n\")\n",
    "\n",
    "num <- as.integer(readline(prompt=\"Please Enter Number of Correct Answers: \"))\n",
    "\n",
    "if(num > 40) {\n",
    "    cat(\"Wrong Number\", \"\\n\")\n",
    "} else if (num >= 39 & num <= 40) {\n",
    "    cat(\"Your Band Score is: 9.0\", \"\\n\")\n",
    "    cat(\"Your Are Expert User\", \"\\n\")    \n",
    "} else if(num >= 37 & num <= 38) {\n",
    "    cat(\"Your Band Score is: 8.5\", \"\\n\")\n",
    "} else if(num >= 35 & num <= 36) {\n",
    "    cat(\"Your Band Score is: 8.0\", \"\\n\")\n",
    "    cat(\"Your Are Very Good User\", \"\\n\")\n",
    "} else if(num >= 32 & num <= 34) {\n",
    "    cat(\"Your Band Score is: 7.5\", \"\\n\")\n",
    "} else if(num >= 30 & num <= 31) {\n",
    "    cat(\"Your Band Score is: 7.0\", \"\\n\")\n",
    "    cat(\"Your Are Good User\", \"\\n\")\n",
    "} else if(num >= 26 & num <= 29) {\n",
    "    cat(\"Your Band Score is: 6.5\", \"\\n\")\n",
    "} else if(num >= 23 & num <= 25) {\n",
    "    cat(\"Your Band Score is: 6.0\", \"\\n\")\n",
    "    cat(\"Your Are Competent User\", \"\\n\")\n",
    "} else {\n",
    "    cat(\"Your Band Score is: Less Than 6.0\", \"\\n\")\n",
    "    cat(\"Your Are Modest User\", \"\\n\")\n",
    "}\n",
    "\n",
    "cat(\"Finish\", \"\\n\")\n"
   ]
  },
  {
   "cell_type": "code",
   "execution_count": 11,
   "metadata": {},
   "outputs": [
    {
     "name": "stdout",
     "output_type": "stream",
     "text": [
      "Start \n",
      "Please Enter Number of Correct Answers: 28\n",
      "Your Band Score is: 6.5 \n",
      "Finish \n"
     ]
    }
   ],
   "source": [
    "# Else If Statement Example 02:\n",
    "\n",
    "cat(\"Start\", \"\\n\")\n",
    "\n",
    "num <- as.integer(readline(prompt=\"Please Enter Number of Correct Answers: \"))\n",
    "\n",
    "if(num > 40) {\n",
    "    cat(\"Wrong Number\", \"\\n\")\n",
    "} else if (num >= 39 & num <= 40) {\n",
    "    cat(\"Your Band Score is: 9.0\", \"\\n\")\n",
    "    cat(\"Your Are Expert User\", \"\\n\")    \n",
    "} else if(num >= 37 & num <= 38) {\n",
    "    cat(\"Your Band Score is: 8.5\", \"\\n\")\n",
    "} else if(num >= 35 & num <= 36) {\n",
    "    cat(\"Your Band Score is: 8.0\", \"\\n\")\n",
    "    cat(\"Your Are Very Good User\", \"\\n\")\n",
    "} else if(num >= 32 & num <= 34) {\n",
    "    cat(\"Your Band Score is: 7.5\", \"\\n\")\n",
    "} else if(num >= 30 & num <= 31) {\n",
    "    cat(\"Your Band Score is: 7.0\", \"\\n\")\n",
    "    cat(\"Your Are Good User\", \"\\n\")\n",
    "} else if(num >= 26 & num <= 29) {\n",
    "    cat(\"Your Band Score is: 6.5\", \"\\n\")\n",
    "} else if(num >= 23 & num <= 25) {\n",
    "    cat(\"Your Band Score is: 6.0\", \"\\n\")\n",
    "    cat(\"Your Are Competent User\", \"\\n\")\n",
    "} else {\n",
    "    cat(\"Your Band Score is: Less Than 6.0\", \"\\n\")\n",
    "    cat(\"Your Are Modest User\", \"\\n\")\n",
    "}\n",
    "\n",
    "cat(\"Finish\", \"\\n\")\n"
   ]
  },
  {
   "cell_type": "code",
   "execution_count": 12,
   "metadata": {},
   "outputs": [
    {
     "name": "stdout",
     "output_type": "stream",
     "text": [
      "Start \n",
      "Please Enter Number of Correct Answers: 11\n",
      "Your Band Score is: Less Than 6.0 \n",
      "Your Are Modest User \n",
      "Finish \n"
     ]
    }
   ],
   "source": [
    "# Else If Statement Example 02:\n",
    "\n",
    "cat(\"Start\", \"\\n\")\n",
    "\n",
    "num <- as.integer(readline(prompt=\"Please Enter Number of Correct Answers: \"))\n",
    "\n",
    "if(num > 40) {\n",
    "    cat(\"Wrong Number\", \"\\n\")\n",
    "} else if (num >= 39 & num <= 40) {\n",
    "    cat(\"Your Band Score is: 9.0\", \"\\n\")\n",
    "    cat(\"Your Are Expert User\", \"\\n\")    \n",
    "} else if(num >= 37 & num <= 38) {\n",
    "    cat(\"Your Band Score is: 8.5\", \"\\n\")\n",
    "} else if(num >= 35 & num <= 36) {\n",
    "    cat(\"Your Band Score is: 8.0\", \"\\n\")\n",
    "    cat(\"Your Are Very Good User\", \"\\n\")\n",
    "} else if(num >= 32 & num <= 34) {\n",
    "    cat(\"Your Band Score is: 7.5\", \"\\n\")\n",
    "} else if(num >= 30 & num <= 31) {\n",
    "    cat(\"Your Band Score is: 7.0\", \"\\n\")\n",
    "    cat(\"Your Are Good User\", \"\\n\")\n",
    "} else if(num >= 26 & num <= 29) {\n",
    "    cat(\"Your Band Score is: 6.5\", \"\\n\")\n",
    "} else if(num >= 23 & num <= 25) {\n",
    "    cat(\"Your Band Score is: 6.0\", \"\\n\")\n",
    "    cat(\"Your Are Competent User\", \"\\n\")\n",
    "} else {\n",
    "    cat(\"Your Band Score is: Less Than 6.0\", \"\\n\")\n",
    "    cat(\"Your Are Modest User\", \"\\n\")\n",
    "}\n",
    "\n",
    "cat(\"Finish\", \"\\n\")\n"
   ]
  },
  {
   "cell_type": "markdown",
   "metadata": {},
   "source": [
    "\n",
    "<div style=\"line-height:300%;\">\n",
    "    <font color=#9A0909 face=\"Sriracha\" size=6>\n",
    "                <div align=left>Switch Statement</div>\n",
    "    </font>\n",
    "</div>"
   ]
  },
  {
   "cell_type": "markdown",
   "metadata": {},
   "source": [
    "<div style=\"line-height:200%;\">\n",
    "    <font color=black face=\"Candara\" size=4>\n",
    "                <div align=left>A <mark>Switch Statement</mark> allows a variable to be tested for equality against a <mark>List of Values</mark>. Each value is called a <mark>case</mark>, and the variable being switched on is checked for each case.                  \n",
    "                </div>\n",
    "    </font>\n",
    "    <font color=#076F9A face=\"Candara\" size=4>\n",
    "                <div align=left>\n",
    "                    <br>\n",
    "                    <b>Syntax:</b>\n",
    "                </div>\n",
    "    </font>\n",
    "    <font color=black face=\"Candara\" size=4>\n",
    "                <div align=left>\n",
    "                    The basic syntax for creating a switch statement in R is:\n",
    "                </div>\n",
    "    </font>\n",
    "</div>"
   ]
  },
  {
   "cell_type": "raw",
   "metadata": {},
   "source": [
    "switch(expression, case1, case2, case3....)"
   ]
  },
  {
   "cell_type": "markdown",
   "metadata": {},
   "source": [
    "<div style=\"line-height:200%;\">\n",
    "    <font color=black face=\"Candara\" size=4>\n",
    "                <div align=left>\n",
    "                    The following rules apply to a <mark>Switch Statement</mark>:\n",
    "                    <ul>\n",
    "                        <li>If the value of expression is not a character string it is coerced to integer.</li>\n",
    "                        <li>You can have any number of case statements within a switch. Each case is followed by the value to be compared to and a colon.</li>\n",
    "                        <li>If the value of the integer is between 1 and nargs()−1 (The max number of arguments)then the corresponding element of case condition is evaluated and the result returned.</li>\n",
    "                        <li>If expression evaluates to a character string then that string is matched (exactly) to the names of the elements.</li>\n",
    "                        <li>If there is more than one match, the first matching element is returned.</li>\n",
    "                        <li>No Default argument is available.</li>\n",
    "                        <li>In the case of no match, if there is a unnamed element of ... its value is returned. (If there is more than one such argument an error is returned.)</li>\n",
    "</ul>\n",
    "                </div>\n",
    "\n",
    "</div>"
   ]
  },
  {
   "cell_type": "markdown",
   "metadata": {},
   "source": [
    "<div style=\"line-height:200%;\">\n",
    "    <font color=#076F9A face=\"Candara\" size=4>\n",
    "                <div align=left>\n",
    "                    <b>Flow Diagram:</b>\n",
    "                </div>\n",
    "    </font>\n",
    "    <font color=black face=\"Candara\" size=4>\n",
    "                <div align=left>\n",
    "                    The following screenshot will show you the flow chart behind this R Switch Case.\n",
    "                </div>\n",
    "    </font>\n",
    "</div>"
   ]
  },
  {
   "cell_type": "markdown",
   "metadata": {
    "scrolled": true
   },
   "source": [
    "<div>        \n",
    "    <img src=\"..\\Week 01\\img\\r_switch_statement.jpg\" width=\"300\"/>  \n",
    "</div>"
   ]
  },
  {
   "cell_type": "markdown",
   "metadata": {},
   "source": [
    "<div style=\"line-height:200%;\">\n",
    "    <font color=#076F9A face=\"Candara\" size=4>\n",
    "                <div align=left>\n",
    "                    <b>Example:</b>\n",
    "                </div>\n",
    "    </font>\n",
    "</div>"
   ]
  },
  {
   "cell_type": "code",
   "execution_count": 13,
   "metadata": {
    "scrolled": true
   },
   "outputs": [
    {
     "name": "stdout",
     "output_type": "stream",
     "text": [
      "[1] \"second\"\n"
     ]
    }
   ],
   "source": [
    "# R Switch Statement Example 01:\n",
    "\n",
    "num <- 2\n",
    "\n",
    "x <- switch(EXPR = num,\n",
    "            \"first\",\n",
    "            \"second\",\n",
    "            \"third\",\n",
    "            \"fourth\")\n",
    "\n",
    "print(x)"
   ]
  },
  {
   "cell_type": "code",
   "execution_count": 14,
   "metadata": {
    "scrolled": true
   },
   "outputs": [
    {
     "name": "stdout",
     "output_type": "stream",
     "text": [
      "NULL\n"
     ]
    }
   ],
   "source": [
    "# R Switch Statement Example 01:\n",
    "\n",
    "num <- 5\n",
    "\n",
    "x <- switch(EXPR = num,\n",
    "            \"first\",\n",
    "            \"second\",\n",
    "            \"third\",\n",
    "            \"fourth\")\n",
    "\n",
    "print(x)"
   ]
  },
  {
   "cell_type": "code",
   "execution_count": 15,
   "metadata": {},
   "outputs": [
    {
     "name": "stdout",
     "output_type": "stream",
     "text": [
      "Enter Day of the Week: 5\n",
      "Wednesday \n"
     ]
    }
   ],
   "source": [
    "# R Switch Statement Example 02:\n",
    "\n",
    "day_of_week <- as.integer(readline(prompt = \"Enter Day of the Week: \"))\n",
    "\n",
    "day = switch(EXPR = day_of_week,\n",
    "             \"Saturday\",\n",
    "             \"Sunday\",\n",
    "             \"Monday\",\n",
    "             \"Tuesday\",\n",
    "             \"Wednesday\",\n",
    "             \"Friday\")\n",
    "\n",
    "cat(day, \"\\n\")"
   ]
  },
  {
   "cell_type": "code",
   "execution_count": 16,
   "metadata": {},
   "outputs": [
    {
     "name": "stdout",
     "output_type": "stream",
     "text": [
      "Enter Day of the Week: 8\n",
      " \n"
     ]
    }
   ],
   "source": [
    "# R Switch Statement Example 02:\n",
    "\n",
    "day_of_week <- as.integer(readline(prompt = \"Enter Day of the Week: \"))\n",
    "\n",
    "day = switch(EXPR = day_of_week,\n",
    "             \"Saturday\",\n",
    "             \"Sunday\",\n",
    "             \"Monday\",\n",
    "             \"Tuesday\",\n",
    "             \"Wednesday\",\n",
    "             \"Friday\")\n",
    "\n",
    "cat(day, \"\\n\")"
   ]
  },
  {
   "cell_type": "code",
   "execution_count": 18,
   "metadata": {},
   "outputs": [
    {
     "data": {
      "text/html": [
       "1513"
      ],
      "text/latex": [
       "1513"
      ],
      "text/markdown": [
       "1513"
      ],
      "text/plain": [
       "[1] 1513"
      ]
     },
     "metadata": {},
     "output_type": "display_data"
    }
   ],
   "source": [
    "# R Switch Statement Example 03:\n",
    "\n",
    "item = \"ID\"\n",
    "\n",
    "switch(EXPR = item,\n",
    "       \"Name\" = \"Pooya\",\n",
    "       \"Family\" = \"Shirazi\",\n",
    "       \"Age\" = 36,\n",
    "       \"ID\" = 1513,\n",
    "       \"Phone\" = \"09131009667\",\n",
    "       \"City\" = \"Esfahan\")"
   ]
  },
  {
   "cell_type": "code",
   "execution_count": 19,
   "metadata": {},
   "outputs": [],
   "source": [
    "# R Switch Statement Example 03:\n",
    "\n",
    "item = \"Country\"\n",
    "\n",
    "switch(EXPR = item,\n",
    "       \"Name\" = \"Pooya\",\n",
    "       \"Family\" = \"Shirazi\",\n",
    "       \"Age\" = 36,\n",
    "       \"ID\" = 1513,\n",
    "       \"Phone\" = \"09131009667\",\n",
    "       \"City\" = \"Esfahan\")"
   ]
  },
  {
   "cell_type": "code",
   "execution_count": 20,
   "metadata": {},
   "outputs": [
    {
     "name": "stdout",
     "output_type": "stream",
     "text": [
      "Please Enter Number 1: 10\n",
      "Please Enter Number 2: 30\n",
      "Please Enter Any ARITHMETIC OPERATOR You Wish!: *\n",
      "Multiplication of two numbers is:  300 \n"
     ]
    }
   ],
   "source": [
    "# R Switch Statement Example 04:\n",
    "\n",
    "number1 <- as.integer(readline(prompt = \"Please Enter Number 1: \"))\n",
    "number2 <- as.integer(readline(prompt = \"Please Enter Number 2: \"))\n",
    "operator <- readline(prompt=\"Please Enter Any ARITHMETIC OPERATOR You Wish!: \")\n",
    "\n",
    "switch(operator,\n",
    "       \"+\" = cat(\"Addition of two numbers is: \", (number1 + number2), \"\\n\"),\n",
    "       \n",
    "       \"-\" = cat(\"Subtraction of two numbers is: \", (number1 - number2), \"\\n\"),\n",
    "       \n",
    "       \"*\" = cat(\"Multiplication of two numbers is: \", (number1 * number2), \"\\n\"),\n",
    "       \n",
    "       \"^\" = cat(\"Exponent of two numbers is: \", (number1 ^ number2), \"\\n\"),\n",
    "       \n",
    "       \"/\" = cat(\"Division of two numbers is: \", (number1 / number2), \"\\n\"),\n",
    "       \n",
    "       \"%/%\" = cat(\"Integer Division of two numbers is: \", (number1 %/% number2), \"\\n\"),\n",
    "       \n",
    "       \"%%\" = cat(\"Division of two numbers is: \", (number1 %% number2), \"\\n\"),\n",
    "       \n",
    "       cat(\"ERROR\", \"\\n\")    \n",
    "       \n",
    ")"
   ]
  },
  {
   "cell_type": "code",
   "execution_count": 21,
   "metadata": {},
   "outputs": [
    {
     "name": "stdout",
     "output_type": "stream",
     "text": [
      "Please Enter Number 1: 5\n",
      "Please Enter Number 2: 12\n",
      "Please Enter Any ARITHMETIC OPERATOR You Wish!: %\n",
      "ERROR \n"
     ]
    }
   ],
   "source": [
    "# R Switch Statement Example 04:\n",
    "\n",
    "number1 <- as.integer(readline(prompt = \"Please Enter Number 1: \"))\n",
    "number2 <- as.integer(readline(prompt = \"Please Enter Number 2: \"))\n",
    "operator <- readline(prompt=\"Please Enter Any ARITHMETIC OPERATOR You Wish!: \")\n",
    "\n",
    "switch(operator,\n",
    "       \"+\" = cat(\"Addition of two numbers is: \", (number1 + number2), \"\\n\"),\n",
    "       \n",
    "       \"-\" = cat(\"Subtraction of two numbers is: \", (number1 - number2), \"\\n\"),\n",
    "       \n",
    "       \"*\" = cat(\"Multiplication of two numbers is: \", (number1 * number2), \"\\n\"),\n",
    "       \n",
    "       \"^\" = cat(\"Exponent of two numbers is: \", (number1 ^ number2), \"\\n\"),\n",
    "       \n",
    "       \"/\" = cat(\"Division of two numbers is: \", (number1 / number2), \"\\n\"),\n",
    "       \n",
    "       \"%/%\" = cat(\"Integer Division of two numbers is: \", (number1 %/% number2), \"\\n\"),\n",
    "       \n",
    "       \"%%\" = cat(\"Division of two numbers is: \", (number1 %% number2), \"\\n\"),\n",
    "       \n",
    "       cat(\"ERROR\", \"\\n\")    \n",
    "       \n",
    ")"
   ]
  },
  {
   "cell_type": "code",
   "execution_count": 22,
   "metadata": {},
   "outputs": [
    {
     "name": "stdout",
     "output_type": "stream",
     "text": [
      "Enter Day of the Week: 5\n",
      "Your Number is: 5 \n",
      "Day of Week: Wednesday \n"
     ]
    }
   ],
   "source": [
    "# R Switch Statement Example 05:\n",
    "\n",
    "day_of_week <- as.integer(readline(prompt = \"Enter Day of the Week: \"))\n",
    "\n",
    "switch(EXPR = day_of_week,\n",
    "      {cat(\"Your Number is:\", day_of_week, \"\\n\")\n",
    "       cat(\"Day of Week:\", \"Saturday\", \"\\n\")},\n",
    "       \n",
    "      {cat(\"Your Number is:\", day_of_week, \"\\n\")\n",
    "       cat(\"Day of Week:\", \"Sunday\", \"\\n\")},\n",
    "       \n",
    "      {cat(\"Your Number is:\", day_of_week, \"\\n\")\n",
    "       cat(\"Day of Week:\", \"Monday\", \"\\n\")},\n",
    "       \n",
    "      {cat(\"Your Number is:\", day_of_week, \"\\n\")\n",
    "       cat(\"Day of Week:\", \"Tuesday\", \"\\n\")},\n",
    "       \n",
    "      {cat(\"Your Number is:\", day_of_week, \"\\n\")\n",
    "       cat(\"Day of Week:\", \"Wednesday\", \"\\n\")},\n",
    "       \n",
    "      {cat(\"Your Number is:\", day_of_week, \"\\n\")\n",
    "       cat(\"Day of Week:\", \"Thursday\", \"\\n\")},\n",
    "       \n",
    "      {cat(\"Your Number is:\", day_of_week, \"\\n\")\n",
    "       cat(\"Day of Week:\", \"Friday\", \"\\n\")}       \n",
    ")"
   ]
  }
 ],
 "metadata": {
  "kernelspec": {
   "display_name": "R",
   "language": "R",
   "name": "ir"
  },
  "language_info": {
   "codemirror_mode": "r",
   "file_extension": ".r",
   "mimetype": "text/x-r-source",
   "name": "R",
   "pygments_lexer": "r",
   "version": "3.6.1"
  }
 },
 "nbformat": 4,
 "nbformat_minor": 2
}
