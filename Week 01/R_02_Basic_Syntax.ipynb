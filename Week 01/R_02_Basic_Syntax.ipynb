{
 "cells": [
  {
   "cell_type": "markdown",
   "metadata": {},
   "source": [
    "\n",
    "<div>        \n",
    "    <img src=\"..\\Week 01\\img\\R_logo.svg\" width=\"100\"/>  \n",
    "</div>\n",
    "\n",
    "<div style=\"line-height:600%;\">\n",
    "    <font color=#1363E1 face=\"Britannic\" size=10>\n",
    "            <div align=center>Basic Syntax</div>\n",
    "    </font>    \n",
    "</div>\n"
   ]
  },
  {
   "cell_type": "markdown",
   "metadata": {},
   "source": [
    "As a convention, we will start learning R programming by writing a `\"Hello, World!\"` program. Depending on the needs, you can program either at `R command prompt` or you can use an `R script file` to write your program. Let's check both one by one."
   ]
  },
  {
   "cell_type": "markdown",
   "metadata": {},
   "source": [
    "<div style=\"line-height:300%;\">\n",
    "    <font color=#9A0909 face=\"Britannic\" size=6>\n",
    "            <div align=left>R Command Prompt</div>\n",
    "    </font>\n",
    "</div>"
   ]
  },
  {
   "cell_type": "markdown",
   "metadata": {},
   "source": [
    "Once you have R environment setup, then it’s easy to start your R command prompt by just typing the following command at your `command prompt`."
   ]
  },
  {
   "cell_type": "markdown",
   "metadata": {},
   "source": [
    "<div>        \n",
    "    <img src=\"..\\Week 01\\img\\R_Command_Prompt.png\" width=\"600\"/>  \n",
    "</div>\n"
   ]
  },
  {
   "cell_type": "markdown",
   "metadata": {},
   "source": [
    "This will launch R interpreter and you will get a `prompt >` where you can start typing your program as follows:"
   ]
  },
  {
   "cell_type": "code",
   "execution_count": 1,
   "metadata": {},
   "outputs": [
    {
     "name": "stdout",
     "output_type": "stream",
     "text": [
      "[1] \"Hello, World!\"\n"
     ]
    }
   ],
   "source": [
    "myString <- \"Hello, World!\"\n",
    "\n",
    "print(myString)"
   ]
  },
  {
   "cell_type": "markdown",
   "metadata": {},
   "source": [
    "<div>        \n",
    "    <img src=\"..\\Week 01\\img\\R_hello_world.png\" width=\"600\"/>  \n",
    "</div>\n"
   ]
  },
  {
   "cell_type": "markdown",
   "metadata": {},
   "source": [
    "Here first **statement** defines a `string variable` **myString**, where we **assign** a **string** `\"Hello, World!\"` and then next **statement** `print()` is being used to print the value *stored in variable* `myString`."
   ]
  },
  {
   "cell_type": "code",
   "execution_count": 3,
   "metadata": {},
   "outputs": [],
   "source": [
    "# Open R:\n",
    "shell.exec(\"C:\\\\Users\\\\Pooya\\\\Programs\\\\R\\\\R-3.6.1\\\\bin\\\\x64\\\\Rgui.exe\")"
   ]
  },
  {
   "cell_type": "markdown",
   "metadata": {},
   "source": [
    "---\n",
    "---\n",
    "---\n",
    "<div style=\"line-height:300%;\">\n",
    "    <font color=#9A0909 face=\"Britannic\" size=6>\n",
    "            <div align=left>RStudio Command Prompt</div>\n",
    "    </font>\n",
    "</div>"
   ]
  },
  {
   "cell_type": "markdown",
   "metadata": {},
   "source": [
    "<div>        \n",
    "    <img src=\"..\\Week 01\\img\\RStudio_Command_Prompt.png\" width=\"600\"/>  \n",
    "</div>\n"
   ]
  },
  {
   "cell_type": "markdown",
   "metadata": {},
   "source": [
    "<div>        \n",
    "    <img src=\"..\\Week 01\\img\\RStudio_hello_world.png\" width=\"600\"/>  \n",
    "</div>\n"
   ]
  },
  {
   "cell_type": "code",
   "execution_count": 4,
   "metadata": {},
   "outputs": [],
   "source": [
    "# Open RStudio:\n",
    "shell.exec(\"C:\\\\Program Files\\\\RStudio\\\\bin\\\\rstudio.exe\")"
   ]
  },
  {
   "cell_type": "markdown",
   "metadata": {},
   "source": [
    "---\n",
    "---\n",
    "---\n",
    "<div style=\"line-height:300%;\">\n",
    "    <font color=#9A0909 face=\"Britannic\" size=6>\n",
    "            <div align=left>R Script File</div>\n",
    "    </font>\n",
    "</div>"
   ]
  },
  {
   "cell_type": "markdown",
   "metadata": {},
   "source": [
    "Usually, you will do your programming by writing your programs in `script files` and then you `execute` those scripts at your `command prompt` with the help of `R interpreter` called `Rscript`."
   ]
  },
  {
   "cell_type": "markdown",
   "metadata": {},
   "source": [
    "myString <- \"Hello, World!\"\n",
    "\n",
    "print(myString)"
   ]
  },
  {
   "cell_type": "markdown",
   "metadata": {},
   "source": [
    "Save the above code in a file `hello_world.r` and execute it."
   ]
  },
  {
   "cell_type": "markdown",
   "metadata": {},
   "source": [
    "<div>        \n",
    "    <img src=\"..\\Week 01\\img\\hello_world.png\" width=\"800\"/>  \n",
    "</div>\n"
   ]
  },
  {
   "cell_type": "markdown",
   "metadata": {},
   "source": [
    "---\n",
    "---\n",
    "---\n",
    "<div style=\"line-height:300%;\">\n",
    "    <font color=#9A0909 face=\"Britannic\" size=6>\n",
    "            <div align=left>Comments</div>\n",
    "    </font>\n",
    "</div>"
   ]
  },
  {
   "cell_type": "markdown",
   "metadata": {},
   "source": [
    "`Comments` are like helping text in your R program and they are ignored by the interpreter while executing your actual program. `Single comment` is written using `#` in the `beginning of the statement` as follows:"
   ]
  },
  {
   "cell_type": "code",
   "execution_count": 6,
   "metadata": {
    "scrolled": true
   },
   "outputs": [
    {
     "name": "stdout",
     "output_type": "stream",
     "text": [
      "[1] \"Hello, World!\"\n"
     ]
    }
   ],
   "source": [
    "# My first program in R Programming\n",
    "\n",
    "myString <- \"Hello, World!\"\n",
    "\n",
    "print(myString)"
   ]
  },
  {
   "cell_type": "code",
   "execution_count": 7,
   "metadata": {},
   "outputs": [
    {
     "name": "stdout",
     "output_type": "stream",
     "text": [
      "[1] \"Hello, World!\"\n"
     ]
    }
   ],
   "source": [
    "# My first comment\n",
    "# My second comment\n",
    "\n",
    "myString <- \"Hello, World!\"\n",
    "\n",
    "print ( myString)"
   ]
  },
  {
   "cell_type": "code",
   "execution_count": 10,
   "metadata": {},
   "outputs": [
    {
     "name": "stdout",
     "output_type": "stream",
     "text": [
      "[1] \"Hello, World!\"\n"
     ]
    }
   ],
   "source": [
    "if(FALSE){\n",
    "   \"This is a demo for multi-line comments and it should be put\n",
    "    inside either a single OR double quote\"\n",
    "}\n",
    "\n",
    "myString <- \"Hello, World!\"\n",
    "\n",
    "print(myString)"
   ]
  },
  {
   "cell_type": "code",
   "execution_count": null,
   "metadata": {},
   "outputs": [],
   "source": []
  }
 ],
 "metadata": {
  "kernelspec": {
   "display_name": "R",
   "language": "R",
   "name": "ir"
  },
  "language_info": {
   "codemirror_mode": "r",
   "file_extension": ".r",
   "mimetype": "text/x-r-source",
   "name": "R",
   "pygments_lexer": "r",
   "version": "3.6.1"
  }
 },
 "nbformat": 4,
 "nbformat_minor": 2
}
