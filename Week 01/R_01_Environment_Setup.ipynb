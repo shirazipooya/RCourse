{
 "cells": [
  {
   "cell_type": "markdown",
   "metadata": {},
   "source": [
    "\n",
    "<div>        \n",
    "    <img src=\"..\\Week 01\\img\\R_logo.svg\" width=\"300\"/>  \n",
    "</div>\n",
    "\n",
    "<div style=\"line-height:600%;\">\n",
    "    <font color=gray face=\"Britannic\" size=10>\n",
    "            <div align=center>The <span style=\"font-family:Britannic; font-size:1; color:#1363E1\">R</span> Project for Statistical Computing</div>\n",
    "    </font>    \n",
    "</div>\n"
   ]
  },
  {
   "cell_type": "markdown",
   "metadata": {},
   "source": [
    "R is a programming language and software environment for statistical analysis, graphics representation and reporting.  \n",
    "\n",
    "R was initially written by **Ross Ihaka** and **Robert Gentleman** at the `Department of Statistics of the University of Auckland in Auckland, New Zealand`. R made its first appearance in `1993`.\n",
    "\n",
    "The core of R is an interpreted computer language which allows branching and looping as well as modular programming using functions. R allows integration with the procedures written in the C, C++, .Net, Python or FORTRAN languages for efficiency.\n",
    "\n",
    "R is `freely` available under the `GNU General Public License`, and pre-compiled binary versions are provided for various operating systems like Linux, Windows and Mac."
   ]
  },
  {
   "cell_type": "markdown",
   "metadata": {},
   "source": [
    "---\n",
    "---\n",
    "---\n",
    "\n",
    "<div style=\"line-height:300%;\">\n",
    "    <font color=#9A0909 face=\"Britannic\" size=8>\n",
    "            <div align=center>Download R</div>\n",
    "    </font>\n",
    "</div>"
   ]
  },
  {
   "cell_type": "markdown",
   "metadata": {},
   "source": [
    "<div style=\"line-height:300%;\">\n",
    "    <font color=#1363E1 face=\"Britannic\" size=5>\n",
    "        <div align=center><a href=\"http://www.r-project.org\">www.r-project.org</a></div>\n",
    "    </font>\n",
    "</div>\n",
    "\n",
    "\n"
   ]
  },
  {
   "cell_type": "markdown",
   "metadata": {},
   "source": [
    "<div>        \n",
    "    <img src=\"..\\Week 01\\img\\R_first_page.png\" width=\"800\"/>  \n",
    "</div>"
   ]
  },
  {
   "cell_type": "markdown",
   "metadata": {},
   "source": [
    "<div style=\"line-height:300%;\">\n",
    "    <font color=#1363E1 face=\"Britannic\" size=5>\n",
    "        <div align=center><a href=\"https://cloud.r-project.org/bin/windows/base/R-3.6.1-win.exe\">Download R 3.6.1 for Windows</a></div>\n",
    "    </font>\n",
    "</div>"
   ]
  },
  {
   "cell_type": "code",
   "execution_count": 2,
   "metadata": {},
   "outputs": [],
   "source": [
    "# Open R:\n",
    "shell.exec(\"C:\\\\Users\\\\Pooya\\\\Programs\\\\R\\\\R-3.6.1\\\\bin\\\\x64\\\\Rgui.exe\")"
   ]
  },
  {
   "cell_type": "markdown",
   "metadata": {},
   "source": [
    "---\n",
    "---\n",
    "---\n",
    "\n",
    "<div style=\"line-height:300%;\">\n",
    "    <font color=#9A0909 face=\"Britannic\" size=8>\n",
    "            <div align=center>Download RStudio</div>\n",
    "    </font>\n",
    "</div>"
   ]
  },
  {
   "cell_type": "markdown",
   "metadata": {},
   "source": [
    "<div style=\"line-height:300%;\">\n",
    "    <font color=#1363E1 face=\"Britannic\" size=5>\n",
    "        <div align=center><a href=\"https://rstudio.com/\">www.rstudio.com</a></div>\n",
    "    </font>\n",
    "</div>"
   ]
  },
  {
   "cell_type": "markdown",
   "metadata": {},
   "source": [
    "<div>        \n",
    "    <img src=\"..\\Week 01\\img\\RStudio_first_page.png\" width=\"600\"/>  \n",
    "</div>\n",
    "\n",
    "\n"
   ]
  },
  {
   "cell_type": "markdown",
   "metadata": {},
   "source": [
    "<div style=\"line-height:300%;\">\n",
    "    <font color=#1363E1 face=\"Britannic\" size=5>\n",
    "        <div align=center><a href=\"https://download1.rstudio.org/desktop/windows/RStudio-1.2.5019.exe\">Download RStudio Desktop 1.2.5019 for Windows</a></div>\n",
    "    </font>\n",
    "</div>"
   ]
  },
  {
   "cell_type": "code",
   "execution_count": 3,
   "metadata": {},
   "outputs": [],
   "source": [
    "# Open RStudio:\n",
    "shell.exec(\"C:\\\\Program Files\\\\RStudio\\\\bin\\\\rstudio.exe\")"
   ]
  }
 ],
 "metadata": {
  "kernelspec": {
   "display_name": "R",
   "language": "R",
   "name": "ir"
  },
  "language_info": {
   "codemirror_mode": "r",
   "file_extension": ".r",
   "mimetype": "text/x-r-source",
   "name": "R",
   "pygments_lexer": "r",
   "version": "3.6.1"
  }
 },
 "nbformat": 4,
 "nbformat_minor": 2
}
