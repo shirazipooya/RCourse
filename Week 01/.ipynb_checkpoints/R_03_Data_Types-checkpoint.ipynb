{
 "cells": [
  {
   "cell_type": "markdown",
   "metadata": {},
   "source": [
    "\n",
    "<div>        \n",
    "    <img src=\"..\\Week 01\\img\\R_logo.svg\" width=\"100\"/>  \n",
    "</div>\n",
    "\n",
    "<div style=\"line-height:600%;\">\n",
    "    <font color=#1363E1 face=\"Britannic\" size=10>\n",
    "            <div align=center>Data Types</div>\n",
    "    </font>    \n",
    "</div>\n"
   ]
  },
  {
   "cell_type": "markdown",
   "metadata": {},
   "source": [
    "Generally, while doing programming in any programming language, you need to use `various variables` to store `various information`. Variables are nothing but reserved memory locations to store values. **This means that, when you create a variable you reserve some space in memory**.\n",
    "\n",
    "You may like to store information of various data types like **character**, **wide character**, **integer**, **floating point**, **double floating point**, **Boolean* etc. Based on the data type of a variable, the operating system `allocates memory` and decides what can be stored in the reserved memory.\n",
    "\n",
    "In contrast to other programming languages like C and java in R, the variables are not declared as some data type. The variables are assigned with R-Objects and the data type of the R-object becomes the data type of the variable. There are many types of `R-objects`. The frequently used ones are:\n",
    "\n",
    "- Vectors\n",
    "- Lists\n",
    "- Matrices\n",
    "- Arrays\n",
    "- Factors\n",
    "- Data Frames\n",
    "\n",
    "The **simplest** of these objects is the **vector object** and there are `six data types` of these atomic vectors, also termed as six classes of vectors. The other R-Objects are built upon the atomic vectors."
   ]
  },
  {
   "cell_type": "markdown",
   "metadata": {},
   "source": [
    "<div style=\"line-height:300%;\">\n",
    "    <font color=#9A0909 face=\"Britannic\" size=6>\n",
    "                <div align=left>Six Data Types:</div>\n",
    "    </font>\n",
    "</div>"
   ]
  },
  {
   "cell_type": "markdown",
   "metadata": {},
   "source": [
    "<div style=\"line-height:100%;\">\n",
    "    <font color=black face=\"Britannic\" size=5>\n",
    "                <div align=left>Logical</div>\n",
    "    </font>\n",
    "</div>"
   ]
  },
  {
   "cell_type": "markdown",
   "metadata": {},
   "source": [
    "`Example:` TRUE, FALSE"
   ]
  },
  {
   "cell_type": "code",
   "execution_count": 1,
   "metadata": {},
   "outputs": [
    {
     "name": "stdout",
     "output_type": "stream",
     "text": [
      "[1] \"logical\"\n"
     ]
    }
   ],
   "source": [
    "# Verify:\n",
    "x <- TRUE\n",
    "print(class(x))"
   ]
  },
  {
   "cell_type": "markdown",
   "metadata": {},
   "source": [
    "---\n",
    "<div style=\"line-height:100%;\">\n",
    "    <font color=black face=\"Britannic\" size=5>\n",
    "                <div align=left>Numeric</div>\n",
    "    </font>\n",
    "</div>"
   ]
  },
  {
   "cell_type": "markdown",
   "metadata": {},
   "source": [
    "`Example:` 5, 12.2, 999"
   ]
  },
  {
   "cell_type": "code",
   "execution_count": 2,
   "metadata": {
    "scrolled": true
   },
   "outputs": [
    {
     "name": "stdout",
     "output_type": "stream",
     "text": [
      "[1] \"numeric\"\n"
     ]
    }
   ],
   "source": [
    "# Verify:\n",
    "x <- 1.5\n",
    "print(class(x))"
   ]
  },
  {
   "cell_type": "markdown",
   "metadata": {},
   "source": [
    "---\n",
    "<div style=\"line-height:100%;\">\n",
    "    <font color=black face=\"Britannic\" size=5>\n",
    "                <div align=left>Integer</div>\n",
    "    </font>\n",
    "</div>"
   ]
  },
  {
   "cell_type": "markdown",
   "metadata": {},
   "source": [
    "`Example:` 2L, 0L, 101L"
   ]
  },
  {
   "cell_type": "code",
   "execution_count": 3,
   "metadata": {
    "scrolled": false
   },
   "outputs": [
    {
     "name": "stdout",
     "output_type": "stream",
     "text": [
      "[1] \"integer\"\n"
     ]
    }
   ],
   "source": [
    "# Verify:\n",
    "x <- 2L\n",
    "print(class(x))"
   ]
  },
  {
   "cell_type": "markdown",
   "metadata": {},
   "source": [
    "---\n",
    "<div style=\"line-height:100%;\">\n",
    "    <font color=black face=\"Britannic\" size=5>\n",
    "                <div align=left>Complex</div>\n",
    "    </font>\n",
    "</div>"
   ]
  },
  {
   "cell_type": "markdown",
   "metadata": {},
   "source": [
    "`Example:` 2 + 3i"
   ]
  },
  {
   "cell_type": "code",
   "execution_count": 4,
   "metadata": {
    "scrolled": true
   },
   "outputs": [
    {
     "name": "stdout",
     "output_type": "stream",
     "text": [
      "[1] \"complex\"\n"
     ]
    }
   ],
   "source": [
    "# Verify:\n",
    "x <- 2 + 5i\n",
    "print(class(x))"
   ]
  },
  {
   "cell_type": "markdown",
   "metadata": {},
   "source": [
    "---\n",
    "<div style=\"line-height:100%;\">\n",
    "    <font color=black face=\"Britannic\" size=5>\n",
    "                <div align=left>Character</div>\n",
    "    </font>\n",
    "</div>"
   ]
  },
  {
   "cell_type": "markdown",
   "metadata": {},
   "source": [
    "`Example:` 'a', \"good\", \"TRUE\", '23.5'"
   ]
  },
  {
   "cell_type": "code",
   "execution_count": 8,
   "metadata": {
    "scrolled": true
   },
   "outputs": [
    {
     "name": "stdout",
     "output_type": "stream",
     "text": [
      "[1] \"character\"\n"
     ]
    }
   ],
   "source": [
    "# Verify:\n",
    "x <- \"1\"\n",
    "print(class(x))"
   ]
  },
  {
   "cell_type": "markdown",
   "metadata": {},
   "source": [
    "---\n",
    "<div style=\"line-height:100%;\">\n",
    "    <font color=black face=\"Britannic\" size=5>\n",
    "                <div align=left>Raw</div>\n",
    "    </font>\n",
    "</div>"
   ]
  },
  {
   "cell_type": "markdown",
   "metadata": {},
   "source": [
    "`Example:` \"Hello\" is stored as 48 65 6c 6c 6f"
   ]
  },
  {
   "cell_type": "code",
   "execution_count": 9,
   "metadata": {
    "scrolled": true
   },
   "outputs": [
    {
     "name": "stdout",
     "output_type": "stream",
     "text": [
      "[1] 48 65 6c 6c 6f\n",
      "[1] \"raw\"\n"
     ]
    }
   ],
   "source": [
    "# Verify:\n",
    "x <- charToRaw(\"Hello\")\n",
    "print(x)\n",
    "print(class(x))"
   ]
  },
  {
   "cell_type": "markdown",
   "metadata": {},
   "source": [
    "In R programming, the very basic data types are the `R-objects` called `vectors` which **hold elements of different classes** as shown above. Please note in R the number of classes is not confined to only the above six types. For example, we can use many atomic vectors and create an array whose class will become array."
   ]
  },
  {
   "cell_type": "markdown",
   "metadata": {},
   "source": [
    "<div style=\"line-height:300%;\">\n",
    "    <font color=#9A0909 face=\"Britannic\" size=6>\n",
    "            <div align=left>Vectors</div>\n",
    "    </font>\n",
    "</div>"
   ]
  },
  {
   "cell_type": "markdown",
   "metadata": {},
   "source": [
    "When you want to create vector with `more than one element`, you should use `c() function` which means to **combine the elements into a vector**."
   ]
  },
  {
   "cell_type": "code",
   "execution_count": 16,
   "metadata": {},
   "outputs": [
    {
     "name": "stdout",
     "output_type": "stream",
     "text": [
      "[1] 1 2 3 0\n",
      "[1] \"numeric\"\n"
     ]
    }
   ],
   "source": [
    "# Create a vector:\n",
    "info <- c(1, 2, 3L, FALSE)\n",
    "\n",
    "print(info)\n",
    "\n",
    "# Get the class of the vector:\n",
    "print(class(info))"
   ]
  },
  {
   "cell_type": "markdown",
   "metadata": {},
   "source": [
    "<div style=\"line-height:300%;\">\n",
    "    <font color=#9A0909 face=\"Britannic\" size=6>\n",
    "            <div align=left>Lists</div>\n",
    "    </font>\n",
    "</div>"
   ]
  },
  {
   "cell_type": "markdown",
   "metadata": {},
   "source": [
    "A **list** is an `R-object` which can contain many different types of elements inside it like **vectors**, **functions** and even **another list** inside it."
   ]
  },
  {
   "cell_type": "code",
   "execution_count": 19,
   "metadata": {
    "scrolled": false
   },
   "outputs": [
    {
     "name": "stdout",
     "output_type": "stream",
     "text": [
      "[[1]]\n",
      "[1] 1 2 3 0\n",
      "\n",
      "[[2]]\n",
      "[1] 12 15 16 18 20  0\n",
      "\n",
      "[[3]]\n",
      "[1] FALSE\n",
      "\n",
      "[[4]]\n",
      "[1] \"pooya\"  \"maryam\"\n",
      "\n"
     ]
    }
   ],
   "source": [
    "# Create a list:\n",
    "list1 <- list(info, c(12, 15, 16, 18, 20, 0), FALSE, c(\"pooya\", \"maryam\"))\n",
    "\n",
    "# Print the list:\n",
    "print(list1)"
   ]
  },
  {
   "cell_type": "markdown",
   "metadata": {},
   "source": [
    "<div style=\"line-height:300%;\">\n",
    "    <font color=#9A0909 face=\"Britannic\" size=6>\n",
    "            <div align=left>Matrices</div>\n",
    "    </font>\n",
    "</div>"
   ]
  },
  {
   "cell_type": "markdown",
   "metadata": {},
   "source": [
    "A matrix is a `two-dimensional` rectangular data set. It can be created using a vector input to the matrix function."
   ]
  },
  {
   "cell_type": "code",
   "execution_count": 29,
   "metadata": {
    "scrolled": true
   },
   "outputs": [
    {
     "name": "stdout",
     "output_type": "stream",
     "text": [
      " [1]  1  2  3  4  5  6  7  8  9 10\n",
      "[1] \"numeric\"\n",
      "[1] \"*******************************************\"\n",
      "     [,1] [,2] [,3] [,4] [,5]\n",
      "[1,]    1    2    3    4    5\n",
      "[2,]    6    7    8    9   10\n",
      "[1] \"matrix\"\n"
     ]
    }
   ],
   "source": [
    "# Create a matrix:\n",
    "v = c(1, 2, 3, 4, 5, 6, 7, 8, 9, 10)\n",
    "print(v)\n",
    "print(class(v))\n",
    "print(\"*******************************************\")\n",
    "M = matrix(data = v, nrow = 2, ncol = 5, byrow = TRUE)\n",
    "print(M)\n",
    "print(class(M))"
   ]
  },
  {
   "cell_type": "code",
   "execution_count": 30,
   "metadata": {
    "scrolled": true
   },
   "outputs": [
    {
     "name": "stdout",
     "output_type": "stream",
     "text": [
      "     [,1] [,2] [,3]\n",
      "[1,] \"a\"  \"a\"  \"b\" \n",
      "[2,] \"c\"  \"b\"  \"1\" \n"
     ]
    }
   ],
   "source": [
    "# Create a matrix:\n",
    "M = matrix(data = c('a', 'a', 'b', 'c', 'b', 1), nrow = 2, ncol = 3, byrow = TRUE)\n",
    "print(M)"
   ]
  },
  {
   "cell_type": "markdown",
   "metadata": {},
   "source": [
    "<div style=\"line-height:300%;\">\n",
    "    <font color=#9A0909 face=\"Britannic\" size=6>\n",
    "            <div align=left>Arrays</div>\n",
    "    </font>\n",
    "</div>"
   ]
  },
  {
   "cell_type": "markdown",
   "metadata": {},
   "source": [
    "While matrices are confined to two dimensions, arrays can be of `any number of dimensions`. The array function takes a dim attribute which creates the required number of dimension. In the below example we create an array with two elements which are 3x3 matrices each."
   ]
  },
  {
   "cell_type": "code",
   "execution_count": 37,
   "metadata": {
    "scrolled": false
   },
   "outputs": [
    {
     "name": "stdout",
     "output_type": "stream",
     "text": [
      ", , 1\n",
      "\n",
      "     [,1] [,2] [,3]\n",
      "[1,]    1    3    5\n",
      "[2,]    2    4    6\n",
      "\n",
      ", , 2\n",
      "\n",
      "     [,1] [,2] [,3]\n",
      "[1,]    7    9   11\n",
      "[2,]    8   10   12\n",
      "\n",
      ", , 3\n",
      "\n",
      "     [,1] [,2] [,3]\n",
      "[1,]   13   15   17\n",
      "[2,]   14   16   18\n",
      "\n"
     ]
    }
   ],
   "source": [
    "# Create an array:\n",
    "a <- array(data = 1:18, dim = c(2,3,3))\n",
    "print(a)"
   ]
  },
  {
   "cell_type": "markdown",
   "metadata": {},
   "source": [
    "<div style=\"line-height:300%;\">\n",
    "    <font color=#9A0909 face=\"Britannic\" size=6>\n",
    "            <div align=left>Factors</div>\n",
    "    </font>\n",
    "</div>"
   ]
  },
  {
   "cell_type": "markdown",
   "metadata": {},
   "source": [
    "Factors are the r-objects which are created using a vector. It stores the vector along with the distinct values of the elements in the vector as labels. The labels are always character irrespective of whether it is numeric or character or Boolean etc. in the input vector. They are useful in statistical modeling.\n",
    "\n",
    "Factors are created using the factor() function. The nlevels functions gives the count of levels."
   ]
  },
  {
   "cell_type": "code",
   "execution_count": 38,
   "metadata": {
    "scrolled": false
   },
   "outputs": [
    {
     "name": "stdout",
     "output_type": "stream",
     "text": [
      "[1] \"character\"\n",
      "[1] \"factor\"\n",
      "[1] green  green  yellow red    red    red    green \n",
      "Levels: green red yellow\n",
      "[1] 3\n"
     ]
    }
   ],
   "source": [
    "# Create a vector:\n",
    "apple_colors <- c('green', 'green', 'yellow', 'red', 'red', 'red', 'green')\n",
    "print(class(apple_colors))\n",
    "\n",
    "# Create a factor object:\n",
    "factor_apple <- factor(apple_colors)\n",
    "print(class(factor_apple))\n",
    "\n",
    "# Print the factor.\n",
    "print(factor_apple)\n",
    "print(nlevels(factor_apple))"
   ]
  },
  {
   "cell_type": "markdown",
   "metadata": {},
   "source": [
    "<div style=\"line-height:300%;\">\n",
    "    <font color=#9A0909 face=\"Britannic\" size=6>\n",
    "            <div align=left>Data Frames</div>\n",
    "    </font>\n",
    "</div>"
   ]
  },
  {
   "cell_type": "markdown",
   "metadata": {},
   "source": [
    "`Data frames` are tabular data objects. Unlike a matrix in data frame `each column` can contain `different modes of data`. The first column can be numeric while the second column can be character and third column can be logical. It is a list of vectors of equal length.\n",
    "\n",
    "Data Frames are created using the `data.frame()` function."
   ]
  },
  {
   "cell_type": "code",
   "execution_count": 46,
   "metadata": {},
   "outputs": [
    {
     "name": "stdout",
     "output_type": "stream",
     "text": [
      "    name age   stu\n",
      "1  Pooya  36 FALSE\n",
      "2 Maryam  35  TRUE\n",
      "3 Pedram  32 FALSE\n"
     ]
    }
   ],
   "source": [
    "x <- data.frame(name = c(\"Pooya\", \"Maryam\", \"Pedram\"),\n",
    "               age = c(36, 35, 32),\n",
    "               stu = c(FALSE, TRUE, FALSE))\n",
    "\n",
    "print(x)"
   ]
  },
  {
   "cell_type": "code",
   "execution_count": 49,
   "metadata": {
    "scrolled": true
   },
   "outputs": [
    {
     "name": "stdout",
     "output_type": "stream",
     "text": [
      "  gender height weight Age\n",
      "1   Male  152.0     81  42\n",
      "2   Male  171.5     93  38\n",
      "3 Female  165.0     78  26\n"
     ]
    }
   ],
   "source": [
    "# Create the data frame.\n",
    "BMI <- data.frame(gender = c(\"Male\", \"Male\",\"Female\"),\n",
    "                   height = c(152, 171.5, 165),\n",
    "                   weight = c(81,93, 78),\n",
    "                   Age = c(42,38,26))\n",
    "\n",
    "print(BMI)"
   ]
  },
  {
   "cell_type": "code",
   "execution_count": null,
   "metadata": {},
   "outputs": [],
   "source": []
  }
 ],
 "metadata": {
  "kernelspec": {
   "display_name": "R",
   "language": "R",
   "name": "ir"
  },
  "language_info": {
   "codemirror_mode": "r",
   "file_extension": ".r",
   "mimetype": "text/x-r-source",
   "name": "R",
   "pygments_lexer": "r",
   "version": "3.6.1"
  }
 },
 "nbformat": 4,
 "nbformat_minor": 2
}
