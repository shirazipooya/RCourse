{
 "cells": [
  {
   "cell_type": "markdown",
   "metadata": {},
   "source": [
    "\n",
    "<div>        \n",
    "    <img src=\"..\\Week 01\\img\\R_logo.svg\" width=\"100\"/>  \n",
    "</div>\n",
    "\n",
    "<div style=\"line-height:600%;\">\n",
    "    <font color=#1363E1 face=\"Britannic\" size=10>\n",
    "            <div align=center>Operators</div>\n",
    "    </font>    \n",
    "</div>\n"
   ]
  },
  {
   "cell_type": "markdown",
   "metadata": {},
   "source": [
    "An operator is a symbol that tells the compiler to perform specific `mathematical or logical manipulations`. R language is rich in built-in operators and provides following types of operators.\n",
    "\n",
    "## Types of Operators\n",
    "We have the following types of operators in R programming:\n",
    "\n",
    "- Arithmetic Operators\n",
    "- Relational Operators\n",
    "- Logical Operators\n",
    "- Assignment Operators\n",
    "- Miscellaneous Operators"
   ]
  },
  {
   "cell_type": "markdown",
   "metadata": {},
   "source": [
    "<div style=\"line-height:300%;\">\n",
    "    <font color=#9A0909 face=\"Britannic\" size=6>\n",
    "                <div align=left>Arithmetic Operators</div>\n",
    "    </font>\n",
    "</div>"
   ]
  },
  {
   "cell_type": "markdown",
   "metadata": {},
   "source": [
    "Following cell shows the arithmetic operators supported by R language. The operators act on each element of the vector."
   ]
  },
  {
   "cell_type": "markdown",
   "metadata": {},
   "source": [
    "---\n",
    "<div style=\"line-height:100%;\">\n",
    "    <font color=black face=\"Britannic\" size=4>\n",
    "                <div align=left>+ : Adds two vectors</div>\n",
    "    </font>\n",
    "</div>"
   ]
  },
  {
   "cell_type": "code",
   "execution_count": 1,
   "metadata": {
    "scrolled": false
   },
   "outputs": [
    {
     "name": "stdout",
     "output_type": "stream",
     "text": [
      "[1] 5 7 9\n"
     ]
    }
   ],
   "source": [
    "v <- c(1, 2, 3)\n",
    "\n",
    "t <- c(4, 5, 6)\n",
    "\n",
    "print(v + t)"
   ]
  },
  {
   "cell_type": "markdown",
   "metadata": {},
   "source": [
    "---\n",
    "<div style=\"line-height:100%;\">\n",
    "    <font color=black face=\"Britannic\" size=4>\n",
    "                <div align=left>- : Subtracts second vector from the first</div>\n",
    "    </font>\n",
    "</div>"
   ]
  },
  {
   "cell_type": "code",
   "execution_count": 2,
   "metadata": {
    "scrolled": true
   },
   "outputs": [
    {
     "name": "stdout",
     "output_type": "stream",
     "text": [
      "[1] -3 -3 -3\n"
     ]
    }
   ],
   "source": [
    "v <- c(1, 2, 3)\n",
    "\n",
    "t <- c(4, 5, 6)\n",
    "\n",
    "print(v - t)"
   ]
  },
  {
   "cell_type": "markdown",
   "metadata": {},
   "source": [
    "---\n",
    "<div style=\"line-height:100%;\">\n",
    "    <font color=black face=\"Britannic\" size=4>\n",
    "                <div align=left>* : Multiplies both vectors</div>\n",
    "    </font>\n",
    "</div>"
   ]
  },
  {
   "cell_type": "code",
   "execution_count": 3,
   "metadata": {
    "scrolled": true
   },
   "outputs": [
    {
     "name": "stdout",
     "output_type": "stream",
     "text": [
      "[1]  4 10 18\n"
     ]
    }
   ],
   "source": [
    "v <- c(1, 2, 3)\n",
    "\n",
    "t <- c(4, 5, 6)\n",
    "\n",
    "print(v * t)"
   ]
  },
  {
   "cell_type": "markdown",
   "metadata": {},
   "source": [
    "---\n",
    "<div style=\"line-height:100%;\">\n",
    "    <font color=black face=\"Britannic\" size=4>\n",
    "                <div align=left>/ : Divide the first vector with the second</div>\n",
    "    </font>\n",
    "</div>"
   ]
  },
  {
   "cell_type": "code",
   "execution_count": 4,
   "metadata": {
    "scrolled": true
   },
   "outputs": [
    {
     "name": "stdout",
     "output_type": "stream",
     "text": [
      "[1] 0.25 0.40 0.50\n"
     ]
    }
   ],
   "source": [
    "v <- c(1, 2, 3)\n",
    "\n",
    "t <- c(4, 5, 6)\n",
    "\n",
    "print(v / t)"
   ]
  },
  {
   "cell_type": "markdown",
   "metadata": {},
   "source": [
    "---\n",
    "<div style=\"line-height:100%;\">\n",
    "    <font color=black face=\"Britannic\" size=4>\n",
    "                <div align=left>%% : Give the remainder of the first vector with the second</div>\n",
    "    </font>\n",
    "</div>"
   ]
  },
  {
   "cell_type": "code",
   "execution_count": 5,
   "metadata": {
    "scrolled": true
   },
   "outputs": [
    {
     "name": "stdout",
     "output_type": "stream",
     "text": [
      "[1] 2 0 4\n"
     ]
    }
   ],
   "source": [
    "v <- c(10, 20, 34)\n",
    "\n",
    "t <- c(4, 5, 6)\n",
    "\n",
    "print(v %% t)"
   ]
  },
  {
   "cell_type": "markdown",
   "metadata": {},
   "source": [
    "---\n",
    "<div style=\"line-height:100%;\">\n",
    "    <font color=black face=\"Britannic\" size=4>\n",
    "                <div align=left>%/% : The result of division of first vector with second (quotient)</div>\n",
    "    </font>\n",
    "</div>"
   ]
  },
  {
   "cell_type": "code",
   "execution_count": 7,
   "metadata": {
    "scrolled": true
   },
   "outputs": [
    {
     "name": "stdout",
     "output_type": "stream",
     "text": [
      "[1] 2 4 5\n"
     ]
    }
   ],
   "source": [
    "v <- c(10, 20, 34)\n",
    "\n",
    "t <- c(4, 5, 6)\n",
    "\n",
    "print(v %/%t)"
   ]
  },
  {
   "cell_type": "markdown",
   "metadata": {},
   "source": [
    "---\n",
    "<div style=\"line-height:100%;\">\n",
    "    <font color=black face=\"Britannic\" size=4>\n",
    "                <div align=left>^ : The first vector raised to the exponent of second vector</div>\n",
    "    </font>\n",
    "</div>"
   ]
  },
  {
   "cell_type": "code",
   "execution_count": 10,
   "metadata": {
    "scrolled": true
   },
   "outputs": [
    {
     "name": "stdout",
     "output_type": "stream",
     "text": [
      "[1]   1  32 729\n"
     ]
    }
   ],
   "source": [
    "v <- c(1, 2, 3)\n",
    "\n",
    "t <- c(4, 5, 6)\n",
    "\n",
    "print(v ^ t)"
   ]
  },
  {
   "cell_type": "markdown",
   "metadata": {},
   "source": [
    "<div style=\"line-height:300%;\">\n",
    "    <font color=#9A0909 face=\"Britannic\" size=6>\n",
    "                <div align=left>Relational Operators</div>\n",
    "    </font>\n",
    "</div>"
   ]
  },
  {
   "cell_type": "markdown",
   "metadata": {},
   "source": [
    "Following cell shows the `relational operators` supported by R language. Each element of the first vector is `compared` with the corresponding element of the second vector. The result of comparison is a `Boolean value`."
   ]
  },
  {
   "cell_type": "markdown",
   "metadata": {},
   "source": [
    "---\n",
    "<div style=\"line-height:100%;\">\n",
    "    <font color=black face=\"Britannic\" size=4>\n",
    "                <div align=left>> : Checks if each element of the first vector is greater than the corresponding element of the second vector</div>\n",
    "    </font>\n",
    "</div>"
   ]
  },
  {
   "cell_type": "code",
   "execution_count": 13,
   "metadata": {
    "scrolled": false
   },
   "outputs": [
    {
     "name": "stdout",
     "output_type": "stream",
     "text": [
      "[1]  TRUE FALSE FALSE\n"
     ]
    }
   ],
   "source": [
    "v <- c(10, 2, 3)\n",
    "\n",
    "t <- c(4, 5, 3)\n",
    "\n",
    "print(v > t)"
   ]
  },
  {
   "cell_type": "markdown",
   "metadata": {},
   "source": [
    "---\n",
    "<div style=\"line-height:100%;\">\n",
    "    <font color=black face=\"Britannic\" size=4>\n",
    "                <div align=left>< : Checks if each element of the first vector is less than the corresponding element of the second vector</div>\n",
    "    </font>\n",
    "</div>"
   ]
  },
  {
   "cell_type": "code",
   "execution_count": 14,
   "metadata": {
    "scrolled": false
   },
   "outputs": [
    {
     "name": "stdout",
     "output_type": "stream",
     "text": [
      "[1] FALSE  TRUE FALSE\n"
     ]
    }
   ],
   "source": [
    "v <- c(10, 2, 3)\n",
    "\n",
    "t <- c(4, 5, 3)\n",
    "\n",
    "print(v < t)"
   ]
  },
  {
   "cell_type": "markdown",
   "metadata": {},
   "source": [
    "---\n",
    "<div style=\"line-height:100%;\">\n",
    "    <font color=black face=\"Britannic\" size=4>\n",
    "                <div align=left>>= : Checks if each element of the first vector is greater than or equal to the corresponding element of the second vector</div>\n",
    "    </font>\n",
    "</div>"
   ]
  },
  {
   "cell_type": "code",
   "execution_count": 15,
   "metadata": {
    "scrolled": false
   },
   "outputs": [
    {
     "name": "stdout",
     "output_type": "stream",
     "text": [
      "[1]  TRUE FALSE  TRUE\n"
     ]
    }
   ],
   "source": [
    "v <- c(10, 2, 3)\n",
    "\n",
    "t <- c(4, 5, 3)\n",
    "\n",
    "print(v >= t)"
   ]
  },
  {
   "cell_type": "markdown",
   "metadata": {},
   "source": [
    "---\n",
    "<div style=\"line-height:100%;\">\n",
    "    <font color=black face=\"Britannic\" size=4>\n",
    "                <div align=left><= : Checks if each element of the first vector is less than or equal to the corresponding element of the second vector</div>\n",
    "    </font>\n",
    "</div>"
   ]
  },
  {
   "cell_type": "code",
   "execution_count": 16,
   "metadata": {
    "scrolled": false
   },
   "outputs": [
    {
     "name": "stdout",
     "output_type": "stream",
     "text": [
      "[1] FALSE  TRUE  TRUE\n"
     ]
    }
   ],
   "source": [
    "v <- c(10, 2, 3)\n",
    "\n",
    "t <- c(4, 5, 3)\n",
    "\n",
    "print(v <= t)"
   ]
  },
  {
   "cell_type": "markdown",
   "metadata": {},
   "source": [
    "---\n",
    "<div style=\"line-height:100%;\">\n",
    "    <font color=black face=\"Britannic\" size=4>\n",
    "                <div align=left>== : Checks if each element of the first vector is equal to the corresponding element of the second vector.</div>\n",
    "    </font>\n",
    "</div>"
   ]
  },
  {
   "cell_type": "code",
   "execution_count": 17,
   "metadata": {
    "scrolled": false
   },
   "outputs": [
    {
     "name": "stdout",
     "output_type": "stream",
     "text": [
      "[1] FALSE FALSE  TRUE\n"
     ]
    }
   ],
   "source": [
    "v <- c(10, 2, 3)\n",
    "\n",
    "t <- c(4, 5, 3)\n",
    "\n",
    "print(v == t)"
   ]
  },
  {
   "cell_type": "markdown",
   "metadata": {},
   "source": [
    "---\n",
    "<div style=\"line-height:100%;\">\n",
    "    <font color=black face=\"Britannic\" size=4>\n",
    "                <div align=left>!= : Checks if each element of the first vector is unequal to the corresponding element of the second vector</div>\n",
    "    </font>\n",
    "</div>"
   ]
  },
  {
   "cell_type": "code",
   "execution_count": 18,
   "metadata": {
    "scrolled": true
   },
   "outputs": [
    {
     "name": "stdout",
     "output_type": "stream",
     "text": [
      "[1]  TRUE  TRUE FALSE\n"
     ]
    }
   ],
   "source": [
    "v <- c(10, 2, 3)\n",
    "\n",
    "t <- c(4, 5, 3)\n",
    "\n",
    "print(v != t)"
   ]
  },
  {
   "cell_type": "markdown",
   "metadata": {},
   "source": [
    "<div style=\"line-height:300%;\">\n",
    "    <font color=#9A0909 face=\"Britannic\" size=6>\n",
    "                <div align=left>Logical Operators</div>\n",
    "    </font>\n",
    "</div>"
   ]
  },
  {
   "cell_type": "markdown",
   "metadata": {},
   "source": [
    "Following cell shows the `logical operators` supported by R language. It is applicable only to `vectors of type logical, numeric or complex`. **All numbers greater than 1 are considered as logical value TRUE**.\n",
    "\n",
    "Each element of the first vector is compared with the corresponding element of the second vector. The result of comparison is a `Boolean value`.\n",
    "\n"
   ]
  },
  {
   "cell_type": "markdown",
   "metadata": {},
   "source": [
    "---\n",
    "<div style=\"line-height:100%;\">\n",
    "    <font color=black face=\"Britannic\" size=6>\n",
    "                <div align=left>&</div>\n",
    "    </font>\n",
    "</div>"
   ]
  },
  {
   "cell_type": "markdown",
   "metadata": {},
   "source": [
    "It is called `Element-wise Logical AND operator`. It combines each element of the first vector with the corresponding element of the second vector and gives a output `TRUE if both the elements are TRUE`."
   ]
  },
  {
   "cell_type": "code",
   "execution_count": 2,
   "metadata": {
    "scrolled": false
   },
   "outputs": [
    {
     "name": "stdout",
     "output_type": "stream",
     "text": [
      "[1]  TRUE  TRUE FALSE FALSE  TRUE\n"
     ]
    }
   ],
   "source": [
    "v <- c(-1, 1, 0, TRUE, 2+3i)\n",
    "\n",
    "t <- c(4, 1, 5, FALSE, 2+3i)\n",
    "\n",
    "print(v & t)"
   ]
  },
  {
   "cell_type": "markdown",
   "metadata": {},
   "source": [
    "| First Element | Second Element | Output |\n",
    "| :--------------:| :--------------: | :------: |\n",
    "| TRUE | TRUE | TRUE |\n",
    "| TRUE | FALSE | FALSE |\n",
    "| FALSE | TRUE | FALSE |\n",
    "| FALSE | FALSE | FALSE |"
   ]
  },
  {
   "cell_type": "markdown",
   "metadata": {},
   "source": [
    "---\n",
    "<div style=\"line-height:100%;\">\n",
    "    <font color=black face=\"Britannic\" size=6>\n",
    "                <div align=left>|</div>\n",
    "    </font>\n",
    "</div>"
   ]
  },
  {
   "cell_type": "markdown",
   "metadata": {},
   "source": [
    "It is called `Element-wise Logical OR operator`. It combines each element of the first vector with the corresponding element of the second vector and gives a `output TRUE if one the elements is TRUE`."
   ]
  },
  {
   "cell_type": "code",
   "execution_count": 5,
   "metadata": {
    "scrolled": true
   },
   "outputs": [
    {
     "name": "stdout",
     "output_type": "stream",
     "text": [
      "[1]  TRUE  TRUE  TRUE  TRUE  TRUE FALSE\n"
     ]
    }
   ],
   "source": [
    "v <- c(-1, 1, 0, TRUE, 2+3i, 0)\n",
    "\n",
    "t <- c(4, 1, 5, FALSE, 2+3i, FALSE)\n",
    "\n",
    "print(v | t)"
   ]
  },
  {
   "cell_type": "markdown",
   "metadata": {},
   "source": [
    "| First Element | Second Element | Output |\n",
    "| :--------------:| :--------------: | :------: |\n",
    "| TRUE | TRUE | TRUE |\n",
    "| TRUE | FALSE | TRUE |\n",
    "| FALSE | TRUE | TRUE |\n",
    "| FALSE | FALSE | FALSE |"
   ]
  },
  {
   "cell_type": "markdown",
   "metadata": {},
   "source": [
    "---\n",
    "<div style=\"line-height:100%;\">\n",
    "    <font color=black face=\"Britannic\" size=6>\n",
    "                <div align=left>!</div>\n",
    "    </font>\n",
    "</div>"
   ]
  },
  {
   "cell_type": "markdown",
   "metadata": {},
   "source": [
    "It is called `Logical NOT operator`. Takes each element of the vector and gives the opposite logical value."
   ]
  },
  {
   "cell_type": "code",
   "execution_count": 7,
   "metadata": {
    "scrolled": true
   },
   "outputs": [
    {
     "name": "stdout",
     "output_type": "stream",
     "text": [
      "[1] FALSE FALSE  TRUE FALSE FALSE  TRUE\n"
     ]
    }
   ],
   "source": [
    "v <- c(-1, 1, 0, TRUE, 2+3i, FALSE)\n",
    "\n",
    "print(!v)"
   ]
  },
  {
   "cell_type": "markdown",
   "metadata": {},
   "source": [
    "| First Element | Output |\n",
    "| :--------------:| :--------------: |\n",
    "| TRUE | FALSE |\n",
    "| FALSE | TRUE |"
   ]
  },
  {
   "cell_type": "markdown",
   "metadata": {},
   "source": [
    ">The logical operator `&&` and `||` considers only the first element of the vectors and give a vector of `single element as output`."
   ]
  },
  {
   "cell_type": "markdown",
   "metadata": {},
   "source": [
    "---\n",
    "<div style=\"line-height:100%;\">\n",
    "    <font color=black face=\"Britannic\" size=6>\n",
    "                <div align=left>&&</div>\n",
    "    </font>\n",
    "</div>"
   ]
  },
  {
   "cell_type": "markdown",
   "metadata": {},
   "source": [
    "Called `Logical AND operator`. Takes first element of both the vectors and gives the TRUE only if both are TRUE."
   ]
  },
  {
   "cell_type": "code",
   "execution_count": 10,
   "metadata": {
    "scrolled": false
   },
   "outputs": [
    {
     "name": "stdout",
     "output_type": "stream",
     "text": [
      "[1] FALSE FALSE  TRUE  TRUE\n",
      "[1] FALSE\n"
     ]
    }
   ],
   "source": [
    "v <- c(0, 0, TRUE, 2+2i)\n",
    "\n",
    "t <- c(1, 3, TRUE, 2+3i)\n",
    "\n",
    "print(v & t)\n",
    "\n",
    "print(v && t)"
   ]
  },
  {
   "cell_type": "markdown",
   "metadata": {},
   "source": [
    "---\n",
    "<div style=\"line-height:100%;\">\n",
    "    <font color=black face=\"Britannic\" size=6>\n",
    "                <div align=left>| |</div>\n",
    "    </font>\n",
    "</div>"
   ]
  },
  {
   "cell_type": "markdown",
   "metadata": {},
   "source": [
    "Called `Logical OR operator`. Takes first element of both the vectors and gives the TRUE if one of them is TRUE."
   ]
  },
  {
   "cell_type": "code",
   "execution_count": 12,
   "metadata": {
    "scrolled": true
   },
   "outputs": [
    {
     "name": "stdout",
     "output_type": "stream",
     "text": [
      "[1] FALSE  TRUE  TRUE  TRUE\n",
      "[1] FALSE\n"
     ]
    }
   ],
   "source": [
    "v <- c(0, 0, TRUE, 2+2i)\n",
    "\n",
    "t <- c(0, 3, TRUE, 2+3i)\n",
    "\n",
    "print(v | t)\n",
    "\n",
    "print(v || t)"
   ]
  },
  {
   "cell_type": "markdown",
   "metadata": {},
   "source": [
    "<div style=\"line-height:300%;\">\n",
    "    <font color=#9A0909 face=\"Britannic\" size=6>\n",
    "                <div align=left>Assignment Operators</div>\n",
    "    </font>\n",
    "</div>"
   ]
  },
  {
   "cell_type": "markdown",
   "metadata": {},
   "source": [
    "These operators are used to assign values to vectors."
   ]
  },
  {
   "cell_type": "markdown",
   "metadata": {},
   "source": [
    "### <- or = or <<-"
   ]
  },
  {
   "cell_type": "markdown",
   "metadata": {},
   "source": [
    "Called Left Assignment"
   ]
  },
  {
   "cell_type": "code",
   "execution_count": 20,
   "metadata": {
    "scrolled": true
   },
   "outputs": [
    {
     "name": "stdout",
     "output_type": "stream",
     "text": [
      "[1] 3+0i 1+0i 1+0i 2+3i\n",
      "[1] 3+0i 1+0i 1+0i 2+3i\n",
      "[1] 3+0i 1+0i 1+0i 2+3i\n"
     ]
    }
   ],
   "source": [
    "v1 <- c(3, 1, TRUE, 2+3i)\n",
    "v2 <<- c(3, 1, TRUE, 2+3i)\n",
    "v3 = c(3, 1, TRUE, 2+3i)\n",
    "\n",
    "print(v1)\n",
    "print(v2)\n",
    "print(v3)"
   ]
  },
  {
   "cell_type": "markdown",
   "metadata": {},
   "source": [
    "### -> or ->>"
   ]
  },
  {
   "cell_type": "markdown",
   "metadata": {},
   "source": [
    "Called Right Assignment"
   ]
  },
  {
   "cell_type": "code",
   "execution_count": 22,
   "metadata": {
    "scrolled": true
   },
   "outputs": [
    {
     "name": "stdout",
     "output_type": "stream",
     "text": [
      "[1] 3+0i 1+0i 1+0i 2+3i\n",
      "[1] 3+0i 1+0i 1+0i 2+3i\n"
     ]
    }
   ],
   "source": [
    "c(3, 1, TRUE, 2+3i) -> v1\n",
    "c(3, 1, TRUE, 2+3i) ->> v2\n",
    "\n",
    "print(v1)\n",
    "print(v2)"
   ]
  },
  {
   "cell_type": "markdown",
   "metadata": {},
   "source": [
    "<div style=\"line-height:300%;\">\n",
    "    <font color=#9A0909 face=\"Britannic\" size=6>\n",
    "                <div align=left>Miscellaneous Operators</div>\n",
    "    </font>\n",
    "</div>"
   ]
  },
  {
   "cell_type": "markdown",
   "metadata": {},
   "source": [
    "These operators are used to for specific purpose and not general mathematical or logical computation."
   ]
  },
  {
   "cell_type": "markdown",
   "metadata": {},
   "source": [
    "---\n",
    "<div style=\"line-height:100%;\">\n",
    "    <font color=black face=\"Britannic\" size=6>\n",
    "                <div align=left>:</div>\n",
    "    </font>\n",
    "</div>"
   ]
  },
  {
   "cell_type": "markdown",
   "metadata": {},
   "source": [
    "`Colon operator`. It creates the `series of numbers in sequence` for a vector."
   ]
  },
  {
   "cell_type": "code",
   "execution_count": 23,
   "metadata": {
    "scrolled": false
   },
   "outputs": [
    {
     "name": "stdout",
     "output_type": "stream",
     "text": [
      "[1] 2 3 4 5 6 7 8\n"
     ]
    }
   ],
   "source": [
    "v <- 2:8\n",
    "\n",
    "print(v) "
   ]
  },
  {
   "cell_type": "markdown",
   "metadata": {},
   "source": [
    "---\n",
    "<div style=\"line-height:100%;\">\n",
    "    <font color=black face=\"Britannic\" size=6>\n",
    "                <div align=left>%in%</div>\n",
    "    </font>\n",
    "</div>"
   ]
  },
  {
   "cell_type": "markdown",
   "metadata": {},
   "source": [
    "This operator is used to `identify if an element belongs to a vector`."
   ]
  },
  {
   "cell_type": "code",
   "execution_count": 24,
   "metadata": {
    "scrolled": true
   },
   "outputs": [
    {
     "name": "stdout",
     "output_type": "stream",
     "text": [
      "[1] TRUE\n",
      "[1] FALSE\n"
     ]
    }
   ],
   "source": [
    "v1 <- 8\n",
    "\n",
    "v2 <- 12\n",
    "\n",
    "t <- 1:10\n",
    "\n",
    "print(v1 %in% t) \n",
    "\n",
    "print(v2 %in% t) "
   ]
  },
  {
   "cell_type": "markdown",
   "metadata": {},
   "source": [
    "---\n",
    "<div style=\"line-height:100%;\">\n",
    "    <font color=black face=\"Britannic\" size=6>\n",
    "                <div align=left>%*%</div>\n",
    "    </font>\n",
    "</div>"
   ]
  },
  {
   "cell_type": "markdown",
   "metadata": {},
   "source": [
    "This operator is used to `multiply a matrix with its transpose`."
   ]
  },
  {
   "cell_type": "code",
   "execution_count": 25,
   "metadata": {
    "scrolled": false
   },
   "outputs": [
    {
     "name": "stdout",
     "output_type": "stream",
     "text": [
      "[1] \"M:\"\n",
      "     [,1] [,2] [,3]\n",
      "[1,]    2    6    5\n",
      "[2,]    1   10    4\n",
      "[1] \"M %*% t(M):\"\n",
      "     [,1] [,2]\n",
      "[1,]   65   82\n",
      "[2,]   82  117\n"
     ]
    }
   ],
   "source": [
    "M = matrix(c(2, 6, 5, 1, 10, 4),\n",
    "           nrow = 2,\n",
    "           ncol = 3,\n",
    "           byrow = TRUE)\n",
    "\n",
    "print(\"M:\")\n",
    "print(M)\n",
    "\n",
    "t = M %*% t(M)\n",
    "print(\"M %*% t(M):\")\n",
    "print(t)"
   ]
  }
 ],
 "metadata": {
  "kernelspec": {
   "display_name": "R",
   "language": "R",
   "name": "ir"
  },
  "language_info": {
   "codemirror_mode": "r",
   "file_extension": ".r",
   "mimetype": "text/x-r-source",
   "name": "R",
   "pygments_lexer": "r",
   "version": "3.6.1"
  }
 },
 "nbformat": 4,
 "nbformat_minor": 2
}
